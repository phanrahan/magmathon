{
 "cells": [
  {
   "cell_type": "markdown",
   "metadata": {},
   "source": [
    "## Add\n",
    "\n",
    "In this tutorial, we will construct a n-bit adder from n full adders. \n",
    "`Magma` has built in support for addition using the `+` operator,\n",
    "so please don't think `Magma` is so low-level that you need to create\n",
    "logical and arithmetic functions in order to use it!\n",
    "We use this example to show how circuits are composed to form new circuits.\n",
    "\n",
    "Since we are using the ICE40, we need to set the target of `Mantle` to `\"ice40\"`."
   ]
  },
  {
   "cell_type": "code",
   "execution_count": 1,
   "metadata": {
    "scrolled": true
   },
   "outputs": [],
   "source": [
    "import magma as m\n",
    "m.set_mantle_target(\"ice40\")"
   ]
  },
  {
   "cell_type": "markdown",
   "metadata": {},
   "source": [
    "## Mantle FullAdder\n",
    "\n",
    "In the last example, we defined a Python function that created a full adder. \n",
    "In this example, we are going to use the built-in `FullAdder` from `Mantle`.\n",
    "`Mantle` is our standard library of useful circuits."
   ]
  },
  {
   "cell_type": "code",
   "execution_count": 2,
   "metadata": {},
   "outputs": [
    {
     "name": "stdout",
     "output_type": "stream",
     "text": [
      "import lattice ice40\n",
      "import lattice mantle40\n"
     ]
    }
   ],
   "source": [
    "from mantle import FullAdder"
   ]
  },
  {
   "cell_type": "markdown",
   "metadata": {},
   "source": [
    "We can print out the *interface* of the `FullAdder`. "
   ]
  },
  {
   "cell_type": "code",
   "execution_count": 3,
   "metadata": {},
   "outputs": [
    {
     "name": "stdout",
     "output_type": "stream",
     "text": [
      "FullAdder(I0: In(Bit), I1: In(Bit), CIN: In(Bit), O: Out(Bit), COUT: Out(Bit))\n"
     ]
    }
   ],
   "source": [
    "print(FullAdder)"
   ]
  },
  {
   "cell_type": "markdown",
   "metadata": {},
   "source": [
    "This tells us that the full adder has three inputs `I0`, `I1`, and `CIN`. \n",
    "Note that the type of these arguments are `In(Bit)`. \n",
    "There are also two outputs `O` and `COUT`, both with type `Out(Bit)`.\n",
    "In `Magma` arguments in the circuit interface are normally *qualified* to be inputs or outputs."
   ]
  },
  {
   "cell_type": "code",
   "execution_count": 4,
   "metadata": {},
   "outputs": [
    {
     "name": "stdout",
     "output_type": "stream",
     "text": [
      "I0 In(Bit)\n",
      "I1 In(Bit)\n",
      "CIN In(Bit)\n",
      "O Out(Bit)\n",
      "COUT Out(Bit)\n"
     ]
    }
   ],
   "source": [
    "fulladder = FullAdder()\n",
    "print(fulladder.I0, type(fulladder.I0))\n",
    "print(fulladder.I1, type(fulladder.I1))\n",
    "print(fulladder.CIN, type(fulladder.CIN))\n",
    "print(fulladder.O, type(fulladder.O))\n",
    "print(fulladder.COUT, type(fulladder.O))"
   ]
  },
  {
   "cell_type": "markdown",
   "metadata": {},
   "source": [
    "Before testing the full adder on the `IceStick` board,\n",
    "let's test it using the Python simulator."
   ]
  },
  {
   "cell_type": "code",
   "execution_count": 5,
   "metadata": {},
   "outputs": [
    {
     "name": "stdout",
     "output_type": "stream",
     "text": [
      "Success!\n"
     ]
    }
   ],
   "source": [
    "from magma.simulator import PythonSimulator\n",
    "\n",
    "fulladder = PythonSimulator(FullAdder)\n",
    "\n",
    "assert fulladder(1, 0, 0) == (1, 0), \"Failed\"\n",
    "assert fulladder(0, 1, 0) == (1, 0), \"Failed\"\n",
    "assert fulladder(1, 1, 0) == (0, 1), \"Failed\"\n",
    "assert fulladder(1, 0, 1) == (0, 1), \"Failed\"\n",
    "assert fulladder(1, 1, 1) == (1, 1), \"Failed\"\n",
    "print(\"Success!\")"
   ]
  },
  {
   "cell_type": "markdown",
   "metadata": {},
   "source": [
    "## class Add2 - Defining a Circuit\n",
    "\n",
    "Now let's build a 2-bit adder using `FullAdder`. \n",
    "We'll use a simple ripple carry adder design by connecting the carry out of one full adder\n",
    "to the carry in of the next full adder.\n",
    "The resulting adder will accept as input a carry in,\n",
    "and generate a final carry out. Here's a `logisim` diagram of the circuit we will construct:\n",
    "\n",
    "![2-Bit Adder](logisim/adder.png)"
   ]
  },
  {
   "cell_type": "markdown",
   "metadata": {},
   "source": [
    "Here is a Python class that implements a 2-bit adder."
   ]
  },
  {
   "cell_type": "code",
   "execution_count": 6,
   "metadata": {},
   "outputs": [],
   "source": [
    "class Add2(m.Circuit):\n",
    "    IO = ['I0', m.In(m.UInt(2)), 'I1', m.In(m.UInt(2)), 'CIN', m.In(m.Bit),\n",
    "           'O', m.Out(m.UInt(2)), 'COUT', m.Out(m.Bit) ]\n",
    "    @classmethod\n",
    "    def definition(io):\n",
    "        n = len(io.I0)\n",
    "        O = []\n",
    "        COUT = io.CIN\n",
    "        for i in range(n):\n",
    "            fulladder = FullAdder()\n",
    "            Oi, COUT = fulladder(io.I0[i], io.I1[i], COUT)\n",
    "            O.append(Oi)\n",
    "        m.wire( m.uint(O), io.O )\n",
    "        m.wire( COUT, io.COUT )"
   ]
  },
  {
   "cell_type": "markdown",
   "metadata": {},
   "source": [
    "Although we are making an 2-bit adder,\n",
    "we do this using a for loop that can be generalized to construct an n-bit adder.\n",
    "Each time through the for loop we create an instance of a full adder \n",
    "by calling `FullAdder()`. \n",
    "Recall that circuits are python classes,\n",
    "so that calling a class returns an instance of that class.\n",
    "\n",
    "Note how we wire up the full adders.\n",
    "Calling an circuit instance has the effect of wiring\n",
    "up the arguments to the inputs of the circuit.\n",
    "That is,\n",
    "```\n",
    "O, COUT = fulladder(I0, I1, CIN)\n",
    "```\n",
    "is equivalent to\n",
    "```\n",
    "m.wire(IO, fulladder.I0)\n",
    "m.wire(I1, fulladder.I1)\n",
    "m.wire(CIN, fulladder.CIN)\n",
    "O = fulladder.O\n",
    "COUT = fulladder.COUT\n",
    "```\n",
    "The outputs of the circuit are returned.\n",
    "\n",
    "Inside this loop we append single bit outputs from the full adders\n",
    "to the Python list `O`. \n",
    "We also set the `CIN` of the next full adder to the `COUT` of the previous instance.\n",
    "\n",
    "Finally, we then convert the list `O` to a `Uint(n)`. \n",
    "In addition to `Bits(n)`,\n",
    "`Magma` also has built in types `UInt(n)` and `SInt(n)` \n",
    "to represent unsigned and signed ints.\n",
    "`Magma` also has type conversion functions `bits`, `uint`, and `sint` to convert\n",
    "between different types. \n",
    "In this example, `m.uint(C)` converts the list of bits to a `UInt(len(C))`."
   ]
  },
  {
   "cell_type": "markdown",
   "metadata": {},
   "source": [
    "## DefineAdd Generator\n",
    "\n",
    "One question you may be asking yourself, is how can this code be generalized to produce an n-bit adder. We do this by creating an add *generator*.\n",
    "A generator is a Python function that takes parameters and returns a circuit class.\n",
    "Calling the generator with different parameter values will create different circuits.\n",
    "The power of `Magma` results from being to use all the features of Python\n",
    "to create powerful hardware generators.\n",
    "\n",
    "Here is the code:"
   ]
  },
  {
   "cell_type": "code",
   "execution_count": 7,
   "metadata": {},
   "outputs": [],
   "source": [
    "def DefineAdd(n):\n",
    "    class _Add(m.Circuit):\n",
    "        name = f'Add{n}'\n",
    "        IO = ['I0', m.In(m.UInt(n)), 'I1', m.In(m.UInt(n)), 'CIN', m.In(m.Bit),\n",
    "               'O', m.Out(m.UInt(n)), 'COUT', m.Out(m.Bit) ]\n",
    "        @classmethod\n",
    "        def definition(io):\n",
    "            O = []\n",
    "            COUT = io.CIN\n",
    "            for i in range(n):\n",
    "                fulladder = FullAdder()\n",
    "                Oi, COUT = fulladder(io.I0[i], io.I1[i], COUT)\n",
    "                O.append(Oi)\n",
    "            m.wire( m.uint(O), io.O )\n",
    "            m.wire( COUT, io.COUT )\n",
    "    return _Add\n",
    "\n",
    "def Add(n):\n",
    "    return DefineAdd(n)()\n",
    "\n",
    "def add(i0, i1, cin):\n",
    "    assert len(i0) == len(i1)\n",
    "    return Add(len(i0))(i0, i1, cin)"
   ]
  },
  {
   "cell_type": "markdown",
   "metadata": {},
   "source": [
    "First, notice that a circuit generator by convention begins with the prefix `Define`.\n",
    "In this example,\n",
    "`DefineAdd` has a parameter `n` which is the width of the adder.\n",
    "\n",
    "A circuit generator returns a subclass of `Circuit`. \n",
    "A standard way to write this is to construct a new `Circuit` class\n",
    "within the body of the generator.\n",
    "The code within the body of the generator can refer to the arguments\n",
    "to the generator.\n",
    "\n",
    "Like Verilog modules, Magma circuits must have unique names. \n",
    "Because Python does not provide the facilities \n",
    "to dynamically generate the class name, \n",
    "dynamically constructed Magma circuits are named using the `name` class variable. \n",
    "Python generators need to create unique names for each generated circuit \n",
    "because Magma will cache circuit definitions based on the name.\n",
    "\n",
    "Note how the name of the circuit is set using the format string `f'Add{n}'`.\n",
    "For example, if `n` is 2, the name of the circuit will be `Add2`.\n",
    "`Magma` allows you to use Python string manipulation functions to create mnemonic names.\n",
    "As we will see, the resulting verilog module will have the same name.\n",
    "This is very useful for debugging.\n",
    "\n",
    "We also can create the parameterized types within the generator. \n",
    "In this example, we use the type `UInt(n)` which depends on `n`.\n",
    "The loop within `definition` can also refer to the parameter `n`'\n",
    "\n",
    "Finally, notice we defined three interrelated functions: \n",
    "`DefineAdd(n)`, `Add(n)`, and `add(i0, i1, cin)`.\n",
    "Why are there three functions?\n",
    "Because there are three stages in using `Magma` to create hardware.\n",
    "The first stage is to generate or define circuits.\n",
    "The second stage is to create instances of these circuits.\n",
    "And the third stage is to wire up the circuits.\n",
    "\n",
    "Functions named `DefineX` are generators. Generators are functions that return `Circuit`s.\n",
    "\n",
    "Functions named `X` return circuit instances. This is done by calling `DefineX` and then instancing the circuit. This may seem very inefficient. Fortunately, circuits classes are cached and only defined once.\n",
    "\n",
    "Finally, functions named lowercase `x` do one more thing. They wire the arguments of to `x` to the circuit. They can also construct the appropriate circuit class depending on the types of the arguments. \n",
    "In this example, `add` constructs an n-bit adder, where `n` is the width of the inputs.\n",
    "\n",
    "We strongly recommend that you follow this naming convention."
   ]
  },
  {
   "cell_type": "markdown",
   "metadata": {},
   "source": [
    "## Running on the IceStick\n",
    "\n",
    "In order to test the adder,\n",
    "we setup the IceStick board\n",
    "to have two 2-bit inputs and one 3-bit output.\n",
    "As before, `J1` will be used for inputs and `J3` for outputs."
   ]
  },
  {
   "cell_type": "code",
   "execution_count": 8,
   "metadata": {},
   "outputs": [],
   "source": [
    "N = 2\n",
    "\n",
    "from loam.boards.icestick import IceStick\n",
    "\n",
    "icestick = IceStick()\n",
    "for i in range(N):\n",
    "    icestick.J1[i].input().on()\n",
    "    icestick.J1[i+N].input().on()\n",
    "    \n",
    "for i in range(N+1):\n",
    "    icestick.J3[i].output().on()"
   ]
  },
  {
   "cell_type": "markdown",
   "metadata": {},
   "source": [
    "We define a `main` function that instances our 2-bit adder and wires it up to `J1` and `J3`. Notice the use of Python's slicing syntax using our width variable `N`."
   ]
  },
  {
   "cell_type": "code",
   "execution_count": 9,
   "metadata": {},
   "outputs": [],
   "source": [
    "main = icestick.DefineMain()\n",
    "O, COUT = add( main.J1[0:N], main.J1[N:2*N], 0 )\n",
    "m.wire(O, main.J3[0:N])\n",
    "m.wire(COUT, main.J3[N])\n",
    "m.EndDefine()"
   ]
  },
  {
   "cell_type": "markdown",
   "metadata": {},
   "source": [
    "As before, we compile."
   ]
  },
  {
   "cell_type": "code",
   "execution_count": 10,
   "metadata": {},
   "outputs": [
    {
     "name": "stdout",
     "output_type": "stream",
     "text": [
      "compiling FullAdder\n",
      "compiling Add2\n",
      "compiling main\n"
     ]
    }
   ],
   "source": [
    "m.compile('build/add', main)"
   ]
  },
  {
   "cell_type": "markdown",
   "metadata": {},
   "source": [
    "And use our `yosys`, `arcachne-pnr`, and `icestorm` tool flow."
   ]
  },
  {
   "cell_type": "code",
   "execution_count": 11,
   "metadata": {},
   "outputs": [
    {
     "name": "stdout",
     "output_type": "stream",
     "text": [
      "/Users/hanrahan/git/magmathon/notebooks/tutorial/build\n"
     ]
    },
    {
     "name": "stderr",
     "output_type": "stream",
     "text": [
      "init..\n",
      "cdone: high\n",
      "reset..\n",
      "cdone: low\n",
      "flash ID: 0x20 0xBA 0x16 0x10 0x00 0x00 0x23 0x51 0x73 0x10 0x22 0x00 0x26 0x00 0x42 0x06 0x06 0x15 0x62 0xB8\n",
      "file size: 32220\n",
      "erase 64kB sector at 0x000000..\n",
      "programming..\n",
      "reading..\n",
      "VERIFY OK\n",
      "cdone: high\n",
      "Bye.\n"
     ]
    }
   ],
   "source": [
    "%%bash\n",
    "cd build\n",
    "yosys -q -p 'synth_ice40 -top main -blif add.blif' add.v\n",
    "arachne-pnr -q -d 1k -o add.txt -p add.pcf add.blif \n",
    "icepack add.txt add.bin\n",
    "iceprog add.bin"
   ]
  },
  {
   "cell_type": "markdown",
   "metadata": {},
   "source": [
    "You can test the program by connecting up some switches and LEDs to the headers. You should see the sum of the inputs displayed on the LEDs. First, we need to find out what pins `J1` and `J3` are wired up to. (Note: you can use `%` to execute shell commands inline in Jupyter notebooks)"
   ]
  },
  {
   "cell_type": "code",
   "execution_count": 12,
   "metadata": {},
   "outputs": [
    {
     "name": "stdout",
     "output_type": "stream",
     "text": [
      "set_io J1[0] 112\r\n",
      "set_io J1[1] 113\r\n",
      "set_io J1[2] 114\r\n",
      "set_io J1[3] 115\r\n",
      "set_io J3[2] 60\r\n",
      "set_io J3[1] 61\r\n",
      "set_io J3[0] 62\r\n"
     ]
    }
   ],
   "source": [
    "%cat build/add.pcf"
   ]
  },
  {
   "cell_type": "markdown",
   "metadata": {},
   "source": [
    "In this example, we have J1 wire up to the four switch/LED circuits on the left, and J3 wired up to the three LED (no switch) circuits on the right\n",
    "![](images/adder-seq/IMG_20180610_182758.jpg)\n",
    "![](images/adder-seq/IMG_20180610_182802.jpg)\n",
    "![](images/adder-seq/IMG_20180610_182806.jpg)\n",
    "![](images/adder-seq/IMG_20180610_182811.jpg)\n",
    "![](images/adder-seq/IMG_20180610_182819.jpg)\n",
    "![](images/adder-seq/IMG_20180610_182823.jpg)\n",
    "![](images/adder-seq/IMG_20180610_182827.jpg)"
   ]
  },
  {
   "cell_type": "markdown",
   "metadata": {},
   "source": [
    "Again, it can be useful to examine the compiled Verilog.\n",
    "\n",
    "Notice that it includes a Verilog definition of the `mantle` `FullAdder` implemented using the `SB_LUT4` and `SB_CARRY` primtives. The `main` module instances two `FullAdder`s and wires them up. "
   ]
  },
  {
   "cell_type": "code",
   "execution_count": 13,
   "metadata": {},
   "outputs": [
    {
     "name": "stdout",
     "output_type": "stream",
     "text": [
      "module FullAdder (input  I0, input  I1, input  CIN, output  O, output  COUT);\r\n",
      "wire  inst0_O;\r\n",
      "wire  inst1_CO;\r\n",
      "SB_LUT4 #(.LUT_INIT(16'h9696)) inst0 (.I0(I0), .I1(I1), .I2(CIN), .I3(1'b0), .O(inst0_O));\r\n",
      "SB_CARRY inst1 (.I0(I0), .I1(I1), .CI(CIN), .CO(inst1_CO));\r\n",
      "assign O = inst0_O;\r\n",
      "assign COUT = inst1_CO;\r\n",
      "endmodule\r\n",
      "\r\n",
      "module Add2 (input [1:0] I0, input [1:0] I1, input  CIN, output [1:0] O, output  COUT);\r\n",
      "wire  inst0_O;\r\n",
      "wire  inst0_COUT;\r\n",
      "wire  inst1_O;\r\n",
      "wire  inst1_COUT;\r\n",
      "FullAdder inst0 (.I0(I0[0]), .I1(I1[0]), .CIN(CIN), .O(inst0_O), .COUT(inst0_COUT));\r\n",
      "FullAdder inst1 (.I0(I0[1]), .I1(I1[1]), .CIN(inst0_COUT), .O(inst1_O), .COUT(inst1_COUT));\r\n",
      "assign O = {inst1_O,inst0_O};\r\n",
      "assign COUT = inst1_COUT;\r\n",
      "endmodule\r\n",
      "\r\n",
      "module main (input [3:0] J1, output [2:0] J3);\r\n",
      "wire [1:0] inst0_O;\r\n",
      "wire  inst0_COUT;\r\n",
      "Add2 inst0 (.I0({J1[1],J1[0]}), .I1({J1[3],J1[2]}), .CIN(1'b0), .O(inst0_O), .COUT(inst0_COUT));\r\n",
      "assign J3 = {inst0_COUT,inst0_O[1],inst0_O[0]};\r\n",
      "endmodule\r\n",
      "\r\n"
     ]
    }
   ],
   "source": [
    "%cat build/add.v"
   ]
  },
  {
   "cell_type": "markdown",
   "metadata": {},
   "source": [
    "You can also display the circuit using `graphviz`."
   ]
  },
  {
   "cell_type": "code",
   "execution_count": 14,
   "metadata": {},
   "outputs": [
    {
     "data": {
      "text/html": [
       "<?xml version=\"1.0\" encoding=\"UTF-8\" standalone=\"no\"?>\n",
       "<!DOCTYPE svg PUBLIC \"-//W3C//DTD SVG 1.1//EN\"\n",
       " \"http://www.w3.org/Graphics/SVG/1.1/DTD/svg11.dtd\">\n",
       "<!-- Generated by graphviz version 2.36.0 (20140111.2315)\n",
       " -->\n",
       "<!-- Title: FullAdder Pages: 1 -->\n",
       "<svg width=\"512pt\" height=\"282pt\"\n",
       " viewBox=\"0.00 0.00 512.00 282.00\" xmlns=\"http://www.w3.org/2000/svg\" xmlns:xlink=\"http://www.w3.org/1999/xlink\">\n",
       "<g id=\"graph0\" class=\"graph\" transform=\"scale(1 1) rotate(0) translate(4 278)\">\n",
       "<title>FullAdder</title>\n",
       "<polygon fill=\"white\" stroke=\"none\" points=\"-4,4 -4,-278 508,-278 508,4 -4,4\"/>\n",
       "<text text-anchor=\"middle\" x=\"252\" y=\"-7.8\" font-family=\"Times,serif\" font-size=\"14.00\">FullAdder(I0: In(Bit), I1: In(Bit), CIN: In(Bit), O: Out(Bit), COUT: Out(Bit))</text>\n",
       "<!-- I0 -->\n",
       "<g id=\"node1\" class=\"node\"><title>I0</title>\n",
       "<ellipse fill=\"none\" stroke=\"black\" cx=\"46\" cy=\"-248\" rx=\"45.011\" ry=\"26.7407\"/>\n",
       "<text text-anchor=\"middle\" x=\"46\" y=\"-251.8\" font-family=\"Times,serif\" font-size=\"14.00\">I0</text>\n",
       "<text text-anchor=\"middle\" x=\"46\" y=\"-236.8\" font-family=\"Times,serif\" font-size=\"14.00\">Out(Bit)</text>\n",
       "</g>\n",
       "<!-- inst0 -->\n",
       "<g id=\"node8\" class=\"node\"><title>inst0</title>\n",
       "<polygon fill=\"none\" stroke=\"black\" points=\"141,-70 141,-162 271,-162 271,-70 141,-70\"/>\n",
       "<text text-anchor=\"middle\" x=\"155\" y=\"-146.8\" font-family=\"Times,serif\" font-size=\"14.00\">I0</text>\n",
       "<polyline fill=\"none\" stroke=\"black\" points=\"141,-139 169,-139 \"/>\n",
       "<text text-anchor=\"middle\" x=\"155\" y=\"-123.8\" font-family=\"Times,serif\" font-size=\"14.00\">I1</text>\n",
       "<polyline fill=\"none\" stroke=\"black\" points=\"141,-116 169,-116 \"/>\n",
       "<text text-anchor=\"middle\" x=\"155\" y=\"-100.8\" font-family=\"Times,serif\" font-size=\"14.00\">I2</text>\n",
       "<polyline fill=\"none\" stroke=\"black\" points=\"141,-93 169,-93 \"/>\n",
       "<text text-anchor=\"middle\" x=\"155\" y=\"-77.8\" font-family=\"Times,serif\" font-size=\"14.00\">I3</text>\n",
       "<polyline fill=\"none\" stroke=\"black\" points=\"169,-70 169,-162 \"/>\n",
       "<text text-anchor=\"middle\" x=\"206.5\" y=\"-119.8\" font-family=\"Times,serif\" font-size=\"14.00\">lut (inst0)</text>\n",
       "<text text-anchor=\"middle\" x=\"206.5\" y=\"-104.8\" font-family=\"Times,serif\" font-size=\"14.00\">SB_LUT4</text>\n",
       "<polyline fill=\"none\" stroke=\"black\" points=\"244,-70 244,-162 \"/>\n",
       "<text text-anchor=\"middle\" x=\"257.5\" y=\"-112.3\" font-family=\"Times,serif\" font-size=\"14.00\">O</text>\n",
       "</g>\n",
       "<!-- I0&#45;&gt;inst0 -->\n",
       "<g id=\"edge1\" class=\"edge\"><title>I0&#45;&gt;inst0:I0</title>\n",
       "<path fill=\"none\" stroke=\"black\" d=\"M74.4493,-226.962C80.4418,-221.956 86.6011,-216.472 92,-211 113.268,-189.445 107.708,-158.94 129.985,-152.306\"/>\n",
       "<polygon fill=\"black\" stroke=\"black\" points=\"130.536,-155.763 140,-151 129.631,-148.822 130.536,-155.763\"/>\n",
       "</g>\n",
       "<!-- inst1 -->\n",
       "<g id=\"node10\" class=\"node\"><title>inst1</title>\n",
       "<polygon fill=\"none\" stroke=\"black\" points=\"128,-181.5 128,-250.5 284,-250.5 284,-181.5 128,-181.5\"/>\n",
       "<text text-anchor=\"middle\" x=\"143.5\" y=\"-235.3\" font-family=\"Times,serif\" font-size=\"14.00\">I0</text>\n",
       "<polyline fill=\"none\" stroke=\"black\" points=\"128,-227.5 159,-227.5 \"/>\n",
       "<text text-anchor=\"middle\" x=\"143.5\" y=\"-212.3\" font-family=\"Times,serif\" font-size=\"14.00\">I1</text>\n",
       "<polyline fill=\"none\" stroke=\"black\" points=\"128,-204.5 159,-204.5 \"/>\n",
       "<text text-anchor=\"middle\" x=\"143.5\" y=\"-189.3\" font-family=\"Times,serif\" font-size=\"14.00\">CI</text>\n",
       "<polyline fill=\"none\" stroke=\"black\" points=\"159,-181.5 159,-250.5 \"/>\n",
       "<text text-anchor=\"middle\" x=\"203.5\" y=\"-219.8\" font-family=\"Times,serif\" font-size=\"14.00\">carry (inst1)</text>\n",
       "<text text-anchor=\"middle\" x=\"203.5\" y=\"-204.8\" font-family=\"Times,serif\" font-size=\"14.00\">SB_CARRY</text>\n",
       "<polyline fill=\"none\" stroke=\"black\" points=\"248,-181.5 248,-250.5 \"/>\n",
       "<text text-anchor=\"middle\" x=\"266\" y=\"-212.3\" font-family=\"Times,serif\" font-size=\"14.00\">CO</text>\n",
       "</g>\n",
       "<!-- I0&#45;&gt;inst1 -->\n",
       "<g id=\"edge6\" class=\"edge\"><title>I0&#45;&gt;inst1:I0</title>\n",
       "<path fill=\"none\" stroke=\"black\" d=\"M90.1996,-241.412C99.0584,-240.415 108.501,-239.593 117.723,-239.219\"/>\n",
       "<polygon fill=\"black\" stroke=\"black\" points=\"118.077,-242.712 128,-239 117.928,-235.714 118.077,-242.712\"/>\n",
       "</g>\n",
       "<!-- I1 -->\n",
       "<g id=\"node2\" class=\"node\"><title>I1</title>\n",
       "<ellipse fill=\"none\" stroke=\"black\" cx=\"46\" cy=\"-176\" rx=\"45.011\" ry=\"26.7407\"/>\n",
       "<text text-anchor=\"middle\" x=\"46\" y=\"-179.8\" font-family=\"Times,serif\" font-size=\"14.00\">I1</text>\n",
       "<text text-anchor=\"middle\" x=\"46\" y=\"-164.8\" font-family=\"Times,serif\" font-size=\"14.00\">Out(Bit)</text>\n",
       "</g>\n",
       "<!-- I1&#45;&gt;inst0 -->\n",
       "<g id=\"edge2\" class=\"edge\"><title>I1&#45;&gt;inst0:I1</title>\n",
       "<path fill=\"none\" stroke=\"black\" d=\"M72.4676,-154.527C87.7959,-143.494 108.437,-131.741 129.809,-128.733\"/>\n",
       "<polygon fill=\"black\" stroke=\"black\" points=\"130.277,-132.209 140,-128 129.775,-125.227 130.277,-132.209\"/>\n",
       "</g>\n",
       "<!-- I1&#45;&gt;inst1 -->\n",
       "<g id=\"edge7\" class=\"edge\"><title>I1&#45;&gt;inst1:I1</title>\n",
       "<path fill=\"none\" stroke=\"black\" d=\"M73.8861,-196.937C86.3528,-204.952 101.945,-212.765 117.982,-215.214\"/>\n",
       "<polygon fill=\"black\" stroke=\"black\" points=\"117.757,-218.707 128,-216 118.304,-211.729 117.757,-218.707\"/>\n",
       "</g>\n",
       "<!-- CIN -->\n",
       "<g id=\"node3\" class=\"node\"><title>CIN</title>\n",
       "<ellipse fill=\"none\" stroke=\"black\" cx=\"46\" cy=\"-104\" rx=\"45.011\" ry=\"26.7407\"/>\n",
       "<text text-anchor=\"middle\" x=\"46\" y=\"-107.8\" font-family=\"Times,serif\" font-size=\"14.00\">CIN</text>\n",
       "<text text-anchor=\"middle\" x=\"46\" y=\"-92.8\" font-family=\"Times,serif\" font-size=\"14.00\">Out(Bit)</text>\n",
       "</g>\n",
       "<!-- CIN&#45;&gt;inst0 -->\n",
       "<g id=\"edge3\" class=\"edge\"><title>CIN&#45;&gt;inst0:I2</title>\n",
       "<path fill=\"none\" stroke=\"black\" d=\"M91.4665,-104C103.597,-104 116.95,-104 129.818,-104\"/>\n",
       "<polygon fill=\"black\" stroke=\"black\" points=\"130,-107.5 140,-104 130,-100.5 130,-107.5\"/>\n",
       "</g>\n",
       "<!-- CIN&#45;&gt;inst1 -->\n",
       "<g id=\"edge8\" class=\"edge\"><title>CIN&#45;&gt;inst1:CI</title>\n",
       "<path fill=\"none\" stroke=\"black\" d=\"M75.2714,-124.473C81.0924,-129.263 86.9732,-134.565 92,-140 108.464,-157.803 102.344,-183.719 117.749,-191.02\"/>\n",
       "<polygon fill=\"black\" stroke=\"black\" points=\"117.518,-194.54 128,-193 118.845,-187.667 117.518,-194.54\"/>\n",
       "</g>\n",
       "<!-- O -->\n",
       "<g id=\"node4\" class=\"node\"><title>O</title>\n",
       "<ellipse fill=\"none\" stroke=\"black\" cx=\"465\" cy=\"-116\" rx=\"38.7821\" ry=\"26.7407\"/>\n",
       "<text text-anchor=\"middle\" x=\"465\" y=\"-119.8\" font-family=\"Times,serif\" font-size=\"14.00\">O</text>\n",
       "<text text-anchor=\"middle\" x=\"465\" y=\"-104.8\" font-family=\"Times,serif\" font-size=\"14.00\">In(Bit)</text>\n",
       "</g>\n",
       "<!-- COUT -->\n",
       "<g id=\"node5\" class=\"node\"><title>COUT</title>\n",
       "<ellipse fill=\"none\" stroke=\"black\" cx=\"465\" cy=\"-216\" rx=\"38.7821\" ry=\"26.7407\"/>\n",
       "<text text-anchor=\"middle\" x=\"465\" y=\"-219.8\" font-family=\"Times,serif\" font-size=\"14.00\">COUT</text>\n",
       "<text text-anchor=\"middle\" x=\"465\" y=\"-204.8\" font-family=\"Times,serif\" font-size=\"14.00\">In(Bit)</text>\n",
       "</g>\n",
       "<!-- inst0_O -->\n",
       "<g id=\"node6\" class=\"node\"><title>inst0_O</title>\n",
       "<text text-anchor=\"middle\" x=\"355\" y=\"-119.8\" font-family=\"Times,serif\" font-size=\"14.00\">inst0_O</text>\n",
       "<text text-anchor=\"middle\" x=\"355\" y=\"-104.8\" font-family=\"Times,serif\" font-size=\"14.00\">Out(Bit)</text>\n",
       "</g>\n",
       "<!-- inst0_O&#45;&gt;O -->\n",
       "<g id=\"edge10\" class=\"edge\"><title>inst0_O&#45;&gt;O</title>\n",
       "<path fill=\"none\" stroke=\"black\" d=\"M387.238,-116C396.114,-116 405.993,-116 415.631,-116\"/>\n",
       "<polygon fill=\"black\" stroke=\"black\" points=\"415.935,-119.5 425.935,-116 415.935,-112.5 415.935,-119.5\"/>\n",
       "</g>\n",
       "<!-- inst1_CO -->\n",
       "<g id=\"node7\" class=\"node\"><title>inst1_CO</title>\n",
       "<text text-anchor=\"middle\" x=\"355\" y=\"-219.8\" font-family=\"Times,serif\" font-size=\"14.00\">inst1_CO</text>\n",
       "<text text-anchor=\"middle\" x=\"355\" y=\"-204.8\" font-family=\"Times,serif\" font-size=\"14.00\">Out(Bit)</text>\n",
       "</g>\n",
       "<!-- inst1_CO&#45;&gt;COUT -->\n",
       "<g id=\"edge11\" class=\"edge\"><title>inst1_CO&#45;&gt;COUT</title>\n",
       "<path fill=\"none\" stroke=\"black\" d=\"M390.172,-216C398.345,-216 407.221,-216 415.893,-216\"/>\n",
       "<polygon fill=\"black\" stroke=\"black\" points=\"415.923,-219.5 425.923,-216 415.923,-212.5 415.923,-219.5\"/>\n",
       "</g>\n",
       "<!-- inst0&#45;&gt;inst0_O -->\n",
       "<g id=\"edge5\" class=\"edge\"><title>inst0:O&#45;&gt;inst0_O</title>\n",
       "<path fill=\"none\" stroke=\"black\" d=\"M272,-116C285.255,-116 299.716,-116 312.751,-116\"/>\n",
       "<polygon fill=\"black\" stroke=\"black\" points=\"312.85,-119.5 322.85,-116 312.849,-112.5 312.85,-119.5\"/>\n",
       "</g>\n",
       "<!-- 0 -->\n",
       "<g id=\"node9\" class=\"node\"><title>0</title>\n",
       "<polygon fill=\"none\" stroke=\"black\" points=\"19,-23 19,-59 73,-59 73,-23 19,-23\"/>\n",
       "<text text-anchor=\"middle\" x=\"46\" y=\"-37.3\" font-family=\"Times,serif\" font-size=\"14.00\">0</text>\n",
       "</g>\n",
       "<!-- 0&#45;&gt;inst0 -->\n",
       "<g id=\"edge4\" class=\"edge\"><title>0&#45;&gt;inst0:I3</title>\n",
       "<path fill=\"none\" stroke=\"black\" d=\"M73.0815,-54.9901C90.9948,-64.1819 114.259,-75.2408 129.819,-79.3542\"/>\n",
       "<polygon fill=\"black\" stroke=\"black\" points=\"129.57,-82.8593 140,-81 130.687,-75.949 129.57,-82.8593\"/>\n",
       "</g>\n",
       "<!-- inst1&#45;&gt;inst1_CO -->\n",
       "<g id=\"edge9\" class=\"edge\"><title>inst1:CO&#45;&gt;inst1_CO</title>\n",
       "<path fill=\"none\" stroke=\"black\" d=\"M284,-216C292.294,-216 301.141,-216 309.657,-216\"/>\n",
       "<polygon fill=\"black\" stroke=\"black\" points=\"309.82,-219.5 319.82,-216 309.82,-212.5 309.82,-219.5\"/>\n",
       "</g>\n",
       "</g>\n",
       "</svg>\n"
      ],
      "text/plain": [
       "FullAdder = DefineCircuit(\"FullAdder\", \"I0\", In(Bit), \"I1\", In(Bit), \"CIN\", In(Bit), \"O\", Out(Bit), \"COUT\", Out(Bit))\n",
       "inst0 = SB_LUT4(LUT_INIT=0x9696)\n",
       "inst1 = SB_CARRY()\n",
       "wire(FullAdder.I0, inst0.I0)\n",
       "wire(FullAdder.I1, inst0.I1)\n",
       "wire(FullAdder.CIN, inst0.I2)\n",
       "wire(0, inst0.I3)\n",
       "wire(FullAdder.I0, inst1.I0)\n",
       "wire(FullAdder.I1, inst1.I1)\n",
       "wire(FullAdder.CIN, inst1.CI)\n",
       "wire(inst0.O, FullAdder.O)\n",
       "wire(inst1.CO, FullAdder.COUT)\n",
       "EndCircuit()"
      ]
     },
     "execution_count": 14,
     "metadata": {},
     "output_type": "execute_result"
    }
   ],
   "source": [
    "FullAdder"
   ]
  }
 ],
 "metadata": {
  "kernelspec": {
   "display_name": "Python 3",
   "language": "python",
   "name": "python3"
  },
  "language_info": {
   "codemirror_mode": {
    "name": "ipython",
    "version": 3
   },
   "file_extension": ".py",
   "mimetype": "text/x-python",
   "name": "python",
   "nbconvert_exporter": "python",
   "pygments_lexer": "ipython3",
   "version": "3.6.5"
  }
 },
 "nbformat": 4,
 "nbformat_minor": 2
}
