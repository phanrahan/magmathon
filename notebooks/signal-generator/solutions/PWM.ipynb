{
 "cells": [
  {
   "cell_type": "markdown",
   "metadata": {},
   "source": [
    "## PWM\n",
    "\n",
    "This example shows how to generate a pulse-width modulation signal."
   ]
  },
  {
   "cell_type": "code",
   "execution_count": 1,
   "metadata": {
    "collapsed": true
   },
   "outputs": [],
   "source": [
    "import magma as m\n",
    "m.set_mantle_target('ice40')"
   ]
  },
  {
   "cell_type": "code",
   "execution_count": 2,
   "metadata": {},
   "outputs": [
    {
     "name": "stdout",
     "output_type": "stream",
     "text": [
      "import lattice ice40\n",
      "import lattice mantle40\n"
     ]
    }
   ],
   "source": [
    "from mantle import Counter, ULE\n",
    "from loam.boards.icestick import IceStick\n",
    "\n",
    "N = 8\n",
    "\n",
    "def PWM(n):\n",
    "    return ULE(n)\n",
    "\n",
    "icestick = IceStick()\n",
    "icestick.Clock.on()\n",
    "for i in range(8):\n",
    "    icestick.J1[i].input().on()\n",
    "icestick.J3[0].output().on()\n",
    "\n",
    "main = icestick.main()\n",
    "\n",
    "counter = Counter(32)\n",
    "sawtooth = counter.O[8:8+N]\n",
    "# alternatively, reverse bits before feeding to comparitor\n",
    "# sawtooth = array([counter.O[8+N-1-i] for i in range(N)])\n",
    "\n",
    "pwm = PWM(N)\n",
    "m.wire( pwm( sawtooth, main.J1 ), main.J3 )\n",
    "\n",
    "m.EndDefine()"
   ]
  },
  {
   "cell_type": "code",
   "execution_count": 3,
   "metadata": {},
   "outputs": [
    {
     "name": "stdout",
     "output_type": "stream",
     "text": [
      "compiling FullAdder\n",
      "compiling Add32_COUT\n",
      "compiling Register32\n",
      "compiling Counter32_COUT\n",
      "compiling Invert8\n",
      "compiling Add8_CIN_COUT\n",
      "compiling Sub8_COUT\n",
      "compiling ULE8\n",
      "compiling main\n"
     ]
    }
   ],
   "source": [
    "m.compile('build/pwm', main)"
   ]
  },
  {
   "cell_type": "code",
   "execution_count": 4,
   "metadata": {},
   "outputs": [
    {
     "name": "stdout",
     "output_type": "stream",
     "text": [
      "set_io J1[0] 112\n",
      "set_io J1[1] 113\n",
      "set_io J1[2] 114\n",
      "set_io J1[3] 115\n",
      "set_io J1[4] 116\n",
      "set_io J1[5] 117\n",
      "set_io J1[6] 118\n",
      "set_io J1[7] 119\n",
      "set_io J3 62\n",
      "set_io CLKIN 21\n"
     ]
    },
    {
     "name": "stderr",
     "output_type": "stream",
     "text": [
      "init..\n",
      "cdone: high\n",
      "reset..\n",
      "cdone: low\n",
      "flash ID: 0x20 0xBA 0x16 0x10 0x00 0x00 0x23 0x51 0x73 0x10 0x23 0x00 0x35 0x00 0x35 0x06 0x06 0x15 0x43 0xB6\n",
      "file size: 32220\n",
      "erase 64kB sector at 0x000000..\n",
      "programming..\n",
      "reading..\n",
      "VERIFY OK\n",
      "cdone: high\n",
      "Bye.\n"
     ]
    }
   ],
   "source": [
    "%%bash\n",
    "cd build\n",
    "cat pwm.pcf\n",
    "yosys -q -p 'synth_ice40 -top main -blif pwm.blif' pwm.v\n",
    "arachne-pnr -q -d 1k -o pwm.txt -p pwm.pcf pwm.blif \n",
    "icepack pwm.txt pwm.bin\n",
    "iceprog pwm.bin"
   ]
  },
  {
   "cell_type": "markdown",
   "metadata": {},
   "source": [
    "We can wire up the GPIO pins to a logic analyzer to verify that our circuit produces the correct waveform.\n",
    "\n",
    "![](images/pwm.png)"
   ]
  },
  {
   "cell_type": "code",
   "execution_count": null,
   "metadata": {
    "collapsed": true
   },
   "outputs": [],
   "source": []
  }
 ],
 "metadata": {
  "kernelspec": {
   "display_name": "Python 3",
   "language": "python",
   "name": "python3"
  },
  "language_info": {
   "codemirror_mode": {
    "name": "ipython",
    "version": 3
   },
   "file_extension": ".py",
   "mimetype": "text/x-python",
   "name": "python",
   "nbconvert_exporter": "python",
   "pygments_lexer": "ipython3",
   "version": "3.6.5"
  }
 },
 "nbformat": 4,
 "nbformat_minor": 2
}
