{
 "cells": [
  {
   "cell_type": "markdown",
   "metadata": {},
   "source": [
    "## DFFs and Registers\n",
    "\n",
    "This example demonstrates the use of d-flip-flops and registers."
   ]
  },
  {
   "cell_type": "code",
   "execution_count": 1,
   "metadata": {},
   "outputs": [],
   "source": [
    "import magma as m\n",
    "m.set_mantle_target(\"ice40\")"
   ]
  },
  {
   "cell_type": "markdown",
   "metadata": {},
   "source": [
    "## DFF\n",
    "\n",
    "To use a DFF we import the `mantle` circuit `DFF`.\n",
    "Calling `DFF()` creates an instance of a DFF.\n",
    "\n",
    "Although a sequential logic element like a DFF has internal state,\n",
    "in Magma it is treated very similar\n",
    "to a combinational logic element like a full adder.\n",
    "Both combinational and sequential circuits have inputs and outputs.\n",
    "The inputs and outputs are wired up in the same way in both cases."
   ]
  },
  {
   "cell_type": "code",
   "execution_count": 2,
   "metadata": {},
   "outputs": [
    {
     "name": "stdout",
     "output_type": "stream",
     "text": [
      "import lattice ice40\n",
      "import lattice mantle40\n"
     ]
    }
   ],
   "source": [
    "from loam.boards.icestick import IceStick\n",
    "from mantle import DFF\n",
    "\n",
    "icestick = IceStick()\n",
    "icestick.Clock.on() # Need to turn on the clock for sequential logic\n",
    "icestick.J1[0].input().on()\n",
    "icestick.J3[0].output().on()\n",
    "\n",
    "main = icestick.DefineMain()\n",
    "dff = DFF()\n",
    "main.J3 <= dff(main.J1)\n",
    "m.EndDefine()"
   ]
  },
  {
   "cell_type": "markdown",
   "metadata": {},
   "source": [
    "Since a flip-flop is a sequential logic element,\n",
    "it has a clock.\n",
    "The clock generator is a peripheral on the FPGA.\n",
    "We need to turn it on if we want to use the clock.\n",
    "Turning it on creates a global clock signal on the FPGA.\n",
    "\n",
    "Note that we did not need to wire the clock to the DFF;\n",
    "`magma` automatically wires the global clock to the flip-flop's clock input."
   ]
  },
  {
   "cell_type": "markdown",
   "metadata": {},
   "source": [
    "Let's compile and build."
   ]
  },
  {
   "cell_type": "code",
   "execution_count": 3,
   "metadata": {},
   "outputs": [],
   "source": [
    "m.compile(\"build/dff\", main)"
   ]
  },
  {
   "cell_type": "code",
   "execution_count": 4,
   "metadata": {},
   "outputs": [
    {
     "name": "stdout",
     "output_type": "stream",
     "text": [
      "/Users/hanrahan/git/magmathon/notebooks/tutorial/build\n"
     ]
    },
    {
     "name": "stderr",
     "output_type": "stream",
     "text": [
      "init..\n",
      "cdone: high\n",
      "reset..\n",
      "cdone: low\n",
      "flash ID: 0x20 0xBA 0x16 0x10 0x00 0x00 0x23 0x51 0x73 0x10 0x23 0x00 0x15 0x00 0x26 0x06 0x06 0x15 0x9F 0x4E\n",
      "file size: 32220\n",
      "erase 64kB sector at 0x000000..\n",
      "programming..\n",
      "reading..\n",
      "VERIFY OK\n",
      "cdone: high\n",
      "Bye.\n"
     ]
    }
   ],
   "source": [
    "%%bash\n",
    "cd build\n",
    "yosys -q -p 'synth_ice40 -top main -blif dff.blif' dff.v\n",
    "arachne-pnr -q -d 1k -o dff.txt -p dff.pcf dff.blif \n",
    "icepack dff.txt dff.bin\n",
    "iceprog dff.bin"
   ]
  },
  {
   "cell_type": "markdown",
   "metadata": {},
   "source": [
    "If we inspect the compiled verilog, we see that our mantle `DFF` uses the `SB_DFF` ice40 primitive. Notice also that the top-level `main` module has a `CLKIN` signal,\n",
    "and that that signal has been wired to the clock of the `SB_DFF`."
   ]
  },
  {
   "cell_type": "code",
   "execution_count": 5,
   "metadata": {},
   "outputs": [
    {
     "name": "stdout",
     "output_type": "stream",
     "text": [
      "module main (input  J1, output  J3, input  CLKIN);\r\n",
      "wire  inst0_Q;\r\n",
      "SB_DFF inst0 (.C(CLKIN), .D(J1), .Q(inst0_Q));\r\n",
      "assign J3 = inst0_Q;\r\n",
      "endmodule\r\n",
      "\r\n"
     ]
    }
   ],
   "source": [
    "%cat build/dff.v"
   ]
  },
  {
   "cell_type": "markdown",
   "metadata": {},
   "source": [
    "## Register\n",
    "\n",
    "A register is simply an array of flip-flops.\n",
    "To create an instance of a register, call `Register`\n",
    "with the number of bits `n` in the register."
   ]
  },
  {
   "cell_type": "code",
   "execution_count": 6,
   "metadata": {},
   "outputs": [],
   "source": [
    "import magma as m\n",
    "m.set_mantle_target(\"ice40\")\n",
    "from loam.boards.icestick import IceStick\n",
    "from mantle import Register\n",
    "\n",
    "icestick = IceStick()\n",
    "icestick.Clock.on() # Need to turn on the clock for sequential logic\n",
    "for i in range(4):\n",
    "    icestick.J1[i].input().on()\n",
    "    icestick.J3[i].output().on()\n",
    "\n",
    "main = icestick.DefineMain()\n",
    "register4 = Register(4)\n",
    "main.J3 <= register4(main.J1)\n",
    "m.EndDefine()"
   ]
  },
  {
   "cell_type": "markdown",
   "metadata": {},
   "source": [
    "Registers and DFFs are very similar to each other.\n",
    "The only difference is that the input and output to a DFF\n",
    "are `Bit` values,\n",
    "whereas the inputs and the outputs to registers are `Bits(n)`."
   ]
  },
  {
   "cell_type": "code",
   "execution_count": 7,
   "metadata": {},
   "outputs": [],
   "source": [
    "m.compile(\"build/register4\", main)"
   ]
  },
  {
   "cell_type": "code",
   "execution_count": 8,
   "metadata": {},
   "outputs": [
    {
     "name": "stdout",
     "output_type": "stream",
     "text": [
      "/Users/hanrahan/git/magmathon/notebooks/tutorial/build\n"
     ]
    },
    {
     "name": "stderr",
     "output_type": "stream",
     "text": [
      "init..\n",
      "cdone: high\n",
      "reset..\n",
      "cdone: low\n",
      "flash ID: 0x20 0xBA 0x16 0x10 0x00 0x00 0x23 0x51 0x73 0x10 0x23 0x00 0x15 0x00 0x26 0x06 0x06 0x15 0x9F 0x4E\n",
      "file size: 32220\n",
      "erase 64kB sector at 0x000000..\n",
      "programming..\n",
      "reading..\n",
      "VERIFY OK\n",
      "cdone: high\n",
      "Bye.\n"
     ]
    }
   ],
   "source": [
    "%%bash\n",
    "cd build\n",
    "yosys -q -p 'synth_ice40 -top main -blif register4.blif' register4.v\n",
    "arachne-pnr -q -d 1k -o register4.txt -p register4.pcf register4.blif \n",
    "icepack register4.txt register4.bin\n",
    "iceprog register4.bin"
   ]
  },
  {
   "cell_type": "markdown",
   "metadata": {},
   "source": [
    "If we inspect the compiled verilog, we see that our register is a module that instances a set of `SB_DFF`s."
   ]
  },
  {
   "cell_type": "code",
   "execution_count": 9,
   "metadata": {},
   "outputs": [
    {
     "name": "stdout",
     "output_type": "stream",
     "text": [
      "module Register4 (input [3:0] I, output [3:0] O, input  CLK);\r\n",
      "wire  inst0_Q;\r\n",
      "wire  inst1_Q;\r\n",
      "wire  inst2_Q;\r\n",
      "wire  inst3_Q;\r\n",
      "SB_DFF inst0 (.C(CLK), .D(I[0]), .Q(inst0_Q));\r\n",
      "SB_DFF inst1 (.C(CLK), .D(I[1]), .Q(inst1_Q));\r\n",
      "SB_DFF inst2 (.C(CLK), .D(I[2]), .Q(inst2_Q));\r\n",
      "SB_DFF inst3 (.C(CLK), .D(I[3]), .Q(inst3_Q));\r\n",
      "assign O = {inst3_Q,inst2_Q,inst1_Q,inst0_Q};\r\n",
      "endmodule\r\n",
      "\r\n",
      "module main (input [3:0] J1, output [3:0] J3, input  CLKIN);\r\n",
      "wire [3:0] inst0_O;\r\n",
      "Register4 inst0 (.I(J1), .O(inst0_O), .CLK(CLKIN));\r\n",
      "assign J3 = inst0_O;\r\n",
      "endmodule\r\n",
      "\r\n"
     ]
    }
   ],
   "source": [
    "%cat build/register4.v"
   ]
  },
  {
   "cell_type": "markdown",
   "metadata": {},
   "source": [
    "## Enables and Resets\n",
    "\n",
    "Flip-flops and registers can have with clock enables and resets.\n",
    "The flip-flop has a clock enable, its state will only be updated\n",
    "if the clock enable is true.\n",
    "Similarly, if a flip-flop has a reset signal,\n",
    "it will be reset to its initial value if reset is true.\n",
    "\n",
    "To create registers with these additional inputs,\n",
    "set the optional arguments `has_ce` and/or `has_reset`\n",
    "when instancing the register."
   ]
  },
  {
   "cell_type": "code",
   "execution_count": 10,
   "metadata": {},
   "outputs": [],
   "source": [
    "import magma as m\n",
    "m.set_mantle_target(\"ice40\")\n",
    "from loam.boards.icestick import IceStick\n",
    "from mantle import Register\n",
    "\n",
    "icestick = IceStick()\n",
    "icestick.Clock.on()\n",
    "for i in range(4):\n",
    "    icestick.J1[i].input().on()\n",
    "    icestick.J3[i].output().on()\n",
    "icestick.J1[4].input().on() # ce signal\n",
    "icestick.J1[5].input().on() # reset signal\n",
    "\n",
    "main = icestick.DefineMain()\n",
    "register4 = Register(4, init=5, has_ce=True, has_reset=True )\n",
    "main.J3 <= register4(main.J1[0:4], ce=main.J1[4], reset=main.J1[5])\n",
    "m.EndDefine()"
   ]
  },
  {
   "cell_type": "markdown",
   "metadata": {},
   "source": [
    "To wire the optional clock inputs, clock enable and reset,\n",
    "use named arguments (`ce` and `reset`) when you call the register with its inputs.\n",
    "In `Magma`, clock signals are handled differently than signals."
   ]
  },
  {
   "cell_type": "markdown",
   "metadata": {},
   "source": [
    "Compile, build, and upload."
   ]
  },
  {
   "cell_type": "code",
   "execution_count": 11,
   "metadata": {},
   "outputs": [],
   "source": [
    "m.compile(\"build/register4ce\", main)"
   ]
  },
  {
   "cell_type": "code",
   "execution_count": 12,
   "metadata": {},
   "outputs": [
    {
     "name": "stdout",
     "output_type": "stream",
     "text": [
      "/Users/hanrahan/git/magmathon/notebooks/tutorial/build\n"
     ]
    },
    {
     "name": "stderr",
     "output_type": "stream",
     "text": [
      "init..\n",
      "cdone: high\n",
      "reset..\n",
      "cdone: low\n",
      "flash ID: 0x20 0xBA 0x16 0x10 0x00 0x00 0x23 0x51 0x73 0x10 0x23 0x00 0x15 0x00 0x26 0x06 0x06 0x15 0x9F 0x4E\n",
      "file size: 32220\n",
      "erase 64kB sector at 0x000000..\n",
      "programming..\n",
      "reading..\n",
      "VERIFY OK\n",
      "cdone: high\n",
      "Bye.\n"
     ]
    }
   ],
   "source": [
    "%%bash\n",
    "cd build\n",
    "yosys -q -p 'synth_ice40 -top main -blif register4ce.blif' register4ce.v\n",
    "arachne-pnr -q -d 1k -o register4ce.txt -p register4ce.pcf register4ce.blif \n",
    "icepack register4ce.txt register4ce.bin\n",
    "iceprog register4ce.bin"
   ]
  },
  {
   "cell_type": "markdown",
   "metadata": {},
   "source": [
    "Notice in the generated verilog the code uses the `SB_DFFESR` primitive and that the `CE` port is wired up to the `E` (enable) input of the flip flop."
   ]
  },
  {
   "cell_type": "code",
   "execution_count": 13,
   "metadata": {},
   "outputs": [
    {
     "name": "stdout",
     "output_type": "stream",
     "text": [
      "module Register4CER_0005 (input [3:0] I, output [3:0] O, input  CLK, input  CE, input  RESET);\r\n",
      "wire  inst0_Q;\r\n",
      "wire  inst1_O;\r\n",
      "wire  inst2_O;\r\n",
      "wire  inst3_Q;\r\n",
      "wire  inst4_Q;\r\n",
      "wire  inst5_O;\r\n",
      "wire  inst6_O;\r\n",
      "wire  inst7_Q;\r\n",
      "SB_DFFESR inst0 (.C(CLK), .R(RESET), .E(CE), .D(inst1_O), .Q(inst0_Q));\r\n",
      "SB_LUT4 #(.LUT_INIT(16'h5555)) inst1 (.I0(I[0]), .I1(1'b0), .I2(1'b0), .I3(1'b0), .O(inst1_O));\r\n",
      "SB_LUT4 #(.LUT_INIT(16'h5555)) inst2 (.I0(inst0_Q), .I1(1'b0), .I2(1'b0), .I3(1'b0), .O(inst2_O));\r\n",
      "SB_DFFESR inst3 (.C(CLK), .R(RESET), .E(CE), .D(I[1]), .Q(inst3_Q));\r\n",
      "SB_DFFESR inst4 (.C(CLK), .R(RESET), .E(CE), .D(inst5_O), .Q(inst4_Q));\r\n",
      "SB_LUT4 #(.LUT_INIT(16'h5555)) inst5 (.I0(I[2]), .I1(1'b0), .I2(1'b0), .I3(1'b0), .O(inst5_O));\r\n",
      "SB_LUT4 #(.LUT_INIT(16'h5555)) inst6 (.I0(inst4_Q), .I1(1'b0), .I2(1'b0), .I3(1'b0), .O(inst6_O));\r\n",
      "SB_DFFESR inst7 (.C(CLK), .R(RESET), .E(CE), .D(I[3]), .Q(inst7_Q));\r\n",
      "assign O = {inst7_Q,inst6_O,inst3_Q,inst2_O};\r\n",
      "endmodule\r\n",
      "\r\n",
      "module main (input [5:0] J1, output [3:0] J3, input  CLKIN);\r\n",
      "wire [3:0] inst0_O;\r\n",
      "Register4CER_0005 inst0 (.I({J1[3],J1[2],J1[1],J1[0]}), .O(inst0_O), .CLK(CLKIN), .CE(J1[4]), .RESET(J1[5]));\r\n",
      "assign J3 = inst0_O;\r\n",
      "endmodule\r\n",
      "\r\n"
     ]
    }
   ],
   "source": [
    "%cat build/register4ce.v"
   ]
  },
  {
   "cell_type": "code",
   "execution_count": null,
   "metadata": {},
   "outputs": [],
   "source": []
  }
 ],
 "metadata": {
  "kernelspec": {
   "display_name": "Python 3",
   "language": "python",
   "name": "python3"
  },
  "language_info": {
   "codemirror_mode": {
    "name": "ipython",
    "version": 3
   },
   "file_extension": ".py",
   "mimetype": "text/x-python",
   "name": "python",
   "nbconvert_exporter": "python",
   "pygments_lexer": "ipython3",
   "version": "3.6.7"
  }
 },
 "nbformat": 4,
 "nbformat_minor": 2
}
