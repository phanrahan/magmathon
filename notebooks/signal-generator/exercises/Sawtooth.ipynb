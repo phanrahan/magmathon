{
 "cells": [
  {
   "cell_type": "markdown",
   "metadata": {},
   "source": [
    "# Sawtooth Wave Generator\n",
    "\n",
    "A *sawtooth wave* is a periodic function that starts at an initial value, ramps up at a fixed rate until reaching an end value, and then drops to the starting value and repeats."
   ]
  },
  {
   "cell_type": "code",
   "execution_count": null,
   "metadata": {
    "collapsed": true
   },
   "outputs": [],
   "source": [
    "import matplotlib.pyplot as plt\n",
    "import numpy as np\n",
    "%matplotlib inline\n",
    "\n",
    "def saw(x):\n",
    "    return x % 50\n",
    "\n",
    "x = np.arange(0, 200)\n",
    "\n",
    "plt.plot(x, saw(x))"
   ]
  },
  {
   "cell_type": "code",
   "execution_count": null,
   "metadata": {
    "collapsed": true
   },
   "outputs": [],
   "source": [
    "import magma as m\n",
    "m.set_mantle_target(\"ice40\")\n",
    "from loam.boards.icestick import IceStick\n",
    "\n",
    "N = 8\n",
    "\n",
    "icestick = IceStick()\n",
    "icestick.Clock.on()\n",
    "for i in range(N):\n",
    "    icestick.J3[i].output().on()"
   ]
  },
  {
   "cell_type": "code",
   "execution_count": null,
   "metadata": {
    "collapsed": true,
    "scrolled": true
   },
   "outputs": [],
   "source": [
    "import mantle\n",
    "\n",
    "main = icestick.main()\n",
    "# TODO: Define main\n",
    "\n",
    "m.EndDefine()"
   ]
  },
  {
   "cell_type": "code",
   "execution_count": null,
   "metadata": {
    "collapsed": true
   },
   "outputs": [],
   "source": [
    "m.compile('build/sawtooth', main)"
   ]
  },
  {
   "cell_type": "code",
   "execution_count": null,
   "metadata": {
    "collapsed": true
   },
   "outputs": [],
   "source": [
    "%%bash\n",
    "cd build\n",
    "cat sawtooth.pcf\n",
    "yosys -q -p 'synth_ice40 -top main -blif sawtooth.blif' sawtooth.v\n",
    "arachne-pnr -q -d 1k -o sawtooth.txt -p sawtooth.pcf sawtooth.blif \n",
    "icepack sawtooth.txt sawtooth.bin\n",
    "iceprog sawtooth.bin"
   ]
  },
  {
   "cell_type": "markdown",
   "metadata": {},
   "source": [
    "Wire up the GPIO pins to a logic analyzer to verify that the circuit produces the correct sawtooth waveform.\n",
    "\n",
    "![](images/sawtooth.png)\n",
    "\n",
    "You can also use Saleae's [export data](https://support.saleae.com/hc/en-us/articles/115005986806-Saving-Loading-and-Exporting-Data) feature to output a [csv file](data/saw-capture.csv). Replace our sample data with yours to check your results using matplotlib."
   ]
  },
  {
   "cell_type": "code",
   "execution_count": 1,
   "metadata": {
    "collapsed": true
   },
   "outputs": [],
   "source": [
    "import csv\n",
    "import magma as m\n",
    "with open(\"data/saw-capture.csv\") as saw_capture_csv:\n",
    "    csv_reader = csv.reader(saw_capture_csv)\n",
    "    next(csv_reader, None)  # skip the headers\n",
    "    rows = [row for row in csv_reader]\n",
    "timestamps = [float(row[0]) for row in rows]\n",
    "values = [m.bitutils.seq2int(tuple(int(x) for x in row[1:])) for row in rows]"
   ]
  },
  {
   "cell_type": "code",
   "execution_count": 7,
   "metadata": {},
   "outputs": [
    {
     "data": {
      "text/plain": [
       "[<matplotlib.lines.Line2D at 0x10a55ecf8>]"
      ]
     },
     "execution_count": 7,
     "metadata": {},
     "output_type": "execute_result"
    },
    {
     "data": {
      "image/png": "[encoded data removed]",
      "text/plain": [
       "<matplotlib.figure.Figure at 0x10a06f048>"
      ]
     },
     "metadata": {},
     "output_type": "display_data"
    }
   ],
   "source": [
    "import matplotlib.pyplot as plt\n",
    "%matplotlib inline\n",
    "plt.plot(timestamps[:500], values[:500], \"-\")"
   ]
  }
 ],
 "metadata": {
  "kernelspec": {
   "display_name": "Python 3",
   "language": "python",
   "name": "python3"
  },
  "language_info": {
   "codemirror_mode": {
    "name": "ipython",
    "version": 3
   },
   "file_extension": ".py",
   "mimetype": "text/x-python",
   "name": "python",
   "nbconvert_exporter": "python",
   "pygments_lexer": "ipython3",
   "version": "3.6.5"
  }
 },
 "nbformat": 4,
 "nbformat_minor": 2
}
