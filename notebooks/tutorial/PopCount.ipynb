{
 "cells": [
  {
   "cell_type": "markdown",
   "metadata": {},
   "source": [
    "## PopCount8 and PopCount\n",
    "\n",
    "In this tutorial, we will illustrate how `Python` can be used to \n",
    "construct `Magma Circuits`.\n",
    "\n",
    "We use Wallace Trees to construct a `PopCount` circuit, \n",
    "which counts the number of bits that are set in an n-bit value."
   ]
  },
  {
   "cell_type": "code",
   "execution_count": 1,
   "metadata": {
    "collapsed": true,
    "scrolled": true
   },
   "outputs": [],
   "source": [
    "import magma as m\n",
    "m.set_mantle_target(\"ice40\")"
   ]
  },
  {
   "cell_type": "markdown",
   "metadata": {},
   "source": [
    "In this example, we are going to use the built-in `fulladder` from `Mantle`.\n",
    "`fulladder` instantiates a 3-input 2-output and wires up the inputs and the outputs.\n",
    "A common name for a full adder is a carry-sum adder, `csa`."
   ]
  },
  {
   "cell_type": "code",
   "execution_count": 2,
   "metadata": {},
   "outputs": [
    {
     "name": "stdout",
     "output_type": "stream",
     "text": [
      "import lattice ice40\n",
      "import lattice mantle40\n"
     ]
    }
   ],
   "source": [
    "from mantle import fulladder\n",
    "csa = fulladder"
   ]
  },
  {
   "cell_type": "markdown",
   "metadata": {},
   "source": [
    "To construct the 8-bit popcount, we first use 3 fulladders to sum\n",
    "bits 0 through 2, 3 through 5, and 6 through 7.\n",
    "This forms 3 2-bit results.\n",
    "We can consider the results to be two columns, one for each *place*.\n",
    "The first column is the 1s and the second column is the 2s.\n",
    "We then use two fulladders to sum these columns.\n",
    "We continue summing 3-bits at a time until we get a single bit in each column.\n",
    "\n",
    "A common way to show these operations is with *Dadda dot notation*\n",
    "which shows how many bits are in each colum."
   ]
  },
  {
   "cell_type": "code",
   "execution_count": 3,
   "metadata": {
    "collapsed": true
   },
   "outputs": [],
   "source": [
    "def popcount8(I):\n",
    "    # Dadda dot notation (of the result)\n",
    "    # o o\n",
    "    # o o\n",
    "    # o o\n",
    "    csa0_0_21 = csa(I[0], I[1], I[2])\n",
    "    csa0_1_21 = csa(I[3], I[4], I[5])\n",
    "    csa0_2_21 = csa(I[6], I[7], 0)\n",
    "\n",
    "    #   o o\n",
    "    # o o\n",
    "    csa1_0_21 = csa(csa0_0_21[0], csa0_1_21[0], csa0_2_21[0])\n",
    "    csa1_0_42 = csa(csa0_0_21[1], csa0_1_21[1], csa0_2_21[1])\n",
    "\n",
    "    #     o\n",
    "    # o o o\n",
    "    csa2_0_42 = csa(csa1_0_21[1], csa1_0_42[0], 0)\n",
    "\n",
    "    # o o o o\n",
    "    csa2_0_84 = csa(csa1_0_42[1], csa2_0_42[0], 0)\n",
    "    \n",
    "    return m.bits([csa1_0_21[0], csa2_0_42[0], csa2_0_84[0], csa2_0_84[1]])"
   ]
  },
  {
   "cell_type": "markdown",
   "metadata": {},
   "source": [
    "## Test bench\n",
    "\n",
    "In order to test the popcount circuit,\n",
    "we setup the IceStick board\n",
    "to have eight inputs and four outputs.\n",
    "As before, `J1` will be used for inputs and `J3` for outputs."
   ]
  },
  {
   "cell_type": "code",
   "execution_count": 4,
   "metadata": {
    "collapsed": true
   },
   "outputs": [],
   "source": [
    "from loam.boards.icestick import IceStick\n",
    "\n",
    "icestick = IceStick()\n",
    "for i in range(8):\n",
    "    icestick.J1[i].input().on()\n",
    "for i in range(4):\n",
    "    icestick.J3[i].output().on()\n",
    "    \n",
    "main = icestick.DefineMain()\n",
    "\n",
    "m.wire( popcount8(main.J1), main.J3 )\n",
    "\n",
    "m.EndDefine()"
   ]
  },
  {
   "cell_type": "code",
   "execution_count": 5,
   "metadata": {},
   "outputs": [
    {
     "name": "stdout",
     "output_type": "stream",
     "text": [
      "compiling FullAdder\n",
      "compiling main\n"
     ]
    }
   ],
   "source": [
    "m.compile('build/popcount8', main)"
   ]
  },
  {
   "cell_type": "markdown",
   "metadata": {},
   "source": [
    "And use our `yosys`, `arcachne-pnr`, and `icestorm` tool flow."
   ]
  },
  {
   "cell_type": "code",
   "execution_count": 6,
   "metadata": {},
   "outputs": [
    {
     "name": "stderr",
     "output_type": "stream",
     "text": [
      "init..\n",
      "cdone: high\n",
      "reset..\n",
      "cdone: low\n",
      "flash ID: 0x20 0xBA 0x16 0x10 0x00 0x00 0x23 0x51 0x73 0x10 0x23 0x00 0x35 0x00 0x35 0x06 0x06 0x15 0x43 0xB6\n",
      "file size: 32220\n",
      "erase 64kB sector at 0x000000..\n",
      "programming..\n",
      "reading..\n",
      "VERIFY OK\n",
      "cdone: high\n",
      "Bye.\n"
     ]
    }
   ],
   "source": [
    "%%bash\n",
    "cd build\n",
    "yosys -q -p 'synth_ice40 -top main -blif popcount8.blif' popcount8.v\n",
    "arachne-pnr -q -d 1k -o popcount8.txt -p popcount8.pcf popcount8.blif \n",
    "icepack popcount8.txt popcount8.bin\n",
    "iceprog popcount8.bin"
   ]
  },
  {
   "cell_type": "markdown",
   "metadata": {},
   "source": [
    "You can test the program by connecting up some switches and LEDs to the headers. You should see the count of the inputs displayed on the LEDs."
   ]
  },
  {
   "cell_type": "markdown",
   "metadata": {
    "collapsed": true
   },
   "source": [
    "There is a more general version of `PopCount` in the `Mantle` library `util.compressor`."
   ]
  },
  {
   "cell_type": "code",
   "execution_count": null,
   "metadata": {
    "collapsed": true
   },
   "outputs": [],
   "source": []
  }
 ],
 "metadata": {
  "kernelspec": {
   "display_name": "Python 3",
   "language": "python",
   "name": "python3"
  },
  "language_info": {
   "codemirror_mode": {
    "name": "ipython",
    "version": 3
   },
   "file_extension": ".py",
   "mimetype": "text/x-python",
   "name": "python",
   "nbconvert_exporter": "python",
   "pygments_lexer": "ipython3",
   "version": "3.6.5"
  }
 },
 "nbformat": 4,
 "nbformat_minor": 2
}
