{
 "cells": [
  {
   "cell_type": "markdown",
   "metadata": {},
   "source": [
    "## LUTs (Lookup Tables)\n",
    "\n",
    "At the heart of an FPGA are lookup tables (LUTs). \n",
    "The lattice ice40 series has 4-bit lookup tables.\n",
    "Each table is configured with 16 single bit values,\n",
    "and the output is selected with an input which is a 4-bit address.\n",
    "\n",
    "This notebook demonstrates different ways to set the\n",
    "initial values in a LUT in python.\n",
    "It is easy to create behavioral specifications of LUT functions."
   ]
  },
  {
   "cell_type": "code",
   "execution_count": 1,
   "metadata": {},
   "outputs": [],
   "source": [
    "import magma as m\n",
    "m.set_mantle_target(\"ice40\")"
   ]
  },
  {
   "cell_type": "markdown",
   "metadata": {},
   "source": [
    "Initialize the icestick. \n",
    "We will create 4 LUTs with 4-bits inputs and 4-bits outputs\n",
    "so we turn on 4 inputs and 4 outputs."
   ]
  },
  {
   "cell_type": "code",
   "execution_count": 2,
   "metadata": {},
   "outputs": [
    {
     "name": "stdout",
     "output_type": "stream",
     "text": [
      "import lattice ice40\n",
      "import lattice mantle40\n"
     ]
    }
   ],
   "source": [
    "from loam.boards.icestick import IceStick\n",
    "from mantle import LUT4\n",
    "\n",
    "icestick = IceStick()\n",
    "for i in range(4):\n",
    "    icestick.J1[i].input().on()\n",
    "    icestick.J3[i].output().on()\n",
    "\n",
    "main = icestick.DefineMain()"
   ]
  },
  {
   "cell_type": "markdown",
   "metadata": {},
   "source": [
    "One way to set the entry in a LUT is to pass in a python sequence of 0s and 1s."
   ]
  },
  {
   "cell_type": "code",
   "execution_count": 3,
   "metadata": {},
   "outputs": [],
   "source": [
    "lut1 = LUT4([0, 0, 1, 1, 0, 1, 1, 1, 0, 0, 0, 1, 0, 1, 1, 0])\n",
    "m.wire( lut1(main.J1[0], main.J1[1], main.J1[2], main.J1[3]), main.J3[0] )"
   ]
  },
  {
   "cell_type": "markdown",
   "metadata": {},
   "source": [
    "A second way to set the entries is to use a function with 4 inputs.\n",
    "This function is called with all possible input values,\n",
    "and the corresponding LUT entry is set to the value returned by the function."
   ]
  },
  {
   "cell_type": "code",
   "execution_count": 4,
   "metadata": {},
   "outputs": [],
   "source": [
    "# Simple 2-bit ALU\n",
    "#  I0 and I1 are the inputs to the ALU\n",
    "#  I2 and I3 select the ALU function\n",
    "def f(I0, I1, I2, I3):\n",
    "    if I3: \n",
    "        if I2: return I0^I1\n",
    "        else:  return I0&I1\n",
    "    else:\n",
    "        if I2: return I0|I1\n",
    "        else:  return I1\n",
    "\n",
    "lut2 = LUT4(f)\n",
    "m.wire( lut2(main.J1[0], main.J1[1], main.J1[2], main.J1[3]), main.J3[1] )"
   ]
  },
  {
   "cell_type": "markdown",
   "metadata": {},
   "source": [
    "A third way is to create a LUT table is to give a 16-bit number.\n",
    "The i'th entry in the LUT is set equal to the i'th bit in the number."
   ]
  },
  {
   "cell_type": "code",
   "execution_count": 5,
   "metadata": {},
   "outputs": [],
   "source": [
    "lut3 = LUT4(0x68EC)\n",
    "m.wire( lut3(main.J1[0], main.J1[1], main.J1[2], main.J1[3]), main.J3[2] )"
   ]
  },
  {
   "cell_type": "markdown",
   "metadata": {},
   "source": [
    "There is a clever trick that can be used to create these 16-bit numbers.\n",
    "\n",
    "First, define special values`I0` through `I3`.\n",
    "`I0` has the value such that the bit in position `i % 4 == 0` are set \n",
    "and the others are clear.\n",
    "`I1` is such that if `i % 4 == 1`, the bits are set and otherwise clear.\n",
    "Similarly, for `I2` and `I3`.\n",
    "\n",
    "The values define the identify function;\n",
    "that I0 = f(i0, i1, i2, i3) = i0, I1 = f(i0, i1, i2, i3) = i1, and so on."
   ]
  },
  {
   "cell_type": "code",
   "execution_count": 6,
   "metadata": {},
   "outputs": [],
   "source": [
    "ZERO = 0b0000000000000000\n",
    "ONE  = 0b1111111111111111\n",
    "I0   = 0b1010101010101010\n",
    "I1   = 0b1100110011001100\n",
    "I2   = 0b1111000011110000\n",
    "I3   = 0b1111111100000000"
   ]
  },
  {
   "cell_type": "markdown",
   "metadata": {},
   "source": [
    "```\n",
    "LUT4(ZERO)(i0,i1,i2,i3)==0\n",
    "LUT4(ONE)(i0,i1,i2,i3)==1\n",
    "LUT4(I0)(i0,i1,i2,i3)==i0\n",
    "LUT4(I1)(i0,i1,i2,i3)==i1\n",
    "LUT4(I2)(i0,i1,i2,i3)==i2\n",
    "LUT4(I3)(i0,i1,i2,i3)==i3\n",
    "\n",
    "```\n",
    "\n",
    "Forming a python logical expression of `I0`, `I1`, `I2`, and `I3`\n",
    "forms new functions\n",
    "that compute the logical expression of their inputs.\n",
    "Any python function that performs bitwise operations between its inputs can be used.\n",
    "The LUT will then compute that function.\n",
    "```\n",
    "LUT4(I0^I1^I2^I3)(i0,i1,i2,i3)==i0^i1^i2^i3\n",
    "LUT4((~I2&I0)|(I2&I1)(i0,i1,i2,i3)==i2?i1:i0\n",
    "```"
   ]
  },
  {
   "cell_type": "code",
   "execution_count": 7,
   "metadata": {},
   "outputs": [],
   "source": [
    "A = I0\n",
    "B = I1\n",
    "S0 = I2\n",
    "S1 = I3\n",
    "eqn = ((S0&S1)&(A^B))|((~S0&S1)&(A&B))|((S0&~S1)&(A|B))|((~S0&~S1)&(B))\n",
    "\n",
    "assert eqn == 0x68EC"
   ]
  },
  {
   "cell_type": "code",
   "execution_count": 8,
   "metadata": {},
   "outputs": [],
   "source": [
    "lut4 = LUT4(eqn)\n",
    "m.wire( lut4(main.J1[0], main.J1[1], main.J1[2], main.J1[3]), main.J3[3] )"
   ]
  },
  {
   "cell_type": "code",
   "execution_count": 9,
   "metadata": {},
   "outputs": [],
   "source": [
    "m.EndDefine()"
   ]
  },
  {
   "cell_type": "markdown",
   "metadata": {},
   "source": [
    "## `curry` and `uncurry`"
   ]
  },
  {
   "cell_type": "markdown",
   "metadata": {},
   "source": [
    "By default, LUTs have 4 separate inputs. "
   ]
  },
  {
   "cell_type": "markdown",
   "metadata": {},
   "source": [
    "Often, it is convenient to combine the\n",
    "inputs into a single `Bits(4)`. This can be done with the `uncurry` operator."
   ]
  },
  {
   "cell_type": "code",
   "execution_count": 10,
   "metadata": {},
   "outputs": [],
   "source": [
    "def ROM4(data):\n",
    "    return uncurry(LUT4(data))"
   ]
  },
  {
   "cell_type": "markdown",
   "metadata": {},
   "source": [
    "The inverse of `uncurry` is `curry`."
   ]
  },
  {
   "cell_type": "code",
   "execution_count": 11,
   "metadata": {},
   "outputs": [],
   "source": [
    "def LUT4(data):\n",
    "    return curry(ROM4(data))"
   ]
  },
  {
   "cell_type": "markdown",
   "metadata": {},
   "source": [
    "Another exampe is `Mux2`. Can `curry(Mux2)` to get an array of inputs."
   ]
  },
  {
   "cell_type": "markdown",
   "metadata": {},
   "source": [
    "## Compile, build and upload."
   ]
  },
  {
   "cell_type": "code",
   "execution_count": 12,
   "metadata": {},
   "outputs": [
    {
     "name": "stdout",
     "output_type": "stream",
     "text": [
      "compiling main\n"
     ]
    }
   ],
   "source": [
    "m.compile(\"build/lut\", main)"
   ]
  },
  {
   "cell_type": "code",
   "execution_count": 13,
   "metadata": {},
   "outputs": [
    {
     "name": "stdout",
     "output_type": "stream",
     "text": [
      "/Users/hanrahan/git/magmathon/notebooks/advanced/build\n"
     ]
    },
    {
     "name": "stderr",
     "output_type": "stream",
     "text": [
      "init..\n",
      "cdone: high\n",
      "reset..\n",
      "cdone: low\n",
      "flash ID: 0x20 0xBA 0x16 0x10 0x00 0x00 0x23 0x51 0x73 0x10 0x23 0x00 0x15 0x00 0x26 0x06 0x06 0x15 0x9F 0x4E\n",
      "file size: 32220\n",
      "erase 64kB sector at 0x000000..\n",
      "programming..\n",
      "reading..\n",
      "VERIFY OK\n",
      "cdone: high\n",
      "Bye.\n"
     ]
    }
   ],
   "source": [
    "%%bash\n",
    "cd build\n",
    "yosys -q -p 'synth_ice40 -top main -blif lut.blif' lut.v\n",
    "arachne-pnr -q -d 1k -o lut.txt -p lut.pcf lut.blif \n",
    "icepack lut.txt lut.bin\n",
    "iceprog lut.bin"
   ]
  },
  {
   "cell_type": "markdown",
   "metadata": {},
   "source": [
    "If we inspect the compiled verilog, we see that our mantle `LUT` uses the `SB_LUT4` primitive.\n",
    "Note that each of these methods for initializing\n",
    "a LUT resets in a LUT with the same entries."
   ]
  },
  {
   "cell_type": "code",
   "execution_count": 14,
   "metadata": {},
   "outputs": [
    {
     "name": "stdout",
     "output_type": "stream",
     "text": [
      "module main (input [3:0] J1, output [3:0] J3);\r\n",
      "wire  inst0_O;\r\n",
      "wire  inst1_O;\r\n",
      "wire  inst2_O;\r\n",
      "wire  inst3_O;\r\n",
      "SB_LUT4 #(.LUT_INIT(16'h68EC)) inst0 (.I0(J1[0]), .I1(J1[1]), .I2(J1[2]), .I3(J1[3]), .O(inst0_O));\r\n",
      "SB_LUT4 #(.LUT_INIT(16'h68EC)) inst1 (.I0(J1[0]), .I1(J1[1]), .I2(J1[2]), .I3(J1[3]), .O(inst1_O));\r\n",
      "SB_LUT4 #(.LUT_INIT(16'h68EC)) inst2 (.I0(J1[0]), .I1(J1[1]), .I2(J1[2]), .I3(J1[3]), .O(inst2_O));\r\n",
      "SB_LUT4 #(.LUT_INIT(16'h68EC)) inst3 (.I0(J1[0]), .I1(J1[1]), .I2(J1[2]), .I3(J1[3]), .O(inst3_O));\r\n",
      "assign J3 = {inst3_O,inst2_O,inst1_O,inst0_O};\r\n",
      "endmodule\r\n",
      "\r\n"
     ]
    }
   ],
   "source": [
    "%cat build/lut.v"
   ]
  }
 ],
 "metadata": {
  "kernelspec": {
   "display_name": "Python 3",
   "language": "python",
   "name": "python3"
  },
  "language_info": {
   "codemirror_mode": {
    "name": "ipython",
    "version": 3
   },
   "file_extension": ".py",
   "mimetype": "text/x-python",
   "name": "python",
   "nbconvert_exporter": "python",
   "pygments_lexer": "ipython3",
   "version": "3.6.5"
  }
 },
 "nbformat": 4,
 "nbformat_minor": 2
}
