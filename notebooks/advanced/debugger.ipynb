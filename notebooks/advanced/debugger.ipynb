{
 "cells": [
  {
   "cell_type": "markdown",
   "metadata": {},
   "source": [
    "This is an example of using the Magma debugger `mdb`."
   ]
  },
  {
   "cell_type": "code",
   "execution_count": null,
   "metadata": {
    "collapsed": true
   },
   "outputs": [],
   "source": [
    "import magma as m\n",
    "m.set_mantle_target('ice40')\n",
    "\n",
    "from magma.simulator.mdb import simulate"
   ]
  },
  {
   "cell_type": "markdown",
   "metadata": {},
   "source": [
    "The output of the following cell is a snapshot of the interactive session. The lines with `>>>` correspond to input from the user."
   ]
  },
  {
   "cell_type": "code",
   "execution_count": null,
   "metadata": {},
   "outputs": [
    {
     "name": "stdout",
     "output_type": "stream",
     "text": [
      "import lattice ice40\n",
      "import lattice mantle40\n",
      "Magma Interactive Simulator.   Type help or ? to list commands.\n",
      "0: / >>> help info\n",
      "info instances|interface|watchpoints:\n",
      "     instances [INSTANCE]: Display all the instances in the current scope or in INSTANCE if provided\n",
      "     interface [INSTANCE]: Display the interface bits of the current scope's circuit or in INSTANE if provided\n",
      "     watchpoints: Display currently active watchpoints\n",
      "0: / >>> print counter.O\n",
      "0\n",
      "0: / >>> next\n",
      "1: / >>> print counter.O\n",
      "1\n",
      "1: / >>> display counter.O\n",
      "\t1: counter.O = 1\n",
      "1: / >>> n\n",
      "\t1: counter.O = 2\n",
      "2: / >>> n\n",
      "\t1: counter.O = 3\n",
      "3: / >>> n\n",
      "\t1: counter.O = 0\n"
     ]
    }
   ],
   "source": [
    "from mantle import Counter\n",
    "\n",
    "main = m.DefineCircuit('main', \"O\", m.Out(m.Bits(2)), \"COUT\", m.Out(m.Bit), \"CLK\", m.In(m.Clock))\n",
    "counter = Counter(2)\n",
    "m.wire(counter.O, main.O)\n",
    "m.wire(counter.COUT, main.COUT)\n",
    "\n",
    "simulate(main) # simulator requires a Circuit Definition"
   ]
  },
  {
   "cell_type": "code",
   "execution_count": null,
   "metadata": {
    "collapsed": true
   },
   "outputs": [],
   "source": []
  }
 ],
 "metadata": {
  "kernelspec": {
   "display_name": "Python 3",
   "language": "python",
   "name": "python3"
  },
  "language_info": {
   "codemirror_mode": {
    "name": "ipython",
    "version": 3
   },
   "file_extension": ".py",
   "mimetype": "text/x-python",
   "name": "python",
   "nbconvert_exporter": "python",
   "pygments_lexer": "ipython3",
   "version": "3.6.5"
  }
 },
 "nbformat": 4,
 "nbformat_minor": 2
}
