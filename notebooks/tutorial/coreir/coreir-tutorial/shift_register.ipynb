{
 "cells": [
  {
   "cell_type": "code",
   "execution_count": 1,
   "metadata": {},
   "outputs": [],
   "source": [
    "import magma as m\n",
    "import mantle\n",
    "\n",
    "def DefineShiftRegister(n, init=0, has_ce=False, has_reset=False):\n",
    "    class _ShiftRegister(m.Circuit):\n",
    "        name = 'ShiftRegister_{}_{}_{}_{}'.format(n, init, has_ce, has_reset)\n",
    "        IO = ['I', m.In(m.Bit), 'O', m.Out(m.Bit)] + \\\n",
    "               m.ClockInterface(has_ce, has_reset)\n",
    "        @classmethod\n",
    "        def definition(siso):\n",
    "            ffs = mantle.FFs(n, init=init, has_ce=has_ce, has_reset=has_reset)\n",
    "            reg = m.braid(ffs, foldargs={\"I\":\"O\"})\n",
    "            reg(siso.I)\n",
    "            m.wire(reg.O, siso.O)\n",
    "            m.wireclock(siso, reg)\n",
    "    return _ShiftRegister"
   ]
  },
  {
   "cell_type": "code",
   "execution_count": 2,
   "metadata": {},
   "outputs": [
    {
     "name": "stderr",
     "output_type": "stream",
     "text": [
      "magma:ERROR:Input port DFF_init0_has_ceTrue_has_resetFalse_has_async_resetFalse_inst0.CLK not driven\n",
      "magma:ERROR:Input port DFF_init0_has_ceTrue_has_resetFalse_has_async_resetFalse_inst1.CLK not driven\n"
     ]
    },
    {
     "name": "stdout",
     "output_type": "stream",
     "text": [
      "cat: build/DefineShiftRegister.json: No such file or directory\r\n"
     ]
    }
   ],
   "source": [
    "m.compile(\"build/DefineShiftRegister.json\", DefineShiftRegister(2, has_ce=True), output=\"coreir\")\n",
    "%cat build/DefineShiftRegister.json"
   ]
  },
  {
   "cell_type": "code",
   "execution_count": 3,
   "metadata": {},
   "outputs": [
    {
     "name": "stderr",
     "output_type": "stream",
     "text": [
      "magma:ERROR:Input port DFF_init0_has_ceTrue_has_resetFalse_has_async_resetFalse_inst0.CLK not driven\n",
      "magma:ERROR:Input port DFF_init0_has_ceTrue_has_resetFalse_has_async_resetFalse_inst1.CLK not driven\n",
      "magma:ERROR:Input port DFF_init0_has_ceTrue_has_resetFalse_has_async_resetFalse_inst2.CLK not driven\n"
     ]
    }
   ],
   "source": [
    "from magma.simulator.coreir_simulator import CoreIRSimulator\n",
    "\n",
    "N = 3\n",
    "ShiftRegisterNCE = DefineShiftRegister(N, has_ce=True)\n",
    "simulator = CoreIRSimulator(ShiftRegisterNCE, clock=ShiftRegisterNCE.CLK)\n",
    "outputs = []\n",
    "for j in range(2):\n",
    "    simulator.advance()\n",
    "for I, enable in [(1, 1), (0, 1), (1, 1), (0, 1), (1, 0), (0, 0), (1, 1), (1, 1), (1, 1), (1, 1)]:\n",
    "    simulator.set_value(ShiftRegisterNCE.I, bool(I))\n",
    "    simulator.set_value(ShiftRegisterNCE.CE, bool(enable))\n",
    "    for j in range(2):\n",
    "        simulator.advance()\n",
    "        O = simulator.get_value(ShiftRegisterNCE.O)\n",
    "        CLK = simulator.get_value(ShiftRegisterNCE.CLK)\n",
    "        outputs.append([O, I, enable, CLK])"
   ]
  },
  {
   "cell_type": "code",
   "execution_count": 4,
   "metadata": {},
   "outputs": [
    {
     "data": {
      "image/png": "[encoded data removed]",
      "text/plain": [
       "<Figure size 432x288 with 1 Axes>"
      ]
     },
     "metadata": {
      "needs_background": "light"
     },
     "output_type": "display_data"
    }
   ],
   "source": [
    "from magma.waveform import waveform\n",
    "\n",
    "waveform(outputs, [\"O\", \"I\", \"CE\", \"CLK\"])"
   ]
  }
 ],
 "metadata": {
  "kernelspec": {
   "display_name": "Python 3",
   "language": "python",
   "name": "python3"
  },
  "language_info": {
   "codemirror_mode": {
    "name": "ipython",
    "version": 3
   },
   "file_extension": ".py",
   "mimetype": "text/x-python",
   "name": "python",
   "nbconvert_exporter": "python",
   "pygments_lexer": "ipython3",
   "version": "3.7.2"
  }
 },
 "nbformat": 4,
 "nbformat_minor": 2
}
