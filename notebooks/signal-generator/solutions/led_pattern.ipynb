{
 "cells": [
  {
   "cell_type": "markdown",
   "metadata": {},
   "source": [
    "# LED Pattern\n",
    "Implement a simple visual pattern using the onboard LEDs, a sine wave stored in LUTs, and PWM."
   ]
  },
  {
   "cell_type": "code",
   "execution_count": 1,
   "metadata": {},
   "outputs": [
    {
     "data": {
      "text/html": [
       "<video width=\"320\" height=\"240\" controls>\n",
       "  <source src=\"images/pattern.mp4\" type=\"video/mp4\">\n",
       "</video>"
      ],
      "text/plain": [
       "<IPython.core.display.HTML object>"
      ]
     },
     "metadata": {},
     "output_type": "display_data"
    }
   ],
   "source": [
    "%%HTML\n",
    "<video width=\"320\" height=\"240\" controls>\n",
    "  <source src=\"images/pattern.mp4\" type=\"video/mp4\">\n",
    "</video>"
   ]
  },
  {
   "cell_type": "code",
   "execution_count": 2,
   "metadata": {},
   "outputs": [
    {
     "name": "stdout",
     "output_type": "stream",
     "text": [
      "import lattice ice40\n",
      "import lattice mantle40\n"
     ]
    }
   ],
   "source": [
    "import sys\n",
    "import magma as m\n",
    "m.set_mantle_target(\"ice40\")\n",
    "import mantle\n",
    "from loam.boards.icestick import IceStick\n",
    "import math\n",
    "\n",
    "icestick = IceStick()\n",
    "icestick.Clock.on()\n",
    "icestick.D1.on()\n",
    "icestick.D2.on()\n",
    "icestick.D3.on()\n",
    "icestick.D4.on()\n",
    "icestick.D5.on()\n",
    "\n",
    "main = icestick.main()\n",
    "\n",
    "nbits = 6\n",
    "count = mantle.Counter(nbits, cout=False)\n",
    "rombits = [[] for _ in range(0, nbits)]\n",
    "for i in range(0, 2**nbits):\n",
    "    value = int(2**nbits * (.5 + .5 * math.sin(float(i) / (2**nbits - 1) * 2 * math.pi)))\n",
    "    for i, bit in enumerate(m.bitutils.int2seq(value, nbits)):\n",
    "        rombits[i].append(bit)\n",
    "\n",
    "for i, led in enumerate([main.D1, main.D2, main.D5, main.D3, main.D4]):\n",
    "    roms = [m.uncurry(mantle.LUT6(bits[i*(2**nbits // 5):] + bits[:i*(2**nbits // 5)])) for bits in rombits]\n",
    "\n",
    "    clock_enable = mantle.Counter(18)\n",
    "    rom_counter = mantle.Counter(nbits, cout=False, has_ce=True)\n",
    "    m.wire(rom_counter.CE, clock_enable.COUT)\n",
    "    for rom in roms:\n",
    "        m.wire(rom.I, rom_counter.O)\n",
    "\n",
    "    ult = mantle.ULT(nbits)\n",
    "    m.wire(ult.I0, count.O)\n",
    "    m.wire(ult.I1, m.join(roms).O)\n",
    "    m.wire(ult.O, led)\n",
    "\n",
    "\n",
    "m.compile(\"build/sin_leds\", main)"
   ]
  },
  {
   "cell_type": "code",
   "execution_count": 3,
   "metadata": {},
   "outputs": [
    {
     "name": "stderr",
     "output_type": "stream",
     "text": [
      "init..\n",
      "cdone: high\n",
      "reset..\n",
      "cdone: low\n",
      "flash ID: 0x20 0xBA 0x16 0x10 0x00 0x00 0x23 0x64 0x34 0x65 0x03 0x00 0x71 0x00 0x26 0x27 0x12 0x16 0xD3 0xE4\n",
      "file size: 32220\n",
      "erase 64kB sector at 0x000000..\n",
      "programming..\n",
      "reading..\n",
      "VERIFY OK\n",
      "cdone: high\n",
      "Bye.\n"
     ]
    }
   ],
   "source": [
    "%%bash\n",
    "cd build\n",
    "yosys -q -p 'synth_ice40 -top main -blif sin_leds.blif' sin_leds.v\n",
    "arachne-pnr -q -d 1k -o sin_leds.txt -p sin_leds.pcf sin_leds.blif \n",
    "icepack sin_leds.txt sin_leds.bin\n",
    "iceprog sin_leds.bin"
   ]
  }
 ],
 "metadata": {
  "kernelspec": {
   "display_name": "Python 3",
   "language": "python",
   "name": "python3"
  },
  "language_info": {
   "codemirror_mode": {
    "name": "ipython",
    "version": 3
   },
   "file_extension": ".py",
   "mimetype": "text/x-python",
   "name": "python",
   "nbconvert_exporter": "python",
   "pygments_lexer": "ipython3",
   "version": "3.6.5"
  }
 },
 "nbformat": 4,
 "nbformat_minor": 2
}
