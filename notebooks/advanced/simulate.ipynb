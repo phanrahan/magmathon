{
 "cells": [
  {
   "cell_type": "markdown",
   "metadata": {},
   "source": [
    "# Magma Simulator"
   ]
  },
  {
   "cell_type": "code",
   "execution_count": 1,
   "metadata": {},
   "outputs": [
    {
     "name": "stderr",
     "output_type": "stream",
     "text": [
      "/opt/homebrew/lib/python3.7/site-packages/pysmt/walkers/generic.py:43: DeprecationWarning: Using or importing the ABCs from 'collections' instead of from 'collections.abc' is deprecated since Python 3.3,and in 3.9 it will stop working\n",
      "  if len(nodetypes) == 1 and isinstance(nodetypes[0], collections.Iterable):\n",
      "/opt/homebrew/lib/python3.7/site-packages/ast_tools/immutable_ast.py:10: UserWarning: /opt/homebrew/lib/python3.7/site-packages/ast_tools/immutable_ast.py generated for (3, 6)does not match system version (3, 7)\n",
      "  warnings.warn(f\"{__file__} generated for (3, 6)\"\n",
      "\u001b[33mWARNING\u001b[0m:magma:'IO = [...]' syntax is deprecated, use 'io = IO(...)' syntax instead\u001b[0m\n",
      "\u001b[33mWARNING\u001b[0m:magma:'IO = [...]' syntax is deprecated, use 'io = IO(...)' syntax instead\u001b[0m\n",
      "\u001b[33mWARNING\u001b[0m:magma:'definition' class method syntax is deprecated, use inline definition syntax instead\u001b[0m\n",
      "\u001b[33mWARNING\u001b[0m:magma:'IO = [...]' syntax is deprecated, use 'io = IO(...)' syntax instead\u001b[0m\n",
      "\u001b[33mWARNING\u001b[0m:magma:'IO = [...]' syntax is deprecated, use 'io = IO(...)' syntax instead\u001b[0m\n",
      "\u001b[33mWARNING\u001b[0m:magma:'definition' class method syntax is deprecated, use inline definition syntax instead\u001b[0m\n",
      "\u001b[33mWARNING\u001b[0m:magma:'IO = [...]' syntax is deprecated, use 'io = IO(...)' syntax instead\u001b[0m\n",
      "\u001b[33mWARNING\u001b[0m:magma:'IO = [...]' syntax is deprecated, use 'io = IO(...)' syntax instead\u001b[0m\n",
      "\u001b[33mWARNING\u001b[0m:magma:'definition' class method syntax is deprecated, use inline definition syntax instead\u001b[0m\n",
      "\u001b[33mWARNING\u001b[0m:magma:'IO = [...]' syntax is deprecated, use 'io = IO(...)' syntax instead\u001b[0m\n",
      "\u001b[33mWARNING\u001b[0m:magma:'IO = [...]' syntax is deprecated, use 'io = IO(...)' syntax instead\u001b[0m\n",
      "\u001b[33mWARNING\u001b[0m:magma:'definition' class method syntax is deprecated, use inline definition syntax instead\u001b[0m\n",
      "\u001b[33mWARNING\u001b[0m:magma:'IO = [...]' syntax is deprecated, use 'io = IO(...)' syntax instead\u001b[0m\n",
      "\u001b[33mWARNING\u001b[0m:magma:'IO = [...]' syntax is deprecated, use 'io = IO(...)' syntax instead\u001b[0m\n",
      "\u001b[33mWARNING\u001b[0m:magma:'definition' class method syntax is deprecated, use inline definition syntax instead\u001b[0m\n",
      "\u001b[33mWARNING\u001b[0m:magma:'IO = [...]' syntax is deprecated, use 'io = IO(...)' syntax instead\u001b[0m\n",
      "\u001b[33mWARNING\u001b[0m:magma:'IO = [...]' syntax is deprecated, use 'io = IO(...)' syntax instead\u001b[0m\n",
      "\u001b[33mWARNING\u001b[0m:magma:'IO = [...]' syntax is deprecated, use 'io = IO(...)' syntax instead\u001b[0m\n",
      "\u001b[33mWARNING\u001b[0m:magma:'definition' class method syntax is deprecated, use inline definition syntax instead\u001b[0m\n",
      "\u001b[33mWARNING\u001b[0m:magma:'IO = [...]' syntax is deprecated, use 'io = IO(...)' syntax instead\u001b[0m\n",
      "\u001b[33mWARNING\u001b[0m:magma:'IO = [...]' syntax is deprecated, use 'io = IO(...)' syntax instead\u001b[0m\n",
      "\u001b[33mWARNING\u001b[0m:magma:'IO = [...]' syntax is deprecated, use 'io = IO(...)' syntax instead\u001b[0m\n",
      "\u001b[33mWARNING\u001b[0m:magma:'IO = [...]' syntax is deprecated, use 'io = IO(...)' syntax instead\u001b[0m\n",
      "\u001b[33mWARNING\u001b[0m:magma:'IO = [...]' syntax is deprecated, use 'io = IO(...)' syntax instead\u001b[0m\n",
      "\u001b[33mWARNING\u001b[0m:magma:'IO = [...]' syntax is deprecated, use 'io = IO(...)' syntax instead\u001b[0m\n",
      "\u001b[33mWARNING\u001b[0m:magma:'IO = [...]' syntax is deprecated, use 'io = IO(...)' syntax instead\u001b[0m\n"
     ]
    }
   ],
   "source": [
    "import magma as m\n",
    "import mantle"
   ]
  },
  {
   "cell_type": "markdown",
   "metadata": {},
   "source": [
    "## Simulating Combinational Circuits\n",
    "\n",
    "Create a 2-input multiplexor."
   ]
  },
  {
   "cell_type": "code",
   "execution_count": 2,
   "metadata": {},
   "outputs": [
    {
     "name": "stdout",
     "output_type": "stream",
     "text": [
      "Mux2xNone(I0: In(Bit), I1: In(Bit), S: In(Bit), O: Out(Bit))\n"
     ]
    }
   ],
   "source": [
    "Mux2 = mantle.Mux2\n",
    "print(Mux2)"
   ]
  },
  {
   "cell_type": "code",
   "execution_count": 3,
   "metadata": {},
   "outputs": [
    {
     "name": "stdout",
     "output_type": "stream",
     "text": [
      "I0 I1 S O\n",
      "0 0 0 0\n",
      "0 0 1 0\n",
      "0 1 0 0\n",
      "0 1 1 1\n",
      "1 0 0 1\n",
      "1 0 1 0\n",
      "1 1 0 1\n",
      "1 1 1 1\n"
     ]
    }
   ],
   "source": [
    "from magma.simulator import PythonSimulator\n",
    "\n",
    "simulator = PythonSimulator(Mux2)\n",
    "\n",
    "print('I0 I1 S O')\n",
    "for i0 in [0, 1]:\n",
    "    for i1 in [0, 1]:\n",
    "        for s in [0, 1]:\n",
    "            simulator.set_value(Mux2.I0, i0)\n",
    "            simulator.set_value(Mux2.I1, i1)\n",
    "            simulator.set_value(Mux2.S, s)\n",
    "            simulator.evaluate()\n",
    "            print(i0, i1, s, int(simulator.get_value(Mux2.O)))"
   ]
  },
  {
   "cell_type": "markdown",
   "metadata": {},
   "source": [
    "## Simulating Sequential Logic Circuits with Clocks\n",
    "\n",
    "Create a 2-bit Counter."
   ]
  },
  {
   "cell_type": "code",
   "execution_count": 4,
   "metadata": {},
   "outputs": [
    {
     "name": "stderr",
     "output_type": "stream",
     "text": [
      "\u001b[33mWARNING\u001b[0m:magma:'IO = [...]' syntax is deprecated, use 'io = IO(...)' syntax instead\u001b[0m\n",
      "\u001b[33mWARNING\u001b[0m:magma:'IO = [...]' syntax is deprecated, use 'io = IO(...)' syntax instead\u001b[0m\n",
      "\u001b[33mWARNING\u001b[0m:magma:'IO = [...]' syntax is deprecated, use 'io = IO(...)' syntax instead\u001b[0m\n",
      "\u001b[33mWARNING\u001b[0m:magma:'definition' class method syntax is deprecated, use inline definition syntax instead\u001b[0m\n",
      "\u001b[33mWARNING\u001b[0m:magma:'IO = [...]' syntax is deprecated, use 'io = IO(...)' syntax instead\u001b[0m\n",
      "\u001b[33mWARNING\u001b[0m:magma:'IO = [...]' syntax is deprecated, use 'io = IO(...)' syntax instead\u001b[0m\n"
     ]
    },
    {
     "name": "stdout",
     "output_type": "stream",
     "text": [
      "Counter2_COUT(O: Out(UInt[2]), COUT: Out(Bit), CLK: In(Clock))\n"
     ]
    }
   ],
   "source": [
    "Counter = mantle.DefineCounter(2)\n",
    "\n",
    "print(Counter)"
   ]
  },
  {
   "cell_type": "markdown",
   "metadata": {},
   "source": [
    "Create a python simulator for the ice40."
   ]
  },
  {
   "cell_type": "code",
   "execution_count": 5,
   "metadata": {},
   "outputs": [],
   "source": [
    "from magma.simulator import PythonSimulator\n",
    "from hwtypes import BitVector\n",
    "\n",
    "simulator = PythonSimulator(Counter, clock=Counter.CLK)\n",
    "O0 = []\n",
    "O1 = []\n",
    "COUT = []\n",
    "for i in range(16):\n",
    "    for j in range(2):\n",
    "        simulator.advance()\n",
    "        O = BitVector[2](simulator.get_value(Counter.O))\n",
    "        O0.append(int(O[0]))\n",
    "        O1.append(int(O[1]))\n",
    "        COUT.append(simulator.get_value(Counter.COUT))"
   ]
  },
  {
   "cell_type": "markdown",
   "metadata": {},
   "source": [
    "Use `matplotlib` to plot the output of the simulator."
   ]
  },
  {
   "cell_type": "code",
   "execution_count": 6,
   "metadata": {},
   "outputs": [
    {
     "data": {
      "image/png": "[encoded data removed]",
      "text/plain": [
       "<Figure size 432x288 with 1 Axes>"
      ]
     },
     "metadata": {
      "needs_background": "light"
     },
     "output_type": "display_data"
    }
   ],
   "source": [
    "import matplotlib.pyplot as plt\n",
    "import numpy as np\n",
    "\n",
    "n = len(O1) // 2\n",
    "t = np.repeat(0.5 * np.arange(2*n + 1) ,2)[1:-1]\n",
    "clock = np.tile(np.array([1, 1, 0, 0]), n)\n",
    "\n",
    "O0 = np.repeat(np.array(O0), 2)\n",
    "O1 = np.repeat(np.array(O1), 2)\n",
    "COUT = np.repeat(np.array(COUT), 2)\n",
    "\n",
    "\n",
    "plt.text(-1.5, 3.25, 'clock')\n",
    "plt.plot(t, 0.5*clock + 3, 'r', linewidth=2)\n",
    "plt.text(-1.5, 2.25, 'O[0]')\n",
    "plt.plot(t, 0.5*O0 + 2,    'r', linewidth=2)\n",
    "plt.text(-1.5, 1.25, 'O[1]')\n",
    "plt.plot(t, 0.5*O1 + 1,    'r', linewidth=2)\n",
    "plt.text(-1.5, 0.25, 'COUT')\n",
    "plt.plot(t, 0.5*COUT,      'r', linewidth=2)\n",
    "plt.xlim([0, n])\n",
    "plt.ylim([0, 4])\n",
    "\n",
    "plt.gca().axis('off')\n",
    "plt.show()"
   ]
  },
  {
   "cell_type": "code",
   "execution_count": null,
   "metadata": {},
   "outputs": [],
   "source": []
  }
 ],
 "metadata": {
  "kernelspec": {
   "display_name": "Python 3",
   "language": "python",
   "name": "python3"
  },
  "language_info": {
   "codemirror_mode": {
    "name": "ipython",
    "version": 3
   },
   "file_extension": ".py",
   "mimetype": "text/x-python",
   "name": "python",
   "nbconvert_exporter": "python",
   "pygments_lexer": "ipython3",
   "version": "3.7.5"
  }
 },
 "nbformat": 4,
 "nbformat_minor": 2
}
