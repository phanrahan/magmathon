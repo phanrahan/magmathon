{
 "cells": [
  {
   "cell_type": "code",
   "execution_count": 1,
   "metadata": {},
   "outputs": [
    {
     "name": "stderr",
     "output_type": "stream",
     "text": [
      "/Users/hanrahan/miniconda3/lib/python3.7/site-packages/pysmt/walkers/generic.py:43: DeprecationWarning: Using or importing the ABCs from 'collections' instead of from 'collections.abc' is deprecated since Python 3.3,and in 3.9 it will stop working\n",
      "  if len(nodetypes) == 1 and isinstance(nodetypes[0], collections.Iterable):\n"
     ]
    }
   ],
   "source": [
    "import magma as m\n",
    "from magma.ssa import ssa\n",
    "import inspect"
   ]
  },
  {
   "cell_type": "code",
   "execution_count": 2,
   "metadata": {},
   "outputs": [],
   "source": [
    "def test_basic():\n",
    "    @ssa()\n",
    "    def basic_if(I: m.Bits[2], S: m.Bit) -> m.Bit:\n",
    "        if S:\n",
    "            x = I[0]\n",
    "        else:\n",
    "            x = I[1]\n",
    "        return x\n",
    "\n",
    "    assert inspect.getsource(basic_if) == \"\"\"\\\n",
    "def basic_if(I_0: m.Bits[2], S_0: m.Bit) ->m.Bit:\n",
    "    x_0 = I_0[0]\n",
    "    x_1 = I_0[1]\n",
    "    x_2 = phi([x_1, x_0], S_0)\n",
    "    __magma_ssa_return_value_0 = x_2\n",
    "    O = __magma_ssa_return_value_0\n",
    "    return O\n",
    "\"\"\""
   ]
  },
  {
   "cell_type": "code",
   "execution_count": 3,
   "metadata": {},
   "outputs": [
    {
     "name": "stdout",
     "output_type": "stream",
     "text": [
      "AnonymousCircuitInst4665466128<a: In(Bit), O: Out(Bit)>\n"
     ]
    }
   ],
   "source": [
    "from mantle import Not\n",
    "\n",
    "def DefineInvert():\n",
    "    @m.circuit.combinational\n",
    "    def invert(a: m.Bit) -> m.Bit:\n",
    "        return Not()(a)\n",
    "    return invert.circuit_definition()\n",
    "\n",
    "print(DefineInvert())"
   ]
  },
  {
   "cell_type": "code",
   "execution_count": 4,
   "metadata": {},
   "outputs": [
    {
     "name": "stderr",
     "output_type": "stream",
     "text": [
      "WARNING:magma:Wiring an output to a circuit with more than one input argument, using the first input Counter.Counter_comb_inst0.inc\n"
     ]
    },
    {
     "name": "stdout",
     "output_type": "stream",
     "text": [
      "ERROR: In file: Counter.json\r\n",
      "Missing Generator Symbol: commonlib.muxn\r\n",
      "\r\n",
      "\r\n",
      "I AM DYING!\r\n",
      "Assertion failed: (0), function die, file /Users/hanrahan/git/coreir/src/ir/context.cpp, line 112.\r\n"
     ]
    }
   ],
   "source": [
    "@m.circuit.sequential(async_reset=True)\n",
    "class Counter:\n",
    "    def __init__(self):\n",
    "        self.count : m.UInt[16] = 0\n",
    "\n",
    "    def __call__(self, inc : m.Bit) -> m.UInt[16]:\n",
    "        if inc:\n",
    "            self.count = self.count + 1\n",
    "        else:\n",
    "            self.count = self.count\n",
    "\n",
    "        O = self.count\n",
    "        return O\n",
    "\n",
    "\n",
    "m.compile(\"Counter\", Counter, output=\"coreir-verilog\")\n",
    "!coreir -i Counter.json -p instancecounts"
   ]
  }
 ],
 "metadata": {
  "kernelspec": {
   "display_name": "Python 3",
   "language": "python",
   "name": "python3"
  },
  "language_info": {
   "codemirror_mode": {
    "name": "ipython",
    "version": 3
   },
   "file_extension": ".py",
   "mimetype": "text/x-python",
   "name": "python",
   "nbconvert_exporter": "python",
   "pygments_lexer": "ipython3",
   "version": "3.7.6"
  }
 },
 "nbformat": 4,
 "nbformat_minor": 2
}
