{
 "cells": [
  {
   "cell_type": "code",
   "execution_count": 1,
   "metadata": {},
   "outputs": [],
   "source": [
    "import magma as m\n",
    "import mantle\n",
    "\n",
    "class Combinational(m.Circuit):\n",
    "    name = \"Combinational\"\n",
    "    IO = [\"x\", m.In(m.UInt[16]), \"y\", m.In(m.UInt[16]), \"z\", m.Out(m.UInt[16])]\n",
    "    \n",
    "    @classmethod\n",
    "    def definition(io):\n",
    "        m.wire(io.x + io.y, io.z)"
   ]
  },
  {
   "cell_type": "code",
   "execution_count": 2,
   "metadata": {},
   "outputs": [
    {
     "name": "stdout",
     "output_type": "stream",
     "text": [
      "Success!\n"
     ]
    }
   ],
   "source": [
    "from magma.simulator.python_simulator import PythonSimulator\n",
    "from bit_vector import BitVector\n",
    "\n",
    "simulator = PythonSimulator(Combinational, clock=None)\n",
    "simulator.set_value(Combinational.x, 76)\n",
    "simulator.set_value(Combinational.y, 43)\n",
    "simulator.evaluate()\n",
    "assert simulator.get_value(Combinational.z) == 76 + 43\n",
    "print(\"Success!\")"
   ]
  },
  {
   "cell_type": "code",
   "execution_count": 3,
   "metadata": {},
   "outputs": [
    {
     "name": "stdout",
     "output_type": "stream",
     "text": [
      "{\"top\":\"global.Combinational\",\r\n",
      "\"namespaces\":{\r\n",
      "  \"global\":{\r\n",
      "    \"modules\":{\r\n",
      "      \"Combinational\":{\r\n",
      "        \"type\":[\"Record\",[\r\n",
      "          [\"x\",[\"Array\",16,\"BitIn\"]],\r\n",
      "          [\"y\",[\"Array\",16,\"BitIn\"]],\r\n",
      "          [\"z\",[\"Array\",16,\"Bit\"]]\r\n",
      "        ]],\r\n",
      "        \"instances\":{\r\n",
      "          \"coreir_add16_inst0\":{\r\n",
      "            \"genref\":\"coreir.add\",\r\n",
      "            \"genargs\":{\"width\":[\"Int\",16]}\r\n",
      "          }\r\n",
      "        },\r\n",
      "        \"connections\":[\r\n",
      "          [\"self.x\",\"coreir_add16_inst0.in0\"],\r\n",
      "          [\"self.y\",\"coreir_add16_inst0.in1\"],\r\n",
      "          [\"self.z\",\"coreir_add16_inst0.out\"]\r\n",
      "        ]\r\n",
      "      }\r\n",
      "    }\r\n",
      "  }\r\n",
      "}\r\n",
      "}\r\n"
     ]
    }
   ],
   "source": [
    "m.compile(\"build/Combinational\", Combinational, output=\"coreir\")\n",
    "%cat build/Combinational.json"
   ]
  }
 ],
 "metadata": {
  "kernelspec": {
   "display_name": "Python 3",
   "language": "python",
   "name": "python3"
  },
  "language_info": {
   "codemirror_mode": {
    "name": "ipython",
    "version": 3
   },
   "file_extension": ".py",
   "mimetype": "text/x-python",
   "name": "python",
   "nbconvert_exporter": "python",
   "pygments_lexer": "ipython3",
   "version": "3.7.2"
  }
 },
 "nbformat": 4,
 "nbformat_minor": 2
}
