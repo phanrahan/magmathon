{
 "cells": [
  {
   "cell_type": "code",
   "execution_count": 1,
   "metadata": {},
   "outputs": [],
   "source": [
    "import magma as m\n",
    "import mantle"
   ]
  },
  {
   "cell_type": "markdown",
   "metadata": {},
   "source": [
    "This notebook demonstrates using native Python functions to construct circuits."
   ]
  },
  {
   "cell_type": "code",
   "execution_count": 2,
   "metadata": {},
   "outputs": [],
   "source": [
    "def clb(a, b, c, d):\n",
    "    return (a & b) | (~c & d)\n",
    "\n",
    "T = m.UInt[16]\n",
    "class Combinational(m.Circuit):\n",
    "    name = \"Combinational\"\n",
    "    IO = [\"a\", m.In(T), \"b\", m.In(T), \"c\", m.Out(T)]\n",
    "    @classmethod\n",
    "    def definition(io):\n",
    "        m.wire(clb(io.a, io.b, io.a, io.b), io.c)"
   ]
  },
  {
   "cell_type": "code",
   "execution_count": 3,
   "metadata": {},
   "outputs": [
    {
     "name": "stdout",
     "output_type": "stream",
     "text": [
      "Success!\n"
     ]
    }
   ],
   "source": [
    "from magma.simulator import PythonSimulator\n",
    "\n",
    "simulator = PythonSimulator(Combinational)\n",
    "a, b = 148, 41\n",
    "simulator.set_value(Combinational.a, a)\n",
    "simulator.set_value(Combinational.b, b)\n",
    "simulator.evaluate()\n",
    "assert simulator.get_value(Combinational.c) == clb(a, b, a, b)\n",
    "print(\"Success!\")"
   ]
  },
  {
   "cell_type": "code",
   "execution_count": 4,
   "metadata": {},
   "outputs": [
    {
     "name": "stdout",
     "output_type": "stream",
     "text": [
      "{\"top\":\"global.Combinational\",\r\n",
      "\"namespaces\":{\r\n",
      "  \"global\":{\r\n",
      "    \"modules\":{\r\n",
      "      \"Combinational\":{\r\n",
      "        \"type\":[\"Record\",[\r\n",
      "          [\"a\",[\"Array\",16,\"BitIn\"]],\r\n",
      "          [\"b\",[\"Array\",16,\"BitIn\"]],\r\n",
      "          [\"c\",[\"Array\",16,\"Bit\"]]\r\n",
      "        ]],\r\n",
      "        \"instances\":{\r\n",
      "          \"Invert16_inst0\":{\r\n",
      "            \"genref\":\"coreir.not\",\r\n",
      "            \"genargs\":{\"width\":[\"Int\",16]}\r\n",
      "          },\r\n",
      "          \"and16_inst0\":{\r\n",
      "            \"genref\":\"coreir.and\",\r\n",
      "            \"genargs\":{\"width\":[\"Int\",16]}\r\n",
      "          },\r\n",
      "          \"and16_inst1\":{\r\n",
      "            \"genref\":\"coreir.and\",\r\n",
      "            \"genargs\":{\"width\":[\"Int\",16]}\r\n",
      "          },\r\n",
      "          \"or16_inst0\":{\r\n",
      "            \"genref\":\"coreir.or\",\r\n",
      "            \"genargs\":{\"width\":[\"Int\",16]}\r\n",
      "          }\r\n",
      "        },\r\n",
      "        \"connections\":[\r\n",
      "          [\"self.a\",\"Invert16_inst0.in\"],\r\n",
      "          [\"and16_inst1.in0\",\"Invert16_inst0.out\"],\r\n",
      "          [\"self.a\",\"and16_inst0.in0\"],\r\n",
      "          [\"self.b\",\"and16_inst0.in1\"],\r\n",
      "          [\"or16_inst0.in0\",\"and16_inst0.out\"],\r\n",
      "          [\"self.b\",\"and16_inst1.in1\"],\r\n",
      "          [\"or16_inst0.in1\",\"and16_inst1.out\"],\r\n",
      "          [\"self.c\",\"or16_inst0.out\"]\r\n",
      "        ]\r\n",
      "      }\r\n",
      "    }\r\n",
      "  }\r\n",
      "}\r\n",
      "}\r\n"
     ]
    }
   ],
   "source": [
    "m.compile(\"build/Combinational\", Combinational, output=\"coreir\")\n",
    "%cat build/Combinational.json"
   ]
  }
 ],
 "metadata": {
  "kernelspec": {
   "display_name": "Python 3",
   "language": "python",
   "name": "python3"
  },
  "language_info": {
   "codemirror_mode": {
    "name": "ipython",
    "version": 3
   },
   "file_extension": ".py",
   "mimetype": "text/x-python",
   "name": "python",
   "nbconvert_exporter": "python",
   "pygments_lexer": "ipython3",
   "version": "3.7.2"
  }
 },
 "nbformat": 4,
 "nbformat_minor": 2
}
