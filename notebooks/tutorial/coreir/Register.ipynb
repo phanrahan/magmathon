{
 "cells": [
  {
   "cell_type": "markdown",
   "metadata": {},
   "source": [
    "## DFFs and Registers\n",
    "\n",
    "This example demonstrates the use of DFFs and registers."
   ]
  },
  {
   "cell_type": "code",
   "execution_count": 1,
   "metadata": {},
   "outputs": [],
   "source": [
    "import magma as m"
   ]
  },
  {
   "cell_type": "markdown",
   "metadata": {},
   "source": [
    "### DFF\n",
    "\n",
    "The fundamental stateful element is a D-flip-flop. The flip-flop has a clock enable, its state will only be updated if the clock enable is true. Similarly, if a flip-flop has a reset signal, it will be reset to its initial value if reset is true."
   ]
  },
  {
   "cell_type": "code",
   "execution_count": 2,
   "metadata": {},
   "outputs": [],
   "source": [
    "from mantle import DFF\n",
    "\n",
    "dff = DFF()"
   ]
  },
  {
   "cell_type": "markdown",
   "metadata": {},
   "source": [
    "### Register\n",
    "\n",
    "A register is simply an array of flip-flops.\n",
    "To create an instance of a register, call `Register`\n",
    "with the number of bits `n` in the register."
   ]
  },
  {
   "cell_type": "code",
   "execution_count": 3,
   "metadata": {},
   "outputs": [],
   "source": [
    "from mantle import DefineRegister"
   ]
  },
  {
   "cell_type": "markdown",
   "metadata": {},
   "source": [
    "Registers and DFFs are very similar to each other.\n",
    "The only difference is that the input and output to a DFF\n",
    "are `Bit` values,\n",
    "whereas the inputs and the outputs to registers are `Bits[n]`."
   ]
  },
  {
   "cell_type": "markdown",
   "metadata": {},
   "source": [
    "### Registers with Enables and Resets\n",
    "\n",
    "Flip-flops and registers can have with clock enables and resets.\n",
    "The flip-flop has a clock enable, its state will only be updated\n",
    "if the clock enable is true.\n",
    "Similarly, if a flip-flop has a reset signal,\n",
    "it will be reset to its initial value if reset is true.\n",
    "\n",
    "To create registers with these additional inputs,\n",
    "set the optional arguments `has_ce` and/or `has_reset`\n",
    "when instancing the register."
   ]
  },
  {
   "cell_type": "code",
   "execution_count": 4,
   "metadata": {},
   "outputs": [],
   "source": [
    "Register4 = DefineRegister(4, init=5, has_ce=True, has_reset=True )"
   ]
  },
  {
   "cell_type": "markdown",
   "metadata": {},
   "source": [
    "To wire the optional clock inputs, clock enable and reset,\n",
    "use named arguments (`ce` and `reset`) when you call the register with its inputs.\n",
    "In `Magma`, clock signals are handled differently than signals."
   ]
  },
  {
   "cell_type": "code",
   "execution_count": 5,
   "metadata": {},
   "outputs": [
    {
     "name": "stdout",
     "output_type": "stream",
     "text": [
      "Reset Val = 5\n",
      "Register4.I = 0, Register4.O = 0\n",
      "Register4.I = 1, Register4.O = 1\n",
      "Register4.I = 2, Register4.O = 2\n",
      "Register4.I = 3, Register4.O = 3\n",
      "Register4.I = 4, Register4.O = 4\n",
      "Lowering enable\n",
      "Register4.I = 0, Register4.O = 4\n",
      "Register4.I = 1, Register4.O = 4\n",
      "Register4.I = 2, Register4.O = 4\n",
      "Register4.I = 3, Register4.O = 4\n",
      "Register4.I = 4, Register4.O = 4\n"
     ]
    }
   ],
   "source": [
    "from magma.simulator import PythonSimulator\n",
    "from fault import PythonTester\n",
    "\n",
    "tester = PythonTester(Register4, Register4.CLK)\n",
    "tester.poke(Register4.RESET, 1)  # reset\n",
    "tester.step(2)\n",
    "tester.poke(Register4.RESET, 0)\n",
    "print(f\"Reset Val = {tester.peek(Register4.O)}\")\n",
    "tester.poke(Register4.CE, 1)  # set enable\n",
    "for i in range(5):\n",
    "    tester.poke(Register4.I, i)\n",
    "    tester.step(2)\n",
    "    print(f\"Register4.I = {tester.peek(Register4.I)}, Register4.O = {tester.peek(Register4.O)}\")\n",
    "print(\"Lowering enable\")\n",
    "tester.poke(Register4.CE, 0)\n",
    "for i in range(5):\n",
    "    tester.poke(Register4.I, i)\n",
    "    tester.step(2)\n",
    "    print(f\"Register4.I = {tester.peek(Register4.I)}, Register4.O = {tester.peek(Register4.O)}\")"
   ]
  },
  {
   "cell_type": "code",
   "execution_count": null,
   "metadata": {},
   "outputs": [],
   "source": []
  }
 ],
 "metadata": {
  "kernelspec": {
   "display_name": "Python 3",
   "language": "python",
   "name": "python3"
  },
  "language_info": {
   "codemirror_mode": {
    "name": "ipython",
    "version": 3
   },
   "file_extension": ".py",
   "mimetype": "text/x-python",
   "name": "python",
   "nbconvert_exporter": "python",
   "pygments_lexer": "ipython3",
   "version": "3.7.2"
  }
 },
 "nbformat": 4,
 "nbformat_minor": 2
}
