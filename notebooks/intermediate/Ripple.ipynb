{
 "cells": [
  {
   "cell_type": "markdown",
   "metadata": {},
   "source": [
    "## Ripple Counter from Toggle Flip-Flops\n",
    "\n",
    "In this example we create a ripple counter from toggle flip-flops. \n",
    "We also show how to define new `Magma` `Circuits`\n",
    "and introduce *generators*."
   ]
  },
  {
   "cell_type": "code",
   "execution_count": 1,
   "metadata": {},
   "outputs": [],
   "source": [
    "import magma as m\n",
    "m.set_mantle_target(\"ice40\")"
   ]
  },
  {
   "cell_type": "markdown",
   "metadata": {},
   "source": [
    "In the last example, we defined a function that created a\n",
    "toggle flip-flop (TFF) from a DFF and an XOR gate.\n",
    "Let's convert the TFF to a `Circuit`. \n",
    "In `Magma` a `Circuit` is equivalent to a verilog *module*.\n",
    "Circuits can be instanced and then wired to other circuits.\n",
    "\n",
    "`m.ClockInterface()` appends `Magma`'s standard clock interface ports to the interface. When no parameters are specified, this just adds the port `CLK` with type `In(Clock)`."
   ]
  },
  {
   "cell_type": "code",
   "execution_count": 2,
   "metadata": {},
   "outputs": [
    {
     "name": "stdout",
     "output_type": "stream",
     "text": [
      "import lattice ice40\n",
      "import lattice mantle40\n"
     ]
    }
   ],
   "source": [
    "from mantle import DFF\n",
    "\n",
    "class TFF(m.Circuit):\n",
    "    IO = [\"O\", m.Out(m.Bit)] + m.ClockInterface()\n",
    "    @classmethod\n",
    "    def definition(io):\n",
    "        ff = DFF()\n",
    "        m.wire( ff(~ff.O), io.O )\n",
    "        m.wireclock( io, ff )"
   ]
  },
  {
   "cell_type": "markdown",
   "metadata": {},
   "source": [
    "Let's inspect the interface to see the result of appending `m.ClockInterface()`."
   ]
  },
  {
   "cell_type": "code",
   "execution_count": 3,
   "metadata": {},
   "outputs": [
    {
     "name": "stdout",
     "output_type": "stream",
     "text": [
      "TFF(O: Out(Bit), CLK: In(Clock))\n"
     ]
    }
   ],
   "source": [
    "print(TFF)"
   ]
  },
  {
   "cell_type": "markdown",
   "metadata": {},
   "source": [
    "Now we'll define a *generator* for our RippleCounter that accepts a single argument `n` that corresponds to the width. A *generator* in `Magma` simply refers to a native Python function that defines and returns `Magma` Circuit. We use the naming convention `Define<CircuitName>` to distinguish `Magma` generators from other Python functions."
   ]
  },
  {
   "cell_type": "code",
   "execution_count": 4,
   "metadata": {},
   "outputs": [],
   "source": [
    "def DefineRippleCounter(n):\n",
    "    class RippleCounter(m.Circuit):\n",
    "        name = 'Ripple' + str(n)\n",
    "        IO = [\"O\", m.Out(m.Bits(n))] + m.ClockInterface()\n",
    "        @classmethod\n",
    "        def definition(io):\n",
    "            tffs = [TFF() for i in range(n)]\n",
    "            O = io.CLK\n",
    "            for i in range(n):\n",
    "                m.wire(O, tffs[i].CLK)\n",
    "                O = tffs[i].O\n",
    "                m.wire(O, io.O[i])\n",
    "    return RippleCounter"
   ]
  },
  {
   "cell_type": "markdown",
   "metadata": {},
   "source": [
    "Now we can generate a 30-bit `RippleCounter` by calling our function."
   ]
  },
  {
   "cell_type": "code",
   "execution_count": 5,
   "metadata": {},
   "outputs": [],
   "source": [
    "N = 30\n",
    "Ripple = DefineRippleCounter(N)"
   ]
  },
  {
   "cell_type": "markdown",
   "metadata": {},
   "source": [
    "We'll test our circuit by wiring the top 8 bits of the ripple counter to `J3` header on the IceStick."
   ]
  },
  {
   "cell_type": "code",
   "execution_count": 6,
   "metadata": {},
   "outputs": [],
   "source": [
    "from loam.boards.icestick import IceStick\n",
    "\n",
    "icestick = IceStick()\n",
    "icestick.Clock.on()\n",
    "icestick.J1[0].rename('J1').input().on()  # rename so J1 is not an array\n",
    "for i in range(8):\n",
    "    icestick.J3[i].output().on()\n",
    "\n",
    "main = icestick.DefineMain()\n",
    "ripple = Ripple()\n",
    "m.wire( ripple.O[N-8:N], main.J3 )\n",
    "m.EndDefine()"
   ]
  },
  {
   "cell_type": "markdown",
   "metadata": {},
   "source": [
    "## Compile and Build"
   ]
  },
  {
   "cell_type": "code",
   "execution_count": 7,
   "metadata": {},
   "outputs": [
    {
     "name": "stdout",
     "output_type": "stream",
     "text": [
      "compiling TFF\n",
      "compiling Ripple30\n",
      "compiling main\n"
     ]
    }
   ],
   "source": [
    "m.compile(\"build/ripple\", main)"
   ]
  },
  {
   "cell_type": "code",
   "execution_count": 8,
   "metadata": {},
   "outputs": [
    {
     "name": "stdout",
     "output_type": "stream",
     "text": [
      "/Users/hanrahan/git/magmathon/notebooks/intermediate/build\n"
     ]
    },
    {
     "name": "stderr",
     "output_type": "stream",
     "text": [
      "init..\n",
      "cdone: high\n",
      "reset..\n",
      "cdone: low\n",
      "flash ID: 0x20 0xBA 0x16 0x10 0x00 0x00 0x23 0x51 0x73 0x10 0x22 0x00 0x26 0x00 0x42 0x06 0x06 0x15 0x62 0xB8\n",
      "file size: 32220\n",
      "erase 64kB sector at 0x000000..\n",
      "programming..\n",
      "reading..\n",
      "VERIFY OK\n",
      "cdone: high\n",
      "Bye.\n"
     ]
    }
   ],
   "source": [
    "%%bash\n",
    "cd build\n",
    "yosys -q -p 'synth_ice40 -top main -blif ripple.blif' ripple.v\n",
    "arachne-pnr -q -d 1k -o ripple.txt -p ripple.pcf ripple.blif \n",
    "icepack ripple.txt ripple.bin\n",
    "iceprog ripple.bin"
   ]
  },
  {
   "cell_type": "markdown",
   "metadata": {},
   "source": [
    "We verify our circuit using a logic analyzer set to sample at 1 MS/s over 45 seconds\n",
    "\n",
    "![](images/ripple.png)"
   ]
  },
  {
   "cell_type": "code",
   "execution_count": null,
   "metadata": {},
   "outputs": [],
   "source": []
  }
 ],
 "metadata": {
  "kernelspec": {
   "display_name": "Python 3",
   "language": "python",
   "name": "python3"
  },
  "language_info": {
   "codemirror_mode": {
    "name": "ipython",
    "version": 3
   },
   "file_extension": ".py",
   "mimetype": "text/x-python",
   "name": "python",
   "nbconvert_exporter": "python",
   "pygments_lexer": "ipython3",
   "version": "3.6.5"
  }
 },
 "nbformat": 4,
 "nbformat_minor": 2
}
