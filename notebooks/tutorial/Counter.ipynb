{
 "cells": [
  {
   "cell_type": "markdown",
   "metadata": {},
   "source": [
    "## Counter"
   ]
  },
  {
   "cell_type": "code",
   "execution_count": 1,
   "metadata": {
    "collapsed": true
   },
   "outputs": [],
   "source": [
    "import magma as m\n",
    "m.set_mantle_target(\"ice40\")"
   ]
  },
  {
   "cell_type": "markdown",
   "metadata": {},
   "source": [
    "## Counter Circuit"
   ]
  },
  {
   "cell_type": "markdown",
   "metadata": {},
   "source": [
    "To implement a counter we can use the `Register` primitive and the `+` operator. "
   ]
  },
  {
   "cell_type": "code",
   "execution_count": 2,
   "metadata": {
    "scrolled": true
   },
   "outputs": [
    {
     "name": "stdout",
     "output_type": "stream",
     "text": [
      "import lattice ice40\n",
      "import lattice mantle40\n"
     ]
    }
   ],
   "source": [
    "from mantle import Register\n",
    "\n",
    "class SimpleCounter4(m.Circuit):\n",
    "    IO = [\"O\", m.Out(m.UInt(4))] + m.ClockInterface()\n",
    "    @classmethod\n",
    "    def definition(io):\n",
    "        reg4 = Register(4)\n",
    "        m.wire(reg4(m.uint(reg4.O) + m.uint(1,4)), io.O)"
   ]
  },
  {
   "cell_type": "markdown",
   "metadata": {},
   "source": [
    "The above example shows how to create a circuit by subclassing `Circuit`.\n",
    "Another way to construct a circuit is using a function that builds the circuit."
   ]
  },
  {
   "cell_type": "code",
   "execution_count": 3,
   "metadata": {
    "collapsed": true
   },
   "outputs": [],
   "source": [
    "def SimpleCounter4():\n",
    "    _SimpleCounter4 = DefineCircuit('SimpleCounter4', \"O\", m.Out(m.UInt(4)), *m.ClockInterface())\n",
    "    reg4 = Register(4)\n",
    "    m.wire(reg4(m.uint(reg4.O) + m.uint(1,4)), _SimpleCounter4.O)\n",
    "    EndCircuit()\n",
    "    return _SimpleCounter4"
   ]
  },
  {
   "cell_type": "markdown",
   "metadata": {},
   "source": [
    "## Counter Circuit Generator\n",
    "\n",
    "The above example creates a counter of fixed size 4. How can we make a more general counter of arbitray width?"
   ]
  },
  {
   "cell_type": "code",
   "execution_count": 4,
   "metadata": {
    "collapsed": true
   },
   "outputs": [],
   "source": [
    "def DefineCounter(n):\n",
    "    class _Counter(m.Circuit):\n",
    "        name = f'Counter{n}'\n",
    "        IO = [\"O\", m.Out(m.UInt(n))] + m.ClockInterface()\n",
    "        @classmethod\n",
    "        def definition(io):\n",
    "            reg = Register(n)\n",
    "            m.wire(reg(m.uint(reg.O) + m.uint(1,n)), io.O)\n",
    "    return _Counter\n",
    "\n",
    "def Counter(n):\n",
    "    return DefineCounter(n)()"
   ]
  },
  {
   "cell_type": "markdown",
   "metadata": {},
   "source": [
    "The definition of the generated `n`-bit counter can use the `n` parameter that is captured in the closure environment."
   ]
  },
  {
   "cell_type": "markdown",
   "metadata": {},
   "source": [
    "## Test bench"
   ]
  },
  {
   "cell_type": "code",
   "execution_count": 5,
   "metadata": {
    "collapsed": true
   },
   "outputs": [],
   "source": [
    "from loam.boards.icestick import IceStick\n",
    "\n",
    "N = 30\n",
    "\n",
    "icestick = IceStick()\n",
    "icestick.Clock.on()\n",
    "for i in range(8):\n",
    "    icestick.J3[i].output().on()\n",
    "    \n",
    "main = icestick.DefineMain()\n",
    "\n",
    "counter = Counter(N)\n",
    "m.wire( counter.O[N-8:N], main.J3 )\n",
    "\n",
    "m.EndDefine()"
   ]
  },
  {
   "cell_type": "markdown",
   "metadata": {},
   "source": [
    "We can compile and inspect the verilog."
   ]
  },
  {
   "cell_type": "code",
   "execution_count": 6,
   "metadata": {
    "collapsed": true
   },
   "outputs": [],
   "source": [
    "m.compile(\"build/counter\", main)"
   ]
  },
  {
   "cell_type": "code",
   "execution_count": 7,
   "metadata": {},
   "outputs": [
    {
     "name": "stderr",
     "output_type": "stream",
     "text": [
      "init..\n",
      "cdone: high\n",
      "reset..\n",
      "cdone: low\n",
      "flash ID: 0x20 0xBA 0x16 0x10 0x00 0x00 0x23 0x71 0x85 0x32 0x02 0x00 0x87 0x00 0x14 0x11 0x06 0x17 0x05 0xE2\n",
      "file size: 32220\n",
      "erase 64kB sector at 0x000000..\n",
      "programming..\n",
      "reading..\n",
      "VERIFY OK\n",
      "cdone: high\n",
      "Bye.\n"
     ]
    }
   ],
   "source": [
    "%%bash\n",
    "cd build\n",
    "yosys -q -p 'synth_ice40 -top main -blif counter.blif' counter.v\n",
    "arachne-pnr -q -d 1k -o counter.txt -p counter.pcf counter.blif \n",
    "icepack counter.txt counter.bin\n",
    "iceprog counter.bin"
   ]
  },
  {
   "cell_type": "code",
   "execution_count": 8,
   "metadata": {},
   "outputs": [
    {
     "name": "stdout",
     "output_type": "stream",
     "text": [
      "module Register30 (input [29:0] I, output [29:0] O, input  CLK);\r\n",
      "wire  inst0_Q;\r\n",
      "wire  inst1_Q;\r\n",
      "wire  inst2_Q;\r\n",
      "wire  inst3_Q;\r\n",
      "wire  inst4_Q;\r\n",
      "wire  inst5_Q;\r\n",
      "wire  inst6_Q;\r\n",
      "wire  inst7_Q;\r\n",
      "wire  inst8_Q;\r\n",
      "wire  inst9_Q;\r\n",
      "wire  inst10_Q;\r\n",
      "wire  inst11_Q;\r\n",
      "wire  inst12_Q;\r\n",
      "wire  inst13_Q;\r\n",
      "wire  inst14_Q;\r\n",
      "wire  inst15_Q;\r\n",
      "wire  inst16_Q;\r\n",
      "wire  inst17_Q;\r\n",
      "wire  inst18_Q;\r\n",
      "wire  inst19_Q;\r\n",
      "wire  inst20_Q;\r\n",
      "wire  inst21_Q;\r\n",
      "wire  inst22_Q;\r\n",
      "wire  inst23_Q;\r\n",
      "wire  inst24_Q;\r\n",
      "wire  inst25_Q;\r\n",
      "wire  inst26_Q;\r\n",
      "wire  inst27_Q;\r\n",
      "wire  inst28_Q;\r\n",
      "wire  inst29_Q;\r\n",
      "SB_DFF inst0 (.C(CLK), .D(I[0]), .Q(inst0_Q));\r\n",
      "SB_DFF inst1 (.C(CLK), .D(I[1]), .Q(inst1_Q));\r\n",
      "SB_DFF inst2 (.C(CLK), .D(I[2]), .Q(inst2_Q));\r\n",
      "SB_DFF inst3 (.C(CLK), .D(I[3]), .Q(inst3_Q));\r\n",
      "SB_DFF inst4 (.C(CLK), .D(I[4]), .Q(inst4_Q));\r\n",
      "SB_DFF inst5 (.C(CLK), .D(I[5]), .Q(inst5_Q));\r\n",
      "SB_DFF inst6 (.C(CLK), .D(I[6]), .Q(inst6_Q));\r\n",
      "SB_DFF inst7 (.C(CLK), .D(I[7]), .Q(inst7_Q));\r\n",
      "SB_DFF inst8 (.C(CLK), .D(I[8]), .Q(inst8_Q));\r\n",
      "SB_DFF inst9 (.C(CLK), .D(I[9]), .Q(inst9_Q));\r\n",
      "SB_DFF inst10 (.C(CLK), .D(I[10]), .Q(inst10_Q));\r\n",
      "SB_DFF inst11 (.C(CLK), .D(I[11]), .Q(inst11_Q));\r\n",
      "SB_DFF inst12 (.C(CLK), .D(I[12]), .Q(inst12_Q));\r\n",
      "SB_DFF inst13 (.C(CLK), .D(I[13]), .Q(inst13_Q));\r\n",
      "SB_DFF inst14 (.C(CLK), .D(I[14]), .Q(inst14_Q));\r\n",
      "SB_DFF inst15 (.C(CLK), .D(I[15]), .Q(inst15_Q));\r\n",
      "SB_DFF inst16 (.C(CLK), .D(I[16]), .Q(inst16_Q));\r\n",
      "SB_DFF inst17 (.C(CLK), .D(I[17]), .Q(inst17_Q));\r\n",
      "SB_DFF inst18 (.C(CLK), .D(I[18]), .Q(inst18_Q));\r\n",
      "SB_DFF inst19 (.C(CLK), .D(I[19]), .Q(inst19_Q));\r\n",
      "SB_DFF inst20 (.C(CLK), .D(I[20]), .Q(inst20_Q));\r\n",
      "SB_DFF inst21 (.C(CLK), .D(I[21]), .Q(inst21_Q));\r\n",
      "SB_DFF inst22 (.C(CLK), .D(I[22]), .Q(inst22_Q));\r\n",
      "SB_DFF inst23 (.C(CLK), .D(I[23]), .Q(inst23_Q));\r\n",
      "SB_DFF inst24 (.C(CLK), .D(I[24]), .Q(inst24_Q));\r\n",
      "SB_DFF inst25 (.C(CLK), .D(I[25]), .Q(inst25_Q));\r\n",
      "SB_DFF inst26 (.C(CLK), .D(I[26]), .Q(inst26_Q));\r\n",
      "SB_DFF inst27 (.C(CLK), .D(I[27]), .Q(inst27_Q));\r\n",
      "SB_DFF inst28 (.C(CLK), .D(I[28]), .Q(inst28_Q));\r\n",
      "SB_DFF inst29 (.C(CLK), .D(I[29]), .Q(inst29_Q));\r\n",
      "assign O = {inst29_Q,inst28_Q,inst27_Q,inst26_Q,inst25_Q,inst24_Q,inst23_Q,inst22_Q,inst21_Q,inst20_Q,inst19_Q,inst18_Q,inst17_Q,inst16_Q,inst15_Q,inst14_Q,inst13_Q,inst12_Q,inst11_Q,inst10_Q,inst9_Q,inst8_Q,inst7_Q,inst6_Q,inst5_Q,inst4_Q,inst3_Q,inst2_Q,inst1_Q,inst0_Q};\r\n",
      "endmodule\r\n",
      "\r\n",
      "module FullAdder (input  I0, input  I1, input  CIN, output  O, output  COUT);\r\n",
      "wire  inst0_O;\r\n",
      "wire  inst1_CO;\r\n",
      "SB_LUT4 #(.LUT_INIT(16'h9696)) inst0 (.I0(I0), .I1(I1), .I2(CIN), .I3(1'b0), .O(inst0_O));\r\n",
      "SB_CARRY inst1 (.I0(I0), .I1(I1), .CI(CIN), .CO(inst1_CO));\r\n",
      "assign O = inst0_O;\r\n",
      "assign COUT = inst1_CO;\r\n",
      "endmodule\r\n",
      "\r\n",
      "module Add30 (input [29:0] I0, input [29:0] I1, output [29:0] O);\r\n",
      "wire  inst0_O;\r\n",
      "wire  inst0_COUT;\r\n",
      "wire  inst1_O;\r\n",
      "wire  inst1_COUT;\r\n",
      "wire  inst2_O;\r\n",
      "wire  inst2_COUT;\r\n",
      "wire  inst3_O;\r\n",
      "wire  inst3_COUT;\r\n",
      "wire  inst4_O;\r\n",
      "wire  inst4_COUT;\r\n",
      "wire  inst5_O;\r\n",
      "wire  inst5_COUT;\r\n",
      "wire  inst6_O;\r\n",
      "wire  inst6_COUT;\r\n",
      "wire  inst7_O;\r\n",
      "wire  inst7_COUT;\r\n",
      "wire  inst8_O;\r\n",
      "wire  inst8_COUT;\r\n",
      "wire  inst9_O;\r\n",
      "wire  inst9_COUT;\r\n",
      "wire  inst10_O;\r\n",
      "wire  inst10_COUT;\r\n",
      "wire  inst11_O;\r\n",
      "wire  inst11_COUT;\r\n",
      "wire  inst12_O;\r\n",
      "wire  inst12_COUT;\r\n",
      "wire  inst13_O;\r\n",
      "wire  inst13_COUT;\r\n",
      "wire  inst14_O;\r\n",
      "wire  inst14_COUT;\r\n",
      "wire  inst15_O;\r\n",
      "wire  inst15_COUT;\r\n",
      "wire  inst16_O;\r\n",
      "wire  inst16_COUT;\r\n",
      "wire  inst17_O;\r\n",
      "wire  inst17_COUT;\r\n",
      "wire  inst18_O;\r\n",
      "wire  inst18_COUT;\r\n",
      "wire  inst19_O;\r\n",
      "wire  inst19_COUT;\r\n",
      "wire  inst20_O;\r\n",
      "wire  inst20_COUT;\r\n",
      "wire  inst21_O;\r\n",
      "wire  inst21_COUT;\r\n",
      "wire  inst22_O;\r\n",
      "wire  inst22_COUT;\r\n",
      "wire  inst23_O;\r\n",
      "wire  inst23_COUT;\r\n",
      "wire  inst24_O;\r\n",
      "wire  inst24_COUT;\r\n",
      "wire  inst25_O;\r\n",
      "wire  inst25_COUT;\r\n",
      "wire  inst26_O;\r\n",
      "wire  inst26_COUT;\r\n",
      "wire  inst27_O;\r\n",
      "wire  inst27_COUT;\r\n",
      "wire  inst28_O;\r\n",
      "wire  inst28_COUT;\r\n",
      "wire  inst29_O;\r\n",
      "wire  inst29_COUT;\r\n",
      "FullAdder inst0 (.I0(I0[0]), .I1(I1[0]), .CIN(1'b0), .O(inst0_O), .COUT(inst0_COUT));\r\n",
      "FullAdder inst1 (.I0(I0[1]), .I1(I1[1]), .CIN(inst0_COUT), .O(inst1_O), .COUT(inst1_COUT));\r\n",
      "FullAdder inst2 (.I0(I0[2]), .I1(I1[2]), .CIN(inst1_COUT), .O(inst2_O), .COUT(inst2_COUT));\r\n",
      "FullAdder inst3 (.I0(I0[3]), .I1(I1[3]), .CIN(inst2_COUT), .O(inst3_O), .COUT(inst3_COUT));\r\n",
      "FullAdder inst4 (.I0(I0[4]), .I1(I1[4]), .CIN(inst3_COUT), .O(inst4_O), .COUT(inst4_COUT));\r\n",
      "FullAdder inst5 (.I0(I0[5]), .I1(I1[5]), .CIN(inst4_COUT), .O(inst5_O), .COUT(inst5_COUT));\r\n",
      "FullAdder inst6 (.I0(I0[6]), .I1(I1[6]), .CIN(inst5_COUT), .O(inst6_O), .COUT(inst6_COUT));\r\n",
      "FullAdder inst7 (.I0(I0[7]), .I1(I1[7]), .CIN(inst6_COUT), .O(inst7_O), .COUT(inst7_COUT));\r\n",
      "FullAdder inst8 (.I0(I0[8]), .I1(I1[8]), .CIN(inst7_COUT), .O(inst8_O), .COUT(inst8_COUT));\r\n",
      "FullAdder inst9 (.I0(I0[9]), .I1(I1[9]), .CIN(inst8_COUT), .O(inst9_O), .COUT(inst9_COUT));\r\n",
      "FullAdder inst10 (.I0(I0[10]), .I1(I1[10]), .CIN(inst9_COUT), .O(inst10_O), .COUT(inst10_COUT));\r\n",
      "FullAdder inst11 (.I0(I0[11]), .I1(I1[11]), .CIN(inst10_COUT), .O(inst11_O), .COUT(inst11_COUT));\r\n",
      "FullAdder inst12 (.I0(I0[12]), .I1(I1[12]), .CIN(inst11_COUT), .O(inst12_O), .COUT(inst12_COUT));\r\n",
      "FullAdder inst13 (.I0(I0[13]), .I1(I1[13]), .CIN(inst12_COUT), .O(inst13_O), .COUT(inst13_COUT));\r\n",
      "FullAdder inst14 (.I0(I0[14]), .I1(I1[14]), .CIN(inst13_COUT), .O(inst14_O), .COUT(inst14_COUT));\r\n",
      "FullAdder inst15 (.I0(I0[15]), .I1(I1[15]), .CIN(inst14_COUT), .O(inst15_O), .COUT(inst15_COUT));\r\n",
      "FullAdder inst16 (.I0(I0[16]), .I1(I1[16]), .CIN(inst15_COUT), .O(inst16_O), .COUT(inst16_COUT));\r\n",
      "FullAdder inst17 (.I0(I0[17]), .I1(I1[17]), .CIN(inst16_COUT), .O(inst17_O), .COUT(inst17_COUT));\r\n",
      "FullAdder inst18 (.I0(I0[18]), .I1(I1[18]), .CIN(inst17_COUT), .O(inst18_O), .COUT(inst18_COUT));\r\n",
      "FullAdder inst19 (.I0(I0[19]), .I1(I1[19]), .CIN(inst18_COUT), .O(inst19_O), .COUT(inst19_COUT));\r\n",
      "FullAdder inst20 (.I0(I0[20]), .I1(I1[20]), .CIN(inst19_COUT), .O(inst20_O), .COUT(inst20_COUT));\r\n",
      "FullAdder inst21 (.I0(I0[21]), .I1(I1[21]), .CIN(inst20_COUT), .O(inst21_O), .COUT(inst21_COUT));\r\n",
      "FullAdder inst22 (.I0(I0[22]), .I1(I1[22]), .CIN(inst21_COUT), .O(inst22_O), .COUT(inst22_COUT));\r\n",
      "FullAdder inst23 (.I0(I0[23]), .I1(I1[23]), .CIN(inst22_COUT), .O(inst23_O), .COUT(inst23_COUT));\r\n",
      "FullAdder inst24 (.I0(I0[24]), .I1(I1[24]), .CIN(inst23_COUT), .O(inst24_O), .COUT(inst24_COUT));\r\n",
      "FullAdder inst25 (.I0(I0[25]), .I1(I1[25]), .CIN(inst24_COUT), .O(inst25_O), .COUT(inst25_COUT));\r\n",
      "FullAdder inst26 (.I0(I0[26]), .I1(I1[26]), .CIN(inst25_COUT), .O(inst26_O), .COUT(inst26_COUT));\r\n",
      "FullAdder inst27 (.I0(I0[27]), .I1(I1[27]), .CIN(inst26_COUT), .O(inst27_O), .COUT(inst27_COUT));\r\n",
      "FullAdder inst28 (.I0(I0[28]), .I1(I1[28]), .CIN(inst27_COUT), .O(inst28_O), .COUT(inst28_COUT));\r\n",
      "FullAdder inst29 (.I0(I0[29]), .I1(I1[29]), .CIN(inst28_COUT), .O(inst29_O), .COUT(inst29_COUT));\r\n",
      "assign O = {inst29_O,inst28_O,inst27_O,inst26_O,inst25_O,inst24_O,inst23_O,inst22_O,inst21_O,inst20_O,inst19_O,inst18_O,inst17_O,inst16_O,inst15_O,inst14_O,inst13_O,inst12_O,inst11_O,inst10_O,inst9_O,inst8_O,inst7_O,inst6_O,inst5_O,inst4_O,inst3_O,inst2_O,inst1_O,inst0_O};\r\n",
      "endmodule\r\n",
      "\r\n",
      "module Counter30 (output [29:0] O, input  CLK);\r\n",
      "wire [29:0] inst0_O;\r\n",
      "wire [29:0] inst1_O;\r\n",
      "Register30 inst0 (.I(inst1_O), .O(inst0_O), .CLK(CLK));\r\n",
      "Add30 inst1 (.I0(inst0_O), .I1({1'b0,1'b0,1'b0,1'b0,1'b0,1'b0,1'b0,1'b0,1'b0,1'b0,1'b0,1'b0,1'b0,1'b0,1'b0,1'b0,1'b0,1'b0,1'b0,1'b0,1'b0,1'b0,1'b0,1'b0,1'b0,1'b0,1'b0,1'b0,1'b0,1'b1}), .O(inst1_O));\r\n",
      "assign O = inst0_O;\r\n",
      "endmodule\r\n",
      "\r\n",
      "module main (output [7:0] J3, input  CLKIN);\r\n",
      "wire [29:0] inst0_O;\r\n",
      "Counter30 inst0 (.O(inst0_O), .CLK(CLKIN));\r\n",
      "assign J3 = {inst0_O[29],inst0_O[28],inst0_O[27],inst0_O[26],inst0_O[25],inst0_O[24],inst0_O[23],inst0_O[22]};\r\n",
      "endmodule\r\n",
      "\r\n"
     ]
    }
   ],
   "source": [
    "%cat build/counter.v"
   ]
  }
 ],
 "metadata": {
  "kernelspec": {
   "display_name": "Python 3",
   "language": "python",
   "name": "python3"
  },
  "language_info": {
   "codemirror_mode": {
    "name": "ipython",
    "version": 3
   },
   "file_extension": ".py",
   "mimetype": "text/x-python",
   "name": "python",
   "nbconvert_exporter": "python",
   "pygments_lexer": "ipython3",
   "version": "3.6.5"
  }
 },
 "nbformat": 4,
 "nbformat_minor": 2
}
