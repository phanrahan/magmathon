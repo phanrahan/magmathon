{
 "cells": [
  {
   "cell_type": "markdown",
   "metadata": {},
   "source": [
    "## FullAdder - Combinational Circuits\n",
    "\n",
    "This notebook walks through the implementation of a basic combinational circuit, a full adder. This example introduces many of the features of `Magma` including circuits, wiring, operators, and the type system."
   ]
  },
  {
   "cell_type": "markdown",
   "metadata": {},
   "source": [
    "Start by importing `magma` and `mantle`. `magma` is the core system which implements circuits and the methods to compose them, and `mantle` is a library of useful circuits. "
   ]
  },
  {
   "cell_type": "code",
   "execution_count": 1,
   "metadata": {
    "scrolled": true
   },
   "outputs": [
    {
     "name": "stderr",
     "output_type": "stream",
     "text": [
      "/Users/hanrahan/miniconda3/lib/python3.7/site-packages/pysmt/walkers/generic.py:43: DeprecationWarning: Using or importing the ABCs from 'collections' instead of from 'collections.abc' is deprecated since Python 3.3,and in 3.9 it will stop working\n",
      "  if len(nodetypes) == 1 and isinstance(nodetypes[0], collections.Iterable):\n",
      "WARNING:magma:'IO = [...]' syntax is deprecated, use 'io = IO(...)' syntax instead\n",
      "WARNING:magma:'IO = [...]' syntax is deprecated, use 'io = IO(...)' syntax instead\n",
      "WARNING:magma:'definition' class method syntax is deprecated, use inline definition syntax instead\n",
      "WARNING:magma:'IO = [...]' syntax is deprecated, use 'io = IO(...)' syntax instead\n",
      "WARNING:magma:'IO = [...]' syntax is deprecated, use 'io = IO(...)' syntax instead\n",
      "WARNING:magma:'definition' class method syntax is deprecated, use inline definition syntax instead\n",
      "WARNING:magma:'IO = [...]' syntax is deprecated, use 'io = IO(...)' syntax instead\n",
      "WARNING:magma:'IO = [...]' syntax is deprecated, use 'io = IO(...)' syntax instead\n",
      "WARNING:magma:'definition' class method syntax is deprecated, use inline definition syntax instead\n",
      "WARNING:magma:'IO = [...]' syntax is deprecated, use 'io = IO(...)' syntax instead\n",
      "WARNING:magma:'IO = [...]' syntax is deprecated, use 'io = IO(...)' syntax instead\n",
      "WARNING:magma:'definition' class method syntax is deprecated, use inline definition syntax instead\n",
      "WARNING:magma:'IO = [...]' syntax is deprecated, use 'io = IO(...)' syntax instead\n",
      "WARNING:magma:'IO = [...]' syntax is deprecated, use 'io = IO(...)' syntax instead\n",
      "WARNING:magma:'definition' class method syntax is deprecated, use inline definition syntax instead\n",
      "WARNING:magma:'IO = [...]' syntax is deprecated, use 'io = IO(...)' syntax instead\n",
      "WARNING:magma:'IO = [...]' syntax is deprecated, use 'io = IO(...)' syntax instead\n",
      "WARNING:magma:'IO = [...]' syntax is deprecated, use 'io = IO(...)' syntax instead\n",
      "WARNING:magma:'definition' class method syntax is deprecated, use inline definition syntax instead\n",
      "WARNING:magma:'IO = [...]' syntax is deprecated, use 'io = IO(...)' syntax instead\n",
      "WARNING:magma:'IO = [...]' syntax is deprecated, use 'io = IO(...)' syntax instead\n",
      "WARNING:magma:'IO = [...]' syntax is deprecated, use 'io = IO(...)' syntax instead\n",
      "WARNING:magma:'IO = [...]' syntax is deprecated, use 'io = IO(...)' syntax instead\n",
      "WARNING:magma:'IO = [...]' syntax is deprecated, use 'io = IO(...)' syntax instead\n",
      "WARNING:magma:'IO = [...]' syntax is deprecated, use 'io = IO(...)' syntax instead\n",
      "WARNING:magma:'IO = [...]' syntax is deprecated, use 'io = IO(...)' syntax instead\n"
     ]
    }
   ],
   "source": [
    "import warnings\n",
    "with warnings.catch_warnings():  # surpress warnings from other dependencies\n",
    "    import magma as m\n",
    "    import mantle"
   ]
  },
  {
   "cell_type": "markdown",
   "metadata": {},
   "source": [
    "A full adder has three single bit inputs, and returns the sum and the carry. The sum is the *exclusive or* of the 3 bits, the carry is 1 if any two of the inputs bits are 1. Here is a schematic of a full adder circuit (from `logisim`).\n",
    "\n",
    "![Full Adder](images/full_adder_logisim.png)\n",
    "\n",
    "We start by defining a Python function that implements a full adder. \n",
    "The full adder function takes three single bit inputs and returns two outputs as a tuple.\n",
    "The first element of tuple is the sum, the second element is the carry.\n",
    "We compute the sum and carry using standard Python bitwise operators `&`, `|`, and `^`."
   ]
  },
  {
   "cell_type": "code",
   "execution_count": 2,
   "metadata": {},
   "outputs": [],
   "source": [
    "def fulladder(A, B, C):\n",
    "    return A ^ B ^ C, A & B | B & C | C & A  # sum, carry"
   ]
  },
  {
   "cell_type": "markdown",
   "metadata": {},
   "source": [
    "We can test our Python function to verify that our implementation behaves as expected. \n",
    "We'll use the standard Python `assert` pattern."
   ]
  },
  {
   "cell_type": "code",
   "execution_count": 3,
   "metadata": {},
   "outputs": [
    {
     "name": "stdout",
     "output_type": "stream",
     "text": [
      "Success!\n"
     ]
    }
   ],
   "source": [
    "assert fulladder(1, 0, 0) == (1, 0), \"Failed\"\n",
    "assert fulladder(0, 1, 0) == (1, 0), \"Failed\"\n",
    "assert fulladder(1, 1, 0) == (0, 1), \"Failed\"\n",
    "assert fulladder(1, 0, 1) == (0, 1), \"Failed\"\n",
    "assert fulladder(1, 1, 1) == (1, 1), \"Failed\"\n",
    "print(\"Success!\")"
   ]
  },
  {
   "cell_type": "markdown",
   "metadata": {},
   "source": [
    "### Circuits"
   ]
  },
  {
   "cell_type": "markdown",
   "metadata": {},
   "source": [
    "Now that we have an implementation of `fulladder` as a Python function, \n",
    "we'll use it to construct a `magma` `Circuit`. \n",
    "A `Circuit` in `magma` corresponds to a `module` in `verilog`."
   ]
  },
  {
   "cell_type": "code",
   "execution_count": 4,
   "metadata": {},
   "outputs": [],
   "source": [
    "class FullAdder(m.Circuit):\n",
    "    io = m.IO(I0=m.In(m.Bit),\n",
    "              I1=m.In(m.Bit),\n",
    "              CIN=m.In(m.Bit),\n",
    "              O=m.Out(m.Bit),\n",
    "              COUT=m.Out(m.Bit))\n",
    "    \n",
    "    O, COUT = fulladder(io.I0, io.I1, io.CIN)\n",
    "    io.O @= O\n",
    "    io.COUT @= COUT"
   ]
  },
  {
   "cell_type": "markdown",
   "metadata": {},
   "source": [
    "First, notice that the `FullAdder` is a subclass of `Circuit`. All `magma` circuits are classes in python.\n",
    "\n",
    "Second, the function `IO` creates the interface to the circuit. \n",
    "The arguments to`IO` are keyword arguments. \n",
    "The key is the name of the argument in the circuit, and the value is its type. \n",
    "In this circuit, all the inputs and outputs have `Magma` type `Bit`. \n",
    "We also qualify each type as an input or an output using the functions `In` and `Out`.\n",
    "\n",
    "Note that when we call the python function `fulladder`\n",
    "it is passed `magma` values not standard python values.\n",
    "In the previous cell,  we tested `fulladder` with standard python ints,\n",
    "while in this case, the values passed to the Python `fulladder` function \n",
    "are `magma` values of type `Bit`.\n",
    "The Python bitwise operators for `Magmz` types are overloaded to automatically create subcircuits to compute logical functions.\n",
    "\n",
    "`fulladder` returns two values.\n",
    "These values are assigned to the python variables `O` and `COUT`. \n",
    "Remember that assigning to a Python variable \n",
    "sets the variable to refer to the object.\n",
    "`magma` values are Python objects,\n",
    "so assigning an object to a variable creates a reference to that `magma` value.\n",
    "In order to complete the definition of the circuit, \n",
    "`O` and `COUT` need to be *wired* to the outputs in the interface.\n",
    "\n",
    "The python `@=` operator is overloaded to perform wiring."
   ]
  },
  {
   "cell_type": "markdown",
   "metadata": {},
   "source": [
    "### Combinational Syntax\n",
    "\n",
    "In the above example, you'll notice that we have to define two interfaces:\n",
    "1. the interface to the Python `fulladder` function\n",
    "2. the interface to the `magma` `fulladdr` circuit.\n",
    "\n",
    "The `fulladder` is an example of a common `magma` pattern where pure functions are used to represent combinational circuits.  To simplify the declaration of these circuits, `magma` provides the `m.circuit.combinational` decorator which can be used to mark pure functions that should be compiled into `magma` circuits.  This decorator allows us to define the interface of the circuit using Python 3's type annotation syntax.  The implementation will inspect the function definition and generate the corresponding magma circuit definition. Here is an example:"
   ]
  },
  {
   "cell_type": "code",
   "execution_count": 5,
   "metadata": {},
   "outputs": [],
   "source": [
    "@m.circuit.combinational\n",
    "def fulladder2(A: m.Bit, B: m.Bit, C:m.Bit) -> (m.Bit, m.Bit):\n",
    "    return A ^ B ^ C, A & B | B & C | C & A  # sum, carry"
   ]
  },
  {
   "cell_type": "markdown",
   "metadata": {},
   "source": [
    "We can inspect the generated circuit definition by referencing the `circuit_definition` attribute of the function.  We'll see that it has instantiated a set of `and`, `or`, and `xor` primitives to implement the logic, and handled the wiring of the inputs and outputs."
   ]
  },
  {
   "cell_type": "code",
   "execution_count": 6,
   "metadata": {},
   "outputs": [
    {
     "name": "stdout",
     "output_type": "stream",
     "text": [
      "fulladder2 = DefineCircuit(\"fulladder2\", \"A\", In(Bit), \"B\", In(Bit), \"C\", In(Bit), \"O0\", Out(Bit), \"O1\", Out(Bit))\n",
      "magma_Bit_and_inst0 = magma_Bit_and()\n",
      "magma_Bit_and_inst1 = magma_Bit_and()\n",
      "magma_Bit_and_inst2 = magma_Bit_and()\n",
      "magma_Bit_or_inst0 = magma_Bit_or()\n",
      "magma_Bit_or_inst1 = magma_Bit_or()\n",
      "magma_Bit_xor_inst0 = magma_Bit_xor()\n",
      "magma_Bit_xor_inst1 = magma_Bit_xor()\n",
      "wire(fulladder2.A, magma_Bit_and_inst0.in0)\n",
      "wire(fulladder2.B, magma_Bit_and_inst0.in1)\n",
      "wire(fulladder2.B, magma_Bit_and_inst1.in0)\n",
      "wire(fulladder2.C, magma_Bit_and_inst1.in1)\n",
      "wire(fulladder2.C, magma_Bit_and_inst2.in0)\n",
      "wire(fulladder2.A, magma_Bit_and_inst2.in1)\n",
      "wire(magma_Bit_and_inst0.out, magma_Bit_or_inst0.in0)\n",
      "wire(magma_Bit_and_inst1.out, magma_Bit_or_inst0.in1)\n",
      "wire(magma_Bit_or_inst0.out, magma_Bit_or_inst1.in0)\n",
      "wire(magma_Bit_and_inst2.out, magma_Bit_or_inst1.in1)\n",
      "wire(fulladder2.A, magma_Bit_xor_inst0.in0)\n",
      "wire(fulladder2.B, magma_Bit_xor_inst0.in1)\n",
      "wire(magma_Bit_xor_inst0.out, magma_Bit_xor_inst1.in0)\n",
      "wire(fulladder2.C, magma_Bit_xor_inst1.in1)\n",
      "wire(magma_Bit_xor_inst1.out, fulladder2.O0)\n",
      "wire(magma_Bit_or_inst1.out, fulladder2.O1)\n",
      "EndCircuit()\n"
     ]
    }
   ],
   "source": [
    "from magma.ir import compile\n",
    "\n",
    "print(repr(fulladder2.circuit_definition))"
   ]
  },
  {
   "cell_type": "markdown",
   "metadata": {},
   "source": [
    "We can also inspect the code generated by the decorator by looking in the `.magma` directory for a file named `.magma/fulladder2.py`.  When using `m.circuit.combinational`, `magma` will generate a file matching the name of the decorated function.  You'll notice that the generated code looks very similar to the handwritten code above, except that magma introduces an extra temporary variable (this is an artifact of the SSA pass that `magma` runs to handle `if`/`else` statements)"
   ]
  },
  {
   "cell_type": "code",
   "execution_count": 7,
   "metadata": {},
   "outputs": [
    {
     "name": "stdout",
     "output_type": "stream",
     "text": [
      "import magma as m\n",
      "from mantle import mux as phi\n",
      "\n",
      "\n",
      "class fulladder2(m.Circuit):\n",
      "    io = m.IO(A=m.In(m.Bit), B=m.In(m.Bit), C=m.In(m.Bit), O0=m.Out(m.Bit),\n",
      "        O1=m.Out(m.Bit))\n",
      "    __magma_ssa_return_value_0 = (io.A ^ io.B ^ io.C, io.A & io.B | io.B &\n",
      "        io.C | io.C & io.A)\n",
      "    O0, O1 = __magma_ssa_return_value_0\n",
      "    m.wire(O0, io.O0)\n",
      "    m.wire(O1, io.O1)\n",
      "\n"
     ]
    }
   ],
   "source": [
    "with open(\".magma/fulladder2.py\") as f:\n",
    "    print(f.read())"
   ]
  },
  {
   "cell_type": "markdown",
   "metadata": {},
   "source": [
    "### Testing using Fault\n",
    "`fault` is a [python package](https://github.com/leonardt/fault) for testing magma circuits.  By default, `fault` is quiet, so we begin by enabling logging using the built-in `logging` module"
   ]
  },
  {
   "cell_type": "code",
   "execution_count": 8,
   "metadata": {},
   "outputs": [],
   "source": [
    "import logging\n",
    "logging.basicConfig(level=logging.INFO)\n",
    "import fault"
   ]
  },
  {
   "cell_type": "markdown",
   "metadata": {},
   "source": [
    "`fault` is a staged metaprogramming environment built upon the `Tester` class.  A `Tester` is instantiated with a `magma` circuit"
   ]
  },
  {
   "cell_type": "code",
   "execution_count": 9,
   "metadata": {},
   "outputs": [],
   "source": [
    "tester = fault.Tester(FullAdder)"
   ]
  },
  {
   "cell_type": "markdown",
   "metadata": {},
   "source": [
    "An instance of a `Tester` has an attribute `.circuit` that enables the user to record test actions.  For example, inputs to a circuit can be *poked* by setting the attribute corresponding to the input port name."
   ]
  },
  {
   "cell_type": "code",
   "execution_count": 10,
   "metadata": {},
   "outputs": [],
   "source": [
    "tester.circuit.I0 = 1\n",
    "tester.circuit.I1 = 1\n",
    "tester.circuit.CIN = 1"
   ]
  },
  {
   "cell_type": "markdown",
   "metadata": {},
   "source": [
    "`fault`'s default `Tester` provides the semantics of a cycle accurate simulator, so, unlike verilog, pokes do not create events that trigger computation.  Instead, these poke values are staged, and the propogation of their effect occurs when the user calls the `eval` action."
   ]
  },
  {
   "cell_type": "code",
   "execution_count": 11,
   "metadata": {},
   "outputs": [],
   "source": [
    "tester.eval()"
   ]
  },
  {
   "cell_type": "markdown",
   "metadata": {},
   "source": [
    "To assert that the output of the circuit is equal to a value, we use the `expect` method that are defined on the attributes corresponding to circuit output ports"
   ]
  },
  {
   "cell_type": "code",
   "execution_count": 12,
   "metadata": {},
   "outputs": [],
   "source": [
    "tester.circuit.O.expect(1)\n",
    "tester.circuit.COUT.expect(1)"
   ]
  },
  {
   "cell_type": "markdown",
   "metadata": {},
   "source": [
    "Because `fault` is a staged programming environment, the above actions are not executed until we have advanced to the next stage.  In the first stage, the user records test actions (e.g. poke, eval, expect).  In the second stage, the test is compiled and run using a target runtime.  Here's examples of running the test using `magma`'s python simulator, the `coreir` c++ simulator, and `verilator`."
   ]
  },
  {
   "cell_type": "code",
   "execution_count": 13,
   "metadata": {},
   "outputs": [
    {
     "name": "stderr",
     "output_type": "stream",
     "text": [
      "INFO:root:Running tester...\n",
      "INFO:root:Success!\n"
     ]
    }
   ],
   "source": [
    "tester.compile_and_run(\"python\")"
   ]
  },
  {
   "cell_type": "code",
   "execution_count": 14,
   "metadata": {},
   "outputs": [
    {
     "name": "stderr",
     "output_type": "stream",
     "text": [
      "INFO:root:Running tester...\n",
      "INFO:root:Success!\n"
     ]
    }
   ],
   "source": [
    "tester.compile_and_run(\"coreir\")"
   ]
  },
  {
   "cell_type": "code",
   "execution_count": 15,
   "metadata": {},
   "outputs": [
    {
     "name": "stderr",
     "output_type": "stream",
     "text": [
      "INFO:root:Running tester...\n",
      "INFO:root:Success!\n"
     ]
    }
   ],
   "source": [
    "# compile_and_run throws an exception if the test fails\n",
    "tester.compile_and_run(\"verilator\", magma_output=\"coreir-verilog\")"
   ]
  },
  {
   "cell_type": "markdown",
   "metadata": {},
   "source": [
    "### Testing using the Python Simulator"
   ]
  },
  {
   "cell_type": "markdown",
   "metadata": {},
   "source": [
    "Let's test our `FullAdder` circuit by comparing what it computes to the original python function. We do this by running a python circuit simulator and asserting that the values computed by the simulator are the same as the values computed by the python function."
   ]
  },
  {
   "cell_type": "code",
   "execution_count": 16,
   "metadata": {},
   "outputs": [
    {
     "name": "stdout",
     "output_type": "stream",
     "text": [
      "Success!\n"
     ]
    }
   ],
   "source": [
    "from magma.simulator import PythonSimulator\n",
    "\n",
    "fulladder_magma = PythonSimulator(FullAdder)\n",
    "\n",
    "assert fulladder_magma(1, 0, 0) == fulladder(1, 0, 0), \"Failed\"\n",
    "assert fulladder_magma(0, 1, 0) == fulladder(0, 1, 0), \"Failed\"\n",
    "assert fulladder_magma(1, 1, 0) == fulladder(1, 1, 0), \"Failed\"\n",
    "assert fulladder_magma(1, 0, 1) == fulladder(1, 0, 1), \"Failed\"\n",
    "assert fulladder_magma(1, 1, 1) == fulladder(1, 1, 1), \"Failed\"\n",
    "print(\"Success!\")"
   ]
  },
  {
   "cell_type": "markdown",
   "metadata": {},
   "source": [
    "Here is another way to run the simulator."
   ]
  },
  {
   "cell_type": "code",
   "execution_count": 17,
   "metadata": {},
   "outputs": [
    {
     "name": "stdout",
     "output_type": "stream",
     "text": [
      "Success!\n"
     ]
    }
   ],
   "source": [
    "fulladder_magma.set_value(FullAdder.I0, 1)\n",
    "fulladder_magma.set_value(FullAdder.I1, 1)\n",
    "fulladder_magma.set_value(FullAdder.CIN, 1)\n",
    "fulladder_magma.evaluate()\n",
    "assert fulladder_magma.get_value(FullAdder.O) == 1, \"Failed\"\n",
    "assert fulladder_magma.get_value(FullAdder.COUT) == 1, \"Failed\"\n",
    "print(\"Success!\")"
   ]
  },
  {
   "cell_type": "markdown",
   "metadata": {},
   "source": [
    "### Generate python"
   ]
  },
  {
   "cell_type": "code",
   "execution_count": 18,
   "metadata": {},
   "outputs": [
    {
     "name": "stdout",
     "output_type": "stream",
     "text": [
      "FullAdder = DefineCircuit(\"FullAdder\", \"I0\", In(Bit), \"I1\", In(Bit), \"CIN\", In(Bit), \"O\", Out(Bit), \"COUT\", Out(Bit))\n",
      "magma_Bit_and_inst0 = magma_Bit_and()\n",
      "magma_Bit_and_inst1 = magma_Bit_and()\n",
      "magma_Bit_and_inst2 = magma_Bit_and()\n",
      "magma_Bit_or_inst0 = magma_Bit_or()\n",
      "magma_Bit_or_inst1 = magma_Bit_or()\n",
      "magma_Bit_xor_inst0 = magma_Bit_xor()\n",
      "magma_Bit_xor_inst1 = magma_Bit_xor()\n",
      "wire(FullAdder.I0, magma_Bit_and_inst0.in0)\n",
      "wire(FullAdder.I1, magma_Bit_and_inst0.in1)\n",
      "wire(FullAdder.I1, magma_Bit_and_inst1.in0)\n",
      "wire(FullAdder.CIN, magma_Bit_and_inst1.in1)\n",
      "wire(FullAdder.CIN, magma_Bit_and_inst2.in0)\n",
      "wire(FullAdder.I0, magma_Bit_and_inst2.in1)\n",
      "wire(magma_Bit_and_inst0.out, magma_Bit_or_inst0.in0)\n",
      "wire(magma_Bit_and_inst1.out, magma_Bit_or_inst0.in1)\n",
      "wire(magma_Bit_or_inst0.out, magma_Bit_or_inst1.in0)\n",
      "wire(magma_Bit_and_inst2.out, magma_Bit_or_inst1.in1)\n",
      "wire(FullAdder.I0, magma_Bit_xor_inst0.in0)\n",
      "wire(FullAdder.I1, magma_Bit_xor_inst0.in1)\n",
      "wire(magma_Bit_xor_inst0.out, magma_Bit_xor_inst1.in0)\n",
      "wire(FullAdder.CIN, magma_Bit_xor_inst1.in1)\n",
      "wire(magma_Bit_xor_inst1.out, FullAdder.O)\n",
      "wire(magma_Bit_or_inst1.out, FullAdder.COUT)\n",
      "EndCircuit()\n",
      "\n"
     ]
    }
   ],
   "source": [
    "from magma.ir import compile\n",
    "print(compile(FullAdder))"
   ]
  },
  {
   "cell_type": "markdown",
   "metadata": {},
   "source": [
    "### Generate Verilog"
   ]
  },
  {
   "cell_type": "code",
   "execution_count": 19,
   "metadata": {},
   "outputs": [
    {
     "name": "stdout",
     "output_type": "stream",
     "text": [
      "module FullAdder (input  I0, input  I1, input  CIN, output  O, output  COUT);\r\n",
      "wire  magma_Bit_xor_inst0_out;\r\n",
      "wire  magma_Bit_xor_inst1_out;\r\n",
      "wire  magma_Bit_and_inst0_out;\r\n",
      "wire  magma_Bit_and_inst1_out;\r\n",
      "wire  magma_Bit_or_inst0_out;\r\n",
      "wire  magma_Bit_and_inst2_out;\r\n",
      "wire  magma_Bit_or_inst1_out;\r\n",
      "magma_Bit_xor magma_Bit_xor_inst0 (.I0(I0), .I1(I1), .O(magma_Bit_xor_inst0_out));\r\n",
      "magma_Bit_xor magma_Bit_xor_inst1 (.I0(magma_Bit_xor_inst0_out), .I1(CIN), .O(magma_Bit_xor_inst1_out));\r\n",
      "magma_Bit_and magma_Bit_and_inst0 (.I0(I0), .I1(I1), .O(magma_Bit_and_inst0_out));\r\n",
      "magma_Bit_and magma_Bit_and_inst1 (.I0(I1), .I1(CIN), .O(magma_Bit_and_inst1_out));\r\n",
      "magma_Bit_or magma_Bit_or_inst0 (.I0(magma_Bit_and_inst0_out), .I1(magma_Bit_and_inst1_out), .O(magma_Bit_or_inst0_out));\r\n",
      "magma_Bit_and magma_Bit_and_inst2 (.I0(CIN), .I1(I0), .O(magma_Bit_and_inst2_out));\r\n",
      "magma_Bit_or magma_Bit_or_inst1 (.I0(magma_Bit_or_inst0_out), .I1(magma_Bit_and_inst2_out), .O(magma_Bit_or_inst1_out));\r\n",
      "assign O = magma_Bit_xor_inst1_out;\r\n",
      "assign COUT = magma_Bit_or_inst1_out;\r\n",
      "endmodule\r\n",
      "\r\n"
     ]
    }
   ],
   "source": [
    "m.compile(\"build/FullAdder\", FullAdder, output=\"verilog\")\n",
    "%cat build/FullAdder.v"
   ]
  },
  {
   "cell_type": "markdown",
   "metadata": {},
   "source": [
    "Generate verilog with `coreir` modules included."
   ]
  },
  {
   "cell_type": "code",
   "execution_count": 20,
   "metadata": {},
   "outputs": [
    {
     "name": "stdout",
     "output_type": "stream",
     "text": [
      "module corebit_xor (\r\n",
      "    input in0,\r\n",
      "    input in1,\r\n",
      "    output out\r\n",
      ");\r\n",
      "  assign out = in0 ^ in1;\r\n",
      "endmodule\r\n",
      "\r\n",
      "module corebit_or (\r\n",
      "    input in0,\r\n",
      "    input in1,\r\n",
      "    output out\r\n",
      ");\r\n",
      "  assign out = in0 | in1;\r\n",
      "endmodule\r\n",
      "\r\n",
      "module corebit_and (\r\n",
      "    input in0,\r\n",
      "    input in1,\r\n",
      "    output out\r\n",
      ");\r\n",
      "  assign out = in0 & in1;\r\n",
      "endmodule\r\n",
      "\r\n",
      "module FullAdder (\r\n",
      "    input I0,\r\n",
      "    input I1,\r\n",
      "    input CIN,\r\n",
      "    output O,\r\n",
      "    output COUT\r\n",
      ");\r\n",
      "wire magma_Bit_and_inst0_out;\r\n",
      "wire magma_Bit_and_inst1_out;\r\n",
      "wire magma_Bit_and_inst2_out;\r\n",
      "wire magma_Bit_or_inst0_out;\r\n",
      "wire magma_Bit_or_inst1_out;\r\n",
      "wire magma_Bit_xor_inst0_out;\r\n",
      "wire magma_Bit_xor_inst1_out;\r\n",
      "corebit_and magma_Bit_and_inst0 (\r\n",
      "    .in0(I0),\r\n",
      "    .in1(I1),\r\n",
      "    .out(magma_Bit_and_inst0_out)\r\n",
      ");\r\n",
      "corebit_and magma_Bit_and_inst1 (\r\n",
      "    .in0(I1),\r\n",
      "    .in1(CIN),\r\n",
      "    .out(magma_Bit_and_inst1_out)\r\n",
      ");\r\n",
      "corebit_and magma_Bit_and_inst2 (\r\n",
      "    .in0(CIN),\r\n",
      "    .in1(I0),\r\n",
      "    .out(magma_Bit_and_inst2_out)\r\n",
      ");\r\n",
      "corebit_or magma_Bit_or_inst0 (\r\n",
      "    .in0(magma_Bit_and_inst0_out),\r\n",
      "    .in1(magma_Bit_and_inst1_out),\r\n",
      "    .out(magma_Bit_or_inst0_out)\r\n",
      ");\r\n",
      "corebit_or magma_Bit_or_inst1 (\r\n",
      "    .in0(magma_Bit_or_inst0_out),\r\n",
      "    .in1(magma_Bit_and_inst2_out),\r\n",
      "    .out(magma_Bit_or_inst1_out)\r\n",
      ");\r\n",
      "corebit_xor magma_Bit_xor_inst0 (\r\n",
      "    .in0(I0),\r\n",
      "    .in1(I1),\r\n",
      "    .out(magma_Bit_xor_inst0_out)\r\n",
      ");\r\n",
      "corebit_xor magma_Bit_xor_inst1 (\r\n",
      "    .in0(magma_Bit_xor_inst0_out),\r\n",
      "    .in1(CIN),\r\n",
      "    .out(magma_Bit_xor_inst1_out)\r\n",
      ");\r\n",
      "assign O = magma_Bit_xor_inst1_out;\r\n",
      "assign COUT = magma_Bit_or_inst1_out;\r\n",
      "endmodule\r\n",
      "\r\n"
     ]
    }
   ],
   "source": [
    "m.compile(\"build/FullAdder\", FullAdder, output=\"coreir-verilog\")\n",
    "%cat build/FullAdder.v"
   ]
  },
  {
   "cell_type": "markdown",
   "metadata": {},
   "source": [
    "### Generate CoreIR"
   ]
  },
  {
   "cell_type": "code",
   "execution_count": 21,
   "metadata": {},
   "outputs": [
    {
     "name": "stdout",
     "output_type": "stream",
     "text": [
      "{\"top\":\"global.FullAdder\",\r\n",
      "\"namespaces\":{\r\n",
      "  \"global\":{\r\n",
      "    \"modules\":{\r\n",
      "      \"FullAdder\":{\r\n",
      "        \"type\":[\"Record\",[\r\n",
      "          [\"I0\",\"BitIn\"],\r\n",
      "          [\"I1\",\"BitIn\"],\r\n",
      "          [\"CIN\",\"BitIn\"],\r\n",
      "          [\"O\",\"Bit\"],\r\n",
      "          [\"COUT\",\"Bit\"]\r\n",
      "        ]],\r\n",
      "        \"instances\":{\r\n",
      "          \"magma_Bit_and_inst0\":{\r\n",
      "            \"modref\":\"corebit.and\"\r\n",
      "          },\r\n",
      "          \"magma_Bit_and_inst1\":{\r\n",
      "            \"modref\":\"corebit.and\"\r\n",
      "          },\r\n",
      "          \"magma_Bit_and_inst2\":{\r\n",
      "            \"modref\":\"corebit.and\"\r\n",
      "          },\r\n",
      "          \"magma_Bit_or_inst0\":{\r\n",
      "            \"modref\":\"corebit.or\"\r\n",
      "          },\r\n",
      "          \"magma_Bit_or_inst1\":{\r\n",
      "            \"modref\":\"corebit.or\"\r\n",
      "          },\r\n",
      "          \"magma_Bit_xor_inst0\":{\r\n",
      "            \"modref\":\"corebit.xor\"\r\n",
      "          },\r\n",
      "          \"magma_Bit_xor_inst1\":{\r\n",
      "            \"modref\":\"corebit.xor\"\r\n",
      "          }\r\n",
      "        },\r\n",
      "        \"connections\":[\r\n",
      "          [\"self.I0\",\"magma_Bit_and_inst0.in0\"],\r\n",
      "          [\"self.I1\",\"magma_Bit_and_inst0.in1\"],\r\n",
      "          [\"magma_Bit_or_inst0.in0\",\"magma_Bit_and_inst0.out\"],\r\n",
      "          [\"self.I1\",\"magma_Bit_and_inst1.in0\"],\r\n",
      "          [\"self.CIN\",\"magma_Bit_and_inst1.in1\"],\r\n",
      "          [\"magma_Bit_or_inst0.in1\",\"magma_Bit_and_inst1.out\"],\r\n",
      "          [\"self.CIN\",\"magma_Bit_and_inst2.in0\"],\r\n",
      "          [\"self.I0\",\"magma_Bit_and_inst2.in1\"],\r\n",
      "          [\"magma_Bit_or_inst1.in1\",\"magma_Bit_and_inst2.out\"],\r\n",
      "          [\"magma_Bit_or_inst1.in0\",\"magma_Bit_or_inst0.out\"],\r\n",
      "          [\"self.COUT\",\"magma_Bit_or_inst1.out\"],\r\n",
      "          [\"self.I0\",\"magma_Bit_xor_inst0.in0\"],\r\n",
      "          [\"self.I1\",\"magma_Bit_xor_inst0.in1\"],\r\n",
      "          [\"magma_Bit_xor_inst1.in0\",\"magma_Bit_xor_inst0.out\"],\r\n",
      "          [\"self.CIN\",\"magma_Bit_xor_inst1.in1\"],\r\n",
      "          [\"self.O\",\"magma_Bit_xor_inst1.out\"]\r\n",
      "        ]\r\n",
      "      }\r\n",
      "    }\r\n",
      "  }\r\n",
      "}\r\n",
      "}\r\n"
     ]
    }
   ],
   "source": [
    "m.compile(\"build/FullAdder\", FullAdder, output=\"coreir\")\n",
    "%cat build/FullAdder.json"
   ]
  },
  {
   "cell_type": "code",
   "execution_count": 22,
   "metadata": {},
   "outputs": [
    {
     "name": "stdout",
     "output_type": "stream",
     "text": [
      "An instance count of all the primitives\r\n",
      "=======================================\r\n",
      "FullAdder | instances in current | instances in children | \r\n",
      "  corebit_and | 3 | 0\r\n",
      "  corebit_or | 2 | 0\r\n",
      "  corebit_xor | 2 | 0\r\n",
      "\r\n",
      "=======================================\r\n",
      "{\"top\":\"global.FullAdder\",\r\n",
      "\"namespaces\":{\r\n",
      "  \"global\":{\r\n",
      "    \"modules\":{\r\n",
      "      \"FullAdder\":{\r\n",
      "        \"type\":[\"Record\",[\r\n",
      "          [\"I0\",\"BitIn\"],\r\n",
      "          [\"I1\",\"BitIn\"],\r\n",
      "          [\"CIN\",\"BitIn\"],\r\n",
      "          [\"O\",\"Bit\"],\r\n",
      "          [\"COUT\",\"Bit\"]\r\n",
      "        ]],\r\n",
      "        \"instances\":{\r\n",
      "          \"magma_Bit_and_inst0\":{\r\n",
      "            \"modref\":\"corebit.and\"\r\n",
      "          },\r\n",
      "          \"magma_Bit_and_inst1\":{\r\n",
      "            \"modref\":\"corebit.and\"\r\n",
      "          },\r\n",
      "          \"magma_Bit_and_inst2\":{\r\n",
      "            \"modref\":\"corebit.and\"\r\n",
      "          },\r\n",
      "          \"magma_Bit_or_inst0\":{\r\n",
      "            \"modref\":\"corebit.or\"\r\n",
      "          },\r\n",
      "          \"magma_Bit_or_inst1\":{\r\n",
      "            \"modref\":\"corebit.or\"\r\n",
      "          },\r\n",
      "          \"magma_Bit_xor_inst0\":{\r\n",
      "            \"modref\":\"corebit.xor\"\r\n",
      "          },\r\n",
      "          \"magma_Bit_xor_inst1\":{\r\n",
      "            \"modref\":\"corebit.xor\"\r\n",
      "          }\r\n",
      "        },\r\n",
      "        \"connections\":[\r\n",
      "          [\"self.I0\",\"magma_Bit_and_inst0.in0\"],\r\n",
      "          [\"self.I1\",\"magma_Bit_and_inst0.in1\"],\r\n",
      "          [\"magma_Bit_or_inst0.in0\",\"magma_Bit_and_inst0.out\"],\r\n",
      "          [\"self.I1\",\"magma_Bit_and_inst1.in0\"],\r\n",
      "          [\"self.CIN\",\"magma_Bit_and_inst1.in1\"],\r\n",
      "          [\"magma_Bit_or_inst0.in1\",\"magma_Bit_and_inst1.out\"],\r\n",
      "          [\"self.CIN\",\"magma_Bit_and_inst2.in0\"],\r\n",
      "          [\"self.I0\",\"magma_Bit_and_inst2.in1\"],\r\n",
      "          [\"magma_Bit_or_inst1.in1\",\"magma_Bit_and_inst2.out\"],\r\n",
      "          [\"magma_Bit_or_inst1.in0\",\"magma_Bit_or_inst0.out\"],\r\n",
      "          [\"self.COUT\",\"magma_Bit_or_inst1.out\"],\r\n",
      "          [\"self.I0\",\"magma_Bit_xor_inst0.in0\"],\r\n",
      "          [\"self.I1\",\"magma_Bit_xor_inst0.in1\"],\r\n",
      "          [\"magma_Bit_xor_inst1.in0\",\"magma_Bit_xor_inst0.out\"],\r\n",
      "          [\"self.CIN\",\"magma_Bit_xor_inst1.in1\"],\r\n",
      "          [\"self.O\",\"magma_Bit_xor_inst1.out\"]\r\n",
      "        ]\r\n",
      "      }\r\n",
      "    }\r\n",
      "  }\r\n",
      "}\r\n",
      "}\r\n",
      "/Users/hanrahan/git/coreir/src/binary/coreir.cpp:238 Modified?: No\r\n"
     ]
    }
   ],
   "source": [
    "!coreir -i build/FullAdder.json -p instancecount"
   ]
  },
  {
   "cell_type": "code",
   "execution_count": null,
   "metadata": {},
   "outputs": [],
   "source": []
  }
 ],
 "metadata": {
  "kernelspec": {
   "display_name": "Python 3",
   "language": "python",
   "name": "python3"
  },
  "language_info": {
   "codemirror_mode": {
    "name": "ipython",
    "version": 3
   },
   "file_extension": ".py",
   "mimetype": "text/x-python",
   "name": "python",
   "nbconvert_exporter": "python",
   "pygments_lexer": "ipython3",
   "version": "3.7.6"
  }
 },
 "nbformat": 4,
 "nbformat_minor": 2
}
