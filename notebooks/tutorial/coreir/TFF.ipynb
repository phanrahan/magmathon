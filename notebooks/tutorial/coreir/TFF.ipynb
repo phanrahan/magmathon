{
 "cells": [
  {
   "cell_type": "markdown",
   "metadata": {},
   "source": [
    "## DFF and TFF (Toggle Flip-Flop)\n",
    "\n",
    "In this example we create a toggle flip-flop (TFF) from a d-flip-flop (DFF). In `Magma`, finite state machines can be constructed by composing combinational logic with flop-flops register primitives."
   ]
  },
  {
   "cell_type": "code",
   "execution_count": 1,
   "metadata": {},
   "outputs": [
    {
     "name": "stderr",
     "output_type": "stream",
     "text": [
      "\u001b[33mWARNING\u001b[0m:magma:'IO = [...]' syntax is deprecated, use 'io = IO(...)' syntax instead\u001b[0m\n",
      "\u001b[33mWARNING\u001b[0m:magma:'IO = [...]' syntax is deprecated, use 'io = IO(...)' syntax instead\u001b[0m\n",
      "\u001b[33mWARNING\u001b[0m:magma:'definition' class method syntax is deprecated, use inline definition syntax instead\u001b[0m\n",
      "\u001b[33mWARNING\u001b[0m:magma:'IO = [...]' syntax is deprecated, use 'io = IO(...)' syntax instead\u001b[0m\n",
      "\u001b[33mWARNING\u001b[0m:magma:'IO = [...]' syntax is deprecated, use 'io = IO(...)' syntax instead\u001b[0m\n",
      "\u001b[33mWARNING\u001b[0m:magma:'definition' class method syntax is deprecated, use inline definition syntax instead\u001b[0m\n",
      "\u001b[33mWARNING\u001b[0m:magma:'IO = [...]' syntax is deprecated, use 'io = IO(...)' syntax instead\u001b[0m\n",
      "\u001b[33mWARNING\u001b[0m:magma:'IO = [...]' syntax is deprecated, use 'io = IO(...)' syntax instead\u001b[0m\n",
      "\u001b[33mWARNING\u001b[0m:magma:'definition' class method syntax is deprecated, use inline definition syntax instead\u001b[0m\n",
      "\u001b[33mWARNING\u001b[0m:magma:'IO = [...]' syntax is deprecated, use 'io = IO(...)' syntax instead\u001b[0m\n",
      "\u001b[33mWARNING\u001b[0m:magma:'IO = [...]' syntax is deprecated, use 'io = IO(...)' syntax instead\u001b[0m\n",
      "\u001b[33mWARNING\u001b[0m:magma:'definition' class method syntax is deprecated, use inline definition syntax instead\u001b[0m\n",
      "\u001b[33mWARNING\u001b[0m:magma:'IO = [...]' syntax is deprecated, use 'io = IO(...)' syntax instead\u001b[0m\n",
      "\u001b[33mWARNING\u001b[0m:magma:'IO = [...]' syntax is deprecated, use 'io = IO(...)' syntax instead\u001b[0m\n",
      "\u001b[33mWARNING\u001b[0m:magma:'definition' class method syntax is deprecated, use inline definition syntax instead\u001b[0m\n",
      "\u001b[33mWARNING\u001b[0m:magma:'IO = [...]' syntax is deprecated, use 'io = IO(...)' syntax instead\u001b[0m\n",
      "\u001b[33mWARNING\u001b[0m:magma:'IO = [...]' syntax is deprecated, use 'io = IO(...)' syntax instead\u001b[0m\n"
     ]
    }
   ],
   "source": [
    "import magma as m\n",
    "from mantle import DFF"
   ]
  },
  {
   "cell_type": "code",
   "execution_count": 2,
   "metadata": {},
   "outputs": [
    {
     "name": "stderr",
     "output_type": "stream",
     "text": [
      "\u001b[33mWARNING\u001b[0m:magma:'IO = [...]' syntax is deprecated, use 'io = IO(...)' syntax instead\u001b[0m\n",
      "\u001b[33mWARNING\u001b[0m:magma:'definition' class method syntax is deprecated, use inline definition syntax instead\u001b[0m\n",
      "\u001b[33mWARNING\u001b[0m:magma:'IO = [...]' syntax is deprecated, use 'io = IO(...)' syntax instead\u001b[0m\n",
      "\u001b[33mWARNING\u001b[0m:magma:'IO = [...]' syntax is deprecated, use 'io = IO(...)' syntax instead\u001b[0m\n"
     ]
    }
   ],
   "source": [
    "class TFF(m.Circuit):\n",
    "    IO = ['O', m.Out(m.Bit)] + m.ClockInterface()\n",
    "    @classmethod\n",
    "    def definition(io):\n",
    "        # instance a dff to hold the state of the toggle flip-flop - this needs to be done first\n",
    "        dff = DFF()\n",
    "        # compute the next state as the not of the old state ff.O\n",
    "        io.O <= dff(~dff.O)\n",
    "        #m.wiredefaultclock(io, dff)\n",
    "        #m.wireclock(io, dff)\n",
    "        \n",
    "def tff():\n",
    "    return TFF()()"
   ]
  },
  {
   "cell_type": "markdown",
   "metadata": {},
   "source": [
    "Test using the python simulator."
   ]
  },
  {
   "cell_type": "code",
   "execution_count": 3,
   "metadata": {},
   "outputs": [
    {
     "name": "stdout",
     "output_type": "stream",
     "text": [
      "Success!\n"
     ]
    }
   ],
   "source": [
    "from magma.simulator import PythonSimulator\n",
    "\n",
    "sim = PythonSimulator(TFF, TFF.CLK)\n",
    "\n",
    "sim.evaluate()\n",
    "val = sim.get_value(TFF.O)\n",
    "assert val == False\n",
    "\n",
    "for i in range(10):\n",
    "    val = not val\n",
    "    \n",
    "    sim.advance() # toggle clock - now High\n",
    "    assert val == sim.get_value(TFF.O)\n",
    "\n",
    "    sim.advance() # toggle clock - now Low\n",
    "    assert val == sim.get_value(TFF.O)\n",
    "\n",
    "print(\"Success!\")"
   ]
  },
  {
   "cell_type": "markdown",
   "metadata": {},
   "source": [
    "### Generate Verilog"
   ]
  },
  {
   "cell_type": "code",
   "execution_count": 4,
   "metadata": {},
   "outputs": [
    {
     "name": "stdout",
     "output_type": "stream",
     "text": [
      "module DFF_init0_has_ceFalse_has_resetFalse_has_async_resetFalse (input  I, output  O, input  CLK);\r\n",
      "wire [0:0] reg_P_inst0_out;\r\n",
      "coreir_reg #(.init(0)) reg_P_inst0 (.I({I}), .CLK(CLK), .O(reg_P_inst0_out));\r\n",
      "assign O = reg_P_inst0_out[0];\r\n",
      "endmodule\r\n",
      "\r\n",
      "module TFF (output  O, input  CLK);\r\n",
      "wire  DFF_init0_has_ceFalse_has_resetFalse_has_async_resetFalse_inst0_O;\r\n",
      "wire  magma_Bit_not_inst0_out;\r\n",
      "DFF_init0_has_ceFalse_has_resetFalse_has_async_resetFalse DFF_init0_has_ceFalse_has_resetFalse_has_async_resetFalse_inst0 (.I(magma_Bit_not_inst0_out), .O(DFF_init0_has_ceFalse_has_resetFalse_has_async_resetFalse_inst0_O), .CLK(CLK));\r\n",
      "magma_Bit_not magma_Bit_not_inst0 (.I(DFF_init0_has_ceFalse_has_resetFalse_has_async_resetFalse_inst0_O), .O(magma_Bit_not_inst0_out));\r\n",
      "assign O = DFF_init0_has_ceFalse_has_resetFalse_has_async_resetFalse_inst0_O;\r\n",
      "endmodule\r\n",
      "\r\n"
     ]
    }
   ],
   "source": [
    "m.compile(\"build/TFF\", TFF, output=\"verilog\")\n",
    "%cat build/TFF.v"
   ]
  },
  {
   "cell_type": "markdown",
   "metadata": {},
   "source": [
    "Generate verilog with `coreir` modules included."
   ]
  },
  {
   "cell_type": "code",
   "execution_count": 5,
   "metadata": {},
   "outputs": [
    {
     "name": "stdout",
     "output_type": "stream",
     "text": [
      "module coreir_reg #(\r\n",
      "    parameter width = 1,\r\n",
      "    parameter clk_posedge = 1,\r\n",
      "    parameter init = 1\r\n",
      ") (\r\n",
      "    input clk,\r\n",
      "    input [width-1:0] in,\r\n",
      "    output [width-1:0] out\r\n",
      ");\r\n",
      "  reg [width-1:0] outReg=init;\r\n",
      "  wire real_clk;\r\n",
      "  assign real_clk = clk_posedge ? clk : ~clk;\r\n",
      "  always @(posedge real_clk) begin\r\n",
      "    outReg <= in;\r\n",
      "  end\r\n",
      "  assign out = outReg;\r\n",
      "endmodule\r\n",
      "\r\n",
      "module corebit_not (\r\n",
      "    input in,\r\n",
      "    output out\r\n",
      ");\r\n",
      "  assign out = ~in;\r\n",
      "endmodule\r\n",
      "\r\n",
      "module DFF_init0_has_ceFalse_has_resetFalse_has_async_resetFalse (\r\n",
      "    input I,\r\n",
      "    output O,\r\n",
      "    input CLK\r\n",
      ");\r\n",
      "wire [0:0] reg_P_inst0_out;\r\n",
      "coreir_reg #(\r\n",
      "    .clk_posedge(1'b1),\r\n",
      "    .init(1'h0),\r\n",
      "    .width(1)\r\n",
      ") reg_P_inst0 (\r\n",
      "    .clk(CLK),\r\n",
      "    .in(I),\r\n",
      "    .out(reg_P_inst0_out)\r\n",
      ");\r\n",
      "assign O = reg_P_inst0_out[0];\r\n",
      "endmodule\r\n",
      "\r\n",
      "module TFF (\r\n",
      "    output O,\r\n",
      "    input CLK\r\n",
      ");\r\n",
      "wire DFF_init0_has_ceFalse_has_resetFalse_has_async_resetFalse_inst0_O;\r\n",
      "wire magma_Bit_not_inst0_out;\r\n",
      "DFF_init0_has_ceFalse_has_resetFalse_has_async_resetFalse DFF_init0_has_ceFalse_has_resetFalse_has_async_resetFalse_inst0 (\r\n",
      "    .I(magma_Bit_not_inst0_out),\r\n",
      "    .O(DFF_init0_has_ceFalse_has_resetFalse_has_async_resetFalse_inst0_O),\r\n",
      "    .CLK(CLK)\r\n",
      ");\r\n",
      "corebit_not magma_Bit_not_inst0 (\r\n",
      "    .in(DFF_init0_has_ceFalse_has_resetFalse_has_async_resetFalse_inst0_O),\r\n",
      "    .out(magma_Bit_not_inst0_out)\r\n",
      ");\r\n",
      "assign O = DFF_init0_has_ceFalse_has_resetFalse_has_async_resetFalse_inst0_O;\r\n",
      "endmodule\r\n",
      "\r\n"
     ]
    }
   ],
   "source": [
    "m.compile(\"build/TFF\", TFF, output=\"coreir-verilog\")\n",
    "%cat build/TFF.v"
   ]
  },
  {
   "cell_type": "code",
   "execution_count": 6,
   "metadata": {},
   "outputs": [
    {
     "name": "stdout",
     "output_type": "stream",
     "text": [
      "{\"top\":\"global.TFF\",\r\n",
      "\"namespaces\":{\r\n",
      "  \"global\":{\r\n",
      "    \"modules\":{\r\n",
      "      \"DFF_init0_has_ceFalse_has_resetFalse_has_async_resetFalse\":{\r\n",
      "        \"type\":[\"Record\",[\r\n",
      "          [\"I\",\"BitIn\"],\r\n",
      "          [\"O\",\"Bit\"],\r\n",
      "          [\"CLK\",[\"Named\",\"coreir.clkIn\"]]\r\n",
      "        ]],\r\n",
      "        \"instances\":{\r\n",
      "          \"reg_P_inst0\":{\r\n",
      "            \"genref\":\"coreir.reg\",\r\n",
      "            \"genargs\":{\"width\":[\"Int\",1]},\r\n",
      "            \"modargs\":{\"clk_posedge\":[\"Bool\",true], \"init\":[[\"BitVector\",1],\"1'h0\"]}\r\n",
      "          }\r\n",
      "        },\r\n",
      "        \"connections\":[\r\n",
      "          [\"self.CLK\",\"reg_P_inst0.clk\"],\r\n",
      "          [\"self.I\",\"reg_P_inst0.in.0\"],\r\n",
      "          [\"self.O\",\"reg_P_inst0.out.0\"]\r\n",
      "        ]\r\n",
      "      },\r\n",
      "      \"TFF\":{\r\n",
      "        \"type\":[\"Record\",[\r\n",
      "          [\"O\",\"Bit\"],\r\n",
      "          [\"CLK\",[\"Named\",\"coreir.clkIn\"]]\r\n",
      "        ]],\r\n",
      "        \"instances\":{\r\n",
      "          \"DFF_init0_has_ceFalse_has_resetFalse_has_async_resetFalse_inst0\":{\r\n",
      "            \"modref\":\"global.DFF_init0_has_ceFalse_has_resetFalse_has_async_resetFalse\"\r\n",
      "          },\r\n",
      "          \"magma_Bit_not_inst0\":{\r\n",
      "            \"modref\":\"corebit.not\"\r\n",
      "          }\r\n",
      "        },\r\n",
      "        \"connections\":[\r\n",
      "          [\"self.CLK\",\"DFF_init0_has_ceFalse_has_resetFalse_has_async_resetFalse_inst0.CLK\"],\r\n",
      "          [\"magma_Bit_not_inst0.out\",\"DFF_init0_has_ceFalse_has_resetFalse_has_async_resetFalse_inst0.I\"],\r\n",
      "          [\"magma_Bit_not_inst0.in\",\"DFF_init0_has_ceFalse_has_resetFalse_has_async_resetFalse_inst0.O\"],\r\n",
      "          [\"self.O\",\"DFF_init0_has_ceFalse_has_resetFalse_has_async_resetFalse_inst0.O\"]\r\n",
      "        ]\r\n",
      "      }\r\n",
      "    }\r\n",
      "  }\r\n",
      "}\r\n",
      "}\r\n"
     ]
    }
   ],
   "source": [
    "m.compile(\"build/TFF\", TFF, output=\"coreir\")\n",
    "%cat build/TFF.json"
   ]
  },
  {
   "cell_type": "code",
   "execution_count": 7,
   "metadata": {},
   "outputs": [
    {
     "name": "stdout",
     "output_type": "stream",
     "text": [
      "/Users/leonardtruong/miniconda3/lib/python3.7/site-packages/pysmt/walkers/generic.py:43: DeprecationWarning: Using or importing the ABCs from 'collections' instead of from 'collections.abc' is deprecated, and in 3.8 it will stop working\n",
      "  if len(nodetypes) == 1 and isinstance(nodetypes[0], collections.Iterable):\n",
      "An instance count of all the primitives\n",
      "=======================================\n",
      "DFF_init0_has_ceFalse_has_resetFalse_has_async_resetFalse | instances in current | instances in children | \n",
      "  coreir_reg__width1 | 1 | 0\n",
      "\n",
      "TFF | instances in current | instances in children | \n",
      "  corebit_not | 1 | 0\n",
      "  coreir_reg__width1 | 0 | 1\n",
      "\n",
      "=======================================\n",
      "{\"top\":\"global.TFF\",\n",
      "\"namespaces\":{\n",
      "  \"global\":{\n",
      "    \"modules\":{\n",
      "      \"DFF_init0_has_ceFalse_has_resetFalse_has_async_resetFalse\":{\n",
      "        \"type\":[\"Record\",[\n",
      "          [\"I\",\"BitIn\"],\n",
      "          [\"O\",\"Bit\"],\n",
      "          [\"CLK\",[\"Named\",\"coreir.clkIn\"]]\n",
      "        ]],\n",
      "        \"instances\":{\n",
      "          \"reg_P_inst0\":{\n",
      "            \"genref\":\"coreir.reg\",\n",
      "            \"genargs\":{\"width\":[\"Int\",1]},\n",
      "            \"modargs\":{\"clk_posedge\":[\"Bool\",true], \"init\":[[\"BitVector\",1],\"1'h0\"]}\n",
      "          }\n",
      "        },\n",
      "        \"connections\":[\n",
      "          [\"self.CLK\",\"reg_P_inst0.clk\"],\n",
      "          [\"self.I\",\"reg_P_inst0.in.0\"],\n",
      "          [\"self.O\",\"reg_P_inst0.out.0\"]\n",
      "        ]\n",
      "      },\n",
      "      \"TFF\":{\n",
      "        \"type\":[\"Record\",[\n",
      "          [\"O\",\"Bit\"],\n",
      "          [\"CLK\",[\"Named\",\"coreir.clkIn\"]]\n",
      "        ]],\n",
      "        \"instances\":{\n",
      "          \"DFF_init0_has_ceFalse_has_resetFalse_has_async_resetFalse_inst0\":{\n",
      "            \"modref\":\"global.DFF_init0_has_ceFalse_has_resetFalse_has_async_resetFalse\"\n",
      "          },\n",
      "          \"magma_Bit_not_inst0\":{\n",
      "            \"modref\":\"corebit.not\"\n",
      "          }\n",
      "        },\n",
      "        \"connections\":[\n",
      "          [\"self.CLK\",\"DFF_init0_has_ceFalse_has_resetFalse_has_async_resetFalse_inst0.CLK\"],\n",
      "          [\"magma_Bit_not_inst0.out\",\"DFF_init0_has_ceFalse_has_resetFalse_has_async_resetFalse_inst0.I\"],\n",
      "          [\"magma_Bit_not_inst0.in\",\"DFF_init0_has_ceFalse_has_resetFalse_has_async_resetFalse_inst0.O\"],\n",
      "          [\"self.O\",\"DFF_init0_has_ceFalse_has_resetFalse_has_async_resetFalse_inst0.O\"]\n",
      "        ]\n",
      "      }\n",
      "    }\n",
      "  }\n",
      "}\n",
      "}\n",
      "/Users/leonardtruong/repos/coreir/src/binary/coreir.cpp:238 Modified?: No\n"
     ]
    }
   ],
   "source": [
    "!coreir -i build/TFF.json -p instancecount"
   ]
  },
  {
   "cell_type": "code",
   "execution_count": 8,
   "metadata": {},
   "outputs": [
    {
     "name": "stdout",
     "output_type": "stream",
     "text": [
      "TFF.O = False\n",
      "TFF.O = True\n",
      "TFF.O = False\n",
      "TFF.O = True\n",
      "TFF.O = False\n"
     ]
    }
   ],
   "source": [
    "from magma.simulator import PythonSimulator\n",
    "\n",
    "sim = PythonSimulator(TFF, TFF.CLK)\n",
    "for i in range(5):\n",
    "    sim.advance_cycle()\n",
    "    print(f\"TFF.O = {sim.get_value(TFF.O)}\")"
   ]
  },
  {
   "cell_type": "code",
   "execution_count": 9,
   "metadata": {},
   "outputs": [
    {
     "name": "stdout",
     "output_type": "stream",
     "text": [
      "TFF.O = False\n",
      "TFF.O = True\n",
      "TFF.O = False\n",
      "TFF.O = True\n",
      "TFF.O = False\n"
     ]
    }
   ],
   "source": [
    "from magma.simulator.coreir_simulator import CoreIRSimulator\n",
    "\n",
    "sim = PythonSimulator(TFF, TFF.CLK)\n",
    "for i in range(5):\n",
    "    sim.advance_cycle()\n",
    "    print(f\"TFF.O = {sim.get_value(TFF.O)}\")"
   ]
  },
  {
   "cell_type": "code",
   "execution_count": 10,
   "metadata": {},
   "outputs": [
    {
     "name": "stdout",
     "output_type": "stream",
     "text": [
      "\u001b[36m\u001b[1mRunning command: \u001b[0mverilator -Wall -Wno-INCABSPATH -Wno-DECLFILENAME --cc TFF.v --exe TFF_driver.cpp --top-module TFF\n",
      "\u001b[36m\u001b[1mRunning command: \u001b[0mverilator --version\n",
      "\u001b[35m\u001b[1m<STDOUT>\u001b[0m\n",
      "Verilator 4.016 2019-06-16 rev UNKNOWN_REV\n",
      "\u001b[35m\u001b[1m</STDOUT>\u001b[0m\n",
      "\u001b[36m\u001b[1mRunning command: \u001b[0mmake -C obj_dir -j -f VTFF.mk VTFF\n",
      "\u001b[35m\u001b[1m<STDOUT>\u001b[0m\n",
      "clang++  -I.  -MMD -I/usr/local/Cellar/verilator/4.016/share/verilator/include -I/usr/local/Cellar/verilator/4.016/share/verilator/include/vltstd -DVL_PRINTF=printf -DVM_COVERAGE=0 -DVM_SC=0 -DVM_TRACE=0 -faligned-new -fbracket-depth=4096 -Qunused-arguments -Wno-parentheses-equality -Wno-sign-compare -Wno-uninitialized -Wno-unused-parameter -Wno-unused-variable -Wno-shadow       -c -o TFF_driver.o ../TFF_driver.cpp\n",
      "/usr/bin/perl /usr/local/Cellar/verilator/4.016/share/verilator/bin/verilator_includer -DVL_INCLUDE_OPT=include VTFF.cpp > VTFF__ALLcls.cpp\n",
      "/usr/bin/perl /usr/local/Cellar/verilator/4.016/share/verilator/bin/verilator_includer -DVL_INCLUDE_OPT=include VTFF__Syms.cpp > VTFF__ALLsup.cpp\n",
      "clang++  -I.  -MMD -I/usr/local/Cellar/verilator/4.016/share/verilator/include -I/usr/local/Cellar/verilator/4.016/share/verilator/include/vltstd -DVL_PRINTF=printf -DVM_COVERAGE=0 -DVM_SC=0 -DVM_TRACE=0 -faligned-new -fbracket-depth=4096 -Qunused-arguments -Wno-parentheses-equality -Wno-sign-compare -Wno-uninitialized -Wno-unused-parameter -Wno-unused-variable -Wno-shadow       -c -o VTFF__ALLsup.o VTFF__ALLsup.cpp\n",
      "clang++  -I.  -MMD -I/usr/local/Cellar/verilator/4.016/share/verilator/include -I/usr/local/Cellar/verilator/4.016/share/verilator/include/vltstd -DVL_PRINTF=printf -DVM_COVERAGE=0 -DVM_SC=0 -DVM_TRACE=0 -faligned-new -fbracket-depth=4096 -Qunused-arguments -Wno-parentheses-equality -Wno-sign-compare -Wno-uninitialized -Wno-unused-parameter -Wno-unused-variable -Wno-shadow       -c -o VTFF__ALLcls.o VTFF__ALLcls.cpp\n",
      "      Archiving VTFF__ALL.a ...\n",
      "ar r VTFF__ALL.a VTFF__ALLcls.o VTFF__ALLsup.o\n",
      "ranlib VTFF__ALL.a\n",
      "clang++    TFF_driver.o verilated.o VTFF__ALL.a    -o VTFF -lm -lstdc++\n",
      "\u001b[35m\u001b[1m</STDOUT>\u001b[0m\n",
      "\u001b[36m\u001b[1mRunning command: \u001b[0m./obj_dir/VTFF\n",
      "\u001b[35m\u001b[1m<STDOUT>\u001b[0m\n",
      "TFF.O=1\n",
      "TFF.O=0\n",
      "TFF.O=1\n",
      "TFF.O=0\n",
      "TFF.O=1\n",
      "\u001b[35m\u001b[1m</STDOUT>\u001b[0m\n"
     ]
    }
   ],
   "source": [
    "import fault\n",
    "tester = fault.Tester(TFF, TFF.CLK)\n",
    "for i in range(5):\n",
    "    tester.step(2)\n",
    "    tester.print(\"TFF.O=%d\\n\", TFF.O)\n",
    "tester.compile_and_run(\"verilator\", disp_type='realtime')"
   ]
  },
  {
   "cell_type": "code",
   "execution_count": null,
   "metadata": {},
   "outputs": [],
   "source": []
  }
 ],
 "metadata": {
  "kernelspec": {
   "display_name": "Python 3",
   "language": "python",
   "name": "python3"
  },
  "language_info": {
   "codemirror_mode": {
    "name": "ipython",
    "version": 3
   },
   "file_extension": ".py",
   "mimetype": "text/x-python",
   "name": "python",
   "nbconvert_exporter": "python",
   "pygments_lexer": "ipython3",
   "version": "3.7.1"
  }
 },
 "nbformat": 4,
 "nbformat_minor": 2
}
