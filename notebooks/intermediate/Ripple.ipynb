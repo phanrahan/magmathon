{
 "cells": [
  {
   "cell_type": "markdown",
   "metadata": {},
   "source": [
    "## Ripple Counter from Toggle Flip-Flops\n",
    "\n",
    "In this example we create a ripple counter from toggle flip-flops. \n",
    "We also show how to define new `Magma` `Circuits`\n",
    "and introduce *generators*."
   ]
  },
  {
   "cell_type": "code",
   "execution_count": 1,
   "metadata": {},
   "outputs": [],
   "source": [
    "import magma as m"
   ]
  },
  {
   "cell_type": "markdown",
   "metadata": {},
   "source": [
    "In the last example, we defined a function that created a\n",
    "toggle flip-flop (TFF) from a DFF and an XOR gate.\n",
    "Let's convert the TFF to a `Circuit`. \n",
    "In `Magma` a `Circuit` is equivalent to a verilog *module*.\n",
    "Circuits can be instanced and then wired to other circuits.\n",
    "\n",
    "`m.ClockIO()` appends `Magma`'s standard clock interface ports to the interface. When no parameters are specified, this just adds the port `CLK` with type `In(Clock)`."
   ]
  },
  {
   "cell_type": "code",
   "execution_count": 2,
   "metadata": {},
   "outputs": [],
   "source": [
    "from mantle import DFF\n",
    "\n",
    "class TFF(m.Circuit):\n",
    "    io = m.IO(O=m.Out(m.Bit)) + m.ClockIO()\n",
    "\n",
    "    ff = DFF()\n",
    "    m.wire( ff(~ff.O), io.O )"
   ]
  },
  {
   "cell_type": "markdown",
   "metadata": {},
   "source": [
    "Let's inspect the interface to see the result of appending `m.ClockIO()`."
   ]
  },
  {
   "cell_type": "code",
   "execution_count": 3,
   "metadata": {},
   "outputs": [
    {
     "name": "stdout",
     "output_type": "stream",
     "text": [
      "TFF(O: Out(Bit), CLK: In(Clock))\n"
     ]
    }
   ],
   "source": [
    "print(TFF)"
   ]
  },
  {
   "cell_type": "markdown",
   "metadata": {},
   "source": [
    "Now we'll define a *generator* for our RippleCounter that accepts a single argument `width`. A *generator* in `magma` is a subclass of `m.Generator` that defines a static method `generate` which returns `Magma` Circuit."
   ]
  },
  {
   "cell_type": "code",
   "execution_count": 4,
   "metadata": {},
   "outputs": [],
   "source": [
    "class RippleCounter(m.Generator):\n",
    "    @staticmethod\n",
    "    def generate(width: int):\n",
    "        class _RippleCounter(m.Circuit):\n",
    "            name = f'Ripple{width}'\n",
    "            io = m.IO(O=m.Out(m.Bits[width])) + m.ClockIO()\n",
    "\n",
    "            tffs = [TFF(name=f\"tff{i}\") for i in range(width)]\n",
    "            O = io.CLK\n",
    "            for i in range(width):\n",
    "                m.wire(m.clock(O), tffs[i].CLK)\n",
    "                O = tffs[i].O\n",
    "                m.wire(O, io.O[i])\n",
    "        return _RippleCounter"
   ]
  },
  {
   "cell_type": "markdown",
   "metadata": {},
   "source": [
    "Now we can generate a 4-bit `RippleCounter` by calling the `generate` function directly."
   ]
  },
  {
   "cell_type": "code",
   "execution_count": 5,
   "metadata": {},
   "outputs": [
    {
     "name": "stdout",
     "output_type": "stream",
     "text": [
      "Ripple4 = DefineCircuit(\"Ripple4\", \"O\", Out(Bits[4]), \"CLK\", In(Clock))\n",
      "tff0 = TFF(name=\"tff0\")\n",
      "tff1 = TFF(name=\"tff1\")\n",
      "tff2 = TFF(name=\"tff2\")\n",
      "tff3 = TFF(name=\"tff3\")\n",
      "wire(Ripple4.CLK, tff0.CLK)\n",
      "wire(tff0.O, tff1.CLK)\n",
      "wire(tff1.O, tff2.CLK)\n",
      "wire(tff2.O, tff3.CLK)\n",
      "wire(tff0.O, Ripple4.O[0])\n",
      "wire(tff1.O, Ripple4.O[1])\n",
      "wire(tff2.O, Ripple4.O[2])\n",
      "wire(tff3.O, Ripple4.O[3])\n",
      "EndCircuit()\n"
     ]
    }
   ],
   "source": [
    "Ripple4 = RippleCounter.generate(4)\n",
    "print(repr(Ripple4))"
   ]
  },
  {
   "cell_type": "markdown",
   "metadata": {},
   "source": [
    "Let's test our circuit using fault.  Magma's Python simulator does not support asynchronous logic, so we'll use `verilator`."
   ]
  },
  {
   "cell_type": "code",
   "execution_count": 6,
   "metadata": {},
   "outputs": [
    {
     "name": "stdout",
     "output_type": "stream",
     "text": [
      "\u001b[36m\u001b[1mRunning command: \u001b[0mverilator -Wall -Wno-INCABSPATH -Wno-DECLFILENAME --cc Ripple4.v --exe Ripple4_driver.cpp --top-module Ripple4\n",
      "\u001b[36m\u001b[1mRunning command: \u001b[0mverilator --version\n",
      "\u001b[35m\u001b[1m<STDOUT>\u001b[0m\n",
      "Verilator 4.013 devel rev UNKNOWN_REV\n",
      "\u001b[35m\u001b[1m</STDOUT>\u001b[0m\n",
      "\u001b[36m\u001b[1mRunning command: \u001b[0mmake -C obj_dir -j -f VRipple4.mk VRipple4\n",
      "\u001b[35m\u001b[1m<STDOUT>\u001b[0m\n",
      "clang++  -I.  -MMD -I/usr/local/Cellar/verilator/HEAD-efa6f4c/share/verilator/include -I/usr/local/Cellar/verilator/HEAD-efa6f4c/share/verilator/include/vltstd -DVL_PRINTF=printf -DVM_COVERAGE=0 -DVM_SC=0 -DVM_TRACE=0 -faligned-new -fbracket-depth=4096 -Qunused-arguments -Wno-parentheses-equality -Wno-sign-compare -Wno-uninitialized -Wno-unused-parameter -Wno-unused-variable -Wno-shadow       -c -o Ripple4_driver.o ../Ripple4_driver.cpp\n",
      "clang++  -I.  -MMD -I/usr/local/Cellar/verilator/HEAD-efa6f4c/share/verilator/include -I/usr/local/Cellar/verilator/HEAD-efa6f4c/share/verilator/include/vltstd -DVL_PRINTF=printf -DVM_COVERAGE=0 -DVM_SC=0 -DVM_TRACE=0 -faligned-new -fbracket-depth=4096 -Qunused-arguments -Wno-parentheses-equality -Wno-sign-compare -Wno-uninitialized -Wno-unused-parameter -Wno-unused-variable -Wno-shadow       -c -o verilated.o /usr/local/Cellar/verilator/HEAD-efa6f4c/share/verilator/include/verilated.cpp\n",
      "/usr/bin/perl /usr/local/Cellar/verilator/HEAD-efa6f4c/share/verilator/bin/verilator_includer -DVL_INCLUDE_OPT=include VRipple4.cpp > VRipple4__ALLcls.cpp\n",
      "/usr/bin/perl /usr/local/Cellar/verilator/HEAD-efa6f4c/share/verilator/bin/verilator_includer -DVL_INCLUDE_OPT=include VRipple4__Syms.cpp > VRipple4__ALLsup.cpp\n",
      "clang++  -I.  -MMD -I/usr/local/Cellar/verilator/HEAD-efa6f4c/share/verilator/include -I/usr/local/Cellar/verilator/HEAD-efa6f4c/share/verilator/include/vltstd -DVL_PRINTF=printf -DVM_COVERAGE=0 -DVM_SC=0 -DVM_TRACE=0 -faligned-new -fbracket-depth=4096 -Qunused-arguments -Wno-parentheses-equality -Wno-sign-compare -Wno-uninitialized -Wno-unused-parameter -Wno-unused-variable -Wno-shadow       -c -o VRipple4__ALLcls.o VRipple4__ALLcls.cpp\n",
      "clang++  -I.  -MMD -I/usr/local/Cellar/verilator/HEAD-efa6f4c/share/verilator/include -I/usr/local/Cellar/verilator/HEAD-efa6f4c/share/verilator/include/vltstd -DVL_PRINTF=printf -DVM_COVERAGE=0 -DVM_SC=0 -DVM_TRACE=0 -faligned-new -fbracket-depth=4096 -Qunused-arguments -Wno-parentheses-equality -Wno-sign-compare -Wno-uninitialized -Wno-unused-parameter -Wno-unused-variable -Wno-shadow       -c -o VRipple4__ALLsup.o VRipple4__ALLsup.cpp\n",
      "      Archiving VRipple4__ALL.a ...\n",
      "ar r VRipple4__ALL.a VRipple4__ALLcls.o VRipple4__ALLsup.o\n",
      "ranlib VRipple4__ALL.a\n",
      "clang++    Ripple4_driver.o verilated.o VRipple4__ALL.a    -o VRipple4 -lm -lstdc++\n",
      "\u001b[35m\u001b[1m</STDOUT>\u001b[0m\n",
      "\u001b[35m\u001b[1m<STDERR>\u001b[0m\n",
      "ar: creating archive VRipple4__ALL.a\n",
      "\u001b[35m\u001b[1m</STDERR>\u001b[0m\n",
      "\u001b[36m\u001b[1mRunning command: \u001b[0m./obj_dir/VRipple4\n",
      "\u001b[35m\u001b[1m<STDOUT>\u001b[0m\n",
      "O=f\n",
      "O=e\n",
      "O=d\n",
      "O=c\n",
      "O=b\n",
      "O=a\n",
      "O=9\n",
      "O=8\n",
      "O=7\n",
      "O=6\n",
      "O=5\n",
      "O=4\n",
      "O=3\n",
      "O=2\n",
      "O=1\n",
      "O=0\n",
      "\u001b[35m\u001b[1m</STDOUT>\u001b[0m\n"
     ]
    }
   ],
   "source": [
    "import fault\n",
    "tester = fault.Tester(Ripple4, Ripple4.CLK)\n",
    "for i in range(1 << 4):\n",
    "    tester.step(2)\n",
    "    tester.print(\"O=%x\\n\", Ripple4.O)\n",
    "tester.compile_and_run(target=\"verilator\", disp_type=\"realtime\")"
   ]
  },
  {
   "cell_type": "markdown",
   "metadata": {},
   "source": [
    "We can also look at the generated verilog"
   ]
  },
  {
   "cell_type": "code",
   "execution_count": 7,
   "metadata": {},
   "outputs": [],
   "source": [
    "m.compile(\"build/ripple\", Ripple4, inline=True)"
   ]
  },
  {
   "cell_type": "code",
   "execution_count": 8,
   "metadata": {},
   "outputs": [
    {
     "name": "stdout",
     "output_type": "stream",
     "text": [
      "module coreir_wrap (\n",
      "    input in,\n",
      "    output out\n",
      ");\n",
      "  assign out = in;\n",
      "endmodule\n",
      "\n",
      "module coreir_reg #(\n",
      "    parameter width = 1,\n",
      "    parameter clk_posedge = 1,\n",
      "    parameter init = 1\n",
      ") (\n",
      "    input clk,\n",
      "    input [width-1:0] in,\n",
      "    output [width-1:0] out\n",
      ");\n",
      "  reg [width-1:0] outReg=init;\n",
      "  wire real_clk;\n",
      "  assign real_clk = clk_posedge ? clk : ~clk;\n",
      "  always @(posedge real_clk) begin\n",
      "    outReg <= in;\n",
      "  end\n",
      "  assign out = outReg;\n",
      "endmodule\n",
      "\n",
      "module DFF_init0_has_ceFalse_has_resetFalse_has_async_resetFalse (\n",
      "    input I,\n",
      "    output O,\n",
      "    input CLK\n",
      ");\n",
      "wire [0:0] reg_P_inst0_out;\n",
      "coreir_reg #(\n",
      "    .clk_posedge(1'b1),\n",
      "    .init(1'h0),\n",
      "    .width(1)\n",
      ") reg_P_inst0 (\n",
      "    .clk(CLK),\n",
      "    .in(I),\n",
      "    .out(reg_P_inst0_out)\n",
      ");\n",
      "assign O = reg_P_inst0_out[0];\n",
      "endmodule\n",
      "\n",
      "module TFF (\n",
      "    output O,\n",
      "    input CLK\n",
      ");\n",
      "DFF_init0_has_ceFalse_has_resetFalse_has_async_resetFalse DFF_init0_has_ceFalse_has_resetFalse_has_async_resetFalse_inst0 (\n",
      "    .I(~ O),\n",
      "    .O(O),\n",
      "    .CLK(CLK)\n",
      ");\n",
      "endmodule\n",
      "\n",
      "module Ripple4 (\n",
      "    output [3:0] O,\n",
      "    input CLK\n",
      ");\n",
      "wire coreir_wrapOutClock_inst0_out;\n",
      "wire coreir_wrapOutClock_inst1_out;\n",
      "wire coreir_wrapOutClock_inst2_out;\n",
      "wire tff0_O;\n",
      "wire tff1_O;\n",
      "wire tff2_O;\n",
      "wire tff3_O;\n",
      "coreir_wrap coreir_wrapOutClock_inst0 (\n",
      "    .in(tff0_O),\n",
      "    .out(coreir_wrapOutClock_inst0_out)\n",
      ");\n",
      "coreir_wrap coreir_wrapOutClock_inst1 (\n",
      "    .in(tff1_O),\n",
      "    .out(coreir_wrapOutClock_inst1_out)\n",
      ");\n",
      "coreir_wrap coreir_wrapOutClock_inst2 (\n",
      "    .in(tff2_O),\n",
      "    .out(coreir_wrapOutClock_inst2_out)\n",
      ");\n",
      "TFF tff0 (\n",
      "    .O(tff0_O),\n",
      "    .CLK(CLK)\n",
      ");\n",
      "TFF tff1 (\n",
      "    .O(tff1_O),\n",
      "    .CLK(coreir_wrapOutClock_inst0_out)\n",
      ");\n",
      "TFF tff2 (\n",
      "    .O(tff2_O),\n",
      "    .CLK(coreir_wrapOutClock_inst1_out)\n",
      ");\n",
      "TFF tff3 (\n",
      "    .O(tff3_O),\n",
      "    .CLK(coreir_wrapOutClock_inst2_out)\n",
      ");\n",
      "assign O = {tff3_O,tff2_O,tff1_O,tff0_O};\n",
      "endmodule\n",
      "\n"
     ]
    }
   ],
   "source": [
    "%%bash\n",
    "cat build/ripple.v"
   ]
  },
  {
   "cell_type": "code",
   "execution_count": null,
   "metadata": {},
   "outputs": [],
   "source": []
  }
 ],
 "metadata": {
  "kernelspec": {
   "display_name": "Python 3",
   "language": "python",
   "name": "python3"
  },
  "language_info": {
   "codemirror_mode": {
    "name": "ipython",
    "version": 3
   },
   "file_extension": ".py",
   "mimetype": "text/x-python",
   "name": "python",
   "nbconvert_exporter": "python",
   "pygments_lexer": "ipython3",
   "version": "3.7.2"
  }
 },
 "nbformat": 4,
 "nbformat_minor": 2
}
