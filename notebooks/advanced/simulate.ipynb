{
 "cells": [
  {
   "cell_type": "markdown",
   "metadata": {},
   "source": [
    "# Magma Simulator"
   ]
  },
  {
   "cell_type": "code",
   "execution_count": 1,
   "metadata": {},
   "outputs": [],
   "source": [
    "import magma as m\n",
    "import mantle"
   ]
  },
  {
   "cell_type": "markdown",
   "metadata": {},
   "source": [
    "## Simulating Combinational Circuits\n",
    "\n",
    "Create a 2-input multiplexor."
   ]
  },
  {
   "cell_type": "code",
   "execution_count": 2,
   "metadata": {},
   "outputs": [
    {
     "name": "stdout",
     "output_type": "stream",
     "text": [
      "Mux2xNone(I0: In(Bit), I1: In(Bit), S: In(Bit), O: Out(Bit))\n"
     ]
    }
   ],
   "source": [
    "Mux2 = mantle.Mux2\n",
    "print(Mux2)"
   ]
  },
  {
   "cell_type": "code",
   "execution_count": 3,
   "metadata": {},
   "outputs": [
    {
     "ename": "AssertionError",
     "evalue": "Failed to collapse bit AnonymousValue_4842986520",
     "output_type": "error",
     "traceback": [
      "\u001b[0;31m---------------------------------------------------------------------------\u001b[0m",
      "\u001b[0;31mAssertionError\u001b[0m                            Traceback (most recent call last)",
      "\u001b[0;32m<ipython-input-3-cb40f3a9ae00>\u001b[0m in \u001b[0;36m<module>\u001b[0;34m\u001b[0m\n\u001b[1;32m      1\u001b[0m \u001b[0;32mfrom\u001b[0m \u001b[0mmagma\u001b[0m\u001b[0;34m.\u001b[0m\u001b[0msimulator\u001b[0m \u001b[0;32mimport\u001b[0m \u001b[0mPythonSimulator\u001b[0m\u001b[0;34m\u001b[0m\u001b[0;34m\u001b[0m\u001b[0m\n\u001b[1;32m      2\u001b[0m \u001b[0;34m\u001b[0m\u001b[0m\n\u001b[0;32m----> 3\u001b[0;31m \u001b[0msimulator\u001b[0m \u001b[0;34m=\u001b[0m \u001b[0mPythonSimulator\u001b[0m\u001b[0;34m(\u001b[0m\u001b[0mMux2\u001b[0m\u001b[0;34m)\u001b[0m\u001b[0;34m\u001b[0m\u001b[0;34m\u001b[0m\u001b[0m\n\u001b[0m\u001b[1;32m      4\u001b[0m \u001b[0;34m\u001b[0m\u001b[0m\n\u001b[1;32m      5\u001b[0m \u001b[0mprint\u001b[0m\u001b[0;34m(\u001b[0m\u001b[0;34m'I0 I1 S O'\u001b[0m\u001b[0;34m)\u001b[0m\u001b[0;34m\u001b[0m\u001b[0;34m\u001b[0m\u001b[0m\n",
      "\u001b[0;32m~/git/magma/magma/simulator/python_simulator.py\u001b[0m in \u001b[0;36m__init__\u001b[0;34m(self, main_circuit, clock)\u001b[0m\n\u001b[1;32m    266\u001b[0m         \u001b[0msetup_clocks\u001b[0m\u001b[0;34m(\u001b[0m\u001b[0mmain_circuit\u001b[0m\u001b[0;34m)\u001b[0m\u001b[0;34m\u001b[0m\u001b[0;34m\u001b[0m\u001b[0m\n\u001b[1;32m    267\u001b[0m         \u001b[0mself\u001b[0m\u001b[0;34m.\u001b[0m\u001b[0mmain_circuit\u001b[0m \u001b[0;34m=\u001b[0m \u001b[0mmain_circuit\u001b[0m\u001b[0;34m\u001b[0m\u001b[0;34m\u001b[0m\u001b[0m\n\u001b[0;32m--> 268\u001b[0;31m         \u001b[0mself\u001b[0m\u001b[0;34m.\u001b[0m\u001b[0mtxfm\u001b[0m \u001b[0;34m=\u001b[0m \u001b[0mflatten\u001b[0m\u001b[0;34m(\u001b[0m\u001b[0mmain_circuit\u001b[0m\u001b[0;34m)\u001b[0m\u001b[0;34m\u001b[0m\u001b[0;34m\u001b[0m\u001b[0m\n\u001b[0m\u001b[1;32m    269\u001b[0m         \u001b[0mself\u001b[0m\u001b[0;34m.\u001b[0m\u001b[0mcircuit\u001b[0m \u001b[0;34m=\u001b[0m \u001b[0mself\u001b[0m\u001b[0;34m.\u001b[0m\u001b[0mtxfm\u001b[0m\u001b[0;34m.\u001b[0m\u001b[0mcircuit\u001b[0m\u001b[0;34m\u001b[0m\u001b[0;34m\u001b[0m\u001b[0m\n\u001b[1;32m    270\u001b[0m         \u001b[0mself\u001b[0m\u001b[0;34m.\u001b[0m\u001b[0mvalue_store\u001b[0m \u001b[0;34m=\u001b[0m \u001b[0mValueStore\u001b[0m\u001b[0;34m(\u001b[0m\u001b[0;34m)\u001b[0m\u001b[0;34m\u001b[0m\u001b[0;34m\u001b[0m\u001b[0m\n",
      "\u001b[0;32m~/git/magma/magma/transforms.py\u001b[0m in \u001b[0;36mflatten\u001b[0;34m(circuit)\u001b[0m\n\u001b[1;32m    205\u001b[0m             \u001b[0;32mif\u001b[0m \u001b[0morigbit\u001b[0m\u001b[0;34m.\u001b[0m\u001b[0misinput\u001b[0m\u001b[0;34m(\u001b[0m\u001b[0;34m)\u001b[0m\u001b[0;34m:\u001b[0m\u001b[0;34m\u001b[0m\u001b[0;34m\u001b[0m\u001b[0m\n\u001b[1;32m    206\u001b[0m                 \u001b[0mnewbit\u001b[0m \u001b[0;34m=\u001b[0m \u001b[0mnew_inst\u001b[0m\u001b[0;34m.\u001b[0m\u001b[0minterface\u001b[0m\u001b[0;34m.\u001b[0m\u001b[0mports\u001b[0m\u001b[0;34m[\u001b[0m\u001b[0mname\u001b[0m\u001b[0;34m]\u001b[0m\u001b[0;34m\u001b[0m\u001b[0;34m\u001b[0m\u001b[0m\n\u001b[0;32m--> 207\u001b[0;31m                 \u001b[0mwire_new_bit\u001b[0m\u001b[0;34m(\u001b[0m\u001b[0morigbit\u001b[0m\u001b[0;34m,\u001b[0m \u001b[0mnewbit\u001b[0m\u001b[0;34m,\u001b[0m \u001b[0mqual_inst\u001b[0m\u001b[0;34m.\u001b[0m\u001b[0mscope\u001b[0m\u001b[0;34m,\u001b[0m \u001b[0mprimitive_map\u001b[0m\u001b[0;34m,\u001b[0m \u001b[0mbit_map\u001b[0m\u001b[0;34m,\u001b[0m \u001b[0mcircuit\u001b[0m\u001b[0;34m,\u001b[0m \u001b[0mflattened_circuit\u001b[0m\u001b[0;34m)\u001b[0m\u001b[0;34m\u001b[0m\u001b[0;34m\u001b[0m\u001b[0m\n\u001b[0m\u001b[1;32m    208\u001b[0m \u001b[0;34m\u001b[0m\u001b[0m\n\u001b[1;32m    209\u001b[0m     \u001b[0;31m# Finally, wire up the circuit outputs\u001b[0m\u001b[0;34m\u001b[0m\u001b[0;34m\u001b[0m\u001b[0;34m\u001b[0m\u001b[0m\n",
      "\u001b[0;32m~/git/magma/magma/transforms.py\u001b[0m in \u001b[0;36mwire_new_bit\u001b[0;34m(origbit, newbit, cur_scope, primitive_map, bit_map, old_circuit, flattened_circuit)\u001b[0m\n\u001b[1;32m    176\u001b[0m         \u001b[0mcollapsed_in_bits\u001b[0m\u001b[0;34m.\u001b[0m\u001b[0mappend\u001b[0m\u001b[0;34m(\u001b[0m\u001b[0mintermediate_in\u001b[0m\u001b[0;34m)\u001b[0m\u001b[0;34m\u001b[0m\u001b[0;34m\u001b[0m\u001b[0m\n\u001b[1;32m    177\u001b[0m \u001b[0;34m\u001b[0m\u001b[0m\n\u001b[0;32m--> 178\u001b[0;31m     \u001b[0mnewsource\u001b[0m \u001b[0;34m=\u001b[0m \u001b[0mget_new_source\u001b[0m\u001b[0;34m(\u001b[0m\u001b[0msource_qual\u001b[0m\u001b[0;34m,\u001b[0m \u001b[0mprimitive_map\u001b[0m\u001b[0;34m,\u001b[0m \u001b[0mold_circuit\u001b[0m\u001b[0;34m,\u001b[0m \u001b[0mnew_circuit\u001b[0m\u001b[0;34m)\u001b[0m\u001b[0;34m\u001b[0m\u001b[0;34m\u001b[0m\u001b[0m\n\u001b[0m\u001b[1;32m    179\u001b[0m     \u001b[0mwire\u001b[0m\u001b[0;34m(\u001b[0m\u001b[0mnewsource\u001b[0m\u001b[0;34m,\u001b[0m \u001b[0mnewbit\u001b[0m\u001b[0;34m)\u001b[0m\u001b[0;34m\u001b[0m\u001b[0;34m\u001b[0m\u001b[0m\n\u001b[1;32m    180\u001b[0m \u001b[0;34m\u001b[0m\u001b[0m\n",
      "\u001b[0;32m~/git/magma/magma/transforms.py\u001b[0m in \u001b[0;36mget_new_source\u001b[0;34m(source_qual, primitive_map, old_circuit, new_circuit)\u001b[0m\n\u001b[1;32m    137\u001b[0m         \u001b[0;32mreturn\u001b[0m \u001b[0marray\u001b[0m\u001b[0;34m(\u001b[0m\u001b[0mnew_source_array\u001b[0m\u001b[0;34m)\u001b[0m\u001b[0;34m\u001b[0m\u001b[0;34m\u001b[0m\u001b[0m\n\u001b[1;32m    138\u001b[0m     \u001b[0;32melse\u001b[0m\u001b[0;34m:\u001b[0m\u001b[0;34m\u001b[0m\u001b[0;34m\u001b[0m\u001b[0m\n\u001b[0;32m--> 139\u001b[0;31m         \u001b[0;32massert\u001b[0m \u001b[0;32mFalse\u001b[0m\u001b[0;34m,\u001b[0m \u001b[0;34mf\"Failed to collapse bit {bitref}\"\u001b[0m\u001b[0;34m\u001b[0m\u001b[0;34m\u001b[0m\u001b[0m\n\u001b[0m\u001b[1;32m    140\u001b[0m \u001b[0;34m\u001b[0m\u001b[0m\n\u001b[1;32m    141\u001b[0m     \u001b[0;32mif\u001b[0m \u001b[0midxs\u001b[0m\u001b[0;34m:\u001b[0m\u001b[0;34m\u001b[0m\u001b[0;34m\u001b[0m\u001b[0m\n",
      "\u001b[0;31mAssertionError\u001b[0m: Failed to collapse bit AnonymousValue_4842986520"
     ]
    }
   ],
   "source": [
    "from magma.simulator import PythonSimulator\n",
    "\n",
    "simulator = PythonSimulator(Mux2)\n",
    "\n",
    "print('I0 I1 S O')\n",
    "for i0 in [0,1]:\n",
    "    for i1 in [0,1]:\n",
    "        for s in [0,1]:\n",
    "            simulator.set_value(Mux2.I, m.bits([i0, i1]))\n",
    "            simulator.set_value(Mux2.S, s)\n",
    "            simulator.evaluate()\n",
    "            print(i0, i1, s, int(simulator.get_value(Mux2.O)))"
   ]
  },
  {
   "cell_type": "markdown",
   "metadata": {},
   "source": [
    "## Simulating Sequential Logic Circuits with Clocks\n",
    "\n",
    "Create a 2-bit Counter."
   ]
  },
  {
   "cell_type": "code",
   "execution_count": null,
   "metadata": {},
   "outputs": [],
   "source": [
    "Counter = mantle.DefineCounter(2)\n",
    "\n",
    "print(Counter)"
   ]
  },
  {
   "cell_type": "markdown",
   "metadata": {},
   "source": [
    "Create a python simulator for the ice40."
   ]
  },
  {
   "cell_type": "code",
   "execution_count": null,
   "metadata": {},
   "outputs": [],
   "source": [
    "from magma.simulator import PythonSimulator\n",
    "from bit_vector import BitVector\n",
    "\n",
    "simulator = PythonSimulator(Counter, clock=Counter.CLK)\n",
    "O0 = []\n",
    "O1 = []\n",
    "COUT = []\n",
    "for i in range(16):\n",
    "    for j in range(2):\n",
    "        simulator.advance()\n",
    "        O = BitVector(simulator.get_value(Counter.O), 2)\n",
    "        O0.append(O[0])\n",
    "        O1.append(O[1])\n",
    "        COUT.append(simulator.get_value(Counter.COUT))"
   ]
  },
  {
   "cell_type": "markdown",
   "metadata": {},
   "source": [
    "Use `matplotlib` to plot the output of the simulator."
   ]
  },
  {
   "cell_type": "code",
   "execution_count": null,
   "metadata": {},
   "outputs": [],
   "source": [
    "import matplotlib.pyplot as plt\n",
    "import numpy as np\n",
    "\n",
    "n = len(O1)//2\n",
    "t = np.repeat(0.5*np.arange(2*n+1),2)[1:-1]\n",
    "clock = np.tile(np.array([1,1,0,0]),n)\n",
    "\n",
    "O0 = np.repeat(np.array(O0),2)\n",
    "O1 = np.repeat(np.array(O1),2)\n",
    "COUT = np.repeat(np.array(COUT),2)\n",
    "\n",
    "\n",
    "plt.text(-1.5, 3.25, 'clock')\n",
    "plt.plot(t, 0.5*clock+3, 'r', linewidth = 2)\n",
    "plt.text(-1.5, 2.25, 'O[0]')\n",
    "plt.plot(t, 0.5*O0+2,    'r', linewidth = 2)\n",
    "plt.text(-1.5, 1.25, 'O[1]')\n",
    "plt.plot(t, 0.5*O1+1,    'r', linewidth = 2)\n",
    "plt.text(-1.5, 0.25, 'COUT')\n",
    "plt.plot(t, 0.5*COUT,    'r', linewidth = 2)\n",
    "plt.xlim([0,n])\n",
    "plt.ylim([0,4])\n",
    "\n",
    "plt.gca().axis('off')\n",
    "plt.show()"
   ]
  }
 ],
 "metadata": {
  "kernelspec": {
   "display_name": "Python 3",
   "language": "python",
   "name": "python3"
  },
  "language_info": {
   "codemirror_mode": {
    "name": "ipython",
    "version": 3
   },
   "file_extension": ".py",
   "mimetype": "text/x-python",
   "name": "python",
   "nbconvert_exporter": "python",
   "pygments_lexer": "ipython3",
   "version": "3.7.2"
  }
 },
 "nbformat": 4,
 "nbformat_minor": 2
}
