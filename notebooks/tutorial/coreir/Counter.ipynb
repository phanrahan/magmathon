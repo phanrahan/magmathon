{
 "cells": [
  {
   "cell_type": "markdown",
   "metadata": {},
   "source": [
    "## Counter"
   ]
  },
  {
   "cell_type": "markdown",
   "metadata": {},
   "source": [
    "To implement a counter we can use the `Register` primitive and the `+` operator. How can we make a more general counter of arbitray width?"
   ]
  },
  {
   "cell_type": "code",
   "execution_count": 1,
   "metadata": {
    "scrolled": true
   },
   "outputs": [
    {
     "name": "stderr",
     "output_type": "stream",
     "text": [
      "\u001b[33mWARNING\u001b[0m:magma:'IO = [...]' syntax is deprecated, use 'io = IO(...)' syntax instead\u001b[0m\n",
      "\u001b[33mWARNING\u001b[0m:magma:'IO = [...]' syntax is deprecated, use 'io = IO(...)' syntax instead\u001b[0m\n",
      "\u001b[33mWARNING\u001b[0m:magma:'definition' class method syntax is deprecated, use inline definition syntax instead\u001b[0m\n",
      "\u001b[33mWARNING\u001b[0m:magma:'IO = [...]' syntax is deprecated, use 'io = IO(...)' syntax instead\u001b[0m\n",
      "\u001b[33mWARNING\u001b[0m:magma:'IO = [...]' syntax is deprecated, use 'io = IO(...)' syntax instead\u001b[0m\n",
      "\u001b[33mWARNING\u001b[0m:magma:'definition' class method syntax is deprecated, use inline definition syntax instead\u001b[0m\n",
      "\u001b[33mWARNING\u001b[0m:magma:'IO = [...]' syntax is deprecated, use 'io = IO(...)' syntax instead\u001b[0m\n",
      "\u001b[33mWARNING\u001b[0m:magma:'IO = [...]' syntax is deprecated, use 'io = IO(...)' syntax instead\u001b[0m\n",
      "\u001b[33mWARNING\u001b[0m:magma:'definition' class method syntax is deprecated, use inline definition syntax instead\u001b[0m\n",
      "\u001b[33mWARNING\u001b[0m:magma:'IO = [...]' syntax is deprecated, use 'io = IO(...)' syntax instead\u001b[0m\n",
      "\u001b[33mWARNING\u001b[0m:magma:'IO = [...]' syntax is deprecated, use 'io = IO(...)' syntax instead\u001b[0m\n",
      "\u001b[33mWARNING\u001b[0m:magma:'definition' class method syntax is deprecated, use inline definition syntax instead\u001b[0m\n",
      "\u001b[33mWARNING\u001b[0m:magma:'IO = [...]' syntax is deprecated, use 'io = IO(...)' syntax instead\u001b[0m\n",
      "\u001b[33mWARNING\u001b[0m:magma:'IO = [...]' syntax is deprecated, use 'io = IO(...)' syntax instead\u001b[0m\n",
      "\u001b[33mWARNING\u001b[0m:magma:'definition' class method syntax is deprecated, use inline definition syntax instead\u001b[0m\n",
      "\u001b[33mWARNING\u001b[0m:magma:'IO = [...]' syntax is deprecated, use 'io = IO(...)' syntax instead\u001b[0m\n",
      "\u001b[33mWARNING\u001b[0m:magma:'IO = [...]' syntax is deprecated, use 'io = IO(...)' syntax instead\u001b[0m\n"
     ]
    }
   ],
   "source": [
    "import magma as m\n",
    "from mantle import Register"
   ]
  },
  {
   "cell_type": "markdown",
   "metadata": {},
   "source": [
    "The generator for a counter is parameterized by the number of bits in the counter, `n`."
   ]
  },
  {
   "cell_type": "code",
   "execution_count": 2,
   "metadata": {},
   "outputs": [],
   "source": [
    "def DefineCounter(n):\n",
    "    class _Counter(m.Circuit):\n",
    "        name = f'Counter{n}'\n",
    "        IO = [\"O\", m.Out(m.UInt[n])] + m.ClockInterface()\n",
    "        @classmethod\n",
    "        def definition(io):\n",
    "            reg = Register(n, _type=m.UInt)\n",
    "            io.O <= reg(reg.O + 1)\n",
    "    return _Counter"
   ]
  },
  {
   "cell_type": "markdown",
   "metadata": {},
   "source": [
    "Sinulate the counter."
   ]
  },
  {
   "cell_type": "code",
   "execution_count": 3,
   "metadata": {},
   "outputs": [
    {
     "name": "stderr",
     "output_type": "stream",
     "text": [
      "\u001b[33mWARNING\u001b[0m:magma:'IO = [...]' syntax is deprecated, use 'io = IO(...)' syntax instead\u001b[0m\n",
      "\u001b[33mWARNING\u001b[0m:magma:'definition' class method syntax is deprecated, use inline definition syntax instead\u001b[0m\n",
      "\u001b[33mWARNING\u001b[0m:magma:'IO = [...]' syntax is deprecated, use 'io = IO(...)' syntax instead\u001b[0m\n",
      "\u001b[33mWARNING\u001b[0m:magma:'IO = [...]' syntax is deprecated, use 'io = IO(...)' syntax instead\u001b[0m\n"
     ]
    },
    {
     "name": "stdout",
     "output_type": "stream",
     "text": [
      "0\n",
      "1\n",
      "2\n",
      "3\n",
      "4\n",
      "5\n",
      "6\n",
      "7\n",
      "8\n",
      "9\n",
      "10\n",
      "Success!\n"
     ]
    }
   ],
   "source": [
    "from magma.simulator import PythonSimulator\n",
    "\n",
    "Counter4 = DefineCounter(4)\n",
    "sim = PythonSimulator(Counter4, Counter4.CLK)\n",
    "\n",
    "sim.evaluate()\n",
    "val = sim.get_value(Counter4.O)\n",
    "print(sim.get_value(Counter4.O))\n",
    "assert val == 0\n",
    "\n",
    "for i in range(1,11): \n",
    "    sim.advance() # toggle clock - now High\n",
    "    assert i == sim.get_value(Counter4.O)\n",
    "    print(sim.get_value(Counter4.O))\n",
    "\n",
    "    sim.advance() # toggle clock - now Low\n",
    "    assert i == sim.get_value(Counter4.O)\n",
    "\n",
    "print(\"Success!\")"
   ]
  },
  {
   "cell_type": "code",
   "execution_count": 4,
   "metadata": {},
   "outputs": [
    {
     "name": "stdout",
     "output_type": "stream",
     "text": [
      "/Users/leonardtruong/miniconda3/lib/python3.7/site-packages/pysmt/walkers/generic.py:43: DeprecationWarning: Using or importing the ABCs from 'collections' instead of from 'collections.abc' is deprecated, and in 3.8 it will stop working\n",
      "  if len(nodetypes) == 1 and isinstance(nodetypes[0], collections.Iterable):\n",
      "An instance count of all the primitives\n",
      "=======================================\n",
      "Counter4 | instances in current | instances in children | \n",
      "  coreir_add__width4 | 1 | 0\n",
      "  coreir_const__width4 | 1 | 0\n",
      "  coreir_reg__width4 | 1 | 0\n",
      "\n",
      "=======================================\n",
      "{\"top\":\"global.Counter4\",\n",
      "\"namespaces\":{\n",
      "  \"global\":{\n",
      "    \"modules\":{\n",
      "      \"Counter4\":{\n",
      "        \"type\":[\"Record\",[\n",
      "          [\"O\",[\"Array\",4,\"Bit\"]],\n",
      "          [\"CLK\",[\"Named\",\"coreir.clkIn\"]]\n",
      "        ]],\n",
      "        \"instances\":{\n",
      "          \"const_1_4\":{\n",
      "            \"genref\":\"coreir.const\",\n",
      "            \"genargs\":{\"width\":[\"Int\",4]},\n",
      "            \"modargs\":{\"value\":[[\"BitVector\",4],\"4'h1\"]}\n",
      "          },\n",
      "          \"magma_Bits_4_add_inst0\":{\n",
      "            \"genref\":\"coreir.add\",\n",
      "            \"genargs\":{\"width\":[\"Int\",4]}\n",
      "          },\n",
      "          \"reg_P_inst0\":{\n",
      "            \"genref\":\"coreir.reg\",\n",
      "            \"genargs\":{\"width\":[\"Int\",4]},\n",
      "            \"modargs\":{\"clk_posedge\":[\"Bool\",true], \"init\":[[\"BitVector\",4],\"4'h0\"]}\n",
      "          }\n",
      "        },\n",
      "        \"connections\":[\n",
      "          [\"magma_Bits_4_add_inst0.in1\",\"const_1_4.out\"],\n",
      "          [\"reg_P_inst0.out\",\"magma_Bits_4_add_inst0.in0\"],\n",
      "          [\"reg_P_inst0.in\",\"magma_Bits_4_add_inst0.out\"],\n",
      "          [\"self.CLK\",\"reg_P_inst0.clk\"],\n",
      "          [\"self.O\",\"reg_P_inst0.out\"]\n",
      "        ]\n",
      "      }\n",
      "    }\n",
      "  }\n",
      "}\n",
      "}\n",
      "/Users/leonardtruong/repos/coreir/src/binary/coreir.cpp:238 Modified?: No\n"
     ]
    }
   ],
   "source": [
    "m.compile(\"build/Counter4\", Counter4, output=\"coreir\")\n",
    "!coreir -i build/Counter4.json -p instancecount"
   ]
  },
  {
   "cell_type": "code",
   "execution_count": null,
   "metadata": {},
   "outputs": [],
   "source": []
  }
 ],
 "metadata": {
  "kernelspec": {
   "display_name": "Python 3",
   "language": "python",
   "name": "python3"
  },
  "language_info": {
   "codemirror_mode": {
    "name": "ipython",
    "version": 3
   },
   "file_extension": ".py",
   "mimetype": "text/x-python",
   "name": "python",
   "nbconvert_exporter": "python",
   "pygments_lexer": "ipython3",
   "version": "3.7.1"
  }
 },
 "nbformat": 4,
 "nbformat_minor": 2
}
