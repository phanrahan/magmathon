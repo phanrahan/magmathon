{
 "cells": [
  {
   "cell_type": "markdown",
   "metadata": {},
   "source": [
    "## PopCount8\n",
    "\n",
    "In this tutorial, we show how to construct a circuit to compute an 8-bit PopCount (population count)."
   ]
  },
  {
   "cell_type": "code",
   "execution_count": 1,
   "metadata": {
    "scrolled": true
   },
   "outputs": [],
   "source": [
    "import magma as m"
   ]
  },
  {
   "cell_type": "markdown",
   "metadata": {},
   "source": [
    "In this example, we are going to use the built-in `fulladder` from `Mantle`."
   ]
  },
  {
   "cell_type": "code",
   "execution_count": 2,
   "metadata": {},
   "outputs": [],
   "source": [
    "from mantle import FullAdder"
   ]
  },
  {
   "cell_type": "markdown",
   "metadata": {},
   "source": [
    "A common name for a full adder is a carry-sum adder, or `csa`.\n",
    "Let's define two csa functions to help us construct the popcount."
   ]
  },
  {
   "cell_type": "code",
   "execution_count": 3,
   "metadata": {},
   "outputs": [],
   "source": [
    "# 2 input \n",
    "def csa2(I0, I1):\n",
    "    return m.bits(FullAdder()(I0, I1, 0))\n",
    "\n",
    "# 3 input\n",
    "def csa3(I0, I1, I2):\n",
    "    return m.bits(FullAdder()(I0, I1, I2))"
   ]
  },
  {
   "cell_type": "markdown",
   "metadata": {},
   "source": [
    "To construct the 8-bit popcount, we first use 3 csa's to sum\n",
    "bits 0 through 2, 3 through 5, and 6 through 7.\n",
    "This forms 3 2-bit results.\n",
    "We can consider the results to be two columns, one for each *place*.\n",
    "The first column is the 1s and the second column is the 2s.\n",
    "\n",
    "We then use two fulladders to sum these columns.\n",
    "We continue summing 3-bits at a time until we get a single bit in each column.\n",
    "\n",
    "A common way to show these operations is with *Dadda dot notation*\n",
    "which shows how many bits are in each colum."
   ]
  },
  {
   "cell_type": "code",
   "execution_count": 4,
   "metadata": {},
   "outputs": [],
   "source": [
    "def popcount8(I):\n",
    "    # Dadda dot notation (of the result)\n",
    "    # o o     csa0_0_21 - row 0, bits 2 and 1\n",
    "    # o o     csa0_1_21 - row 1, bits 2 and 1\n",
    "    # o o     csa0_2_21 - row 2, bits 2 and 1\n",
    "    csa0_0_21 = csa3(I[0], I[1], I[2])\n",
    "    csa0_1_21 = csa3(I[3], I[4], I[5])\n",
    "    csa0_2_21 = csa2(I[6], I[7])\n",
    "\n",
    "    #   o o   csa1_0_21 - row 0, bits 2 and 1\n",
    "    # o o     csa1_1_43 - row 1, bits 4 and 2\n",
    "    csa1_0_21 = csa3(csa0_0_21[0], csa0_1_21[0], csa0_2_21[0])\n",
    "    csa1_1_42 = csa3(csa0_0_21[1], csa0_1_21[1], csa0_2_21[1])\n",
    "\n",
    "    # o o     csa2_0_42 - row 0, bits 4 and 2\n",
    "    csa2_0_42 = csa2(csa1_0_21[1], csa1_1_42[0])\n",
    "\n",
    "    # o o     csa3_0_84 - row 0, bits 8 and 4 \n",
    "    csa3_0_84 = csa2(csa1_1_42[1], csa2_0_42[1])\n",
    "    \n",
    "    return m.bits([csa1_0_21[0], csa2_0_42[0], csa3_0_84[0], csa3_0_84[1]])"
   ]
  },
  {
   "cell_type": "markdown",
   "metadata": {},
   "source": [
    "## Test bench\n",
    "\n",
    "Let's test this using fault"
   ]
  },
  {
   "cell_type": "code",
   "execution_count": 5,
   "metadata": {},
   "outputs": [],
   "source": [
    "import fault\n",
    "\n",
    "class Main(m.Circuit):\n",
    "    io = m.IO(I=m.In(m.Bits[8]), O=m.Out(m.Bits[4]))\n",
    "    io.O @= popcount8(io.I)\n",
    "\n",
    "tester = fault.PythonTester(Main)\n",
    "assert tester(0xFF) == 8\n",
    "assert tester(0xF0) == 4\n",
    "assert tester(0xEE) == 6"
   ]
  },
  {
   "cell_type": "code",
   "execution_count": 6,
   "metadata": {},
   "outputs": [
    {
     "name": "stdout",
     "output_type": "stream",
     "text": [
      "module fold_xor3None (\r\n",
      "    input I0,\r\n",
      "    input I1,\r\n",
      "    input I2,\r\n",
      "    output O\r\n",
      ");\r\n",
      "assign O = (I0 ^ I1) ^ I2;\r\n",
      "endmodule\r\n",
      "\r\n",
      "module Or3xNone (\r\n",
      "    input I0,\r\n",
      "    input I1,\r\n",
      "    input I2,\r\n",
      "    output O\r\n",
      ");\r\n",
      "assign O = | ({I2,I1,I0});\r\n",
      "endmodule\r\n",
      "\r\n",
      "module FullAdder (\r\n",
      "    input I0,\r\n",
      "    input I1,\r\n",
      "    input CIN,\r\n",
      "    output O,\r\n",
      "    output COUT\r\n",
      ");\r\n",
      "Or3xNone Or3xNone_inst0 (\r\n",
      "    .I0(I0 & I1),\r\n",
      "    .I1(I1 & CIN),\r\n",
      "    .I2(I0 & CIN),\r\n",
      "    .O(COUT)\r\n",
      ");\r\n",
      "fold_xor3None fold_xor3None_inst0 (\r\n",
      "    .I0(I0),\r\n",
      "    .I1(I1),\r\n",
      "    .I2(CIN),\r\n",
      "    .O(O)\r\n",
      ");\r\n",
      "endmodule\r\n",
      "\r\n",
      "module Main (\r\n",
      "    input [7:0] I,\r\n",
      "    output [3:0] O\r\n",
      ");\r\n",
      "wire FullAdder_inst0_O;\r\n",
      "wire FullAdder_inst0_COUT;\r\n",
      "wire FullAdder_inst1_O;\r\n",
      "wire FullAdder_inst1_COUT;\r\n",
      "wire FullAdder_inst2_O;\r\n",
      "wire FullAdder_inst2_COUT;\r\n",
      "wire FullAdder_inst3_O;\r\n",
      "wire FullAdder_inst3_COUT;\r\n",
      "wire FullAdder_inst4_O;\r\n",
      "wire FullAdder_inst4_COUT;\r\n",
      "wire FullAdder_inst5_O;\r\n",
      "wire FullAdder_inst5_COUT;\r\n",
      "wire FullAdder_inst6_O;\r\n",
      "wire FullAdder_inst6_COUT;\r\n",
      "FullAdder FullAdder_inst0 (\r\n",
      "    .I0(I[0]),\r\n",
      "    .I1(I[1]),\r\n",
      "    .CIN(I[2]),\r\n",
      "    .O(FullAdder_inst0_O),\r\n",
      "    .COUT(FullAdder_inst0_COUT)\r\n",
      ");\r\n",
      "FullAdder FullAdder_inst1 (\r\n",
      "    .I0(I[3]),\r\n",
      "    .I1(I[4]),\r\n",
      "    .CIN(I[5]),\r\n",
      "    .O(FullAdder_inst1_O),\r\n",
      "    .COUT(FullAdder_inst1_COUT)\r\n",
      ");\r\n",
      "FullAdder FullAdder_inst2 (\r\n",
      "    .I0(I[6]),\r\n",
      "    .I1(I[7]),\r\n",
      "    .CIN(1'b0),\r\n",
      "    .O(FullAdder_inst2_O),\r\n",
      "    .COUT(FullAdder_inst2_COUT)\r\n",
      ");\r\n",
      "FullAdder FullAdder_inst3 (\r\n",
      "    .I0(FullAdder_inst0_O),\r\n",
      "    .I1(FullAdder_inst1_O),\r\n",
      "    .CIN(FullAdder_inst2_O),\r\n",
      "    .O(FullAdder_inst3_O),\r\n",
      "    .COUT(FullAdder_inst3_COUT)\r\n",
      ");\r\n",
      "FullAdder FullAdder_inst4 (\r\n",
      "    .I0(FullAdder_inst0_COUT),\r\n",
      "    .I1(FullAdder_inst1_COUT),\r\n",
      "    .CIN(FullAdder_inst2_COUT),\r\n",
      "    .O(FullAdder_inst4_O),\r\n",
      "    .COUT(FullAdder_inst4_COUT)\r\n",
      ");\r\n",
      "FullAdder FullAdder_inst5 (\r\n",
      "    .I0(FullAdder_inst3_COUT),\r\n",
      "    .I1(FullAdder_inst4_O),\r\n",
      "    .CIN(1'b0),\r\n",
      "    .O(FullAdder_inst5_O),\r\n",
      "    .COUT(FullAdder_inst5_COUT)\r\n",
      ");\r\n",
      "FullAdder FullAdder_inst6 (\r\n",
      "    .I0(FullAdder_inst4_COUT),\r\n",
      "    .I1(FullAdder_inst5_COUT),\r\n",
      "    .CIN(1'b0),\r\n",
      "    .O(FullAdder_inst6_O),\r\n",
      "    .COUT(FullAdder_inst6_COUT)\r\n",
      ");\r\n",
      "assign O = {FullAdder_inst6_COUT,FullAdder_inst6_O,FullAdder_inst5_O,FullAdder_inst3_O};\r\n",
      "endmodule\r\n",
      "\r\n"
     ]
    }
   ],
   "source": [
    "m.compile('build/popcount8', Main, inline=True)\n",
    "!cat build/popcount8.v"
   ]
  },
  {
   "cell_type": "markdown",
   "metadata": {
    "collapsed": true
   },
   "source": [
    "There is a more general version of `PopCount` in the `Mantle` library `util.compressor`."
   ]
  },
  {
   "cell_type": "code",
   "execution_count": null,
   "metadata": {},
   "outputs": [],
   "source": []
  }
 ],
 "metadata": {
  "kernelspec": {
   "display_name": "Python 3",
   "language": "python",
   "name": "python3"
  },
  "language_info": {
   "codemirror_mode": {
    "name": "ipython",
    "version": 3
   },
   "file_extension": ".py",
   "mimetype": "text/x-python",
   "name": "python",
   "nbconvert_exporter": "python",
   "pygments_lexer": "ipython3",
   "version": "3.7.2"
  }
 },
 "nbformat": 4,
 "nbformat_minor": 2
}
