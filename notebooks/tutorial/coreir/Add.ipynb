{
 "cells": [
  {
   "cell_type": "code",
   "execution_count": 1,
   "metadata": {},
   "outputs": [],
   "source": [
    "import magma as m"
   ]
  },
  {
   "cell_type": "markdown",
   "metadata": {},
   "source": [
    "## Add2 Circuit\n",
    "\n",
    "Now let's build a 2-bit adder using `full_adder`. \n",
    "We'll use a simple ripple carry adder design by connecting the carry out of one full adder\n",
    "to the carry in of the next full adder.\n",
    "The resulting adder will accept as input a carry in,\n",
    "and generate a final carry out. Here's a `logisim` diagram of the circuit we will construct:\n",
    "\n",
    "<img src=\"logisim/adder.png\" width=\"500\"/>"
   ]
  },
  {
   "cell_type": "code",
   "execution_count": 2,
   "metadata": {},
   "outputs": [
    {
     "name": "stdout",
     "output_type": "stream",
     "text": [
      "_add = DefineCircuit(\"_add\", \"I0\", In(Bits[2]), \"I1\", In(Bits[2]), \"CIN\", In(Bit), \"O0\", Out(Bits[2]), \"O1\", Out(Bit))\n",
      "full_adder_inst0 = full_adder()\n",
      "full_adder_inst1 = full_adder()\n",
      "wire(_add.I0[0], full_adder_inst0.A)\n",
      "wire(_add.I1[0], full_adder_inst0.B)\n",
      "wire(_add.CIN, full_adder_inst0.C)\n",
      "wire(_add.I0[1], full_adder_inst1.A)\n",
      "wire(_add.I1[1], full_adder_inst1.B)\n",
      "wire(full_adder_inst0.O1, full_adder_inst1.C)\n",
      "wire(full_adder_inst0.O0, _add.O0[0])\n",
      "wire(full_adder_inst1.O0, _add.O0[1])\n",
      "wire(full_adder_inst1.O1, _add.O1)\n",
      "EndCircuit()\n"
     ]
    }
   ],
   "source": [
    "import ast_tools\n",
    "from ast_tools.transformers.loop_unroller import unroll_for_loops\n",
    "from ast_tools.passes import begin_rewrite, end_rewrite, loop_unroll\n",
    "\n",
    "@m.circuit.combinational\n",
    "def full_adder(A: m.Bit, B: m.Bit, C: m.Bit) -> (m.Bit, m.Bit):\n",
    "    return A ^ B ^ C, A & B | B & C | C & A  # sum, carry\n",
    "\n",
    "@m.circuit.combinational\n",
    "@end_rewrite()\n",
    "@loop_unroll()\n",
    "@begin_rewrite()\n",
    "def _add(I0: m.Bits[2], I1: m.Bits[2], CIN: m.Bit) -> (m.Bits[2], m.Bit):\n",
    "    O = []\n",
    "    COUT = io.CIN\n",
    "    for i in ast_tools.macros.unroll(range(2)):\n",
    "        Oi, COUT = full_adder(io.I0[i], io.I1[i], COUT)\n",
    "        O.append(Oi)\n",
    "\n",
    "    return m.uint(O), COUT\n",
    "\n",
    "print(repr(_add.circuit_definition))"
   ]
  },
  {
   "cell_type": "markdown",
   "metadata": {},
   "source": [
    "Although we are making an 2-bit adder,\n",
    "we do this using a for loop that can be generalized to construct an n-bit adder.\n",
    "To use a for loop inside combinational, we use the `ast_tools` package's macro support.\n",
    "These `loop_unroll` macro will expand the for loop before passing the function to `m.circuit.combinational`.\n",
    "Each time through the for loop we call full adder.\n",
    "\n",
    "Calling an circuit instance has the effect of wiring\n",
    "up the arguments to the inputs of the circuit.\n",
    "That is,\n",
    "```\n",
    "O, COUT = full_adder(I0, I1, CIN)\n",
    "```\n",
    "is equivalent to\n",
    "```\n",
    "m.wire(IO, full_adder.I0)\n",
    "m.wire(I1, full_adder.I1)\n",
    "m.wire(CIN, full_adder.CIN)\n",
    "O = full_adder.O\n",
    "COUT = full_adder.COUT\n",
    "```\n",
    "The outputs of the circuit are returned.\n",
    "\n",
    "Inside this loop we append single bit outputs from the full adders\n",
    "to the Python list `O`. \n",
    "We also set the `CIN` of the next full adder to the `COUT` of the previous instance.\n",
    "\n",
    "Finally, we then convert the list `O` to a `UInt[n]`. \n",
    "In addition to `Bits[n]`,\n",
    "`magma` also has built in types `UInt[n]` and `SInt[n]` \n",
    "to represent unsigned and signed ints.\n",
    "`magma` also has type conversion functions `bits`, `uint`, and `sint` to convert\n",
    "between different types. \n",
    "In this example, `m.uint(C)` converts the list of bits to a `UInt[len(C)]`."
   ]
  },
  {
   "cell_type": "markdown",
   "metadata": {},
   "source": [
    "## Add Generator\n",
    "\n",
    "One question you may be asking yourself, is how can this code be generalized to produce an n-bit adder. We do this by creating an add *Generator*.\n",
    "A `Generator` is a Python class that defines a static `generate` method which takes parameters and returns a circuit class.\n",
    "Calling the generator with different parameter values will create and instantiate different circuits.\n",
    "The power of `magma` results from being to use all the features of Python\n",
    "to create powerful hardware generators.\n",
    "\n",
    "Here is the code:"
   ]
  },
  {
   "cell_type": "code",
   "execution_count": 3,
   "metadata": {},
   "outputs": [],
   "source": [
    "class Add(m.Generator):\n",
    "    @staticmethod\n",
    "    def generate(width: int):\n",
    "        T = m.UInt[width]\n",
    "        \n",
    "        @m.circuit.combinational\n",
    "        @end_rewrite()\n",
    "        @loop_unroll()\n",
    "        @begin_rewrite()\n",
    "        def _add(I0: T, I1: T, CIN: m.Bit) -> (T, m.Bit):\n",
    "            O = []\n",
    "            COUT = io.CIN\n",
    "            for i in ast_tools.macros.unroll(range(width)):\n",
    "                Oi, COUT = full_adder(io.I0[i], io.I1[i], COUT)\n",
    "                O.append(Oi)\n",
    "                \n",
    "            return m.uint(O), COUT\n",
    "        return _add.circuit_definition\n",
    "\n",
    "def add(i0, i1, cin):\n",
    "    \"\"\"\n",
    "    We define a convenience function that instantiates the\n",
    "    add generator for us based on the width of the inputs.\n",
    "    \"\"\"\n",
    "    if len(i0) != len(i1):\n",
    "        raise TypeError(\"add arguments must have same length\")\n",
    "    if not isinstance(cin, m.Bit):\n",
    "        raise TypeError(\"add cin must be a Bit\")\n",
    "    if (not isinstance(i0, m.UInt) and \n",
    "        not isinstance(i1, m.UInt)):\n",
    "            raise TypeError(\"add expects UInt inputs\")\n",
    "    return Add(len(i0))(i0, i1, cin)"
   ]
  },
  {
   "cell_type": "markdown",
   "metadata": {},
   "source": [
    "To generate a `Circuit` from a `Generator`, we can directly call the `generate` static method."
   ]
  },
  {
   "cell_type": "code",
   "execution_count": 4,
   "metadata": {},
   "outputs": [
    {
     "name": "stdout",
     "output_type": "stream",
     "text": [
      "Bit(True)\n",
      "Success!\n"
     ]
    }
   ],
   "source": [
    "from fault import PythonTester\n",
    "\n",
    "Add2 = Add.generate(2)\n",
    "add2 = PythonTester(Add2)\n",
    "\n",
    "print(add2(1,2,0)[0] == 3)\n",
    "assert add2(1, 2, 0) == (3, 0), \"Failed\"\n",
    "print(\"Success!\")"
   ]
  },
  {
   "cell_type": "markdown",
   "metadata": {},
   "source": [
    "Let's inspected the generated code"
   ]
  },
  {
   "cell_type": "code",
   "execution_count": 5,
   "metadata": {},
   "outputs": [
    {
     "name": "stdout",
     "output_type": "stream",
     "text": [
      "module full_adder (\r\n",
      "    input A,\r\n",
      "    input B,\r\n",
      "    input C,\r\n",
      "    output O0,\r\n",
      "    output O1\r\n",
      ");\r\n",
      "assign O0 = (A ^ B) ^ C;\r\n",
      "assign O1 = ((A & B) | (B & C)) | (C & A);\r\n",
      "endmodule\r\n",
      "\r\n",
      "module _add (\r\n",
      "    input [1:0] I0,\r\n",
      "    input [1:0] I1,\r\n",
      "    input CIN,\r\n",
      "    output [1:0] O0,\r\n",
      "    output O1\r\n",
      ");\r\n",
      "wire full_adder_inst0_O0;\r\n",
      "wire full_adder_inst0_O1;\r\n",
      "wire full_adder_inst1_O0;\r\n",
      "full_adder full_adder_inst0 (\r\n",
      "    .A(I0[0]),\r\n",
      "    .B(I1[0]),\r\n",
      "    .C(CIN),\r\n",
      "    .O0(full_adder_inst0_O0),\r\n",
      "    .O1(full_adder_inst0_O1)\r\n",
      ");\r\n",
      "full_adder full_adder_inst1 (\r\n",
      "    .A(I0[1]),\r\n",
      "    .B(I1[1]),\r\n",
      "    .C(full_adder_inst0_O1),\r\n",
      "    .O0(full_adder_inst1_O0),\r\n",
      "    .O1(O1)\r\n",
      ");\r\n",
      "assign O0 = {full_adder_inst1_O0,full_adder_inst0_O0};\r\n",
      "endmodule\r\n",
      "\r\n"
     ]
    }
   ],
   "source": [
    "m.compile(\"build/Add2\", Add2, inline=True)\n",
    "%cat build/Add2.v"
   ]
  },
  {
   "cell_type": "code",
   "execution_count": 6,
   "metadata": {},
   "outputs": [
    {
     "ename": "NameError",
     "evalue": "name 'FullAdder' is not defined",
     "output_type": "error",
     "traceback": [
      "\u001b[0;31m---------------------------------------------------------------------------\u001b[0m",
      "\u001b[0;31mNameError\u001b[0m                                 Traceback (most recent call last)",
      "\u001b[0;32m<ipython-input-6-f3423c0601f8>\u001b[0m in \u001b[0;36m<module>\u001b[0;34m\u001b[0m\n\u001b[0;32m----> 1\u001b[0;31m \u001b[0mm\u001b[0m\u001b[0;34m.\u001b[0m\u001b[0mcompile\u001b[0m\u001b[0;34m(\u001b[0m\u001b[0;34m\"build/Add2\"\u001b[0m\u001b[0;34m,\u001b[0m \u001b[0mFullAdder\u001b[0m\u001b[0;34m,\u001b[0m \u001b[0moutput\u001b[0m\u001b[0;34m=\u001b[0m\u001b[0;34m\"coreir\"\u001b[0m\u001b[0;34m)\u001b[0m\u001b[0;34m\u001b[0m\u001b[0;34m\u001b[0m\u001b[0m\n\u001b[0m\u001b[1;32m      2\u001b[0m \u001b[0mget_ipython\u001b[0m\u001b[0;34m(\u001b[0m\u001b[0;34m)\u001b[0m\u001b[0;34m.\u001b[0m\u001b[0mrun_line_magic\u001b[0m\u001b[0;34m(\u001b[0m\u001b[0;34m'cat'\u001b[0m\u001b[0;34m,\u001b[0m \u001b[0;34m'build/Add2.json'\u001b[0m\u001b[0;34m)\u001b[0m\u001b[0;34m\u001b[0m\u001b[0;34m\u001b[0m\u001b[0m\n",
      "\u001b[0;31mNameError\u001b[0m: name 'FullAdder' is not defined"
     ]
    }
   ],
   "source": [
    "m.compile(\"build/Add2\", FullAdder, output=\"coreir\")\n",
    "%cat build/Add2.json"
   ]
  },
  {
   "cell_type": "code",
   "execution_count": null,
   "metadata": {},
   "outputs": [],
   "source": [
    "!coreir -i build/Add2.json -p instancecount"
   ]
  },
  {
   "cell_type": "markdown",
   "metadata": {},
   "source": [
    "We can instantiate a `Generator` using the standard object syntax, which will implicitly call the `generate` method based on teh parameters, and return an instance of the generated `Circuit`.  By default, this logic will cache definitions based on the generator parameters."
   ]
  },
  {
   "cell_type": "code",
   "execution_count": null,
   "metadata": {},
   "outputs": [],
   "source": [
    "class Main(m.Circuit):\n",
    "    io = m.IO(I0=m.In(m.UInt[3]), I1=m.In(m.UInt[3]), CIN=m.In(m.Bit),\n",
    "              O=m.Out(m.UInt[3]), COUT=m.Out(m.Bit))\n",
    "    O, COUT = Add(3)(io.I0, io.I1, io.CIN)\n",
    "    io.O @= O\n",
    "    io.COUT @= COUT\n",
    "    \n",
    "print(repr(Main))"
   ]
  },
  {
   "cell_type": "markdown",
   "metadata": {},
   "source": [
    "Here's an example of using the convenience `add` function which handles the `Generator` instantiation for us"
   ]
  },
  {
   "cell_type": "code",
   "execution_count": null,
   "metadata": {},
   "outputs": [],
   "source": [
    "class Main(m.Circuit):\n",
    "    io = m.IO(I0=m.In(m.UInt[3]), I1=m.In(m.UInt[3]), CIN=m.In(m.Bit),\n",
    "              O=m.Out(m.UInt[3]), COUT=m.Out(m.Bit))\n",
    "    O, COUT = add(io.I0, io.I1, io.CIN)\n",
    "    io.O @= O\n",
    "    io.COUT @= COUT\n",
    "    \n",
    "print(repr(Main))"
   ]
  },
  {
   "cell_type": "code",
   "execution_count": null,
   "metadata": {},
   "outputs": [],
   "source": []
  }
 ],
 "metadata": {
  "kernelspec": {
   "display_name": "Python 3",
   "language": "python",
   "name": "python3"
  },
  "language_info": {
   "codemirror_mode": {
    "name": "ipython",
    "version": 3
   },
   "file_extension": ".py",
   "mimetype": "text/x-python",
   "name": "python",
   "nbconvert_exporter": "python",
   "pygments_lexer": "ipython3",
   "version": "3.7.1"
  }
 },
 "nbformat": 4,
 "nbformat_minor": 2
}
