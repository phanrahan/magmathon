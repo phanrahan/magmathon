{
 "cells": [
  {
   "cell_type": "markdown",
   "metadata": {},
   "source": [
    "Start by defining a `Python` function that we want to compute."
   ]
  },
  {
   "cell_type": "code",
   "execution_count": 1,
   "metadata": {
    "collapsed": true
   },
   "outputs": [],
   "source": [
    "def f(a, b, c):\n",
    "    return (a & b) ^ c"
   ]
  },
  {
   "cell_type": "markdown",
   "metadata": {},
   "source": [
    "Generate a circuit that computes this function. To implement the logical operations we use  standard verilog gates, which are available in `mantle.verilog.gates`."
   ]
  },
  {
   "cell_type": "code",
   "execution_count": 2,
   "metadata": {},
   "outputs": [
    {
     "name": "stdout",
     "output_type": "stream",
     "text": [
      "\r\n",
      "\r\n",
      "module corebit_and (\r\n",
      "  input in0,\r\n",
      "  input in1,\r\n",
      "  output out\r\n",
      ");\r\n",
      "  assign out = in0 & in1;\r\n",
      "\r\n",
      "endmodule //corebit_and\r\n",
      "\r\n",
      "module corebit_xor (\r\n",
      "  input in0,\r\n",
      "  input in1,\r\n",
      "  output out\r\n",
      ");\r\n",
      "  assign out = in0 ^ in1;\r\n",
      "\r\n",
      "endmodule //corebit_xor\r\n",
      "\r\n",
      "module VerilatorExample (\r\n",
      "  input  a,\r\n",
      "  input  b,\r\n",
      "  input  c,\r\n",
      "  output  d\r\n",
      ");\r\n",
      "  //Wire declarations for instance 'inst0' (Module corebit_and)\r\n",
      "  wire  inst0__in0;\r\n",
      "  wire  inst0__in1;\r\n",
      "  wire  inst0__out;\r\n",
      "  corebit_and inst0(\r\n",
      "    .in0(inst0__in0),\r\n",
      "    .in1(inst0__in1),\r\n",
      "    .out(inst0__out)\r\n",
      "  );\r\n",
      "\r\n",
      "  //Wire declarations for instance 'inst1' (Module corebit_xor)\r\n",
      "  wire  inst1__in0;\r\n",
      "  wire  inst1__in1;\r\n",
      "  wire  inst1__out;\r\n",
      "  corebit_xor inst1(\r\n",
      "    .in0(inst1__in0),\r\n",
      "    .in1(inst1__in1),\r\n",
      "    .out(inst1__out)\r\n",
      "  );\r\n",
      "\r\n",
      "  //All the connections\r\n",
      "  assign inst0__in0 = a;\r\n",
      "  assign inst0__in1 = b;\r\n",
      "  assign inst1__in0 = inst0__out;\r\n",
      "  assign inst1__in1 = c;\r\n",
      "  assign d = inst1__out;\r\n",
      "\r\n",
      "endmodule //VerilatorExample\r\n"
     ]
    }
   ],
   "source": [
    "import magma as m\n",
    "import mantle\n",
    "\n",
    "class VerilatorExample(m.Circuit):\n",
    "    IO = [\"a\", m.In(m.Bit), \"b\", m.In(m.Bit), \"c\", m.In(m.Bit), \"d\", m.Out(m.Bit)]\n",
    "    \n",
    "    @classmethod\n",
    "    def definition(io):\n",
    "        m.wire(f(io.a, io.b, io.c), io.d)\n",
    "\n",
    "m.compile(\"build/VerilatorExample\", VerilatorExample, \"coreir-verilog\")\n",
    "%cat build/VerilatorExample.v"
   ]
  },
  {
   "cell_type": "markdown",
   "metadata": {},
   "source": [
    "Next, generate a verilator test harness in `C++` for the circuit. The test vectors are generated using the python function `f`. The verilator test bench compares the output of the simulator to those test vectors."
   ]
  },
  {
   "cell_type": "code",
   "execution_count": 3,
   "metadata": {},
   "outputs": [
    {
     "name": "stdout",
     "output_type": "stream",
     "text": [
      "cat: build/test_VerilatorExample.cpp.cpp: No such file or directory\r\n"
     ]
    }
   ],
   "source": [
    "from fault.test_vectors import generate_function_test_vectors\n",
    "from fault.verilator_target import VerilatorTarget\n",
    "\n",
    "test_vectors = generate_function_test_vectors(VerilatorExample, f)\n",
    "\n",
    "VerilatorTarget(VerilatorExample, test_vectors).run()\n",
    "%cat build/test_VerilatorExample.cpp.cpp"
   ]
  }
 ],
 "metadata": {
  "kernelspec": {
   "display_name": "Python 3",
   "language": "python",
   "name": "python3"
  },
  "language_info": {
   "codemirror_mode": {
    "name": "ipython",
    "version": 3
   },
   "file_extension": ".py",
   "mimetype": "text/x-python",
   "name": "python",
   "nbconvert_exporter": "python",
   "pygments_lexer": "ipython3",
   "version": "3.6.5"
  }
 },
 "nbformat": 4,
 "nbformat_minor": 2
}
