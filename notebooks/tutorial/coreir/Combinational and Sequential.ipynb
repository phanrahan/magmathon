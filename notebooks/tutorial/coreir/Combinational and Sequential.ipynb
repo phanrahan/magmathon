{
 "cells": [
  {
   "cell_type": "code",
   "execution_count": 1,
   "metadata": {},
   "outputs": [],
   "source": [
    "import magma as m\n",
    "import inspect\n",
    "import logging\n",
    "logging.basicConfig(level=logging.DEBUG)\n",
    "import fault\n",
    "from hwtypes import BitVector as BV"
   ]
  },
  {
   "cell_type": "markdown",
   "metadata": {},
   "source": [
    "The combinational syntax allows you to use `if/else` statements. "
   ]
  },
  {
   "cell_type": "code",
   "execution_count": 2,
   "metadata": {},
   "outputs": [
    {
     "name": "stdout",
     "output_type": "stream",
     "text": [
      "import magma as m\n",
      "from mantle import mux as phi\n",
      "\n",
      "\n",
      "class basic_if(m.Circuit):\n",
      "    io = m.IO(I=m.In(m.Bits[2]), S=m.In(m.Bit), O=m.Out(m.Bit))\n",
      "    x_0 = io.I[0]\n",
      "    x_1 = io.I[1]\n",
      "    x_2 = phi([x_1, x_0], io.S)\n",
      "    __magma_ssa_return_value_0 = x_2\n",
      "    O = __magma_ssa_return_value_0\n",
      "    m.wire(O, io.O)\n",
      "\n"
     ]
    }
   ],
   "source": [
    "@m.circuit.combinational\n",
    "def basic_if(I: m.Bits[2], S: m.Bit) -> m.Bit:\n",
    "    if S:\n",
    "        x = I[0]\n",
    "    else:\n",
    "        x = I[1]\n",
    "    return x\n",
    "\n",
    "\n",
    "class Main(m.Circuit):\n",
    "    io = m.IO(I0=m.In(m.Bit), I1=m.In(m.Bit), S=m.In(m.Bit), O=m.Out(m.Bit))\n",
    "    io.O @= basic_if(m.bits([io.I0, io.I1]), io.S)\n",
    "\n",
    "m.compile(\"build/basic_if\", basic_if.circuit_definition)\n",
    "with open('.magma/basic_if.py', 'r') as f:\n",
    "    print(f.read())"
   ]
  },
  {
   "cell_type": "code",
   "execution_count": 3,
   "metadata": {},
   "outputs": [],
   "source": [
    "tester = fault.PythonTester(Main)\n",
    "assert tester(0, 1, 0) == 1\n",
    "assert tester(0, 1, 1) == 0"
   ]
  },
  {
   "cell_type": "code",
   "execution_count": 4,
   "metadata": {},
   "outputs": [
    {
     "name": "stderr",
     "output_type": "stream",
     "text": [
      "INFO:root:Running tester...\n",
      "INFO:root:Success!\n"
     ]
    }
   ],
   "source": [
    "tester = fault.Tester(Main)\n",
    "tester(0, 1, 0).expect(1)\n",
    "tester.circuit.S = 1\n",
    "tester.eval()\n",
    "tester.circuit.O.expect(0)\n",
    "tester.compile_and_run(\"verilator\")"
   ]
  },
  {
   "cell_type": "markdown",
   "metadata": {},
   "source": [
    "You can insert code to instance magma circuits inside combinational."
   ]
  },
  {
   "cell_type": "code",
   "execution_count": 5,
   "metadata": {},
   "outputs": [
    {
     "name": "stdout",
     "output_type": "stream",
     "text": [
      "invert = DefineCircuit(\"invert\", \"a\", In(Bit), \"O\", Out(Bit))\n",
      "not_inst0 = not()\n",
      "wire(invert.a, not_inst0.in)\n",
      "wire(not_inst0.out, invert.O)\n",
      "EndCircuit()\n"
     ]
    }
   ],
   "source": [
    "from mantle import Not\n",
    "\n",
    "@m.circuit.combinational\n",
    "def invert(a: m.Bit) -> m.Bit:\n",
    "    return Not()(a)\n",
    "\n",
    "print(repr(invert.circuit_definition))"
   ]
  },
  {
   "cell_type": "code",
   "execution_count": 6,
   "metadata": {},
   "outputs": [],
   "source": [
    "tester = fault.PythonTester(invert.circuit_definition)\n",
    "assert tester(0) == 1\n",
    "assert tester(1) == 0"
   ]
  },
  {
   "cell_type": "code",
   "execution_count": 7,
   "metadata": {},
   "outputs": [
    {
     "name": "stderr",
     "output_type": "stream",
     "text": [
      "INFO:root:Running tester...\n",
      "INFO:root:Success!\n"
     ]
    }
   ],
   "source": [
    "tester = fault.Tester(invert.circuit_definition)\n",
    "tester.circuit.a = 1\n",
    "tester.eval()\n",
    "tester.circuit.O.expect(0)\n",
    "tester.circuit.a = 0\n",
    "tester.eval()\n",
    "tester.circuit.O.expect(1)\n",
    "tester.compile_and_run(\"verilator\")"
   ]
  },
  {
   "cell_type": "code",
   "execution_count": 8,
   "metadata": {},
   "outputs": [
    {
     "name": "stdout",
     "output_type": "stream",
     "text": [
      "An instance count of all the primitives\r\n",
      "=======================================\r\n",
      "invert | instances in current | instances in children | \r\n",
      "  corebit_not | 1 | 0\r\n",
      "\r\n",
      "Mux2xOutUInt16 | instances in current | instances in children | \r\n",
      "\r\n",
      "Mux2xOutBit | instances in current | instances in children | \r\n",
      "\r\n",
      "basic_if | instances in current | instances in children | \r\n",
      "\r\n",
      "Main | instances in current | instances in children | \r\n",
      "\r\n",
      "Counter_comb | instances in current | instances in children | \r\n",
      "  coreir_add__width16 | 1 | 0\r\n",
      "  coreir_const__width16 | 1 | 0\r\n",
      "\r\n",
      "Counter | instances in current | instances in children | \r\n",
      "  coreir_add__width16 | 0 | 1\r\n",
      "  coreir_const__width16 | 0 | 1\r\n",
      "  coreir_reg_arst__width16 | 1 | 0\r\n",
      "\r\n",
      "=======================================\r\n",
      "{\"top\":\"global.Counter\",\r\n",
      "\"namespaces\":{\r\n",
      "  \"global\":{\r\n",
      "    \"modules\":{\r\n",
      "      \"Counter\":{\r\n",
      "        \"type\":[\"Record\",[\r\n",
      "          [\"inc\",\"BitIn\"],\r\n",
      "          [\"CLK\",[\"Named\",\"coreir.clkIn\"]],\r\n",
      "          [\"ASYNCRESET\",[\"Named\",\"coreir.arstIn\"]],\r\n",
      "          [\"O\",[\"Array\",16,\"Bit\"]]\r\n",
      "        ]],\r\n",
      "        \"instances\":{\r\n",
      "          \"Counter_comb_inst0\":{\r\n",
      "            \"modref\":\"global.Counter_comb\"\r\n",
      "          },\r\n",
      "          \"reg_PR_inst0\":{\r\n",
      "            \"genref\":\"coreir.reg_arst\",\r\n",
      "            \"genargs\":{\"width\":[\"Int\",16]},\r\n",
      "            \"modargs\":{\"arst_posedge\":[\"Bool\",true], \"clk_posedge\":[\"Bool\",true], \"init\":[[\"BitVector\",16],\"16'h0000\"]}\r\n",
      "          }\r\n",
      "        },\r\n",
      "        \"connections\":[\r\n",
      "          [\"reg_PR_inst0.in\",\"Counter_comb_inst0.O0\"],\r\n",
      "          [\"self.O\",\"Counter_comb_inst0.O1\"],\r\n",
      "          [\"self.inc\",\"Counter_comb_inst0.inc\"],\r\n",
      "          [\"reg_PR_inst0.out\",\"Counter_comb_inst0.self_count_O\"],\r\n",
      "          [\"self.ASYNCRESET\",\"reg_PR_inst0.arst\"],\r\n",
      "          [\"self.CLK\",\"reg_PR_inst0.clk\"]\r\n",
      "        ]\r\n",
      "      },\r\n",
      "      \"Counter_comb\":{\r\n",
      "        \"type\":[\"Record\",[\r\n",
      "          [\"inc\",\"BitIn\"],\r\n",
      "          [\"self_count_O\",[\"Array\",16,\"BitIn\"]],\r\n",
      "          [\"O0\",[\"Array\",16,\"Bit\"]],\r\n",
      "          [\"O1\",[\"Array\",16,\"Bit\"]]\r\n",
      "        ]],\r\n",
      "        \"instances\":{\r\n",
      "          \"Mux2xOutUInt16_inst0\":{\r\n",
      "            \"modref\":\"global.Mux2xOutUInt16\"\r\n",
      "          },\r\n",
      "          \"const_1_16\":{\r\n",
      "            \"genref\":\"coreir.const\",\r\n",
      "            \"genargs\":{\"width\":[\"Int\",16]},\r\n",
      "            \"modargs\":{\"value\":[[\"BitVector\",16],\"16'h0001\"]}\r\n",
      "          },\r\n",
      "          \"magma_Bits_16_add_inst0\":{\r\n",
      "            \"genref\":\"coreir.add\",\r\n",
      "            \"genargs\":{\"width\":[\"Int\",16]}\r\n",
      "          }\r\n",
      "        },\r\n",
      "        \"connections\":[\r\n",
      "          [\"self.self_count_O\",\"Mux2xOutUInt16_inst0.I0\"],\r\n",
      "          [\"magma_Bits_16_add_inst0.out\",\"Mux2xOutUInt16_inst0.I1\"],\r\n",
      "          [\"self.O0\",\"Mux2xOutUInt16_inst0.O\"],\r\n",
      "          [\"self.O1\",\"Mux2xOutUInt16_inst0.O\"],\r\n",
      "          [\"self.inc\",\"Mux2xOutUInt16_inst0.S\"],\r\n",
      "          [\"magma_Bits_16_add_inst0.in1\",\"const_1_16.out\"],\r\n",
      "          [\"self.self_count_O\",\"magma_Bits_16_add_inst0.in0\"]\r\n",
      "        ]\r\n",
      "      },\r\n",
      "      \"Main\":{\r\n",
      "        \"type\":[\"Record\",[\r\n",
      "          [\"I0\",\"BitIn\"],\r\n",
      "          [\"I1\",\"BitIn\"],\r\n",
      "          [\"S\",\"BitIn\"],\r\n",
      "          [\"O\",\"Bit\"]\r\n",
      "        ]],\r\n",
      "        \"instances\":{\r\n",
      "          \"basic_if_inst0\":{\r\n",
      "            \"modref\":\"global.basic_if\"\r\n",
      "          }\r\n",
      "        },\r\n",
      "        \"connections\":[\r\n",
      "          [\"self.I0\",\"basic_if_inst0.I.0\"],\r\n",
      "          [\"self.I1\",\"basic_if_inst0.I.1\"],\r\n",
      "          [\"self.O\",\"basic_if_inst0.O\"],\r\n",
      "          [\"self.S\",\"basic_if_inst0.S\"]\r\n",
      "        ]\r\n",
      "      },\r\n",
      "      \"Mux2xOutBit\":{\r\n",
      "        \"type\":[\"Record\",[\r\n",
      "          [\"I0\",\"BitIn\"],\r\n",
      "          [\"I1\",\"BitIn\"],\r\n",
      "          [\"S\",\"BitIn\"],\r\n",
      "          [\"O\",\"Bit\"]\r\n",
      "        ]],\r\n",
      "        \"instances\":{\r\n",
      "          \"coreir_commonlib_mux2x1_inst0\":{\r\n",
      "            \"genref\":\"commonlib.muxn\",\r\n",
      "            \"genargs\":{\"N\":[\"Int\",2], \"width\":[\"Int\",1]}\r\n",
      "          }\r\n",
      "        },\r\n",
      "        \"connections\":[\r\n",
      "          [\"self.I0\",\"coreir_commonlib_mux2x1_inst0.in.data.0.0\"],\r\n",
      "          [\"self.I1\",\"coreir_commonlib_mux2x1_inst0.in.data.1.0\"],\r\n",
      "          [\"self.S\",\"coreir_commonlib_mux2x1_inst0.in.sel.0\"],\r\n",
      "          [\"self.O\",\"coreir_commonlib_mux2x1_inst0.out.0\"]\r\n",
      "        ]\r\n",
      "      },\r\n",
      "      \"Mux2xOutUInt16\":{\r\n",
      "        \"type\":[\"Record\",[\r\n",
      "          [\"I0\",[\"Array\",16,\"BitIn\"]],\r\n",
      "          [\"I1\",[\"Array\",16,\"BitIn\"]],\r\n",
      "          [\"S\",\"BitIn\"],\r\n",
      "          [\"O\",[\"Array\",16,\"Bit\"]]\r\n",
      "        ]],\r\n",
      "        \"instances\":{\r\n",
      "          \"coreir_commonlib_mux2x16_inst0\":{\r\n",
      "            \"genref\":\"commonlib.muxn\",\r\n",
      "            \"genargs\":{\"N\":[\"Int\",2], \"width\":[\"Int\",16]}\r\n",
      "          }\r\n",
      "        },\r\n",
      "        \"connections\":[\r\n",
      "          [\"self.I0\",\"coreir_commonlib_mux2x16_inst0.in.data.0\"],\r\n",
      "          [\"self.I1\",\"coreir_commonlib_mux2x16_inst0.in.data.1\"],\r\n",
      "          [\"self.S\",\"coreir_commonlib_mux2x16_inst0.in.sel.0\"],\r\n",
      "          [\"self.O\",\"coreir_commonlib_mux2x16_inst0.out\"]\r\n",
      "        ]\r\n",
      "      },\r\n",
      "      \"basic_if\":{\r\n",
      "        \"type\":[\"Record\",[\r\n",
      "          [\"I\",[\"Array\",2,\"BitIn\"]],\r\n",
      "          [\"S\",\"BitIn\"],\r\n",
      "          [\"O\",\"Bit\"]\r\n",
      "        ]],\r\n",
      "        \"instances\":{\r\n",
      "          \"Mux2xOutBit_inst0\":{\r\n",
      "            \"modref\":\"global.Mux2xOutBit\"\r\n",
      "          }\r\n",
      "        },\r\n",
      "        \"connections\":[\r\n",
      "          [\"self.I.1\",\"Mux2xOutBit_inst0.I0\"],\r\n",
      "          [\"self.I.0\",\"Mux2xOutBit_inst0.I1\"],\r\n",
      "          [\"self.O\",\"Mux2xOutBit_inst0.O\"],\r\n",
      "          [\"self.S\",\"Mux2xOutBit_inst0.S\"]\r\n",
      "        ]\r\n",
      "      },\r\n",
      "      \"invert\":{\r\n",
      "        \"type\":[\"Record\",[\r\n",
      "          [\"a\",\"BitIn\"],\r\n",
      "          [\"O\",\"Bit\"]\r\n",
      "        ]],\r\n",
      "        \"instances\":{\r\n",
      "          \"not_inst0\":{\r\n",
      "            \"modref\":\"corebit.not\"\r\n",
      "          }\r\n",
      "        },\r\n",
      "        \"connections\":[\r\n",
      "          [\"self.a\",\"not_inst0.in\"],\r\n",
      "          [\"self.O\",\"not_inst0.out\"]\r\n",
      "        ]\r\n",
      "      }\r\n",
      "    }\r\n",
      "  }\r\n",
      "}\r\n",
      "}\r\n",
      "/Users/leonardtruong/repos/coreir/src/binary/coreir.cpp:238 Modified?: No\r\n"
     ]
    }
   ],
   "source": [
    "@m.circuit.sequential\n",
    "class Counter:\n",
    "    def __init__(self):\n",
    "        self.count : m.UInt[16] = 0\n",
    "\n",
    "    def __call__(self, inc : m.Bit) -> m.UInt[16]:\n",
    "        if inc:\n",
    "            self.count = self.count + 1\n",
    "\n",
    "        O = self.count\n",
    "        return O\n",
    "\n",
    "\n",
    "m.compile(\"Counter\", Counter, output=\"coreir-verilog\")\n",
    "!coreir -i Counter.json -p instancecount -l commonlib"
   ]
  },
  {
   "cell_type": "code",
   "execution_count": 9,
   "metadata": {},
   "outputs": [
    {
     "name": "stdout",
     "output_type": "stream",
     "text": [
      "1\n",
      "2\n",
      "3\n",
      "4\n",
      "4\n",
      "4\n",
      "4\n",
      "4\n"
     ]
    }
   ],
   "source": [
    "tester = fault.PythonTester(Counter, Counter.CLK)\n",
    "tester.poke(Counter.inc, True)\n",
    "tester.eval()\n",
    "for i in range(4):\n",
    "    print(tester.peek(Counter.O))\n",
    "    assert tester.peek(Counter.O) == i + 1\n",
    "    tester.step(2)\n",
    "tester.poke(Counter.inc, False)\n",
    "tester.eval()\n",
    "for i in range(4):\n",
    "    print(tester.peek(Counter.O))\n",
    "    assert tester.peek(Counter.O) == 4\n",
    "    tester.step(2)"
   ]
  },
  {
   "cell_type": "code",
   "execution_count": null,
   "metadata": {},
   "outputs": [],
   "source": []
  }
 ],
 "metadata": {
  "kernelspec": {
   "display_name": "Python 3",
   "language": "python",
   "name": "python3"
  },
  "language_info": {
   "codemirror_mode": {
    "name": "ipython",
    "version": 3
   },
   "file_extension": ".py",
   "mimetype": "text/x-python",
   "name": "python",
   "nbconvert_exporter": "python",
   "pygments_lexer": "ipython3",
   "version": "3.7.1"
  }
 },
 "nbformat": 4,
 "nbformat_minor": 2
}
