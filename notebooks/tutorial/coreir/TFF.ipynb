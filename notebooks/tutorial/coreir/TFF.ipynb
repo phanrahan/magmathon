{
 "cells": [
  {
   "cell_type": "markdown",
   "metadata": {},
   "source": [
    "## DFF and TFF (Toggle Flip-Flop)\n",
    "\n",
    "In this example we create a toggle flip-flop (TFF) from a d-flip-flop (DFF). In `Magma`, finite state machines can be constructed by composing combinational logic with flop-flops register primitives."
   ]
  },
  {
   "cell_type": "code",
   "execution_count": 1,
   "metadata": {},
   "outputs": [],
   "source": [
    "import magma as m\n",
    "from mantle import DFF"
   ]
  },
  {
   "cell_type": "code",
   "execution_count": 2,
   "metadata": {
    "scrolled": true
   },
   "outputs": [],
   "source": [
    "class TFF(m.Circuit):\n",
    "    io = m.IO(O=m.Out(m.Bit)) + m.ClockIO()\n",
    "    # instance a dff to hold the state of the toggle flip-flop - this needs to be done first\n",
    "    dff = DFF()\n",
    "    # compute the next state as the not of the old state ff.O\n",
    "    io.O <= dff(~dff.O)\n",
    "        \n",
    "def tff():\n",
    "    return TFF()()"
   ]
  },
  {
   "cell_type": "markdown",
   "metadata": {},
   "source": [
    "Test using the python simulator."
   ]
  },
  {
   "cell_type": "code",
   "execution_count": 3,
   "metadata": {},
   "outputs": [
    {
     "name": "stdout",
     "output_type": "stream",
     "text": [
      "Success!\n"
     ]
    }
   ],
   "source": [
    "from fault import PythonTester\n",
    "tester = PythonTester(TFF, TFF.CLK)\n",
    "\n",
    "tester.eval()\n",
    "val = tester.peek(TFF.O)\n",
    "assert val == False\n",
    "\n",
    "for i in range(10):\n",
    "    val = not val\n",
    "    \n",
    "    tester.step() # toggle clock - now High\n",
    "    assert val == tester.peek(TFF.O)\n",
    "\n",
    "    tester.step() # toggle clock - now Low\n",
    "    assert val == tester.peek(TFF.O)\n",
    "\n",
    "print(\"Success!\")"
   ]
  },
  {
   "cell_type": "markdown",
   "metadata": {},
   "source": [
    "### Generate Verilog"
   ]
  },
  {
   "cell_type": "markdown",
   "metadata": {},
   "source": [
    "Generate verilog with `coreir`."
   ]
  },
  {
   "cell_type": "code",
   "execution_count": 4,
   "metadata": {},
   "outputs": [
    {
     "name": "stdout",
     "output_type": "stream",
     "text": [
      "module coreir_reg #(\r\n",
      "    parameter width = 1,\r\n",
      "    parameter clk_posedge = 1,\r\n",
      "    parameter init = 1\r\n",
      ") (\r\n",
      "    input clk,\r\n",
      "    input [width-1:0] in,\r\n",
      "    output [width-1:0] out\r\n",
      ");\r\n",
      "  reg [width-1:0] outReg=init;\r\n",
      "  wire real_clk;\r\n",
      "  assign real_clk = clk_posedge ? clk : ~clk;\r\n",
      "  always @(posedge real_clk) begin\r\n",
      "    outReg <= in;\r\n",
      "  end\r\n",
      "  assign out = outReg;\r\n",
      "endmodule\r\n",
      "\r\n",
      "module DFF_init0_has_ceFalse_has_resetFalse_has_async_resetFalse (\r\n",
      "    input I,\r\n",
      "    output O,\r\n",
      "    input CLK\r\n",
      ");\r\n",
      "wire [0:0] reg_P_inst0_out;\r\n",
      "coreir_reg #(\r\n",
      "    .clk_posedge(1'b1),\r\n",
      "    .init(1'h0),\r\n",
      "    .width(1)\r\n",
      ") reg_P_inst0 (\r\n",
      "    .clk(CLK),\r\n",
      "    .in(I),\r\n",
      "    .out(reg_P_inst0_out)\r\n",
      ");\r\n",
      "assign O = reg_P_inst0_out[0];\r\n",
      "endmodule\r\n",
      "\r\n",
      "module TFF (\r\n",
      "    output O,\r\n",
      "    input CLK\r\n",
      ");\r\n",
      "DFF_init0_has_ceFalse_has_resetFalse_has_async_resetFalse DFF_init0_has_ceFalse_has_resetFalse_has_async_resetFalse_inst0 (\r\n",
      "    .I(~ O),\r\n",
      "    .O(O),\r\n",
      "    .CLK(CLK)\r\n",
      ");\r\n",
      "endmodule\r\n",
      "\r\n"
     ]
    }
   ],
   "source": [
    "m.compile(\"build/TFF\", TFF, inline=True)\n",
    "%cat build/TFF.v"
   ]
  },
  {
   "cell_type": "code",
   "execution_count": 5,
   "metadata": {},
   "outputs": [
    {
     "name": "stdout",
     "output_type": "stream",
     "text": [
      "{\"top\":\"global.TFF\",\r\n",
      "\"namespaces\":{\r\n",
      "  \"global\":{\r\n",
      "    \"modules\":{\r\n",
      "      \"DFF_init0_has_ceFalse_has_resetFalse_has_async_resetFalse\":{\r\n",
      "        \"type\":[\"Record\",[\r\n",
      "          [\"I\",\"BitIn\"],\r\n",
      "          [\"O\",\"Bit\"],\r\n",
      "          [\"CLK\",[\"Named\",\"coreir.clkIn\"]]\r\n",
      "        ]],\r\n",
      "        \"instances\":{\r\n",
      "          \"reg_P_inst0\":{\r\n",
      "            \"genref\":\"coreir.reg\",\r\n",
      "            \"genargs\":{\"width\":[\"Int\",1]},\r\n",
      "            \"modargs\":{\"clk_posedge\":[\"Bool\",true], \"init\":[[\"BitVector\",1],\"1'h0\"]}\r\n",
      "          }\r\n",
      "        },\r\n",
      "        \"connections\":[\r\n",
      "          [\"self.CLK\",\"reg_P_inst0.clk\"],\r\n",
      "          [\"self.I\",\"reg_P_inst0.in.0\"],\r\n",
      "          [\"self.O\",\"reg_P_inst0.out.0\"]\r\n",
      "        ]\r\n",
      "      },\r\n",
      "      \"TFF\":{\r\n",
      "        \"type\":[\"Record\",[\r\n",
      "          [\"O\",\"Bit\"],\r\n",
      "          [\"CLK\",[\"Named\",\"coreir.clkIn\"]]\r\n",
      "        ]],\r\n",
      "        \"instances\":{\r\n",
      "          \"DFF_init0_has_ceFalse_has_resetFalse_has_async_resetFalse_inst0\":{\r\n",
      "            \"modref\":\"global.DFF_init0_has_ceFalse_has_resetFalse_has_async_resetFalse\"\r\n",
      "          },\r\n",
      "          \"magma_Bit_not_inst0\":{\r\n",
      "            \"modref\":\"corebit.not\"\r\n",
      "          }\r\n",
      "        },\r\n",
      "        \"connections\":[\r\n",
      "          [\"self.CLK\",\"DFF_init0_has_ceFalse_has_resetFalse_has_async_resetFalse_inst0.CLK\"],\r\n",
      "          [\"magma_Bit_not_inst0.out\",\"DFF_init0_has_ceFalse_has_resetFalse_has_async_resetFalse_inst0.I\"],\r\n",
      "          [\"magma_Bit_not_inst0.in\",\"DFF_init0_has_ceFalse_has_resetFalse_has_async_resetFalse_inst0.O\"],\r\n",
      "          [\"self.O\",\"DFF_init0_has_ceFalse_has_resetFalse_has_async_resetFalse_inst0.O\"]\r\n",
      "        ]\r\n",
      "      }\r\n",
      "    }\r\n",
      "  }\r\n",
      "}\r\n",
      "}\r\n"
     ]
    }
   ],
   "source": [
    "%cat build/TFF.json"
   ]
  },
  {
   "cell_type": "code",
   "execution_count": 6,
   "metadata": {},
   "outputs": [
    {
     "name": "stdout",
     "output_type": "stream",
     "text": [
      "An instance count of all the primitives\r\n",
      "=======================================\r\n",
      "DFF_init0_has_ceFalse_has_resetFalse_has_async_resetFalse | instances in current | instances in children | \r\n",
      "  coreir_reg__width1 | 1 | 0\r\n",
      "\r\n",
      "TFF | instances in current | instances in children | \r\n",
      "  corebit_not | 1 | 0\r\n",
      "  coreir_reg__width1 | 0 | 1\r\n",
      "\r\n",
      "=======================================\r\n",
      "{\"top\":\"global.TFF\",\r\n",
      "\"namespaces\":{\r\n",
      "  \"global\":{\r\n",
      "    \"modules\":{\r\n",
      "      \"DFF_init0_has_ceFalse_has_resetFalse_has_async_resetFalse\":{\r\n",
      "        \"type\":[\"Record\",[\r\n",
      "          [\"I\",\"BitIn\"],\r\n",
      "          [\"O\",\"Bit\"],\r\n",
      "          [\"CLK\",[\"Named\",\"coreir.clkIn\"]]\r\n",
      "        ]],\r\n",
      "        \"instances\":{\r\n",
      "          \"reg_P_inst0\":{\r\n",
      "            \"genref\":\"coreir.reg\",\r\n",
      "            \"genargs\":{\"width\":[\"Int\",1]},\r\n",
      "            \"modargs\":{\"clk_posedge\":[\"Bool\",true], \"init\":[[\"BitVector\",1],\"1'h0\"]}\r\n",
      "          }\r\n",
      "        },\r\n",
      "        \"connections\":[\r\n",
      "          [\"self.CLK\",\"reg_P_inst0.clk\"],\r\n",
      "          [\"self.I\",\"reg_P_inst0.in.0\"],\r\n",
      "          [\"self.O\",\"reg_P_inst0.out.0\"]\r\n",
      "        ]\r\n",
      "      },\r\n",
      "      \"TFF\":{\r\n",
      "        \"type\":[\"Record\",[\r\n",
      "          [\"O\",\"Bit\"],\r\n",
      "          [\"CLK\",[\"Named\",\"coreir.clkIn\"]]\r\n",
      "        ]],\r\n",
      "        \"instances\":{\r\n",
      "          \"DFF_init0_has_ceFalse_has_resetFalse_has_async_resetFalse_inst0\":{\r\n",
      "            \"modref\":\"global.DFF_init0_has_ceFalse_has_resetFalse_has_async_resetFalse\"\r\n",
      "          },\r\n",
      "          \"magma_Bit_not_inst0\":{\r\n",
      "            \"modref\":\"corebit.not\"\r\n",
      "          }\r\n",
      "        },\r\n",
      "        \"connections\":[\r\n",
      "          [\"self.CLK\",\"DFF_init0_has_ceFalse_has_resetFalse_has_async_resetFalse_inst0.CLK\"],\r\n",
      "          [\"magma_Bit_not_inst0.out\",\"DFF_init0_has_ceFalse_has_resetFalse_has_async_resetFalse_inst0.I\"],\r\n",
      "          [\"magma_Bit_not_inst0.in\",\"DFF_init0_has_ceFalse_has_resetFalse_has_async_resetFalse_inst0.O\"],\r\n",
      "          [\"self.O\",\"DFF_init0_has_ceFalse_has_resetFalse_has_async_resetFalse_inst0.O\"]\r\n",
      "        ]\r\n",
      "      }\r\n",
      "    }\r\n",
      "  }\r\n",
      "}\r\n",
      "}\r\n",
      "/Users/leonardtruong/repos/coreir/src/binary/coreir.cpp:238 Modified?: No\r\n"
     ]
    }
   ],
   "source": [
    "!coreir -i build/TFF.json -p instancecount"
   ]
  },
  {
   "cell_type": "markdown",
   "metadata": {},
   "source": [
    "Here's an example of testing using fault's *staged* `Tester` class and the `verilator ` simulator."
   ]
  },
  {
   "cell_type": "code",
   "execution_count": 7,
   "metadata": {},
   "outputs": [
    {
     "name": "stdout",
     "output_type": "stream",
     "text": [
      "\u001b[36m\u001b[1mRunning command: \u001b[0mverilator -Wall -Wno-INCABSPATH -Wno-DECLFILENAME --cc TFF.v --exe TFF_driver.cpp --top-module TFF\n",
      "\u001b[36m\u001b[1mRunning command: \u001b[0mverilator --version\n",
      "\u001b[35m\u001b[1m<STDOUT>\u001b[0m\n",
      "Verilator 4.016 2019-06-16 rev UNKNOWN_REV\n",
      "\u001b[35m\u001b[1m</STDOUT>\u001b[0m\n",
      "\u001b[36m\u001b[1mRunning command: \u001b[0mmake -C obj_dir -j -f VTFF.mk VTFF\n",
      "\u001b[35m\u001b[1m<STDOUT>\u001b[0m\n",
      "clang++  -I.  -MMD -I/usr/local/Cellar/verilator/4.016/share/verilator/include -I/usr/local/Cellar/verilator/4.016/share/verilator/include/vltstd -DVL_PRINTF=printf -DVM_COVERAGE=0 -DVM_SC=0 -DVM_TRACE=0 -faligned-new -fbracket-depth=4096 -Qunused-arguments -Wno-parentheses-equality -Wno-sign-compare -Wno-uninitialized -Wno-unused-parameter -Wno-unused-variable -Wno-shadow       -c -o TFF_driver.o ../TFF_driver.cpp\n",
      "/usr/bin/perl /usr/local/Cellar/verilator/4.016/share/verilator/bin/verilator_includer -DVL_INCLUDE_OPT=include VTFF.cpp > VTFF__ALLcls.cpp\n",
      "/usr/bin/perl /usr/local/Cellar/verilator/4.016/share/verilator/bin/verilator_includer -DVL_INCLUDE_OPT=include VTFF__Syms.cpp > VTFF__ALLsup.cpp\n",
      "clang++  -I.  -MMD -I/usr/local/Cellar/verilator/4.016/share/verilator/include -I/usr/local/Cellar/verilator/4.016/share/verilator/include/vltstd -DVL_PRINTF=printf -DVM_COVERAGE=0 -DVM_SC=0 -DVM_TRACE=0 -faligned-new -fbracket-depth=4096 -Qunused-arguments -Wno-parentheses-equality -Wno-sign-compare -Wno-uninitialized -Wno-unused-parameter -Wno-unused-variable -Wno-shadow       -c -o VTFF__ALLcls.o VTFF__ALLcls.cpp\n",
      "clang++  -I.  -MMD -I/usr/local/Cellar/verilator/4.016/share/verilator/include -I/usr/local/Cellar/verilator/4.016/share/verilator/include/vltstd -DVL_PRINTF=printf -DVM_COVERAGE=0 -DVM_SC=0 -DVM_TRACE=0 -faligned-new -fbracket-depth=4096 -Qunused-arguments -Wno-parentheses-equality -Wno-sign-compare -Wno-uninitialized -Wno-unused-parameter -Wno-unused-variable -Wno-shadow       -c -o VTFF__ALLsup.o VTFF__ALLsup.cpp\n",
      "      Archiving VTFF__ALL.a ...\n",
      "ar r VTFF__ALL.a VTFF__ALLcls.o VTFF__ALLsup.o\n",
      "ranlib VTFF__ALL.a\n",
      "clang++    TFF_driver.o verilated.o VTFF__ALL.a    -o VTFF -lm -lstdc++\n",
      "\u001b[35m\u001b[1m</STDOUT>\u001b[0m\n",
      "\u001b[36m\u001b[1mRunning command: \u001b[0m./obj_dir/VTFF\n",
      "\u001b[35m\u001b[1m<STDOUT>\u001b[0m\n",
      "TFF.O=1\n",
      "TFF.O=0\n",
      "TFF.O=1\n",
      "TFF.O=0\n",
      "TFF.O=1\n",
      "\u001b[35m\u001b[1m</STDOUT>\u001b[0m\n"
     ]
    }
   ],
   "source": [
    "import fault\n",
    "tester = fault.Tester(TFF, TFF.CLK)\n",
    "for i in range(5):\n",
    "    tester.step(2)\n",
    "    tester.print(\"TFF.O=%d\\n\", TFF.O)\n",
    "tester.compile_and_run(\"verilator\", disp_type='realtime')"
   ]
  }
 ],
 "metadata": {
  "kernelspec": {
   "display_name": "Python 3",
   "language": "python",
   "name": "python3"
  },
  "language_info": {
   "codemirror_mode": {
    "name": "ipython",
    "version": 3
   },
   "file_extension": ".py",
   "mimetype": "text/x-python",
   "name": "python",
   "nbconvert_exporter": "python",
   "pygments_lexer": "ipython3",
   "version": "3.7.1"
  }
 },
 "nbformat": 4,
 "nbformat_minor": 2
}
