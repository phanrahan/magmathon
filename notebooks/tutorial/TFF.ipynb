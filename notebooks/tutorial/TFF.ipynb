{
 "cells": [
  {
   "cell_type": "markdown",
   "metadata": {},
   "source": [
    "## Toggle Flip-Flop\n",
    "\n",
    "In this example we create a toggle flip-flop (TFF) from a d-flip-flop (DFF) and an xor gate. In `Magma`, finite state machines can be constructed by composing combinational logic with register primitives, such as a `DFF` or `Register`."
   ]
  },
  {
   "cell_type": "code",
   "execution_count": 1,
   "metadata": {},
   "outputs": [],
   "source": [
    "import magma as m\n",
    "m.set_mantle_target(\"ice40\")"
   ]
  },
  {
   "cell_type": "markdown",
   "metadata": {},
   "source": [
    "As before, we can use a native Python function to organize the definition of our TFF into a reusable component."
   ]
  },
  {
   "cell_type": "code",
   "execution_count": 2,
   "metadata": {},
   "outputs": [
    {
     "name": "stdout",
     "output_type": "stream",
     "text": [
      "import lattice ice40\n",
      "import lattice mantle40\n"
     ]
    }
   ],
   "source": [
    "from mantle import DFF\n",
    "\n",
    "class TFF(m.Circuit):\n",
    "    IO = ['O', m.Out(m.Bit)] + m.ClockInterface()\n",
    "    @classmethod\n",
    "    def definition(io):\n",
    "        # instance a dff to hold the state of the toggle flip-flop - this needs to be done first\n",
    "        dff = DFF()\n",
    "        # compute the next state as the not of the old state ff.O\n",
    "        m.wire(dff(~dff.O), io.O)\n",
    "        \n",
    "def tff():\n",
    "    return TFF()"
   ]
  },
  {
   "cell_type": "markdown",
   "metadata": {},
   "source": [
    "Then we simply call this function inside our definition of the IceStick `main`."
   ]
  },
  {
   "cell_type": "code",
   "execution_count": 3,
   "metadata": {},
   "outputs": [],
   "source": [
    "from loam.boards.icestick import IceStick\n",
    "\n",
    "icestick = IceStick()\n",
    "icestick.Clock.on()\n",
    "icestick.J3[0].rename('J3').output().on()\n",
    "\n",
    "main = icestick.DefineMain()\n",
    "m.wire( tff(), main.J3 )\n",
    "m.EndDefine()"
   ]
  },
  {
   "cell_type": "markdown",
   "metadata": {},
   "source": [
    "We'll compile and build our program using the standard flow."
   ]
  },
  {
   "cell_type": "code",
   "execution_count": 4,
   "metadata": {},
   "outputs": [],
   "source": [
    "m.compile(\"build/tff\", main)"
   ]
  },
  {
   "cell_type": "code",
   "execution_count": 5,
   "metadata": {},
   "outputs": [
    {
     "name": "stdout",
     "output_type": "stream",
     "text": [
      "/Users/hanrahan/git/magmathon/notebooks/tutorial/build\n"
     ]
    },
    {
     "name": "stderr",
     "output_type": "stream",
     "text": [
      "init..\n",
      "cdone: high\n",
      "reset..\n",
      "cdone: low\n",
      "flash ID: 0x20 0xBA 0x16 0x10 0x00 0x00 0x23 0x51 0x73 0x10 0x23 0x00 0x15 0x00 0x26 0x06 0x06 0x15 0x9F 0x4E\n",
      "file size: 32220\n",
      "erase 64kB sector at 0x000000..\n",
      "programming..\n",
      "reading..\n",
      "VERIFY OK\n",
      "cdone: high\n",
      "Bye.\n"
     ]
    }
   ],
   "source": [
    "%%bash\n",
    "cd build\n",
    "yosys -q -p 'synth_ice40 -top main -blif tff.blif' tff.v\n",
    "arachne-pnr -q -d 1k -o tff.txt -p tff.pcf tff.blif \n",
    "icepack tff.txt tff.bin\n",
    "iceprog tff.bin"
   ]
  },
  {
   "cell_type": "markdown",
   "metadata": {},
   "source": [
    "Let's inspect the generated verilog."
   ]
  },
  {
   "cell_type": "code",
   "execution_count": 6,
   "metadata": {},
   "outputs": [
    {
     "name": "stdout",
     "output_type": "stream",
     "text": [
      "module TFF (output  O, input  CLK);\r\n",
      "wire  inst0_Q;\r\n",
      "wire  inst1_O;\r\n",
      "SB_DFF inst0 (.C(CLK), .D(inst1_O), .Q(inst0_Q));\r\n",
      "SB_LUT4 #(.LUT_INIT(16'h5555)) inst1 (.I0(inst0_Q), .I1(1'b0), .I2(1'b0), .I3(1'b0), .O(inst1_O));\r\n",
      "assign O = inst0_Q;\r\n",
      "endmodule\r\n",
      "\r\n",
      "module main (output  J3, input  CLKIN);\r\n",
      "wire  inst0_O;\r\n",
      "TFF inst0 (.O(inst0_O), .CLK(CLKIN));\r\n",
      "assign J3 = inst0_O;\r\n",
      "endmodule\r\n",
      "\r\n"
     ]
    }
   ],
   "source": [
    "%cat build/tff.v"
   ]
  },
  {
   "cell_type": "markdown",
   "metadata": {},
   "source": [
    "We can verify our implementation is function correctly by using a logic analyzer."
   ]
  },
  {
   "cell_type": "code",
   "execution_count": 7,
   "metadata": {},
   "outputs": [
    {
     "name": "stdout",
     "output_type": "stream",
     "text": [
      "set_io J3 62\r\n",
      "set_io CLKIN 21\r\n"
     ]
    }
   ],
   "source": [
    "%cat build/tff.pcf"
   ]
  },
  {
   "cell_type": "markdown",
   "metadata": {},
   "source": [
    "![](images/tff.png)"
   ]
  }
 ],
 "metadata": {
  "kernelspec": {
   "display_name": "Python 3",
   "language": "python",
   "name": "python3"
  },
  "language_info": {
   "codemirror_mode": {
    "name": "ipython",
    "version": 3
   },
   "file_extension": ".py",
   "mimetype": "text/x-python",
   "name": "python",
   "nbconvert_exporter": "python",
   "pygments_lexer": "ipython3",
   "version": "3.6.5"
  }
 },
 "nbformat": 4,
 "nbformat_minor": 2
}
