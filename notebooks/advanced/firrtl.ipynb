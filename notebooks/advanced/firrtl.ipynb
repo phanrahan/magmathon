{
 "cells": [
  {
   "cell_type": "markdown",
   "metadata": {},
   "source": [
    "First, install Firrtl by following their [installation instructions](https://github.com/freechipsproject/firrtl#installation-instructions)   \n",
    "\n",
    "Be sure to add the directory containing the firrtl command line tool (typically `firrtl/utils/bin`) to your `$PATH`\n",
    "  \n",
    "\n",
    "The FIRRTL backend for magma is experimental and woefully lacking in support for standard mantle circuits. The core functionality has been implemented to demonstrate the capability of compiling magma circuits to FIRRTL. Pull requests that expand support for the FIRRTL are welcome."
   ]
  },
  {
   "cell_type": "code",
   "execution_count": 1,
   "metadata": {},
   "outputs": [
    {
     "name": "stdout",
     "output_type": "stream",
     "text": [
      "compiling main\n",
      "circuit main :\n",
      "  module main :\n",
      "    input a : UInt<1>\n",
      "    input b : UInt<1>\n",
      "    input c : UInt<1>\n",
      "    output d : UInt<1>\n",
      "    \n",
      "    wire inst0_out : UInt<1>\n",
      "    wire inst1_out : UInt<1>\n",
      "    inst0_out <= and(a, b)\n",
      "    inst1_out <= xor(inst0_out, c)\n",
      "    d <= inst1_out\n",
      "\n"
     ]
    }
   ],
   "source": [
    "import magma as m\n",
    "m.set_mantle_target(\"coreir\")\n",
    "import mantle\n",
    "\n",
    "main = m.DefineCircuit('main', \"a\", m.In(m.Bit), \"b\", m.In(m.Bit), \"c\", m.In(m.Bit), \"d\", m.Out(m.Bit))\n",
    "d = (main.a & main.b) ^ main.c\n",
    "m.wire(d, main.d)\n",
    "m.compile(\"build/main\", main, output=\"firrtl\")\n",
    "\n",
    "with open(\"build/main.fir\", \"r\") as f:\n",
    "    print(f.read())"
   ]
  },
  {
   "cell_type": "markdown",
   "metadata": {},
   "source": [
    "*Note*: the `!` syntax used in the next cell is jupyter notebook syntax sugar for executing a shell command"
   ]
  },
  {
   "cell_type": "code",
   "execution_count": 2,
   "metadata": {},
   "outputs": [
    {
     "name": "stdout",
     "output_type": "stream",
     "text": [
      "Total FIRRTL Compile Time: 1377.3 ms\r\n"
     ]
    }
   ],
   "source": [
    "!firrtl -i build/main.fir -o build/main.v -X verilog"
   ]
  },
  {
   "cell_type": "code",
   "execution_count": 3,
   "metadata": {},
   "outputs": [
    {
     "name": "stdout",
     "output_type": "stream",
     "text": [
      "module main( // @[:main.fir@2.2]\n",
      "  input   a, // @[:main.fir@3.4]\n",
      "  input   b, // @[:main.fir@4.4]\n",
      "  input   c, // @[:main.fir@5.4]\n",
      "  output  d // @[:main.fir@6.4]\n",
      ");\n",
      "  wire  inst0_out; // @[:main.fir@8.4 :main.fir@10.4]\n",
      "  assign inst0_out = a & b; // @[:main.fir@8.4 :main.fir@10.4]\n",
      "  assign d = inst0_out ^ c; // @[:main.fir@12.4]\n",
      "endmodule\n",
      "\n"
     ]
    }
   ],
   "source": [
    "with open(\"build/main.v\", \"r\") as f:\n",
    "    print(f.read())"
   ]
  },
  {
   "cell_type": "code",
   "execution_count": 4,
   "metadata": {
    "collapsed": true
   },
   "outputs": [],
   "source": [
    "with open(\"build/sim_main.cpp\", \"w\") as sim_main_f:\n",
    "    sim_main_f.write(\"\"\"\n",
    "#include \"Vmain.h\"\n",
    "#include \"verilated.h\"\n",
    "#include <cassert>\n",
    "#include <iostream>\n",
    "\n",
    "int main(int argc, char **argv, char **env) {\n",
    "    Verilated::commandArgs(argc, argv);\n",
    "    Vmain* top = new Vmain;\n",
    "    int tests[8][4] = {\n",
    "        {0, 0, 0, 0},\n",
    "        {1, 0, 0, 0},\n",
    "        {0, 1, 0, 0},\n",
    "        {1, 1, 0, 1},\n",
    "        {0, 0, 1, 1},\n",
    "        {1, 0, 1, 1},\n",
    "        {0, 1, 1, 1},\n",
    "        {1, 1, 1, 0},\n",
    "    };\n",
    "    for(int i = 0; i < 8; i++) {\n",
    "        int* test = tests[i];\n",
    "        int a = test[0];\n",
    "        int b = test[1];\n",
    "        int c = test[2];\n",
    "        int d = test[3];\n",
    "\n",
    "        top->a = a;\n",
    "        top->b = b;\n",
    "        top->c = c;\n",
    "\n",
    "        top->eval();\n",
    "        assert(top->d == d);\n",
    "    }\n",
    "\n",
    "    delete top;\n",
    "    std::cout << \"Success\" << std::endl;\n",
    "    exit(0);\n",
    "}    \n",
    "\"\"\")"
   ]
  },
  {
   "cell_type": "markdown",
   "metadata": {},
   "source": [
    "*Note*: The `%%bash` statement is a jupyter notebook magic operator that treats the cell as a bash script"
   ]
  },
  {
   "cell_type": "code",
   "execution_count": 5,
   "metadata": {},
   "outputs": [
    {
     "name": "stdout",
     "output_type": "stream",
     "text": [
      "clang++  -I.  -MMD -I/usr/local/Cellar/verilator/3.924/share/verilator/include -I/usr/local/Cellar/verilator/3.924/share/verilator/include/vltstd -DVL_PRINTF=printf -DVM_COVERAGE=0 -DVM_SC=0 -DVM_TRACE=0 -faligned-new -fbracket-depth=4096 -Qunused-arguments -Wno-parentheses-equality -Wno-sign-compare -Wno-uninitialized -Wno-unused-parameter -Wno-unused-variable -Wno-shadow       -c -o sim_main.o ../sim_main.cpp\n",
      "/usr/bin/perl /usr/local/Cellar/verilator/3.924/share/verilator/bin/verilator_includer -DVL_INCLUDE_OPT=include Vmain.cpp > Vmain__ALLcls.cpp\n",
      "/usr/bin/perl /usr/local/Cellar/verilator/3.924/share/verilator/bin/verilator_includer -DVL_INCLUDE_OPT=include Vmain__Syms.cpp > Vmain__ALLsup.cpp\n",
      "clang++  -I.  -MMD -I/usr/local/Cellar/verilator/3.924/share/verilator/include -I/usr/local/Cellar/verilator/3.924/share/verilator/include/vltstd -DVL_PRINTF=printf -DVM_COVERAGE=0 -DVM_SC=0 -DVM_TRACE=0 -faligned-new -fbracket-depth=4096 -Qunused-arguments -Wno-parentheses-equality -Wno-sign-compare -Wno-uninitialized -Wno-unused-parameter -Wno-unused-variable -Wno-shadow       -c -o Vmain__ALLsup.o Vmain__ALLsup.cpp\n",
      "clang++  -I.  -MMD -I/usr/local/Cellar/verilator/3.924/share/verilator/include -I/usr/local/Cellar/verilator/3.924/share/verilator/include/vltstd -DVL_PRINTF=printf -DVM_COVERAGE=0 -DVM_SC=0 -DVM_TRACE=0 -faligned-new -fbracket-depth=4096 -Qunused-arguments -Wno-parentheses-equality -Wno-sign-compare -Wno-uninitialized -Wno-unused-parameter -Wno-unused-variable -Wno-shadow       -c -o Vmain__ALLcls.o Vmain__ALLcls.cpp\n",
      "      Archiving Vmain__ALL.a ...\n",
      "ar r Vmain__ALL.a Vmain__ALLcls.o Vmain__ALLsup.o\n",
      "ranlib Vmain__ALL.a\n",
      "clang++    sim_main.o verilated.o Vmain__ALL.a    -o Vmain -lm -lstdc++ \n",
      "Success\n"
     ]
    }
   ],
   "source": [
    "%%bash\n",
    "cd build\n",
    "verilator -Wall -Wno-DECLFILENAME --cc main.v --exe sim_main.cpp\n",
    "make -C obj_dir -j -f Vmain.mk Vmain\n",
    "./obj_dir/Vmain"
   ]
  }
 ],
 "metadata": {
  "kernelspec": {
   "display_name": "Python 3",
   "language": "python",
   "name": "python3"
  },
  "language_info": {
   "codemirror_mode": {
    "name": "ipython",
    "version": 3
   },
   "file_extension": ".py",
   "mimetype": "text/x-python",
   "name": "python",
   "nbconvert_exporter": "python",
   "pygments_lexer": "ipython3",
   "version": "3.6.5"
  }
 },
 "nbformat": 4,
 "nbformat_minor": 2
}
