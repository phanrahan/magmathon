{
 "cells": [
  {
   "cell_type": "markdown",
   "metadata": {},
   "source": [
    "## PopCount8\n",
    "\n",
    "In this tutorial, we show how to construct a circuit to compute an 8-bit PopCount (population count)."
   ]
  },
  {
   "cell_type": "code",
   "execution_count": 1,
   "metadata": {
    "collapsed": true,
    "scrolled": true
   },
   "outputs": [],
   "source": [
    "import magma as m\n",
    "m.set_mantle_target(\"ice40\")"
   ]
  },
  {
   "cell_type": "markdown",
   "metadata": {},
   "source": [
    "In this example, we are going to use the built-in `fulladder` from `Mantle`."
   ]
  },
  {
   "cell_type": "code",
   "execution_count": 2,
   "metadata": {},
   "outputs": [
    {
     "name": "stdout",
     "output_type": "stream",
     "text": [
      "import lattice ice40\n",
      "import lattice mantle40\n"
     ]
    }
   ],
   "source": [
    "from mantle import fulladder"
   ]
  },
  {
   "cell_type": "markdown",
   "metadata": {},
   "source": [
    "A common name for a full adder is a carry-sum adder, or `csa`.\n",
    "Let's define two csa functions to help us construct the popcount."
   ]
  },
  {
   "cell_type": "code",
   "execution_count": 3,
   "metadata": {
    "collapsed": true
   },
   "outputs": [],
   "source": [
    "# 2 input \n",
    "def csa2(I0, I1):\n",
    "    return m.bits(fulladder(I0, I1, 0))\n",
    "\n",
    "# 3 input\n",
    "def csa3(I0, I1, I2):\n",
    "    return m.bits(fulladder(I0, I1, I2))"
   ]
  },
  {
   "cell_type": "markdown",
   "metadata": {},
   "source": [
    "To construct the 8-bit popcount, we first use 3 csa's to sum\n",
    "bits 0 through 2, 3 through 5, and 6 through 7.\n",
    "This forms 3 2-bit results.\n",
    "We can consider the results to be two columns, one for each *place*.\n",
    "The first column is the 1s and the second column is the 2s.\n",
    "\n",
    "We then use two fulladders to sum these columns.\n",
    "We continue summing 3-bits at a time until we get a single bit in each column.\n",
    "\n",
    "A common way to show these operations is with *Dadda dot notation*\n",
    "which shows how many bits are in each colum."
   ]
  },
  {
   "cell_type": "code",
   "execution_count": 4,
   "metadata": {
    "collapsed": true
   },
   "outputs": [],
   "source": [
    "def popcount8(I):\n",
    "    # Dadda dot notation (of the result)\n",
    "    # o o     csa0_0_21 - row 0, bits 2 and 1\n",
    "    # o o     csa0_1_21 - row 1, bits 2 and 1\n",
    "    # o o     csa0_2_21 - row 2, bits 2 and 1\n",
    "    csa0_0_21 = csa3(I[0], I[1], I[2])\n",
    "    csa0_1_21 = csa3(I[3], I[4], I[5])\n",
    "    csa0_2_21 = csa2(I[6], I[7])\n",
    "\n",
    "    #   o o   csa1_0_21 - row 0, bits 2 and 1\n",
    "    # o o     csa1_1_43 - row 1, bits 4 and 2\n",
    "    csa1_0_21 = csa3(csa0_0_21[0], csa0_1_21[0], csa0_2_21[0])\n",
    "    csa1_1_42 = csa3(csa0_0_21[1], csa0_1_21[1], csa0_2_21[1])\n",
    "\n",
    "    # o o     csa2_0_42 - row 0, bits 4 and 2\n",
    "    csa2_0_42 = csa2(csa1_0_21[1], csa1_1_42[0])\n",
    "\n",
    "    # o o     csa3_0_84 - row 0, bits 8 and 4 \n",
    "    csa3_0_84 = csa2(csa1_1_42[1], csa2_0_42[1])\n",
    "    \n",
    "    return m.bits([csa1_0_21[0], csa2_0_42[0], csa3_0_84[0], csa3_0_84[1]])"
   ]
  },
  {
   "cell_type": "markdown",
   "metadata": {},
   "source": [
    "## Test bench\n",
    "\n",
    "In order to test the popcount circuit,\n",
    "we setup the IceStick board\n",
    "to have eight inputs and four outputs.\n",
    "As before, `J1` will be used for inputs and `J3` for outputs."
   ]
  },
  {
   "cell_type": "code",
   "execution_count": 5,
   "metadata": {
    "collapsed": true
   },
   "outputs": [],
   "source": [
    "from loam.boards.icestick import IceStick\n",
    "\n",
    "icestick = IceStick()\n",
    "for i in range(8):\n",
    "    icestick.J1[i].input().on()\n",
    "for i in range(4):\n",
    "    icestick.J3[i].output().on()\n",
    "    \n",
    "main = icestick.DefineMain()\n",
    "\n",
    "m.wire( popcount8(main.J1), main.J3 )\n",
    "\n",
    "m.EndDefine()"
   ]
  },
  {
   "cell_type": "code",
   "execution_count": 6,
   "metadata": {},
   "outputs": [],
   "source": [
    "m.compile('build/popcount8', main)"
   ]
  },
  {
   "cell_type": "markdown",
   "metadata": {},
   "source": [
    "And use our `yosys`, `arcachne-pnr`, and `icestorm` tool flow."
   ]
  },
  {
   "cell_type": "code",
   "execution_count": 7,
   "metadata": {},
   "outputs": [
    {
     "name": "stderr",
     "output_type": "stream",
     "text": [
      "init..\n",
      "cdone: high\n",
      "reset..\n",
      "cdone: low\n",
      "flash ID: 0x20 0xBA 0x16 0x10 0x00 0x00 0x23 0x64 0x34 0x65 0x03 0x00 0x71 0x00 0x26 0x27 0x12 0x16 0xD3 0xE4\n",
      "file size: 32220\n",
      "erase 64kB sector at 0x000000..\n",
      "programming..\n",
      "reading..\n",
      "VERIFY OK\n",
      "cdone: high\n",
      "Bye.\n"
     ]
    }
   ],
   "source": [
    "%%bash\n",
    "cd build\n",
    "yosys -q -p 'synth_ice40 -top main -blif popcount8.blif' popcount8.v\n",
    "arachne-pnr -q -d 1k -o popcount8.txt -p popcount8.pcf popcount8.blif \n",
    "icepack popcount8.txt popcount8.bin\n",
    "iceprog popcount8.bin"
   ]
  },
  {
   "cell_type": "markdown",
   "metadata": {},
   "source": [
    "You can test the program by connecting up some switches and LEDs to the headers. You should see the count of the inputs displayed on the LEDs."
   ]
  },
  {
   "cell_type": "markdown",
   "metadata": {
    "collapsed": true
   },
   "source": [
    "There is a more general version of `PopCount` in the `Mantle` library `util.compressor`."
   ]
  },
  {
   "cell_type": "code",
   "execution_count": null,
   "metadata": {
    "collapsed": true
   },
   "outputs": [],
   "source": []
  }
 ],
 "metadata": {
  "kernelspec": {
   "display_name": "Python 3",
   "language": "python",
   "name": "python3"
  },
  "language_info": {
   "codemirror_mode": {
    "name": "ipython",
    "version": 3
   },
   "file_extension": ".py",
   "mimetype": "text/x-python",
   "name": "python",
   "nbconvert_exporter": "python",
   "pygments_lexer": "ipython3",
   "version": "3.7.2"
  }
 },
 "nbformat": 4,
 "nbformat_minor": 2
}
