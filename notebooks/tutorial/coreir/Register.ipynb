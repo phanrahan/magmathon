{
 "cells": [
  {
   "cell_type": "markdown",
   "metadata": {},
   "source": [
    "## DFFs and Registers\n",
    "\n",
    "This example demonstrates the use of DFFs and registers."
   ]
  },
  {
   "cell_type": "code",
   "execution_count": 1,
   "metadata": {},
   "outputs": [
    {
     "name": "stderr",
     "output_type": "stream",
     "text": [
      "/Users/hanrahan/miniconda3/lib/python3.7/site-packages/pysmt/walkers/generic.py:43: DeprecationWarning: Using or importing the ABCs from 'collections' instead of from 'collections.abc' is deprecated since Python 3.3,and in 3.9 it will stop working\n",
      "  if len(nodetypes) == 1 and isinstance(nodetypes[0], collections.Iterable):\n"
     ]
    }
   ],
   "source": [
    "import magma as m"
   ]
  },
  {
   "cell_type": "markdown",
   "metadata": {},
   "source": [
    "### DFF\n",
    "\n",
    "The fundamental stateful element is a D-flip-flop. The flip-flop has a clock enable, its state will only be updated if the clock enable is true. Similarly, if a flip-flop has a reset signal, it will be reset to its initial value if reset is true."
   ]
  },
  {
   "cell_type": "code",
   "execution_count": 2,
   "metadata": {},
   "outputs": [],
   "source": [
    "from mantle import DFF\n",
    "\n",
    "dff = DFF()"
   ]
  },
  {
   "cell_type": "markdown",
   "metadata": {},
   "source": [
    "### Register\n",
    "\n",
    "A register is simply an array of flip-flops.\n",
    "To create an instance of a register, call `Register`\n",
    "with the number of bits `n` in the register."
   ]
  },
  {
   "cell_type": "code",
   "execution_count": 3,
   "metadata": {},
   "outputs": [],
   "source": [
    "from mantle import Register"
   ]
  },
  {
   "cell_type": "markdown",
   "metadata": {},
   "source": [
    "Registers and DFFs are very similar to each other.\n",
    "The only difference is that the input and output to a DFF\n",
    "are `Bit` values,\n",
    "whereas the inputs and the outputs to registers are `Bits[n]`."
   ]
  },
  {
   "cell_type": "markdown",
   "metadata": {},
   "source": [
    "### Registers with Enables and Resets\n",
    "\n",
    "Flip-flops and registers can have with clock enables and resets.\n",
    "The flip-flop has a clock enable, its state will only be updated\n",
    "if the clock enable is true.\n",
    "Similarly, if a flip-flop has a reset signal,\n",
    "it will be reset to its initial value if reset is true.\n",
    "\n",
    "To create registers with these additional inputs,\n",
    "set the optional arguments `has_ce` and/or `has_reset`\n",
    "when instancing the register."
   ]
  },
  {
   "cell_type": "code",
   "execution_count": 4,
   "metadata": {},
   "outputs": [],
   "source": [
    "register4 = Register(4, init=5, has_ce=True, has_reset=True )"
   ]
  },
  {
   "cell_type": "markdown",
   "metadata": {},
   "source": [
    "To wire the optional clock inputs, clock enable and reset,\n",
    "use named arguments (`ce` and `reset`) when you call the register with its inputs.\n",
    "In `Magma`, clock signals are handled differently than signals."
   ]
  }
 ],
 "metadata": {
  "kernelspec": {
   "display_name": "Python 3",
   "language": "python",
   "name": "python3"
  },
  "language_info": {
   "codemirror_mode": {
    "name": "ipython",
    "version": 3
   },
   "file_extension": ".py",
   "mimetype": "text/x-python",
   "name": "python",
   "nbconvert_exporter": "python",
   "pygments_lexer": "ipython3",
   "version": "3.7.6"
  }
 },
 "nbformat": 4,
 "nbformat_minor": 2
}
