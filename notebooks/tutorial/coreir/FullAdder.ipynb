{
 "cells": [
  {
   "cell_type": "markdown",
   "metadata": {},
   "source": [
    "## FullAdder - Combinational Circuits\n",
    "\n",
    "This notebook walks through the implementation of a basic combinational circuit, a full adder. This example introduces many of the features of `Magma` including circuits, wiring, operators, and the type system."
   ]
  },
  {
   "cell_type": "markdown",
   "metadata": {},
   "source": [
    "Start by importing `magma` and `mantle`. `magma` is the core system which implements circuits and the methods to compose them, and `mantle` is a library of useful circuits. "
   ]
  },
  {
   "cell_type": "code",
   "execution_count": 1,
   "metadata": {
    "scrolled": true
   },
   "outputs": [],
   "source": [
    "import magma as m\n",
    "import mantle"
   ]
  },
  {
   "cell_type": "markdown",
   "metadata": {},
   "source": [
    "A full adder has three single bit inputs, and returns the sum and the carry. The sum is the *exclusive or* of the 3 bits, the carry is 1 if any two of the inputs bits are 1. Here is a schematic of a full adder circuit (from `logisim`).\n",
    "\n",
    "<img src=\"images/full_adder_logisim.png\" width=\"500\"/>\n",
    "\n",
    "We start by defining a `magma` combinational function that implements a full adder. \n",
    "The full adder function takes three single bit inputs (type `m.Bit`) and returns two single bit outputs as a tuple.\n",
    "The first element of tuple is the sum, the second element is the carry.  Note that the arguments and return values of the functions have type annotations using Python 3's typing syntax.\n",
    "We compute the sum and carry using standard Python bitwise operators `&`, `|`, and `^`."
   ]
  },
  {
   "cell_type": "code",
   "execution_count": 2,
   "metadata": {},
   "outputs": [],
   "source": [
    "@m.circuit.combinational\n",
    "def full_adder(A: m.Bit, B: m.Bit, C: m.Bit) -> (m.Bit, m.Bit):\n",
    "    return A ^ B ^ C, A & B | B & C | C & A  # sum, carry"
   ]
  },
  {
   "cell_type": "markdown",
   "metadata": {},
   "source": [
    "We can test our combinational function to verify that our implementation behaves as expected `fault`.\n",
    "We'll use the `fault.PythonTester` which will simulate the circuit using `magma`'s Python simulator.\n",
    "To retrieve the circuit definition of an `m.circuit.combinational` function, we use the `.circuit_definition` attribute."
   ]
  },
  {
   "cell_type": "code",
   "execution_count": 3,
   "metadata": {},
   "outputs": [
    {
     "name": "stdout",
     "output_type": "stream",
     "text": [
      "Success!\n"
     ]
    }
   ],
   "source": [
    "import fault\n",
    "tester = fault.PythonTester(full_adder.circuit_definition)\n",
    "assert tester(1, 0, 0) == (1, 0), \"Failed\"\n",
    "assert tester(0, 1, 0) == (1, 0), \"Failed\"\n",
    "assert tester(1, 1, 0) == (0, 1), \"Failed\"\n",
    "assert tester(1, 0, 1) == (0, 1), \"Failed\"\n",
    "assert tester(1, 1, 1) == (1, 1), \"Failed\"\n",
    "print(\"Success!\")"
   ]
  },
  {
   "cell_type": "markdown",
   "metadata": {},
   "source": [
    "`combinational` functions are polymorphic over Python and magma types.  If the function is called with `magma` values, it will produce a circuit instance, wire up the inputs, and return references to the outputs.   Otherwise, it will invoke the function in Python.  For example, we can use the Python function to verify the circuit simulation. "
   ]
  },
  {
   "cell_type": "code",
   "execution_count": 4,
   "metadata": {},
   "outputs": [
    {
     "name": "stdout",
     "output_type": "stream",
     "text": [
      "Success!\n"
     ]
    }
   ],
   "source": [
    "assert tester(1, 0, 0) == full_adder(1, 0, 0), \"Failed\"\n",
    "assert tester(0, 1, 0) == full_adder(0, 1, 0), \"Failed\"\n",
    "assert tester(1, 1, 0) == full_adder(1, 1, 0), \"Failed\"\n",
    "assert tester(1, 0, 1) == full_adder(1, 0, 1), \"Failed\"\n",
    "assert tester(1, 1, 1) == full_adder(1, 1, 1), \"Failed\"\n",
    "print(\"Success!\")"
   ]
  },
  {
   "cell_type": "markdown",
   "metadata": {},
   "source": [
    "### Circuits"
   ]
  },
  {
   "cell_type": "markdown",
   "metadata": {},
   "source": [
    "Now that we have an implementation of `full_adder` as a combinational function, \n",
    "we'll use it to construct a `magma` `Circuit`. \n",
    "A `Circuit` in `magma` corresponds to a `module` in `verilog`.\n",
    "This example shows using the `combinational` function inside a circuit definition, as opposed to using the Python implementation shown before."
   ]
  },
  {
   "cell_type": "code",
   "execution_count": 5,
   "metadata": {},
   "outputs": [],
   "source": [
    "class FullAdder(m.Circuit):\n",
    "    io = m.IO(I0=m.In(m.Bit),\n",
    "              I1=m.In(m.Bit),\n",
    "              CIN=m.In(m.Bit),\n",
    "              O=m.Out(m.Bit),\n",
    "              COUT=m.Out(m.Bit))\n",
    "    \n",
    "    O, COUT = full_adder(io.I0, io.I1, io.CIN)\n",
    "    io.O @= O\n",
    "    io.COUT @= COUT"
   ]
  },
  {
   "cell_type": "markdown",
   "metadata": {},
   "source": [
    "First, notice that the `FullAdder` is a subclass of `Circuit`. All `magma` circuits are classes in python.\n",
    "\n",
    "Second, the function `IO` creates the interface to the circuit. \n",
    "The arguments to`IO` are keyword arguments. \n",
    "The key is the name of the argument in the circuit, and the value is its type. \n",
    "In this circuit, all the inputs and outputs have `Magma` type `Bit`. \n",
    "We also qualify each type as an input or an output using the functions `In` and `Out`.\n",
    "\n",
    "Note that when we call the python function `fulladder`\n",
    "it is passed `magma` values not standard python values.\n",
    "In the previous cell,  we tested `fulladder` with standard python ints,\n",
    "while in this case, the values passed to the Python `fulladder` function \n",
    "are `magma` values of type `Bit`.\n",
    "The Python bitwise operators for `Magmz` types are overloaded to automatically create subcircuits to compute logical functions.\n",
    "\n",
    "`fulladder` returns two values.\n",
    "These values are assigned to the python variables `O` and `COUT`. \n",
    "Remember that assigning to a Python variable \n",
    "sets the variable to refer to the object.\n",
    "`magma` values are Python objects,\n",
    "so assigning an object to a variable creates a reference to that `magma` value.\n",
    "In order to complete the definition of the circuit, \n",
    "`O` and `COUT` need to be *wired* to the outputs in the interface.\n",
    "\n",
    "The python `@=` operator is overloaded to perform wiring.\n",
    "\n",
    "Let's inspect the circuit definition by printing the `__repr__`."
   ]
  },
  {
   "cell_type": "code",
   "execution_count": 6,
   "metadata": {},
   "outputs": [
    {
     "name": "stdout",
     "output_type": "stream",
     "text": [
      "FullAdder = DefineCircuit(\"FullAdder\", \"I0\", In(Bit), \"I1\", In(Bit), \"CIN\", In(Bit), \"O\", Out(Bit), \"COUT\", Out(Bit))\n",
      "full_adder_inst0 = full_adder()\n",
      "wire(FullAdder.I0, full_adder_inst0.A)\n",
      "wire(FullAdder.I1, full_adder_inst0.B)\n",
      "wire(FullAdder.CIN, full_adder_inst0.C)\n",
      "wire(full_adder_inst0.O0, FullAdder.O)\n",
      "wire(full_adder_inst0.O1, FullAdder.COUT)\n",
      "EndCircuit()\n"
     ]
    }
   ],
   "source": [
    "print(repr(FullAdder))"
   ]
  },
  {
   "cell_type": "markdown",
   "metadata": {},
   "source": [
    "We see that it has created an instance of the `full_adder` combinational function and wired up the interface.\n",
    "\n",
    "We can also inspect the contents of the `full_adder` circuit definition.  Notice that it has lowered the Python operators into a structural representation of the primitive logicoperations."
   ]
  },
  {
   "cell_type": "code",
   "execution_count": 7,
   "metadata": {},
   "outputs": [
    {
     "name": "stdout",
     "output_type": "stream",
     "text": [
      "full_adder = DefineCircuit(\"full_adder\", \"A\", In(Bit), \"B\", In(Bit), \"C\", In(Bit), \"O0\", Out(Bit), \"O1\", Out(Bit))\n",
      "magma_Bit_and_inst0 = magma_Bit_and()\n",
      "magma_Bit_and_inst1 = magma_Bit_and()\n",
      "magma_Bit_and_inst2 = magma_Bit_and()\n",
      "magma_Bit_or_inst0 = magma_Bit_or()\n",
      "magma_Bit_or_inst1 = magma_Bit_or()\n",
      "magma_Bit_xor_inst0 = magma_Bit_xor()\n",
      "magma_Bit_xor_inst1 = magma_Bit_xor()\n",
      "wire(full_adder.A, magma_Bit_and_inst0.in0)\n",
      "wire(full_adder.B, magma_Bit_and_inst0.in1)\n",
      "wire(full_adder.B, magma_Bit_and_inst1.in0)\n",
      "wire(full_adder.C, magma_Bit_and_inst1.in1)\n",
      "wire(full_adder.C, magma_Bit_and_inst2.in0)\n",
      "wire(full_adder.A, magma_Bit_and_inst2.in1)\n",
      "wire(magma_Bit_and_inst0.out, magma_Bit_or_inst0.in0)\n",
      "wire(magma_Bit_and_inst1.out, magma_Bit_or_inst0.in1)\n",
      "wire(magma_Bit_or_inst0.out, magma_Bit_or_inst1.in0)\n",
      "wire(magma_Bit_and_inst2.out, magma_Bit_or_inst1.in1)\n",
      "wire(full_adder.A, magma_Bit_xor_inst0.in0)\n",
      "wire(full_adder.B, magma_Bit_xor_inst0.in1)\n",
      "wire(magma_Bit_xor_inst0.out, magma_Bit_xor_inst1.in0)\n",
      "wire(full_adder.C, magma_Bit_xor_inst1.in1)\n",
      "wire(magma_Bit_xor_inst1.out, full_adder.O0)\n",
      "wire(magma_Bit_or_inst1.out, full_adder.O1)\n",
      "EndCircuit()\n"
     ]
    }
   ],
   "source": [
    "print(repr(full_adder.circuit_definition))"
   ]
  },
  {
   "cell_type": "markdown",
   "metadata": {},
   "source": [
    "We can also inspect the code generated by the `m.circuit.combinational` decorator by looking in the `.magma` directory for a file named `.magma/full_adder.py`.  When using `m.circuit.combinational`, `magma` will generate a file matching the name of the decorated function.  You'll notice that the generated code introduces an extra temporary variable (this is an artifact of the SSA pass that `magma` runs to handle `if`/`else` statements)."
   ]
  },
  {
   "cell_type": "code",
   "execution_count": 8,
   "metadata": {},
   "outputs": [
    {
     "name": "stdout",
     "output_type": "stream",
     "text": [
      "import magma as m\n",
      "from mantle import mux as phi\n",
      "\n",
      "\n",
      "class full_adder(m.Circuit):\n",
      "    io = m.IO(A=m.In(m.Bit), B=m.In(m.Bit), C=m.In(m.Bit), O0=m.Out(m.Bit),\n",
      "        O1=m.Out(m.Bit))\n",
      "    __magma_ssa_return_value_0 = (io.A ^ io.B ^ io.C, io.A & io.B | io.B &\n",
      "        io.C | io.C & io.A)\n",
      "    O0, O1 = __magma_ssa_return_value_0\n",
      "    m.wire(O0, io.O0)\n",
      "    m.wire(O1, io.O1)\n",
      "\n"
     ]
    }
   ],
   "source": [
    "with open(\".magma/full_adder.py\") as f:\n",
    "    print(f.read())"
   ]
  },
  {
   "cell_type": "markdown",
   "metadata": {},
   "source": [
    "In the code above, a `mux` is imported and named `phi`. If the combinational circuit contains any if-then-else constructs, they will be transformed into muxes."
   ]
  },
  {
   "cell_type": "markdown",
   "metadata": {},
   "source": [
    "Note also the `m.wire` function. `m.wire(O0, io.I0)` is equivalent to `io.O0 @= O0`."
   ]
  },
  {
   "cell_type": "markdown",
   "metadata": {},
   "source": [
    "### Staged testing with Fault\n",
    "`fault` is a [python package](https://github.com/leonardt/fault) for testing magma circuits.  By default, `fault` is quiet, so we begin by enabling logging using the built-in `logging` module"
   ]
  },
  {
   "cell_type": "code",
   "execution_count": 9,
   "metadata": {},
   "outputs": [],
   "source": [
    "import logging\n",
    "logging.basicConfig(level=logging.INFO)\n",
    "import fault"
   ]
  },
  {
   "cell_type": "markdown",
   "metadata": {},
   "source": [
    "Earlier in the notebook, we showed an example using `fault.PythonTester` to simulate a circuit.  This uses an interactive programming model where test actions are immediately dispatched to the underlying simulator (which is why we can perform assertions on the simulation values in Python.\n",
    "\n",
    "`fault` also provides a staged metaprogramming environment built upon the `Tester` class.  Using the staged environment means values are not returned immediately to Python.  Instead, the Python test code records a sequence of actions that are compiled and run in a later stage.\n",
    "\n",
    "A `Tester` is instantiated with a `magma` circuit."
   ]
  },
  {
   "cell_type": "code",
   "execution_count": 10,
   "metadata": {},
   "outputs": [],
   "source": [
    "tester = fault.Tester(FullAdder)"
   ]
  },
  {
   "cell_type": "markdown",
   "metadata": {},
   "source": [
    "An instance of a `Tester` has an attribute `.circuit` that enables the user to record test actions.  For example, inputs to a circuit can be *poked* by setting the attribute corresponding to the input port name."
   ]
  },
  {
   "cell_type": "code",
   "execution_count": 11,
   "metadata": {},
   "outputs": [],
   "source": [
    "tester.circuit.I0 = 1\n",
    "tester.circuit.I1 = 1\n",
    "tester.circuit.CIN = 1"
   ]
  },
  {
   "cell_type": "markdown",
   "metadata": {},
   "source": [
    "`fault`'s default `Tester` provides the semantics of a cycle accurate simulator, so, unlike verilog, pokes do not create events that trigger computation.  Instead, these poke values are staged, and the propogation of their effect occurs when the user calls the `eval` action."
   ]
  },
  {
   "cell_type": "code",
   "execution_count": 12,
   "metadata": {},
   "outputs": [],
   "source": [
    "tester.eval()"
   ]
  },
  {
   "cell_type": "markdown",
   "metadata": {},
   "source": [
    "To assert that the output of the circuit is equal to a value, we use the `expect` method that are defined on the attributes corresponding to circuit output ports"
   ]
  },
  {
   "cell_type": "code",
   "execution_count": 13,
   "metadata": {},
   "outputs": [],
   "source": [
    "tester.circuit.O.expect(1)\n",
    "tester.circuit.COUT.expect(1)"
   ]
  },
  {
   "cell_type": "markdown",
   "metadata": {},
   "source": [
    "Because `fault` is a staged programming environment, the above actions are not executed until we have advanced to the next stage.  In the first stage, the user records test actions (e.g. poke, eval, expect).  In the second stage, the test is compiled and run using a target runtime.  Here's examples of running the test using `magma`'s python simulator, the `coreir` c++ simulator, and `verilator`."
   ]
  },
  {
   "cell_type": "code",
   "execution_count": 14,
   "metadata": {},
   "outputs": [
    {
     "name": "stderr",
     "output_type": "stream",
     "text": [
      "INFO:root:Running tester...\n",
      "INFO:root:Success!\n"
     ]
    }
   ],
   "source": [
    "# compile_and_run throws an exception if the test fails\n",
    "tester.compile_and_run(\"verilator\")"
   ]
  },
  {
   "cell_type": "markdown",
   "metadata": {},
   "source": [
    "The tester also provides the same convenient `__call__` interface we saw before."
   ]
  },
  {
   "cell_type": "code",
   "execution_count": 15,
   "metadata": {},
   "outputs": [
    {
     "name": "stderr",
     "output_type": "stream",
     "text": [
      "INFO:root:Running tester...\n",
      "INFO:root:Success!\n"
     ]
    }
   ],
   "source": [
    "O, COUT = tester(1, 0, 0)\n",
    "tester.expect(O, 1)\n",
    "tester.expect(COUT, 0)\n",
    "tester.compile_and_run(\"verilator\", magma_output=\"coreir-verilog\")"
   ]
  },
  {
   "cell_type": "markdown",
   "metadata": {},
   "source": [
    "### Generate Verilog"
   ]
  },
  {
   "cell_type": "markdown",
   "metadata": {},
   "source": [
    "Magma's default compiler will generate verilog using CoreIR"
   ]
  },
  {
   "cell_type": "code",
   "execution_count": 16,
   "metadata": {},
   "outputs": [
    {
     "name": "stdout",
     "output_type": "stream",
     "text": [
      "module full_adder (\r\n",
      "    input A,\r\n",
      "    input B,\r\n",
      "    input C,\r\n",
      "    output O0,\r\n",
      "    output O1\r\n",
      ");\r\n",
      "assign O0 = (A ^ B) ^ C;\r\n",
      "assign O1 = ((A & B) | (B & C)) | (C & A);\r\n",
      "endmodule\r\n",
      "\r\n",
      "module FullAdder (\r\n",
      "    input I0,\r\n",
      "    input I1,\r\n",
      "    input CIN,\r\n",
      "    output O,\r\n",
      "    output COUT\r\n",
      ");\r\n",
      "full_adder full_adder_inst0 (\r\n",
      "    .A(I0),\r\n",
      "    .B(I1),\r\n",
      "    .C(CIN),\r\n",
      "    .O0(O),\r\n",
      "    .O1(COUT)\r\n",
      ");\r\n",
      "endmodule\r\n",
      "\r\n"
     ]
    }
   ],
   "source": [
    "m.compile(\"build/FullAdder\", FullAdder, inline=True)\n",
    "%cat build/FullAdder.v"
   ]
  },
  {
   "cell_type": "markdown",
   "metadata": {},
   "source": [
    "### Generate CoreIR"
   ]
  },
  {
   "cell_type": "markdown",
   "metadata": {},
   "source": [
    "We can also inspect the intermediate CoreIR used in the generation process."
   ]
  },
  {
   "cell_type": "code",
   "execution_count": 17,
   "metadata": {},
   "outputs": [
    {
     "name": "stdout",
     "output_type": "stream",
     "text": [
      "{\"top\":\"global.FullAdder\",\r\n",
      "\"namespaces\":{\r\n",
      "  \"global\":{\r\n",
      "    \"modules\":{\r\n",
      "      \"FullAdder\":{\r\n",
      "        \"type\":[\"Record\",[\r\n",
      "          [\"I0\",\"BitIn\"],\r\n",
      "          [\"I1\",\"BitIn\"],\r\n",
      "          [\"CIN\",\"BitIn\"],\r\n",
      "          [\"O\",\"Bit\"],\r\n",
      "          [\"COUT\",\"Bit\"]\r\n",
      "        ]],\r\n",
      "        \"instances\":{\r\n",
      "          \"full_adder_inst0\":{\r\n",
      "            \"modref\":\"global.full_adder\"\r\n",
      "          }\r\n",
      "        },\r\n",
      "        \"connections\":[\r\n",
      "          [\"self.I0\",\"full_adder_inst0.A\"],\r\n",
      "          [\"self.I1\",\"full_adder_inst0.B\"],\r\n",
      "          [\"self.CIN\",\"full_adder_inst0.C\"],\r\n",
      "          [\"self.O\",\"full_adder_inst0.O0\"],\r\n",
      "          [\"self.COUT\",\"full_adder_inst0.O1\"]\r\n",
      "        ]\r\n",
      "      },\r\n",
      "      \"full_adder\":{\r\n",
      "        \"type\":[\"Record\",[\r\n",
      "          [\"A\",\"BitIn\"],\r\n",
      "          [\"B\",\"BitIn\"],\r\n",
      "          [\"C\",\"BitIn\"],\r\n",
      "          [\"O0\",\"Bit\"],\r\n",
      "          [\"O1\",\"Bit\"]\r\n",
      "        ]],\r\n",
      "        \"instances\":{\r\n",
      "          \"magma_Bit_and_inst0\":{\r\n",
      "            \"modref\":\"corebit.and\"\r\n",
      "          },\r\n",
      "          \"magma_Bit_and_inst1\":{\r\n",
      "            \"modref\":\"corebit.and\"\r\n",
      "          },\r\n",
      "          \"magma_Bit_and_inst2\":{\r\n",
      "            \"modref\":\"corebit.and\"\r\n",
      "          },\r\n",
      "          \"magma_Bit_or_inst0\":{\r\n",
      "            \"modref\":\"corebit.or\"\r\n",
      "          },\r\n",
      "          \"magma_Bit_or_inst1\":{\r\n",
      "            \"modref\":\"corebit.or\"\r\n",
      "          },\r\n",
      "          \"magma_Bit_xor_inst0\":{\r\n",
      "            \"modref\":\"corebit.xor\"\r\n",
      "          },\r\n",
      "          \"magma_Bit_xor_inst1\":{\r\n",
      "            \"modref\":\"corebit.xor\"\r\n",
      "          }\r\n",
      "        },\r\n",
      "        \"connections\":[\r\n",
      "          [\"self.A\",\"magma_Bit_and_inst0.in0\"],\r\n",
      "          [\"self.B\",\"magma_Bit_and_inst0.in1\"],\r\n",
      "          [\"magma_Bit_or_inst0.in0\",\"magma_Bit_and_inst0.out\"],\r\n",
      "          [\"self.B\",\"magma_Bit_and_inst1.in0\"],\r\n",
      "          [\"self.C\",\"magma_Bit_and_inst1.in1\"],\r\n",
      "          [\"magma_Bit_or_inst0.in1\",\"magma_Bit_and_inst1.out\"],\r\n",
      "          [\"self.C\",\"magma_Bit_and_inst2.in0\"],\r\n",
      "          [\"self.A\",\"magma_Bit_and_inst2.in1\"],\r\n",
      "          [\"magma_Bit_or_inst1.in1\",\"magma_Bit_and_inst2.out\"],\r\n",
      "          [\"magma_Bit_or_inst1.in0\",\"magma_Bit_or_inst0.out\"],\r\n",
      "          [\"self.O1\",\"magma_Bit_or_inst1.out\"],\r\n",
      "          [\"self.A\",\"magma_Bit_xor_inst0.in0\"],\r\n",
      "          [\"self.B\",\"magma_Bit_xor_inst0.in1\"],\r\n",
      "          [\"magma_Bit_xor_inst1.in0\",\"magma_Bit_xor_inst0.out\"],\r\n",
      "          [\"self.C\",\"magma_Bit_xor_inst1.in1\"],\r\n",
      "          [\"self.O0\",\"magma_Bit_xor_inst1.out\"]\r\n",
      "        ]\r\n",
      "      }\r\n",
      "    }\r\n",
      "  }\r\n",
      "}\r\n",
      "}\r\n"
     ]
    }
   ],
   "source": [
    "%cat build/FullAdder.json"
   ]
  },
  {
   "cell_type": "markdown",
   "metadata": {},
   "source": [
    "Here's an example of running a CoreIR pass on the intermediate representation."
   ]
  },
  {
   "cell_type": "code",
   "execution_count": 18,
   "metadata": {},
   "outputs": [
    {
     "name": "stdout",
     "output_type": "stream",
     "text": [
      "An instance count of all the primitives\r\n",
      "=======================================\r\n",
      "full_adder | instances in current | instances in children | \r\n",
      "  corebit_and | 3 | 0\r\n",
      "  corebit_or | 2 | 0\r\n",
      "  corebit_xor | 2 | 0\r\n",
      "\r\n",
      "FullAdder | instances in current | instances in children | \r\n",
      "  corebit_and | 0 | 3\r\n",
      "  corebit_or | 0 | 2\r\n",
      "  corebit_xor | 0 | 2\r\n",
      "\r\n",
      "=======================================\r\n",
      "{\"top\":\"global.FullAdder\",\r\n",
      "\"namespaces\":{\r\n",
      "  \"global\":{\r\n",
      "    \"modules\":{\r\n",
      "      \"FullAdder\":{\r\n",
      "        \"type\":[\"Record\",[\r\n",
      "          [\"I0\",\"BitIn\"],\r\n",
      "          [\"I1\",\"BitIn\"],\r\n",
      "          [\"CIN\",\"BitIn\"],\r\n",
      "          [\"O\",\"Bit\"],\r\n",
      "          [\"COUT\",\"Bit\"]\r\n",
      "        ]],\r\n",
      "        \"instances\":{\r\n",
      "          \"full_adder_inst0\":{\r\n",
      "            \"modref\":\"global.full_adder\"\r\n",
      "          }\r\n",
      "        },\r\n",
      "        \"connections\":[\r\n",
      "          [\"self.I0\",\"full_adder_inst0.A\"],\r\n",
      "          [\"self.I1\",\"full_adder_inst0.B\"],\r\n",
      "          [\"self.CIN\",\"full_adder_inst0.C\"],\r\n",
      "          [\"self.O\",\"full_adder_inst0.O0\"],\r\n",
      "          [\"self.COUT\",\"full_adder_inst0.O1\"]\r\n",
      "        ]\r\n",
      "      },\r\n",
      "      \"full_adder\":{\r\n",
      "        \"type\":[\"Record\",[\r\n",
      "          [\"A\",\"BitIn\"],\r\n",
      "          [\"B\",\"BitIn\"],\r\n",
      "          [\"C\",\"BitIn\"],\r\n",
      "          [\"O0\",\"Bit\"],\r\n",
      "          [\"O1\",\"Bit\"]\r\n",
      "        ]],\r\n",
      "        \"instances\":{\r\n",
      "          \"magma_Bit_and_inst0\":{\r\n",
      "            \"modref\":\"corebit.and\"\r\n",
      "          },\r\n",
      "          \"magma_Bit_and_inst1\":{\r\n",
      "            \"modref\":\"corebit.and\"\r\n",
      "          },\r\n",
      "          \"magma_Bit_and_inst2\":{\r\n",
      "            \"modref\":\"corebit.and\"\r\n",
      "          },\r\n",
      "          \"magma_Bit_or_inst0\":{\r\n",
      "            \"modref\":\"corebit.or\"\r\n",
      "          },\r\n",
      "          \"magma_Bit_or_inst1\":{\r\n",
      "            \"modref\":\"corebit.or\"\r\n",
      "          },\r\n",
      "          \"magma_Bit_xor_inst0\":{\r\n",
      "            \"modref\":\"corebit.xor\"\r\n",
      "          },\r\n",
      "          \"magma_Bit_xor_inst1\":{\r\n",
      "            \"modref\":\"corebit.xor\"\r\n",
      "          }\r\n",
      "        },\r\n",
      "        \"connections\":[\r\n",
      "          [\"self.A\",\"magma_Bit_and_inst0.in0\"],\r\n",
      "          [\"self.B\",\"magma_Bit_and_inst0.in1\"],\r\n",
      "          [\"magma_Bit_or_inst0.in0\",\"magma_Bit_and_inst0.out\"],\r\n",
      "          [\"self.B\",\"magma_Bit_and_inst1.in0\"],\r\n",
      "          [\"self.C\",\"magma_Bit_and_inst1.in1\"],\r\n",
      "          [\"magma_Bit_or_inst0.in1\",\"magma_Bit_and_inst1.out\"],\r\n",
      "          [\"self.C\",\"magma_Bit_and_inst2.in0\"],\r\n",
      "          [\"self.A\",\"magma_Bit_and_inst2.in1\"],\r\n",
      "          [\"magma_Bit_or_inst1.in1\",\"magma_Bit_and_inst2.out\"],\r\n",
      "          [\"magma_Bit_or_inst1.in0\",\"magma_Bit_or_inst0.out\"],\r\n",
      "          [\"self.O1\",\"magma_Bit_or_inst1.out\"],\r\n",
      "          [\"self.A\",\"magma_Bit_xor_inst0.in0\"],\r\n",
      "          [\"self.B\",\"magma_Bit_xor_inst0.in1\"],\r\n",
      "          [\"magma_Bit_xor_inst1.in0\",\"magma_Bit_xor_inst0.out\"],\r\n",
      "          [\"self.C\",\"magma_Bit_xor_inst1.in1\"],\r\n",
      "          [\"self.O0\",\"magma_Bit_xor_inst1.out\"]\r\n",
      "        ]\r\n",
      "      }\r\n",
      "    }\r\n",
      "  }\r\n",
      "}\r\n",
      "}\r\n",
      "/Users/leonardtruong/repos/coreir/src/binary/coreir.cpp:238 Modified?: No\r\n"
     ]
    }
   ],
   "source": [
    "!coreir -i build/FullAdder.json -p instancecount"
   ]
  },
  {
   "cell_type": "code",
   "execution_count": null,
   "metadata": {},
   "outputs": [],
   "source": []
  }
 ],
 "metadata": {
  "kernelspec": {
   "display_name": "Python 3",
   "language": "python",
   "name": "python3"
  },
  "language_info": {
   "codemirror_mode": {
    "name": "ipython",
    "version": 3
   },
   "file_extension": ".py",
   "mimetype": "text/x-python",
   "name": "python",
   "nbconvert_exporter": "python",
   "pygments_lexer": "ipython3",
   "version": "3.7.1"
  }
 },
 "nbformat": 4,
 "nbformat_minor": 2
}
