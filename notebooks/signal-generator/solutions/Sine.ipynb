{
 "cells": [
  {
   "cell_type": "markdown",
   "metadata": {},
   "source": [
    "# Sine Wave Generator"
   ]
  },
  {
   "cell_type": "code",
   "execution_count": 1,
   "metadata": {},
   "outputs": [
    {
     "data": {
      "text/plain": [
       "[<matplotlib.lines.Line2D at 0x118d18da0>]"
      ]
     },
     "execution_count": 1,
     "metadata": {},
     "output_type": "execute_result"
    },
    {
     "data": {
      "image/png": "[encoded data removed]",
      "text/plain": [
       "<matplotlib.figure.Figure at 0x10c7488d0>"
      ]
     },
     "metadata": {},
     "output_type": "display_data"
    }
   ],
   "source": [
    "import math\n",
    "import numpy as np\n",
    "import matplotlib.pyplot as plt\n",
    "%matplotlib inline\n",
    "\n",
    "def sine(x):\n",
    "    return np.sin(2 * math.pi * x)\n",
    "\n",
    "x = np.linspace(0., 1., num=256, endpoint=False)\n",
    "\n",
    "plt.plot(x, sine(x))"
   ]
  },
  {
   "cell_type": "code",
   "execution_count": 2,
   "metadata": {
    "collapsed": true,
    "scrolled": true
   },
   "outputs": [],
   "source": [
    "import magma as m\n",
    "m.set_mantle_target(\"ice40\")"
   ]
  },
  {
   "cell_type": "code",
   "execution_count": 3,
   "metadata": {},
   "outputs": [
    {
     "name": "stdout",
     "output_type": "stream",
     "text": [
      "import lattice ice40\n",
      "import lattice mantle40\n"
     ]
    }
   ],
   "source": [
    "import mantle\n",
    "from loam.boards.icestick import IceStick\n",
    "\n",
    "N = 8\n",
    "\n",
    "icestick = IceStick()\n",
    "icestick.Clock.on()\n",
    "for i in range(N):\n",
    "    icestick.J3[i].output().on()"
   ]
  },
  {
   "cell_type": "markdown",
   "metadata": {},
   "source": [
    "To implement our sine wave generator, we'll use a counter to index into a ROM that is programmed to output the value of discrete points in the sine wave. "
   ]
  },
  {
   "cell_type": "code",
   "execution_count": 4,
   "metadata": {
    "collapsed": true,
    "scrolled": true
   },
   "outputs": [],
   "source": [
    "main = icestick.main()\n",
    "\n",
    "counter = mantle.Counter(32)\n",
    "sawtooth = counter.O[8:8+8]\n",
    "\n",
    "wavetable = 128 + 127 * sine(x)\n",
    "wavetable = wavetable.astype(int)\n",
    "\n",
    "rom = mantle.Memory(height=256, width=16, rom=list(wavetable), readonly=True)\n",
    "\n",
    "m.wire( rom(sawtooth)[0:8], main.J3 )\n",
    "m.wire( 1, rom.RE )\n",
    "\n",
    "m.EndCircuit()"
   ]
  },
  {
   "cell_type": "markdown",
   "metadata": {},
   "source": [
    "Compile and test."
   ]
  },
  {
   "cell_type": "code",
   "execution_count": 5,
   "metadata": {},
   "outputs": [
    {
     "name": "stdout",
     "output_type": "stream",
     "text": [
      "compiling FullAdder\n",
      "compiling Add32_COUT\n",
      "compiling Register32\n",
      "compiling Counter32_COUT\n",
      "compiling main\n"
     ]
    }
   ],
   "source": [
    "m.compile('build/sin', main)"
   ]
  },
  {
   "cell_type": "code",
   "execution_count": 6,
   "metadata": {},
   "outputs": [
    {
     "name": "stdout",
     "output_type": "stream",
     "text": [
      "set_io J3[7] 44\n",
      "set_io J3[6] 45\n",
      "set_io J3[5] 47\n",
      "set_io J3[4] 48\n",
      "set_io J3[3] 56\n",
      "set_io J3[2] 60\n",
      "set_io J3[1] 61\n",
      "set_io J3[0] 62\n",
      "set_io CLKIN 21\n"
     ]
    },
    {
     "name": "stderr",
     "output_type": "stream",
     "text": [
      "init..\n",
      "cdone: high\n",
      "reset..\n",
      "cdone: low\n",
      "flash ID: 0x20 0xBA 0x16 0x10 0x00 0x00 0x23 0x51 0x73 0x10 0x23 0x00 0x35 0x00 0x35 0x06 0x06 0x15 0x43 0xB6\n",
      "file size: 32220\n",
      "erase 64kB sector at 0x000000..\n",
      "programming..\n",
      "reading..\n",
      "VERIFY OK\n",
      "cdone: high\n",
      "Bye.\n"
     ]
    }
   ],
   "source": [
    "%%bash\n",
    "cd build\n",
    "cat sin.pcf\n",
    "yosys -q -p 'synth_ice40 -top main -blif sin.blif' sin.v\n",
    "arachne-pnr -q -d 1k -o sin.txt -p sin.pcf sin.blif \n",
    "icepack sin.txt sin.bin\n",
    "iceprog sin.bin"
   ]
  },
  {
   "cell_type": "markdown",
   "metadata": {},
   "source": [
    "We can wire up the GPIO pins to a logic analyzer to verify that our circuit produces the correct sine waveform.\n",
    "\n",
    "![](images/sine.png)\n",
    "\n",
    "We can also use Saleae's [export data](https://support.saleae.com/hc/en-us/articles/115005986806-Saving-Loading-and-Exporting-Data) feature to output a [csv file](data/sine-capture.csv). We'll load this data into Python and plot the results."
   ]
  },
  {
   "cell_type": "code",
   "execution_count": 7,
   "metadata": {
    "collapsed": true
   },
   "outputs": [],
   "source": [
    "import csv\n",
    "import magma as m\n",
    "with open(\"data/sine-capture.csv\") as sine_capture_csv:\n",
    "    csv_reader = csv.reader(sine_capture_csv)\n",
    "    next(csv_reader, None)  # skip the headers\n",
    "    rows = [row for row in csv_reader]\n",
    "timestamps = [float(row[0]) for row in rows]\n",
    "values = [m.bitutils.seq2int(tuple(int(x) for x in row[1:])) for row in rows]"
   ]
  },
  {
   "cell_type": "markdown",
   "metadata": {},
   "source": [
    "**TODO**: Why do we have this jitter? Logic analyzer is running at 25 MS/s, 3.3+ Volts for 1s"
   ]
  },
  {
   "cell_type": "code",
   "execution_count": 8,
   "metadata": {},
   "outputs": [
    {
     "data": {
      "text/plain": [
       "[<matplotlib.lines.Line2D at 0x11bf2ccf8>]"
      ]
     },
     "execution_count": 8,
     "metadata": {},
     "output_type": "execute_result"
    },
    {
     "data": {
      "image/png": "[encoded data removed]",
      "text/plain": [
       "<matplotlib.figure.Figure at 0x119b861d0>"
      ]
     },
     "metadata": {},
     "output_type": "display_data"
    }
   ],
   "source": [
    "plt.plot(timestamps[:250], values[:250], \"b.\")"
   ]
  }
 ],
 "metadata": {
  "kernelspec": {
   "display_name": "Python 3",
   "language": "python",
   "name": "python3"
  },
  "language_info": {
   "codemirror_mode": {
    "name": "ipython",
    "version": 3
   },
   "file_extension": ".py",
   "mimetype": "text/x-python",
   "name": "python",
   "nbconvert_exporter": "python",
   "pygments_lexer": "ipython3",
   "version": "3.6.5"
  }
 },
 "nbformat": 4,
 "nbformat_minor": 2
}
