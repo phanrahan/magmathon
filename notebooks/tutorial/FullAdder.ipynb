{
 "cells": [
  {
   "cell_type": "markdown",
   "metadata": {},
   "source": [
    "## FullAdder - Combinational Circuits\n",
    "\n",
    "This notebook walks through the implementation of a basic combinational circuit, a full adder. This example introduces many of the features of `Magma` including circuits, wiring, operators, and the type system."
   ]
  },
  {
   "cell_type": "markdown",
   "metadata": {},
   "source": [
    "Start by importing `Magma` and `Mantle`. `Magma` is the core system which implements circuits and the methods to compose them, and `Mantle` is a library of useful circuits. \n",
    "\n",
    "In this tutorial we will be using the IceStick board, so we select 'ice40', \n",
    "the FPGA family used on the board, as the target."
   ]
  },
  {
   "cell_type": "code",
   "execution_count": 1,
   "metadata": {
    "scrolled": true
   },
   "outputs": [
    {
     "name": "stdout",
     "output_type": "stream",
     "text": [
      "import lattice ice40\n",
      "import lattice mantle40\n"
     ]
    }
   ],
   "source": [
    "import magma as m\n",
    "m.set_mantle_target('ice40')\n",
    "import mantle"
   ]
  },
  {
   "cell_type": "markdown",
   "metadata": {},
   "source": [
    "A full adder has three single bit inputs, and returns the sum and the carry. The sum is the *exclusive or* of the 3 bits, the carry is 1 if any two of the inputs bits are 1. Here is a schematic of a full adder circuit (from `logisim`).\n",
    "\n",
    "![Full Adder](images/full_adder_logisim.png)\n",
    "\n",
    "We start by defining a Python function that implements a full adder. \n",
    "The full adder function takes three single bit inputs and returns two outputs as a tuple.\n",
    "The first element of tuple is the sum, the second element is the carry.\n",
    "We compute the sum and carry using standard Python bitwise operators `&`, `|`, and `^`."
   ]
  },
  {
   "cell_type": "code",
   "execution_count": 2,
   "metadata": {
    "collapsed": true
   },
   "outputs": [],
   "source": [
    "def fulladder(A, B, C):\n",
    "    return A^B^C, A&B|B&C|C&A # sum, carry"
   ]
  },
  {
   "cell_type": "markdown",
   "metadata": {},
   "source": [
    "We can test our Python function to verify that our implementation behaves as expected. \n",
    "We'll use the standard Python `assert` pattern."
   ]
  },
  {
   "cell_type": "code",
   "execution_count": 3,
   "metadata": {},
   "outputs": [
    {
     "name": "stdout",
     "output_type": "stream",
     "text": [
      "Success!\n"
     ]
    }
   ],
   "source": [
    "assert fulladder(1, 0, 0) == (1, 0), \"Failed\"\n",
    "assert fulladder(0, 1, 0) == (1, 0), \"Failed\"\n",
    "assert fulladder(1, 1, 0) == (0, 1), \"Failed\"\n",
    "assert fulladder(1, 0, 1) == (0, 1), \"Failed\"\n",
    "assert fulladder(1, 1, 1) == (1, 1), \"Failed\"\n",
    "print(\"Success!\")"
   ]
  },
  {
   "cell_type": "markdown",
   "metadata": {},
   "source": [
    "Now that we have an implementation of `fulladder` as a Python function, \n",
    "we'll use it to construct a `Magma` `Circuit`. \n",
    "A `Circuit` in `Magma` corresponds to a `module` in `verilog`."
   ]
  },
  {
   "cell_type": "code",
   "execution_count": 4,
   "metadata": {
    "collapsed": true
   },
   "outputs": [],
   "source": [
    "class FullAdder(m.Circuit):\n",
    "    IO = [\"I0\", m.In(m.Bit), \"I1\", m.In(m.Bit), \"CIN\", m.In(m.Bit), \"O\", m.Out(m.Bit), \"COUT\", m.Out(m.Bit)]\n",
    "    @classmethod\n",
    "    def definition(io):\n",
    "        O, COUT = fulladder(io.I0, io.I1, io.CIN)\n",
    "        m.wire(O, io.O)\n",
    "        m.wire(COUT, io.COUT)"
   ]
  },
  {
   "cell_type": "markdown",
   "metadata": {},
   "source": [
    "First, notice that the `FullAdder` is a subclass of `Circuit`. All `Magma` circuits are classes in python.\n",
    "\n",
    "Second, the attribute `IO` defines the interface to the circuit. \n",
    "`IO` is a list of alternating keys and values. \n",
    "The key is the name of the argument, and the value is the type. \n",
    "In this circuit, all the inputs and outputs have `Magma` type `Bit`. \n",
    "We also qualify each type as an input or an output using the functions `In` and `Out`.\n",
    "\n",
    "Third, we provide a function `definition`. `definition` must be a class method and this is indicated with the decorator `@classmethod`. \n",
    "The purpose of the `definition` function is to create the actual full adder circuit. \n",
    "The arguments are passed to `definition` as the object `io`. \n",
    "This object has fields for each argument in the interface. \n",
    "The body of `definition` calls our previously defined python function `fulladder`.\n",
    "\n",
    "Note that when we call the python function `fulladder` inside `definition` \n",
    "it is passed `Magma` values not standard python values.\n",
    "When we tested `fulladder` sbove we called it with ints.\n",
    "When we called it inside `definition` the values passed to the Python `fulladder` function \n",
    "are `Magma` values of type `Bit`.\n",
    "The Python bitwise operators are overloaded to compute logical functions of the `Magma` values (this corresponds to constructing the circuits to compute logical functions `and`, `or`, and `xor`, and wiring inputs to outputs).\n",
    "\n",
    "`fulladder` returns two values.\n",
    "These values are assigned to the python variables `O` and `COUT`. \n",
    "Remember that assigning to a Python variable \n",
    "sets the variable to refer to the object.\n",
    "`Magma` values are Python objects,\n",
    "so assigning an object to a variable creates a reference to that `Magma` value.\n",
    "In order to complete the definition of the circuit, \n",
    "`O` and `COUT` need to be *wired* to the outputs in the interface.\n",
    "This is done with the two calls to the `wire` function."
   ]
  },
  {
   "cell_type": "markdown",
   "metadata": {},
   "source": [
    "Let's test our `FullAdder` circuit by comparing what it computes to the original python function. We do this by running a python circuit simulator and asserting that the values computed by the simulator are the same as the values computed by the python function."
   ]
  },
  {
   "cell_type": "code",
   "execution_count": 5,
   "metadata": {},
   "outputs": [
    {
     "name": "stdout",
     "output_type": "stream",
     "text": [
      "Success!\n"
     ]
    }
   ],
   "source": [
    "from magma.simulator import PythonSimulator\n",
    "\n",
    "fulladder_magma = PythonSimulator(FullAdder)\n",
    "\n",
    "assert fulladder_magma(1, 0, 0) == fulladder(1, 0, 0), \"Failed\"\n",
    "assert fulladder_magma(0, 1, 0) == fulladder(0, 1, 0), \"Failed\"\n",
    "assert fulladder_magma(1, 1, 0) == fulladder(1, 1, 0), \"Failed\"\n",
    "assert fulladder_magma(1, 0, 1) == fulladder(1, 0, 1), \"Failed\"\n",
    "assert fulladder_magma(1, 1, 1) == fulladder(1, 1, 1), \"Failed\"\n",
    "print(\"Success!\")"
   ]
  },
  {
   "cell_type": "markdown",
   "metadata": {},
   "source": [
    "## Running FullAdder on the IceStick\n",
    "\n",
    "As the final step we are going to compile the circuit to a bit stream and\n",
    "download the bit stream to the `ice40` FPGA on the `IceStick` board.\n",
    "\n",
    "In order to do this,\n",
    "we first import the `IceStick` class from the module `loam`.\n",
    "`loam` has definitions for commonly used parts and boards. "
   ]
  },
  {
   "cell_type": "code",
   "execution_count": 6,
   "metadata": {
    "collapsed": true
   },
   "outputs": [],
   "source": [
    "from loam.boards.icestick import IceStick"
   ]
  },
  {
   "cell_type": "markdown",
   "metadata": {},
   "source": [
    "We start by creating an instance of the IceStick board."
   ]
  },
  {
   "cell_type": "code",
   "execution_count": 7,
   "metadata": {
    "collapsed": true
   },
   "outputs": [],
   "source": [
    "icestick = IceStick()"
   ]
  },
  {
   "cell_type": "markdown",
   "metadata": {},
   "source": [
    "The IceStick board is based on a Lattice ICE40HX1K FPGA. \n",
    "The GPIOs on the FPGA are brought out to two headers named `J1` and `J3`.\n",
    "The `loam` class `IceStick` represents all the parts on the board\n",
    "and how they are connected via wires.\n",
    "More specifically, it keeps tracks of what GPIO pins are connected \n",
    "to which pin on the headers.\n",
    "\n",
    "In these tutorials, \n",
    "we adopt the convention that `J1` will be used for inputs\n",
    "and `J3` will be used for outputs.\n",
    "We will use these headers to test our full adder by wiring up some switches\n",
    "and LEDs to the inputs and outputs.\n",
    "\n",
    "To test the full adder we configure the first three GPIO pins in `J1` as inputs,\n",
    "and the first two pins in `J3` as outputs.\n",
    "We also turn `on` each pin that we are using.\n",
    "Note the use of *method chaining* to set more than\n",
    "one option on a GPIO pin.\n",
    "Each time we call a configuration function on an object,\n",
    "that object is returned so we can continue calling additional functions to configure\n",
    "other options."
   ]
  },
  {
   "cell_type": "code",
   "execution_count": 8,
   "metadata": {
    "collapsed": true
   },
   "outputs": [],
   "source": [
    "icestick.J1[0].input().on()\n",
    "icestick.J1[1].input().on()\n",
    "icestick.J1[2].input().on()\n",
    "icestick.J3[0].output().on()\n",
    "icestick.J3[1].output().on();"
   ]
  },
  {
   "cell_type": "markdown",
   "metadata": {},
   "source": [
    "With our `icestick` configured, we move on to \n",
    "the setup of the top level `Magma` `main` program that runs on the ICE40. \n",
    "\n",
    "The arguments to the main program are the the GPIO pins in the headers `J1` and `J3`\n",
    "that we turned on.\n",
    "These arguments are referred to by name in the circuit `main`,\n",
    "specifically as `main.J1` and `main.J3`.\n",
    "The type of `main.J1` is `In(Bits(3))` and `main.J3` is `Out(Bits(2))`.\n",
    "`Bits(n)` is a length `n` array of `Bit` values.\n",
    "The length of these arrays depend on the number of GPIOs\n",
    "that have been turned on.\n",
    "Arrays of bits can be accessed using the standard Python indexing notation (e.g. `[0]`).\n",
    "\n",
    "We call `fulladder` with three single bit inputs from `main.J1`. \n",
    "We then `wire` the sum and carry outputs returned by `fulladder` to `main.J3`."
   ]
  },
  {
   "cell_type": "code",
   "execution_count": 9,
   "metadata": {
    "collapsed": true
   },
   "outputs": [],
   "source": [
    "main = icestick.DefineMain()\n",
    "\n",
    "fa = FullAdder()\n",
    "\n",
    "s, cout = fa(main.J1[0], main.J1[1], main.J1[2])\n",
    "m.wire(s, main.J3[0])\n",
    "m.wire(cout, main.J3[1])\n",
    "\n",
    "m.EndDefine()"
   ]
  },
  {
   "cell_type": "markdown",
   "metadata": {},
   "source": [
    "When we've finished defining our `main` function, we call the `Magma` function `EndDefine`. Any call to a `Magma` `Define` function such as `DefineMain` or `DefineCircuit` must be accompanied by an `EndDefine` call. This is because `Magma` maintains a stack of definitions, so the `EndDefine` call signals to `Magma` that the current definition on the stack has been completed and should be removed. Failure to call `EndDefine` can lead to nasty error messages that are hard to decipher.\n",
    "\n",
    "Now we can use the `Magma` `compile` function to generate verilog code. In addition to the verilog, `Magma` generates a *physical constraints file* (`.pcf`) that contains a mapping between physical pin numbers (e.g. 112) and named ports on the (compiled) top-level verilog module (e.g. J1[0]).  "
   ]
  },
  {
   "cell_type": "code",
   "execution_count": 10,
   "metadata": {},
   "outputs": [],
   "source": [
    "m.compile('build/fulladder', main)"
   ]
  },
  {
   "cell_type": "markdown",
   "metadata": {},
   "source": [
    "Then we can use `yosys` and the `icestorm` tools to compile and program the FPGA."
   ]
  },
  {
   "cell_type": "code",
   "execution_count": 11,
   "metadata": {},
   "outputs": [
    {
     "name": "stderr",
     "output_type": "stream",
     "text": [
      "init..\n",
      "cdone: high\n",
      "reset..\n",
      "cdone: low\n",
      "flash ID: 0x20 0xBA 0x16 0x10 0x00 0x00 0x23 0x64 0x34 0x65 0x03 0x00 0x71 0x00 0x26 0x27 0x12 0x16 0xD3 0xE4\n",
      "file size: 32220\n",
      "erase 64kB sector at 0x000000..\n",
      "programming..\n",
      "reading..\n",
      "VERIFY OK\n",
      "cdone: high\n",
      "Bye.\n"
     ]
    }
   ],
   "source": [
    "%%bash\n",
    "cd build\n",
    "yosys -q -p 'synth_ice40 -top main -blif fulladder.blif' fulladder.v\n",
    "arachne-pnr -q -d 1k -o fulladder.txt -p fulladder.pcf fulladder.blif \n",
    "icepack fulladder.txt fulladder.bin\n",
    "iceprog fulladder.bin"
   ]
  },
  {
   "cell_type": "markdown",
   "metadata": {},
   "source": [
    "You can test the program by connecting up some switches and LEDs to the headers.  "
   ]
  },
  {
   "cell_type": "markdown",
   "metadata": {},
   "source": [
    "Here is an example circuit to see the sum of the inputs displayed on a set of LEDs. We have J1 wired up to the right three switch/LED circuits and J3 wired up to the right two LED circuits (without switches).\n",
    "![](images/full-adder-seq/IMG_20180610_183451.jpg)\n",
    "![](images/full-adder-seq/IMG_20180610_183458.jpg)\n",
    "![](images/full-adder-seq/IMG_20180610_183502.jpg)\n",
    "![](images/full-adder-seq/IMG_20180610_183505.jpg)\n",
    "![](images/full-adder-seq/IMG_20180610_183508.jpg)\n",
    "![](images/full-adder-seq/IMG_20180610_183512.jpg)"
   ]
  },
  {
   "cell_type": "markdown",
   "metadata": {},
   "source": [
    "## Verilog\n",
    "\n",
    "If you know verilog, it is instructive to look at the verilog code that was generated."
   ]
  },
  {
   "cell_type": "code",
   "execution_count": 12,
   "metadata": {},
   "outputs": [
    {
     "name": "stdout",
     "output_type": "stream",
     "text": [
      "module FullAdder (input  I0, input  I1, input  CIN, output  O, output  COUT);\r\n",
      "wire  inst0_O;\r\n",
      "wire  inst1_CO;\r\n",
      "SB_LUT4 #(.LUT_INIT(16'h9696)) inst0 (.I0(I0), .I1(I1), .I2(CIN), .I3(1'b0), .O(inst0_O));\r\n",
      "SB_CARRY inst1 (.I0(I0), .I1(I1), .CI(CIN), .CO(inst1_CO));\r\n",
      "assign O = inst0_O;\r\n",
      "assign COUT = inst1_CO;\r\n",
      "endmodule\r\n",
      "\r\n",
      "module main (input [2:0] J1, output [1:0] J3);\r\n",
      "wire  inst0_O;\r\n",
      "wire  inst0_COUT;\r\n",
      "FullAdder inst0 (.I0(J1[0]), .I1(J1[1]), .CIN(J1[2]), .O(inst0_O), .COUT(inst0_COUT));\r\n",
      "assign J3 = {inst0_COUT,inst0_O};\r\n",
      "endmodule\r\n",
      "\r\n"
     ]
    }
   ],
   "source": [
    "%cat build/fulladder.v"
   ]
  },
  {
   "cell_type": "markdown",
   "metadata": {},
   "source": [
    "The logical functions are implemented using verilog modules `And2`, `Or2`, and `XOr2`. These in turn are implemented using 4-bit LUTs using the ICE40 primitive module `SB_LUT4`. The top level `main` module instances the logical functions and wires them up. \n",
    "It is all quite simple."
   ]
  },
  {
   "cell_type": "markdown",
   "metadata": {},
   "source": [
    "To see which physical pins correspond to the J3 and J1 header pins, \n",
    "we can inspect the `pcf` file."
   ]
  },
  {
   "cell_type": "code",
   "execution_count": 13,
   "metadata": {},
   "outputs": [
    {
     "name": "stdout",
     "output_type": "stream",
     "text": [
      "set_io J1[0] 112\r\n",
      "set_io J1[1] 113\r\n",
      "set_io J1[2] 114\r\n",
      "set_io J3[1] 61\r\n",
      "set_io J3[0] 62\r\n"
     ]
    }
   ],
   "source": [
    "%cat build/fulladder.pcf"
   ]
  },
  {
   "cell_type": "markdown",
   "metadata": {},
   "source": [
    "This tells us that `J1[0]` refers to pin 112, etc."
   ]
  },
  {
   "cell_type": "code",
   "execution_count": null,
   "metadata": {
    "collapsed": true
   },
   "outputs": [],
   "source": []
  }
 ],
 "metadata": {
  "kernelspec": {
   "display_name": "Python 3",
   "language": "python",
   "name": "python3"
  },
  "language_info": {
   "codemirror_mode": {
    "name": "ipython",
    "version": 3
   },
   "file_extension": ".py",
   "mimetype": "text/x-python",
   "name": "python",
   "nbconvert_exporter": "python",
   "pygments_lexer": "ipython3",
   "version": "3.6.5"
  }
 },
 "nbformat": 4,
 "nbformat_minor": 2
}
