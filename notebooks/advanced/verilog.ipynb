{
 "cells": [
  {
   "cell_type": "markdown",
   "metadata": {},
   "source": [
    "## Interoperating with Verilog\n",
    "\n",
    "It is easy to create `magma` `Circuits`\n",
    "from existing Verilog modules."
   ]
  },
  {
   "cell_type": "code",
   "execution_count": 1,
   "metadata": {
    "collapsed": true
   },
   "outputs": [],
   "source": [
    "import magma as m"
   ]
  },
  {
   "cell_type": "markdown",
   "metadata": {},
   "source": [
    "## Defining a Circuit with a Verilog body"
   ]
  },
  {
   "cell_type": "code",
   "execution_count": 2,
   "metadata": {
    "collapsed": true
   },
   "outputs": [],
   "source": [
    "HalfAdder = m.DefineCircuit('HalfAdder', \n",
    "   'A', m.In(m.Bit), \n",
    "   'B', m.In(m.Bit),\n",
    "   'S', m.Out(m.Bit),\n",
    "   'C', m.Out(m.Bit))\n",
    "HalfAdder.verilog  = '''\\\n",
    "    assign S = A ^ B;\n",
    "    assign C = A & B;\\\n",
    "'''\n",
    "m.EndCircuit()"
   ]
  },
  {
   "cell_type": "code",
   "execution_count": 3,
   "metadata": {},
   "outputs": [
    {
     "name": "stdout",
     "output_type": "stream",
     "text": [
      "HalfAdder(A: In(Bit), B: In(Bit), S: Out(Bit), C: Out(Bit))\n"
     ]
    }
   ],
   "source": [
    "print(HalfAdder)"
   ]
  },
  {
   "cell_type": "markdown",
   "metadata": {},
   "source": [
    "## Defining a Circuit from Verilog.\n",
    "\n",
    "If we have verilog source, we can declare a magma circuit from that source. \n",
    "`Magma` uses the verilog parser `pyverilog` to parse the source\n",
    "and return a list of `Circuits`, one for each module in the file."
   ]
  },
  {
   "cell_type": "code",
   "execution_count": 4,
   "metadata": {},
   "outputs": [
    {
     "name": "stdout",
     "output_type": "stream",
     "text": [
      "HalfAdder(A: In(Bit), B: In(Bit), S: Out(Bit), C: Out(Bit))\n"
     ]
    }
   ],
   "source": [
    "verilog_source = '''\n",
    "module HalfAdder(a, b, c);\n",
    "    input a;\n",
    "    output b;\n",
    "    inout c;\n",
    "    assign a = b & c;\n",
    "endmodule'''\n",
    "\n",
    "HalfAdder = m.DefineFromVerilog(verilog_source)[0]\n",
    "\n",
    "print(HalfAdder)"
   ]
  },
  {
   "cell_type": "markdown",
   "metadata": {},
   "source": [
    "The functions:\n",
    "```\n",
    "DeclareFromVerilogFile(filename)\n",
    "DefineFromVerilogFile(filename)\n",
    "```\n",
    "can be used to declare and define `Magma` circuits from verilog files.\n",
    "The declare versions declare a `Magma` circuit, but does not include the verilog source code.\n",
    "The define versions define a `Magma` circuit which includes the verilog source code."
   ]
  },
  {
   "cell_type": "markdown",
   "metadata": {},
   "source": [
    "## Defining a Circuit from Templated Verilog\n",
    "\n",
    "It is also possible to run a text templating engine on the verilog source.\n",
    "\n",
    "Here is an example using `mako`,\n",
    "a simple python templating engine.\n",
    "The expressions contained with `${...}` are python."
   ]
  },
  {
   "cell_type": "code",
   "execution_count": 5,
   "metadata": {
    "collapsed": true
   },
   "outputs": [],
   "source": [
    "mako_source = '''module CSA${N} ( input [${N-1}:0] a,b,c, output [${N-1}:0] s, co );\n",
    "   assign s = a ^ b ^c;\n",
    "   assign co = a&b | b&c | a&c;\n",
    "endmodule'''"
   ]
  },
  {
   "cell_type": "code",
   "execution_count": 6,
   "metadata": {},
   "outputs": [
    {
     "name": "stdout",
     "output_type": "stream",
     "text": [
      "module CSA4 ( input [3:0] a,b,c, output [3:0] s, co );\n",
      "   assign s = a ^ b ^c;\n",
      "   assign co = a&b | b&c | a&c;\n",
      "endmodule\n"
     ]
    }
   ],
   "source": [
    "from mako.template import Template\n",
    "\n",
    "template = Template(mako_source)\n",
    "verilog = template.render(N=4)\n",
    "\n",
    "print(verilog)"
   ]
  },
  {
   "cell_type": "markdown",
   "metadata": {},
   "source": [
    "The functions:\n",
    "```\n",
    "DeclareFromTemplatedVerilogFile(filename, **args)\n",
    "DefineFromTemplatedVerilogFile(filename, **args)\n",
    "```\n",
    "can be used to declare and define `Magma` circuits from templated verilog files.\n",
    "The keyword args are passed to the templating engine \n",
    "and can be used to control the generation of verilog."
   ]
  },
  {
   "cell_type": "markdown",
   "metadata": {},
   "source": [
    "## Genesis3\n",
    "\n",
    "See the repo https://github.com/phanrahan/genesis3\n",
    "for a simple verilog generator similar to\n",
    "[Genesis2](http://genesis2.stanford.edu/mediawiki/index.php/Main_Page)."
   ]
  },
  {
   "cell_type": "code",
   "execution_count": null,
   "metadata": {
    "collapsed": true
   },
   "outputs": [],
   "source": []
  }
 ],
 "metadata": {
  "kernelspec": {
   "display_name": "Python 3",
   "language": "python",
   "name": "python3"
  },
  "language_info": {
   "codemirror_mode": {
    "name": "ipython",
    "version": 3
   },
   "file_extension": ".py",
   "mimetype": "text/x-python",
   "name": "python",
   "nbconvert_exporter": "python",
   "pygments_lexer": "ipython3",
   "version": "3.6.5"
  }
 },
 "nbformat": 4,
 "nbformat_minor": 2
}
