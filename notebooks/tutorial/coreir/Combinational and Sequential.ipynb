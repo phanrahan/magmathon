{
 "cells": [
  {
   "cell_type": "markdown",
   "metadata": {},
   "source": [
    "In this notebook we will discuss the `combinational` and `sequential` syntaxes in more detail.  See https://magma.readthedocs.io/en/latest/circuit_definitions/ for the full documentation"
   ]
  },
  {
   "cell_type": "code",
   "execution_count": 1,
   "metadata": {},
   "outputs": [],
   "source": [
    "import magma as m\n",
    "import inspect\n",
    "import fault\n",
    "from hwtypes import BitVector"
   ]
  },
  {
   "cell_type": "markdown",
   "metadata": {},
   "source": [
    "# Combinational\n",
    "The combinational syntax allows you to use `if/else` statements.  These conditional statements are not executed in Python, instead they are lowered to hardware muxes."
   ]
  },
  {
   "cell_type": "code",
   "execution_count": 2,
   "metadata": {},
   "outputs": [
    {
     "name": "stdout",
     "output_type": "stream",
     "text": [
      "basic_if = DefineCircuit(\"basic_if\", \"I\", In(Bits[2]), \"S\", In(Bit), \"O\", Out(Bit))\n",
      "Mux2xOutBit_inst0 = Mux2xOutBit()\n",
      "wire(basic_if.I[1], Mux2xOutBit_inst0.I0)\n",
      "wire(basic_if.I[0], Mux2xOutBit_inst0.I1)\n",
      "wire(basic_if.S, Mux2xOutBit_inst0.S)\n",
      "wire(Mux2xOutBit_inst0.O, basic_if.O)\n",
      "EndCircuit()\n"
     ]
    }
   ],
   "source": [
    "@m.circuit.combinational\n",
    "def basic_if(I: m.Bits[2], S: m.Bit) -> m.Bit:\n",
    "    if S:\n",
    "        x = I[0]\n",
    "    else:\n",
    "        x = I[1]\n",
    "    return x\n",
    "print(repr(basic_if.circuit_definition))"
   ]
  },
  {
   "cell_type": "markdown",
   "metadata": {},
   "source": [
    "Magma implements this syntax by converting the function to SSA form, and using the `mux` circuit to implement the `phi` nodes.  We can inspect the intermediate Python code used by magma."
   ]
  },
  {
   "cell_type": "code",
   "execution_count": 3,
   "metadata": {},
   "outputs": [
    {
     "name": "stdout",
     "output_type": "stream",
     "text": [
      "import magma as m\n",
      "from mantle import mux as phi\n",
      "\n",
      "\n",
      "class basic_if(m.Circuit):\n",
      "    io = m.IO(I=m.In(m.Bits[2]), S=m.In(m.Bit), O=m.Out(m.Bit))\n",
      "    x_0 = io.I[0]\n",
      "    x_1 = io.I[1]\n",
      "    x_2 = phi([x_1, x_0], io.S)\n",
      "    __magma_ssa_return_value_0 = x_2\n",
      "    O = __magma_ssa_return_value_0\n",
      "    m.wire(O, io.O)\n",
      "\n"
     ]
    }
   ],
   "source": [
    "m.compile(\"build/basic_if\", basic_if.circuit_definition)\n",
    "with open('.magma/basic_if.py', 'r') as f:\n",
    "    print(f.read())"
   ]
  },
  {
   "cell_type": "markdown",
   "metadata": {},
   "source": [
    "Let's test our function using fault"
   ]
  },
  {
   "cell_type": "code",
   "execution_count": 4,
   "metadata": {},
   "outputs": [],
   "source": [
    "tester = fault.PythonTester(basic_if.circuit_definition)\n",
    "assert tester(BitVector[2]([0, 1]), 0) == 1\n",
    "assert tester(BitVector[2]([0, 1]), 1) == 0"
   ]
  },
  {
   "cell_type": "code",
   "execution_count": 5,
   "metadata": {},
   "outputs": [],
   "source": [
    "tester = fault.Tester(basic_if.circuit_definition)\n",
    "tester(BitVector[2]([0, 1]), 0).expect(1)\n",
    "tester(BitVector[2]([0, 1]), 1).expect(0)\n",
    "tester.compile_and_run(\"verilator\")"
   ]
  },
  {
   "cell_type": "markdown",
   "metadata": {},
   "source": [
    "You can insert code to instance magma circuits inside combinational."
   ]
  },
  {
   "cell_type": "code",
   "execution_count": 6,
   "metadata": {},
   "outputs": [
    {
     "name": "stdout",
     "output_type": "stream",
     "text": [
      "invert = DefineCircuit(\"invert\", \"a\", In(Bit), \"O\", Out(Bit))\n",
      "not_inst0 = not()\n",
      "wire(invert.a, not_inst0.in)\n",
      "wire(not_inst0.out, invert.O)\n",
      "EndCircuit()\n"
     ]
    }
   ],
   "source": [
    "from mantle import Not\n",
    "\n",
    "@m.circuit.combinational\n",
    "def invert(a: m.Bit) -> m.Bit:\n",
    "    return Not()(a)\n",
    "\n",
    "print(repr(invert.circuit_definition))"
   ]
  },
  {
   "cell_type": "code",
   "execution_count": 7,
   "metadata": {},
   "outputs": [],
   "source": [
    "tester = fault.PythonTester(invert.circuit_definition)\n",
    "assert tester(0) == 1\n",
    "assert tester(1) == 0"
   ]
  },
  {
   "cell_type": "code",
   "execution_count": 8,
   "metadata": {},
   "outputs": [],
   "source": [
    "tester = fault.Tester(invert.circuit_definition)\n",
    "tester(1).expect(0)\n",
    "tester(0).expect(1)\n",
    "tester.compile_and_run(\"verilator\")"
   ]
  },
  {
   "cell_type": "markdown",
   "metadata": {},
   "source": [
    "We can return multiple values as Python tuples.  These will create output ports named `O{i}` where `i` is the index in the tuple"
   ]
  },
  {
   "cell_type": "code",
   "execution_count": 9,
   "metadata": {},
   "outputs": [
    {
     "name": "stdout",
     "output_type": "stream",
     "text": [
      "return_py_tuple = DefineCircuit(\"return_py_tuple\", \"I\", In(Bits[2]), \"O0\", Out(Bit), \"O1\", Out(Bit))\n",
      "wire(return_py_tuple.I[0], return_py_tuple.O0)\n",
      "wire(return_py_tuple.I[1], return_py_tuple.O1)\n",
      "EndCircuit()\n"
     ]
    }
   ],
   "source": [
    "@m.circuit.combinational\n",
    "def return_py_tuple(I: m.Bits[2]) -> (m.Bit, m.Bit):\n",
    "    return I[0], I[1]\n",
    "\n",
    "print(repr(return_py_tuple.circuit_definition))"
   ]
  },
  {
   "cell_type": "markdown",
   "metadata": {},
   "source": [
    "You can also return a magma tuple (this will only create one output)"
   ]
  },
  {
   "cell_type": "code",
   "execution_count": 10,
   "metadata": {},
   "outputs": [
    {
     "name": "stdout",
     "output_type": "stream",
     "text": [
      "return_magma_tuple = DefineCircuit(\"return_magma_tuple\", \"I\", In(Bits[2]), \"O\", Tuple[Bit[Out], Bit[Out]])\n",
      "wire(return_magma_tuple.I[0], return_magma_tuple.O[0])\n",
      "wire(return_magma_tuple.I[1], return_magma_tuple.O[1])\n",
      "EndCircuit()\n"
     ]
    }
   ],
   "source": [
    "@m.circuit.combinational\n",
    "def return_magma_tuple(I: m.Bits[2]) -> m.Tuple[m.Bit, m.Bit]:\n",
    "    return m.tuple_([I[0], I[1]])\n",
    "\n",
    "print(repr(return_magma_tuple.circuit_definition))"
   ]
  },
  {
   "cell_type": "markdown",
   "metadata": {},
   "source": [
    "You can also return a magmas product (useful if you'd like to name the outputs)"
   ]
  },
  {
   "cell_type": "code",
   "execution_count": 11,
   "metadata": {},
   "outputs": [
    {
     "name": "stdout",
     "output_type": "stream",
     "text": [
      "return_magma_named_tuple = DefineCircuit(\"return_magma_named_tuple\", \"I\", In(Bits[2]), \"O\", Tuple(x=Out(Bit),y=Out(Bit)))\n",
      "wire(return_magma_named_tuple.I[0], return_magma_named_tuple.O.x)\n",
      "wire(return_magma_named_tuple.I[1], return_magma_named_tuple.O.y)\n",
      "EndCircuit()\n"
     ]
    }
   ],
   "source": [
    "@m.circuit.combinational\n",
    "def return_magma_named_tuple(I: m.Bits[2]) -> m.Product.from_fields(\"anon\", {\"x\": m.Bit, \"y\": m.Bit}):\n",
    "    return m.product(x=I[0], y=I[1])\n",
    "\n",
    "print(repr(return_magma_named_tuple.circuit_definition))"
   ]
  },
  {
   "cell_type": "markdown",
   "metadata": {},
   "source": [
    "Statically elaborated for loops are supported using the ast_tools loop unrolling macro. Here's an example:"
   ]
  },
  {
   "cell_type": "code",
   "execution_count": 12,
   "metadata": {},
   "outputs": [
    {
     "name": "stdout",
     "output_type": "stream",
     "text": [
      "logic = DefineCircuit(\"logic\", \"a\", In(Bits[4]), \"O\", Out(Bits[4]))\n",
      "wire(logic.a[3], logic.O[0])\n",
      "wire(logic.a[2], logic.O[1])\n",
      "wire(logic.a[1], logic.O[2])\n",
      "wire(logic.a[0], logic.O[3])\n",
      "EndCircuit()\n"
     ]
    }
   ],
   "source": [
    "import ast_tools\n",
    "from ast_tools.passes import begin_rewrite, loop_unroll, end_rewrite\n",
    "\n",
    "n = 4\n",
    "@m.circuit.combinational\n",
    "@end_rewrite()\n",
    "@loop_unroll()\n",
    "@begin_rewrite()\n",
    "def logic(a: m.Bits[n]) -> m.Bits[n]:\n",
    "    O = []\n",
    "    for i in ast_tools.macros.unroll(range(n)):\n",
    "        O.append(a[n - 1 - i])\n",
    "    return m.bits(O, n)\n",
    "\n",
    "print(repr(logic.circuit_definition))"
   ]
  },
  {
   "cell_type": "markdown",
   "metadata": {},
   "source": [
    "# Sequential\n",
    "\n",
    "The @m.circuit.sequential decorator extends the @m.circuit.combinational syntax with the ability to use Python's class system to describe stateful circuits.\n",
    "\n",
    "The basic pattern uses the `__init__` method to declare state, and a `__call__` function that uses `@m.circuit.combinational` syntax to describe the transition function from the current state to the next state, as well as a function from the inputs to the outputs. State is referenced using the first argument self and is implicitly updated by writing to attributes of self (e.g. self.x = 3).\n",
    "\n",
    "Here's an example of a Counter with an enable input `inc`."
   ]
  },
  {
   "cell_type": "code",
   "execution_count": 13,
   "metadata": {},
   "outputs": [
    {
     "name": "stdout",
     "output_type": "stream",
     "text": [
      "An instance count of all the primitives\r\n",
      "=======================================\r\n",
      "invert | instances in current | instances in children | \r\n",
      "  corebit_not | 1 | 0\r\n",
      "\r\n",
      "Mux2xOutUInt16 | instances in current | instances in children | \r\n",
      "\r\n",
      "Mux2xOutBit | instances in current | instances in children | \r\n",
      "\r\n",
      "basic_if | instances in current | instances in children | \r\n",
      "\r\n",
      "Counter_comb | instances in current | instances in children | \r\n",
      "  coreir_add__width16 | 1 | 0\r\n",
      "  coreir_const__width16 | 1 | 0\r\n",
      "\r\n",
      "Counter | instances in current | instances in children | \r\n",
      "  coreir_add__width16 | 0 | 1\r\n",
      "  coreir_const__width16 | 0 | 1\r\n",
      "  coreir_reg_arst__width16 | 1 | 0\r\n",
      "\r\n",
      "=======================================\r\n",
      "{\"top\":\"global.Counter\",\r\n",
      "\"namespaces\":{\r\n",
      "  \"global\":{\r\n",
      "    \"modules\":{\r\n",
      "      \"Counter\":{\r\n",
      "        \"type\":[\"Record\",[\r\n",
      "          [\"inc\",\"BitIn\"],\r\n",
      "          [\"CLK\",[\"Named\",\"coreir.clkIn\"]],\r\n",
      "          [\"ASYNCRESET\",[\"Named\",\"coreir.arstIn\"]],\r\n",
      "          [\"O\",[\"Array\",16,\"Bit\"]]\r\n",
      "        ]],\r\n",
      "        \"instances\":{\r\n",
      "          \"Counter_comb_inst0\":{\r\n",
      "            \"modref\":\"global.Counter_comb\"\r\n",
      "          },\r\n",
      "          \"reg_PR_inst0\":{\r\n",
      "            \"genref\":\"coreir.reg_arst\",\r\n",
      "            \"genargs\":{\"width\":[\"Int\",16]},\r\n",
      "            \"modargs\":{\"arst_posedge\":[\"Bool\",true], \"clk_posedge\":[\"Bool\",true], \"init\":[[\"BitVector\",16],\"16'h0000\"]}\r\n",
      "          }\r\n",
      "        },\r\n",
      "        \"connections\":[\r\n",
      "          [\"reg_PR_inst0.in\",\"Counter_comb_inst0.O0\"],\r\n",
      "          [\"self.O\",\"Counter_comb_inst0.O1\"],\r\n",
      "          [\"self.inc\",\"Counter_comb_inst0.inc\"],\r\n",
      "          [\"reg_PR_inst0.out\",\"Counter_comb_inst0.self_count_O\"],\r\n",
      "          [\"self.ASYNCRESET\",\"reg_PR_inst0.arst\"],\r\n",
      "          [\"self.CLK\",\"reg_PR_inst0.clk\"]\r\n",
      "        ]\r\n",
      "      },\r\n",
      "      \"Counter_comb\":{\r\n",
      "        \"type\":[\"Record\",[\r\n",
      "          [\"inc\",\"BitIn\"],\r\n",
      "          [\"self_count_O\",[\"Array\",16,\"BitIn\"]],\r\n",
      "          [\"O0\",[\"Array\",16,\"Bit\"]],\r\n",
      "          [\"O1\",[\"Array\",16,\"Bit\"]]\r\n",
      "        ]],\r\n",
      "        \"instances\":{\r\n",
      "          \"Mux2xOutUInt16_inst0\":{\r\n",
      "            \"modref\":\"global.Mux2xOutUInt16\"\r\n",
      "          },\r\n",
      "          \"const_1_16\":{\r\n",
      "            \"genref\":\"coreir.const\",\r\n",
      "            \"genargs\":{\"width\":[\"Int\",16]},\r\n",
      "            \"modargs\":{\"value\":[[\"BitVector\",16],\"16'h0001\"]}\r\n",
      "          },\r\n",
      "          \"magma_Bits_16_add_inst0\":{\r\n",
      "            \"genref\":\"coreir.add\",\r\n",
      "            \"genargs\":{\"width\":[\"Int\",16]}\r\n",
      "          }\r\n",
      "        },\r\n",
      "        \"connections\":[\r\n",
      "          [\"self.self_count_O\",\"Mux2xOutUInt16_inst0.I0\"],\r\n",
      "          [\"magma_Bits_16_add_inst0.out\",\"Mux2xOutUInt16_inst0.I1\"],\r\n",
      "          [\"self.O0\",\"Mux2xOutUInt16_inst0.O\"],\r\n",
      "          [\"self.O1\",\"Mux2xOutUInt16_inst0.O\"],\r\n",
      "          [\"self.inc\",\"Mux2xOutUInt16_inst0.S\"],\r\n",
      "          [\"magma_Bits_16_add_inst0.in1\",\"const_1_16.out\"],\r\n",
      "          [\"self.self_count_O\",\"magma_Bits_16_add_inst0.in0\"]\r\n",
      "        ]\r\n",
      "      },\r\n",
      "      \"Mux2xOutBit\":{\r\n",
      "        \"type\":[\"Record\",[\r\n",
      "          [\"I0\",\"BitIn\"],\r\n",
      "          [\"I1\",\"BitIn\"],\r\n",
      "          [\"S\",\"BitIn\"],\r\n",
      "          [\"O\",\"Bit\"]\r\n",
      "        ]],\r\n",
      "        \"instances\":{\r\n",
      "          \"coreir_commonlib_mux2x1_inst0\":{\r\n",
      "            \"genref\":\"commonlib.muxn\",\r\n",
      "            \"genargs\":{\"N\":[\"Int\",2], \"width\":[\"Int\",1]}\r\n",
      "          }\r\n",
      "        },\r\n",
      "        \"connections\":[\r\n",
      "          [\"self.I0\",\"coreir_commonlib_mux2x1_inst0.in.data.0.0\"],\r\n",
      "          [\"self.I1\",\"coreir_commonlib_mux2x1_inst0.in.data.1.0\"],\r\n",
      "          [\"self.S\",\"coreir_commonlib_mux2x1_inst0.in.sel.0\"],\r\n",
      "          [\"self.O\",\"coreir_commonlib_mux2x1_inst0.out.0\"]\r\n",
      "        ]\r\n",
      "      },\r\n",
      "      \"Mux2xOutUInt16\":{\r\n",
      "        \"type\":[\"Record\",[\r\n",
      "          [\"I0\",[\"Array\",16,\"BitIn\"]],\r\n",
      "          [\"I1\",[\"Array\",16,\"BitIn\"]],\r\n",
      "          [\"S\",\"BitIn\"],\r\n",
      "          [\"O\",[\"Array\",16,\"Bit\"]]\r\n",
      "        ]],\r\n",
      "        \"instances\":{\r\n",
      "          \"coreir_commonlib_mux2x16_inst0\":{\r\n",
      "            \"genref\":\"commonlib.muxn\",\r\n",
      "            \"genargs\":{\"N\":[\"Int\",2], \"width\":[\"Int\",16]}\r\n",
      "          }\r\n",
      "        },\r\n",
      "        \"connections\":[\r\n",
      "          [\"self.I0\",\"coreir_commonlib_mux2x16_inst0.in.data.0\"],\r\n",
      "          [\"self.I1\",\"coreir_commonlib_mux2x16_inst0.in.data.1\"],\r\n",
      "          [\"self.S\",\"coreir_commonlib_mux2x16_inst0.in.sel.0\"],\r\n",
      "          [\"self.O\",\"coreir_commonlib_mux2x16_inst0.out\"]\r\n",
      "        ]\r\n",
      "      },\r\n",
      "      \"basic_if\":{\r\n",
      "        \"type\":[\"Record\",[\r\n",
      "          [\"I\",[\"Array\",2,\"BitIn\"]],\r\n",
      "          [\"S\",\"BitIn\"],\r\n",
      "          [\"O\",\"Bit\"]\r\n",
      "        ]],\r\n",
      "        \"instances\":{\r\n",
      "          \"Mux2xOutBit_inst0\":{\r\n",
      "            \"modref\":\"global.Mux2xOutBit\"\r\n",
      "          }\r\n",
      "        },\r\n",
      "        \"connections\":[\r\n",
      "          [\"self.I.1\",\"Mux2xOutBit_inst0.I0\"],\r\n",
      "          [\"self.I.0\",\"Mux2xOutBit_inst0.I1\"],\r\n",
      "          [\"self.O\",\"Mux2xOutBit_inst0.O\"],\r\n",
      "          [\"self.S\",\"Mux2xOutBit_inst0.S\"]\r\n",
      "        ]\r\n",
      "      },\r\n",
      "      \"invert\":{\r\n",
      "        \"type\":[\"Record\",[\r\n",
      "          [\"a\",\"BitIn\"],\r\n",
      "          [\"O\",\"Bit\"]\r\n",
      "        ]],\r\n",
      "        \"instances\":{\r\n",
      "          \"not_inst0\":{\r\n",
      "            \"modref\":\"corebit.not\"\r\n",
      "          }\r\n",
      "        },\r\n",
      "        \"connections\":[\r\n",
      "          [\"self.a\",\"not_inst0.in\"],\r\n",
      "          [\"self.O\",\"not_inst0.out\"]\r\n",
      "        ]\r\n",
      "      }\r\n",
      "    }\r\n",
      "  }\r\n",
      "}\r\n",
      "}\r\n",
      "/Users/leonardtruong/repos/coreir/src/binary/coreir.cpp:238 Modified?: No\r\n"
     ]
    }
   ],
   "source": [
    "@m.circuit.sequential(async_reset=True)\n",
    "class Counter:\n",
    "    def __init__(self):\n",
    "        self.count : m.UInt[16] = 0\n",
    "\n",
    "    def __call__(self, inc : m.Bit) -> m.UInt[16]:\n",
    "        if inc:\n",
    "            self.count = self.count + 1\n",
    "\n",
    "        O = self.count\n",
    "        return O\n",
    "\n",
    "\n",
    "m.compile(\"Counter\", Counter, inline=True)\n",
    "!coreir -i Counter.json -p instancecount -l commonlib"
   ]
  },
  {
   "cell_type": "markdown",
   "metadata": {},
   "source": [
    "In the `__init__` method, the circuit declares a statement `self.count` with an annotated type `m.UInt[16]` and an initial value `0`.  The `__call__` method accepts an input `inc` of type `Bit` which acts as an enable on the counter logic.  The `__call__` method updates the counter state if the enable is high, and returns the next value of the counter (so when enable is high, it will output the state value plus one).  Writes to state elements use Python semantics (Verilog blocking).  Notice that the input and output of the `__call__` method have type annotations just like `m.circuit.combinational` functions. The `__call__` method should be treated as a standard @`m.circuit.combinational` function, with the special parameter self that provides access to the state."
   ]
  },
  {
   "cell_type": "code",
   "execution_count": 14,
   "metadata": {},
   "outputs": [
    {
     "name": "stdout",
     "output_type": "stream",
     "text": [
      "1\n",
      "2\n",
      "3\n",
      "4\n",
      "4\n",
      "4\n",
      "4\n",
      "4\n",
      "0\n"
     ]
    }
   ],
   "source": [
    "tester = fault.PythonTester(Counter, Counter.CLK)\n",
    "tester.poke(Counter.inc, True)\n",
    "tester.eval()\n",
    "for i in range(4):\n",
    "    print(tester.peek(Counter.O))\n",
    "    assert tester.peek(Counter.O) == i + 1\n",
    "    tester.step(2)\n",
    "tester.poke(Counter.inc, False)\n",
    "tester.eval()\n",
    "for i in range(4):\n",
    "    print(tester.peek(Counter.O))\n",
    "    assert tester.peek(Counter.O) == 4\n",
    "    tester.step(2)\n",
    "\n",
    "tester.poke(Counter.ASYNCRESET, 1)\n",
    "tester.eval()\n",
    "print(tester.peek(Counter.O))\n",
    "assert tester.peek(Counter.O) == 0"
   ]
  },
  {
   "cell_type": "markdown",
   "metadata": {},
   "source": [
    "Sequential supports hierarchical composition"
   ]
  },
  {
   "cell_type": "code",
   "execution_count": 18,
   "metadata": {},
   "outputs": [
    {
     "name": "stdout",
     "output_type": "stream",
     "text": [
      "TestShiftRegister = DefineCircuit(\"TestShiftRegister\", \"I\", In(Bits[2]), \"CLK\", In(Clock), \"ASYNCRESET\", In(AsyncReset), \"O\", Out(Bits[2]))\n",
      "Register_inst0 = Register()\n",
      "Register_inst1 = Register()\n",
      "TestShiftRegister_comb_inst0 = TestShiftRegister_comb()\n",
      "wire(TestShiftRegister_comb_inst0.O0, Register_inst0.I)\n",
      "wire(TestShiftRegister_comb_inst0.O1, Register_inst1.I)\n",
      "wire(TestShiftRegister.I, TestShiftRegister_comb_inst0.I)\n",
      "wire(Register_inst0.O, TestShiftRegister_comb_inst0.self_x_O)\n",
      "wire(Register_inst1.O, TestShiftRegister_comb_inst0.self_y_O)\n",
      "wire(TestShiftRegister_comb_inst0.O2, TestShiftRegister.O)\n",
      "EndCircuit()\n",
      "module coreir_reg_arst #(\n",
      "    parameter width = 1,\n",
      "    parameter arst_posedge = 1,\n",
      "    parameter clk_posedge = 1,\n",
      "    parameter init = 1\n",
      ") (\n",
      "    input clk,\n",
      "    input arst,\n",
      "    input [width-1:0] in,\n",
      "    output [width-1:0] out\n",
      ");\n",
      "  reg [width-1:0] outReg;\n",
      "  wire real_rst;\n",
      "  assign real_rst = arst_posedge ? arst : ~arst;\n",
      "  wire real_clk;\n",
      "  assign real_clk = clk_posedge ? clk : ~clk;\n",
      "  always @(posedge real_clk, posedge real_rst) begin\n",
      "    if (real_rst) outReg <= init;\n",
      "    else outReg <= in;\n",
      "  end\n",
      "  assign out = outReg;\n",
      "endmodule\n",
      "\n",
      "module TestShiftRegister_comb (\n",
      "    input [1:0] I,\n",
      "    input [1:0] self_x_O,\n",
      "    input [1:0] self_y_O,\n",
      "    output [1:0] O0,\n",
      "    output [1:0] O1,\n",
      "    output [1:0] O2\n",
      ");\n",
      "assign O0 = I;\n",
      "assign O1 = self_x_O;\n",
      "assign O2 = self_y_O;\n",
      "endmodule\n",
      "\n",
      "module Register_comb (\n",
      "    input [1:0] I,\n",
      "    input [1:0] self_value_O,\n",
      "    output [1:0] O0,\n",
      "    output [1:0] O1\n",
      ");\n",
      "assign O0 = I;\n",
      "assign O1 = self_value_O;\n",
      "endmodule\n",
      "\n",
      "module Register (\n",
      "    input [1:0] I,\n",
      "    input CLK,\n",
      "    input ASYNCRESET,\n",
      "    output [1:0] O\n",
      ");\n",
      "wire [1:0] Register_comb_inst0_O0;\n",
      "wire [1:0] reg_PR_inst0_out;\n",
      "Register_comb Register_comb_inst0 (\n",
      "    .I(I),\n",
      "    .self_value_O(reg_PR_inst0_out),\n",
      "    .O0(Register_comb_inst0_O0),\n",
      "    .O1(O)\n",
      ");\n",
      "coreir_reg_arst #(\n",
      "    .arst_posedge(1'b1),\n",
      "    .clk_posedge(1'b1),\n",
      "    .init(2'h0),\n",
      "    .width(2)\n",
      ") reg_PR_inst0 (\n",
      "    .clk(CLK),\n",
      "    .arst(ASYNCRESET),\n",
      "    .in(Register_comb_inst0_O0),\n",
      "    .out(reg_PR_inst0_out)\n",
      ");\n",
      "endmodule\n",
      "\n",
      "module TestShiftRegister (\n",
      "    input [1:0] I,\n",
      "    input CLK,\n",
      "    input ASYNCRESET,\n",
      "    output [1:0] O\n",
      ");\n",
      "wire [1:0] Register_inst0_O;\n",
      "wire [1:0] Register_inst1_O;\n",
      "wire [1:0] TestShiftRegister_comb_inst0_O0;\n",
      "wire [1:0] TestShiftRegister_comb_inst0_O1;\n",
      "Register Register_inst0 (\n",
      "    .I(TestShiftRegister_comb_inst0_O0),\n",
      "    .CLK(CLK),\n",
      "    .ASYNCRESET(ASYNCRESET),\n",
      "    .O(Register_inst0_O)\n",
      ");\n",
      "Register Register_inst1 (\n",
      "    .I(TestShiftRegister_comb_inst0_O1),\n",
      "    .CLK(CLK),\n",
      "    .ASYNCRESET(ASYNCRESET),\n",
      "    .O(Register_inst1_O)\n",
      ");\n",
      "TestShiftRegister_comb TestShiftRegister_comb_inst0 (\n",
      "    .I(I),\n",
      "    .self_x_O(Register_inst0_O),\n",
      "    .self_y_O(Register_inst1_O),\n",
      "    .O0(TestShiftRegister_comb_inst0_O0),\n",
      "    .O1(TestShiftRegister_comb_inst0_O1),\n",
      "    .O2(O)\n",
      ");\n",
      "endmodule\n",
      "\n"
     ]
    }
   ],
   "source": [
    "@m.circuit.sequential(async_reset=True)\n",
    "class Register:\n",
    "    def __init__(self):\n",
    "        self.value: m.Bits[2] = m.bits(0, 2)\n",
    "\n",
    "    def __call__(self, I: m.Bits[2]) -> m.Bits[2]:\n",
    "        O = self.value\n",
    "        self.value = I\n",
    "        return O\n",
    "    \n",
    "@m.circuit.sequential(async_reset=True)\n",
    "class TestShiftRegister:\n",
    "    def __init__(self):\n",
    "        self.x: Register = Register()\n",
    "        self.y: Register = Register()\n",
    "\n",
    "    def __call__(self, I: m.Bits[2]) -> m.Bits[2]:\n",
    "        x_prev = self.x(I)\n",
    "        y_prev = self.y(x_prev)\n",
    "        return y_prev\n",
    "    \n",
    "print(repr(TestShiftRegister))\n",
    "\n",
    "# Need coreir commonlib since we are compiling multiple circuits so the namespace already has references to mux\n",
    "m.compile(\"build/TestShiftRegister\", TestShiftRegister, inline=True, coreir_libs={\"commonlib\"})\n",
    "!cat build/TestShiftRegister.v"
   ]
  },
  {
   "cell_type": "markdown",
   "metadata": {},
   "source": [
    "**NOTE** Currently it is required that every sub sequential circuit element receive an explicit invocation in the `__call__` method. For example, if you have a sub sequential circuit self.x that you would like to keep constant, you must still call it with self.x(...) to ensure that some input value is provided every cycle (the sub sequential circuit must similarly be designed in such a way that the logic expects inputs every cycle, so enable logic must be explicitly defined)."
   ]
  },
  {
   "cell_type": "code",
   "execution_count": null,
   "metadata": {},
   "outputs": [],
   "source": []
  }
 ],
 "metadata": {
  "kernelspec": {
   "display_name": "Python 3",
   "language": "python",
   "name": "python3"
  },
  "language_info": {
   "codemirror_mode": {
    "name": "ipython",
    "version": 3
   },
   "file_extension": ".py",
   "mimetype": "text/x-python",
   "name": "python",
   "nbconvert_exporter": "python",
   "pygments_lexer": "ipython3",
   "version": "3.7.1"
  }
 },
 "nbformat": 4,
 "nbformat_minor": 2
}
