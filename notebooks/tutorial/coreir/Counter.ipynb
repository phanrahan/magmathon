{
 "cells": [
  {
   "cell_type": "markdown",
   "metadata": {},
   "source": [
    "## Counter"
   ]
  },
  {
   "cell_type": "markdown",
   "metadata": {},
   "source": [
    "To implement a counter we can use the `Register` primitive and the `+` operator. How can we make a more general counter of arbitray width?"
   ]
  },
  {
   "cell_type": "code",
   "execution_count": 1,
   "metadata": {
    "scrolled": true
   },
   "outputs": [],
   "source": [
    "import magma as m\n",
    "from mantle import Register"
   ]
  },
  {
   "cell_type": "markdown",
   "metadata": {},
   "source": [
    "The generator for a counter is parameterized by the number of bits in the counter, `n`."
   ]
  },
  {
   "cell_type": "code",
   "execution_count": 2,
   "metadata": {},
   "outputs": [],
   "source": [
    "class Counter(m.Generator):\n",
    "    @staticmethod\n",
    "    def generate(width: int):\n",
    "        class _Counter(m.Circuit):\n",
    "            name = f'Counter{width}'\n",
    "            io = m.IO(O=m.Out(m.UInt[width])) + m.ClockIO()\n",
    "\n",
    "            reg = Register(width, _type=m.UInt)\n",
    "            io.O @= reg(reg.O + 1)\n",
    "        return _Counter"
   ]
  },
  {
   "cell_type": "markdown",
   "metadata": {},
   "source": [
    "Simulate the counter."
   ]
  },
  {
   "cell_type": "code",
   "execution_count": 3,
   "metadata": {},
   "outputs": [
    {
     "name": "stdout",
     "output_type": "stream",
     "text": [
      "0\n",
      "1\n",
      "2\n",
      "3\n",
      "4\n",
      "5\n",
      "6\n",
      "7\n",
      "8\n",
      "9\n",
      "10\n",
      "Success!\n"
     ]
    }
   ],
   "source": [
    "from fault import PythonTester\n",
    "\n",
    "Counter4 = Counter.generate(4)\n",
    "tester = PythonTester(Counter4, Counter4.CLK)\n",
    "\n",
    "tester.eval()\n",
    "val = tester.peek(Counter4.O)\n",
    "print(tester.peek(Counter4.O))\n",
    "assert val == 0\n",
    "\n",
    "for i in range(1,11): \n",
    "    tester.step() # toggle clock - now High\n",
    "    assert i == tester.peek(Counter4.O)\n",
    "    print(tester.peek(Counter4.O))\n",
    "\n",
    "    tester.step() # toggle clock - now Low\n",
    "    assert i == tester.peek(Counter4.O)\n",
    "\n",
    "print(\"Success!\")"
   ]
  },
  {
   "cell_type": "code",
   "execution_count": 4,
   "metadata": {},
   "outputs": [
    {
     "name": "stdout",
     "output_type": "stream",
     "text": [
      "An instance count of all the primitives\n",
      "=======================================\n",
      "Counter4 | instances in current | instances in children | \n",
      "  coreir_add__width4 | 1 | 0\n",
      "  coreir_const__width4 | 1 | 0\n",
      "  coreir_reg__width4 | 1 | 0\n",
      "\n",
      "=======================================\n",
      "{\"top\":\"global.Counter4\",\n",
      "\"namespaces\":{\n",
      "  \"global\":{\n",
      "    \"modules\":{\n",
      "      \"Counter4\":{\n",
      "        \"type\":[\"Record\",[\n",
      "          [\"O\",[\"Array\",4,\"Bit\"]],\n",
      "          [\"CLK\",[\"Named\",\"coreir.clkIn\"]]\n",
      "        ]],\n",
      "        \"instances\":{\n",
      "          \"const_1_4\":{\n",
      "            \"genref\":\"coreir.const\",\n",
      "            \"genargs\":{\"width\":[\"Int\",4]},\n",
      "            \"modargs\":{\"value\":[[\"BitVector\",4],\"4'h1\"]}\n",
      "          },\n",
      "          \"magma_Bits_4_add_inst0\":{\n",
      "            \"genref\":\"coreir.add\",\n",
      "            \"genargs\":{\"width\":[\"Int\",4]}\n",
      "          },\n",
      "          \"reg_P_inst0\":{\n",
      "            \"genref\":\"coreir.reg\",\n",
      "            \"genargs\":{\"width\":[\"Int\",4]},\n",
      "            \"modargs\":{\"clk_posedge\":[\"Bool\",true], \"init\":[[\"BitVector\",4],\"4'h0\"]}\n",
      "          }\n",
      "        },\n",
      "        \"connections\":[\n",
      "          [\"magma_Bits_4_add_inst0.in1\",\"const_1_4.out\"],\n",
      "          [\"reg_P_inst0.out\",\"magma_Bits_4_add_inst0.in0\"],\n",
      "          [\"reg_P_inst0.in\",\"magma_Bits_4_add_inst0.out\"],\n",
      "          [\"self.CLK\",\"reg_P_inst0.clk\"],\n",
      "          [\"self.O\",\"reg_P_inst0.out\"]\n",
      "        ]\n",
      "      }\n",
      "    }\n",
      "  }\n",
      "}\n",
      "}\n",
      "/Users/travis/build/leonardt/pycoreir/coreir-cpp/src/binary/coreir.cpp:238 Modified?: No\n",
      "module coreir_reg #(\n",
      "    parameter width = 1,\n",
      "    parameter clk_posedge = 1,\n",
      "    parameter init = 1\n",
      ") (\n",
      "    input clk,\n",
      "    input [width-1:0] in,\n",
      "    output [width-1:0] out\n",
      ");\n",
      "  reg [width-1:0] outReg=init;\n",
      "  wire real_clk;\n",
      "  assign real_clk = clk_posedge ? clk : ~clk;\n",
      "  always @(posedge real_clk) begin\n",
      "    outReg <= in;\n",
      "  end\n",
      "  assign out = outReg;\n",
      "endmodule\n",
      "\n",
      "module Counter4 (\n",
      "    output [3:0] O,\n",
      "    input CLK\n",
      ");\n",
      "coreir_reg #(\n",
      "    .clk_posedge(1'b1),\n",
      "    .init(4'h0),\n",
      "    .width(4)\n",
      ") reg_P_inst0 (\n",
      "    .clk(CLK),\n",
      "    .in(O + 4'h1),\n",
      "    .out(O)\n",
      ");\n",
      "endmodule\n",
      "\n"
     ]
    }
   ],
   "source": [
    "m.compile(\"build/Counter4\", Counter4, inline=True)\n",
    "!coreir -i build/Counter4.json -p instancecount\n",
    "!cat build/Counter4.v"
   ]
  },
  {
   "cell_type": "code",
   "execution_count": null,
   "metadata": {},
   "outputs": [],
   "source": []
  }
 ],
 "metadata": {
  "kernelspec": {
   "display_name": "Python 3",
   "language": "python",
   "name": "python3"
  },
  "language_info": {
   "codemirror_mode": {
    "name": "ipython",
    "version": 3
   },
   "file_extension": ".py",
   "mimetype": "text/x-python",
   "name": "python",
   "nbconvert_exporter": "python",
   "pygments_lexer": "ipython3",
   "version": "3.7.2"
  }
 },
 "nbformat": 4,
 "nbformat_minor": 2
}
