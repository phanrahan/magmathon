{
 "cells": [
  {
   "cell_type": "code",
   "execution_count": 1,
   "metadata": {
    "collapsed": true
   },
   "outputs": [],
   "source": [
    "import magma as m\n",
    "m.set_mantle_target(\"coreir\")\n",
    "import mantle\n",
    "\n",
    "def DefineShiftRegister(n, init=0, has_ce=False, has_reset=False):\n",
    "    class _ShiftRegister(m.Circuit):\n",
    "        name = 'ShiftRegister_{}_{}_{}_{}'.format(n, init, has_ce, has_reset)\n",
    "        IO = ['I', m.In(m.Bit), 'O', m.Out(m.Bit)] + \\\n",
    "               m.ClockInterface(has_ce, has_reset)\n",
    "        @classmethod\n",
    "        def definition(siso):\n",
    "            ffs = mantle.FFs(n, init=init, has_ce=has_ce, has_reset=has_reset)\n",
    "            reg = m.braid(ffs, foldargs={\"I\":\"O\"})\n",
    "            reg(siso.I)\n",
    "            m.wire(reg.O, siso.O)\n",
    "            m.wireclock(siso, reg)\n",
    "    return _ShiftRegister"
   ]
  },
  {
   "cell_type": "code",
   "execution_count": 2,
   "metadata": {},
   "outputs": [
    {
     "name": "stdout",
     "output_type": "stream",
     "text": [
      "{\"top\":\"global.ShiftRegister_2_0_True_False\",\r\n",
      "\"namespaces\":{\r\n",
      "  \"global\":{\r\n",
      "    \"modules\":{\r\n",
      "      \"DFF_init0_has_ceTrue_has_resetFalse\":{\r\n",
      "        \"type\":[\"Record\",[\r\n",
      "          [\"I\",\"BitIn\"],\r\n",
      "          [\"O\",\"Bit\"],\r\n",
      "          [\"CLK\",[\"Named\",\"coreir.clkIn\"]],\r\n",
      "          [\"CE\",\"BitIn\"]\r\n",
      "        ]],\r\n",
      "        \"instances\":{\r\n",
      "          \"inst0\":{\r\n",
      "            \"genref\":\"mantle.reg\",\r\n",
      "            \"genargs\":{\"has_clr\":[\"Bool\",false], \"has_en\":[\"Bool\",true], \"has_rst\":[\"Bool\",false], \"width\":[\"Int\",1]},\r\n",
      "            \"modargs\":{\"init\":[[\"BitVector\",1],\"1'h0\"]}\r\n",
      "          }\r\n",
      "        },\r\n",
      "        \"connections\":[\r\n",
      "          [\"self.CLK\",\"inst0.clk\"],\r\n",
      "          [\"self.CE\",\"inst0.en\"],\r\n",
      "          [\"self.I\",\"inst0.in.0\"],\r\n",
      "          [\"self.O\",\"inst0.out.0\"]\r\n",
      "        ]\r\n",
      "      },\r\n",
      "      \"ShiftRegister_2_0_True_False\":{\r\n",
      "        \"type\":[\"Record\",[\r\n",
      "          [\"I\",\"BitIn\"],\r\n",
      "          [\"O\",\"Bit\"],\r\n",
      "          [\"CLK\",[\"Named\",\"coreir.clkIn\"]],\r\n",
      "          [\"CE\",\"BitIn\"]\r\n",
      "        ]],\r\n",
      "        \"instances\":{\r\n",
      "          \"inst0\":{\r\n",
      "            \"modref\":\"global.DFF_init0_has_ceTrue_has_resetFalse\"\r\n",
      "          },\r\n",
      "          \"inst1\":{\r\n",
      "            \"modref\":\"global.DFF_init0_has_ceTrue_has_resetFalse\"\r\n",
      "          }\r\n",
      "        },\r\n",
      "        \"connections\":[\r\n",
      "          [\"self.CE\",\"inst0.CE\"],\r\n",
      "          [\"self.CLK\",\"inst0.CLK\"],\r\n",
      "          [\"self.I\",\"inst0.I\"],\r\n",
      "          [\"inst1.I\",\"inst0.O\"],\r\n",
      "          [\"self.CE\",\"inst1.CE\"],\r\n",
      "          [\"self.CLK\",\"inst1.CLK\"],\r\n",
      "          [\"self.O\",\"inst1.O\"]\r\n",
      "        ]\r\n",
      "      }\r\n",
      "    }\r\n",
      "  }\r\n",
      "}\r\n",
      "}"
     ]
    }
   ],
   "source": [
    "m.compile(\"build/DefineShiftRegister.json\", DefineShiftRegister(2, has_ce=True), output=\"coreir\")\n",
    "%cat build/DefineShiftRegister.json"
   ]
  },
  {
   "cell_type": "code",
   "execution_count": 3,
   "metadata": {
    "collapsed": true
   },
   "outputs": [],
   "source": [
    "from magma.simulator.coreir_simulator import CoreIRSimulator\n",
    "from bit_vector import BitVector\n",
    "\n",
    "N = 3\n",
    "ShiftRegisterNCE = DefineShiftRegister(N, has_ce=True)\n",
    "simulator = CoreIRSimulator(ShiftRegisterNCE, clock=ShiftRegisterNCE.CLK)\n",
    "outputs = []\n",
    "for j in range(2):\n",
    "    simulator.advance()\n",
    "for I, enable in [(1, 1), (0, 1), (1, 1), (0, 1), (1, 0), (0, 0), (1, 1), (1, 1), (1, 1), (1, 1)]:\n",
    "    simulator.set_value(ShiftRegisterNCE.I, bool(I))\n",
    "    simulator.set_value(ShiftRegisterNCE.CE, bool(enable))\n",
    "    for j in range(2):\n",
    "        simulator.advance()\n",
    "        O = simulator.get_value(ShiftRegisterNCE.O)\n",
    "        CLK = simulator.get_value(ShiftRegisterNCE.CLK)\n",
    "        outputs.append([O, I, enable, CLK])"
   ]
  },
  {
   "cell_type": "code",
   "execution_count": 4,
   "metadata": {},
   "outputs": [
    {
     "data": {
      "image/png": "[encoded data removed]",
      "text/plain": [
       "<matplotlib.figure.Figure at 0x1097826d8>"
      ]
     },
     "metadata": {},
     "output_type": "display_data"
    }
   ],
   "source": [
    "from magma.waveform import waveform\n",
    "\n",
    "waveform(outputs, [\"O\", \"I\", \"CE\", \"CLK\"])"
   ]
  }
 ],
 "metadata": {
  "kernelspec": {
   "display_name": "Python 3",
   "language": "python",
   "name": "python3"
  },
  "language_info": {
   "codemirror_mode": {
    "name": "ipython",
    "version": 3
   },
   "file_extension": ".py",
   "mimetype": "text/x-python",
   "name": "python",
   "nbconvert_exporter": "python",
   "pygments_lexer": "ipython3",
   "version": "3.6.5"
  }
 },
 "nbformat": 4,
 "nbformat_minor": 2
}
