{
 "cells": [
  {
   "cell_type": "code",
   "execution_count": 1,
   "metadata": {
    "collapsed": true
   },
   "outputs": [],
   "source": [
    "import magma as m\n",
    "m.set_mantle_target(\"coreir\")\n",
    "import mantle\n",
    "\n",
    "class Combinational(m.Circuit):\n",
    "    name = \"Combinational\"\n",
    "    IO = [\"x\", m.In(m.UInt(16)), \"y\", m.In(m.UInt(16)), \"z\", m.Out(m.UInt(16))]\n",
    "    \n",
    "    @classmethod\n",
    "    def definition(io):\n",
    "        m.wire(io.x + io.y, io.z)"
   ]
  },
  {
   "cell_type": "code",
   "execution_count": 2,
   "metadata": {},
   "outputs": [
    {
     "name": "stdout",
     "output_type": "stream",
     "text": [
      "Success!\n"
     ]
    }
   ],
   "source": [
    "from magma.simulator import PythonSimulator\n",
    "from magma.bit_vector import BitVector\n",
    "\n",
    "simulator = PythonSimulator(Combinational)\n",
    "simulator.set_value(Combinational.x, BitVector(76, num_bits=16))\n",
    "simulator.set_value(Combinational.y, BitVector(43, num_bits=16))\n",
    "simulator.evaluate()\n",
    "assert simulator.get_value(Combinational.z) == BitVector(76 + 43, num_bits=16)\n",
    "print(\"Success!\")"
   ]
  }
 ],
 "metadata": {
  "kernelspec": {
   "display_name": "Python 3",
   "language": "python",
   "name": "python3"
  },
  "language_info": {
   "codemirror_mode": {
    "name": "ipython",
    "version": 3
   },
   "file_extension": ".py",
   "mimetype": "text/x-python",
   "name": "python",
   "nbconvert_exporter": "python",
   "pygments_lexer": "ipython3",
   "version": "3.6.5"
  }
 },
 "nbformat": 4,
 "nbformat_minor": 2
}
