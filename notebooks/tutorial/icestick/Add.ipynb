{
 "cells": [
  {
   "cell_type": "markdown",
   "metadata": {},
   "source": [
    "## Add\n",
    "\n",
    "In this tutorial, we will construct a n-bit adder from n full adders. \n",
    "`Magma` has built in support for addition using the `+` operator,\n",
    "so please don't think `Magma` is so low-level that you need to create\n",
    "logical and arithmetic functions in order to use it!\n",
    "We use this example to show how circuits are composed to form new circuits.\n",
    "\n",
    "Since we are using the ICE40, we need to set the target of `Mantle` to `\"ice40\"`."
   ]
  },
  {
   "cell_type": "code",
   "execution_count": 1,
   "metadata": {
    "scrolled": true
   },
   "outputs": [],
   "source": [
    "import magma as m\n",
    "m.set_mantle_target(\"ice40\")"
   ]
  },
  {
   "cell_type": "markdown",
   "metadata": {},
   "source": [
    "## Mantle FullAdder\n",
    "\n",
    "In the last example, we defined a Python function that created a full adder. \n",
    "In this example, we are going to use the built-in `FullAdder` from `Mantle`.\n",
    "`Mantle` is our standard library of useful circuits."
   ]
  },
  {
   "cell_type": "code",
   "execution_count": 2,
   "metadata": {},
   "outputs": [
    {
     "name": "stdout",
     "output_type": "stream",
     "text": [
      "import lattice ice40\n",
      "import lattice mantle40\n"
     ]
    }
   ],
   "source": [
    "from mantle import FullAdder"
   ]
  },
  {
   "cell_type": "markdown",
   "metadata": {},
   "source": [
    "We can print out the *interface* of the `FullAdder`. "
   ]
  },
  {
   "cell_type": "code",
   "execution_count": 3,
   "metadata": {},
   "outputs": [
    {
     "name": "stdout",
     "output_type": "stream",
     "text": [
      "FullAdder(I0: In(Bit), I1: In(Bit), CIN: In(Bit), O: Out(Bit), COUT: Out(Bit))\n"
     ]
    }
   ],
   "source": [
    "print(FullAdder)"
   ]
  },
  {
   "cell_type": "markdown",
   "metadata": {},
   "source": [
    "This tells us that the full adder has three inputs `I0`, `I1`, and `CIN`. \n",
    "Note that the type of these arguments are `In(Bit)`. \n",
    "There are also two outputs `O` and `COUT`, both with type `Out(Bit)`.\n",
    "In `Magma` arguments in the circuit interface are normally *qualified* to be inputs or outputs."
   ]
  },
  {
   "cell_type": "code",
   "execution_count": 4,
   "metadata": {},
   "outputs": [
    {
     "name": "stdout",
     "output_type": "stream",
     "text": [
      "I0 In(Bit)\n",
      "I1 In(Bit)\n",
      "CIN In(Bit)\n",
      "O Out(Bit)\n",
      "COUT Out(Bit)\n"
     ]
    }
   ],
   "source": [
    "fulladder = FullAdder()\n",
    "print(fulladder.I0, type(fulladder.I0))\n",
    "print(fulladder.I1, type(fulladder.I1))\n",
    "print(fulladder.CIN, type(fulladder.CIN))\n",
    "print(fulladder.O, type(fulladder.O))\n",
    "print(fulladder.COUT, type(fulladder.O))"
   ]
  },
  {
   "cell_type": "markdown",
   "metadata": {},
   "source": [
    "Before testing the full adder on the `IceStick` board,\n",
    "let's test it using the Python simulator."
   ]
  },
  {
   "cell_type": "code",
   "execution_count": 5,
   "metadata": {},
   "outputs": [
    {
     "name": "stdout",
     "output_type": "stream",
     "text": [
      "Success!\n"
     ]
    }
   ],
   "source": [
    "from magma.simulator import PythonSimulator\n",
    "\n",
    "fulladder = PythonSimulator(FullAdder)\n",
    "\n",
    "assert fulladder(1, 0, 0) == (1, 0), \"Failed\"\n",
    "assert fulladder(0, 1, 0) == (1, 0), \"Failed\"\n",
    "assert fulladder(1, 1, 0) == (0, 1), \"Failed\"\n",
    "assert fulladder(1, 0, 1) == (0, 1), \"Failed\"\n",
    "assert fulladder(1, 1, 1) == (1, 1), \"Failed\"\n",
    "print(\"Success!\")"
   ]
  },
  {
   "cell_type": "markdown",
   "metadata": {},
   "source": [
    "## class Add2 - Defining a Circuit\n",
    "\n",
    "Now let's build a 2-bit adder using `FullAdder`. \n",
    "We'll use a simple ripple carry adder design by connecting the carry out of one full adder\n",
    "to the carry in of the next full adder.\n",
    "The resulting adder will accept as input a carry in,\n",
    "and generate a final carry out. Here's a `logisim` diagram of the circuit we will construct:\n",
    "\n",
    "![2-Bit Adder](logisim/adder.png)"
   ]
  },
  {
   "cell_type": "markdown",
   "metadata": {},
   "source": [
    "Here is a Python class that implements a 2-bit adder."
   ]
  },
  {
   "cell_type": "code",
   "execution_count": 6,
   "metadata": {},
   "outputs": [],
   "source": [
    "class Add2(m.Circuit):\n",
    "    IO = ['I0', m.In(m.UInt[2]), 'I1', m.In(m.UInt[2]), 'CIN', m.In(m.Bit),\n",
    "           'O', m.Out(m.UInt[2]), 'COUT', m.Out(m.Bit) ]\n",
    "    @classmethod\n",
    "    def definition(io):\n",
    "        n = len(io.I0)\n",
    "        O = []\n",
    "        COUT = io.CIN\n",
    "        for i in range(n):\n",
    "            fulladder = FullAdder()\n",
    "            Oi, COUT = fulladder(io.I0[i], io.I1[i], COUT)\n",
    "            O.append(Oi)\n",
    "        io.O <= m.uint(O)\n",
    "        io.COUT <= COUT"
   ]
  },
  {
   "cell_type": "markdown",
   "metadata": {},
   "source": [
    "Although we are making an 2-bit adder,\n",
    "we do this using a for loop that can be generalized to construct an n-bit adder.\n",
    "Each time through the for loop we create an instance of a full adder \n",
    "by calling `FullAdder()`. \n",
    "Recall that circuits are python classes,\n",
    "so that calling a class returns an instance of that class.\n",
    "\n",
    "Note how we wire up the full adders.\n",
    "Calling an circuit instance has the effect of wiring\n",
    "up the arguments to the inputs of the circuit.\n",
    "That is,\n",
    "```\n",
    "O, COUT = fulladder(I0, I1, CIN)\n",
    "```\n",
    "is equivalent to\n",
    "```\n",
    "m.wire(IO, fulladder.I0)\n",
    "m.wire(I1, fulladder.I1)\n",
    "m.wire(CIN, fulladder.CIN)\n",
    "O = fulladder.O\n",
    "COUT = fulladder.COUT\n",
    "```\n",
    "The outputs of the circuit are returned.\n",
    "\n",
    "Inside this loop we append single bit outputs from the full adders\n",
    "to the Python list `O`. \n",
    "We also set the `CIN` of the next full adder to the `COUT` of the previous instance.\n",
    "\n",
    "Finally, we then convert the list `O` to a `Uint(n)`. \n",
    "In addition to `Bits(n)`,\n",
    "`Magma` also has built in types `UInt(n)` and `SInt(n)` \n",
    "to represent unsigned and signed ints.\n",
    "`Magma` also has type conversion functions `bits`, `uint`, and `sint` to convert\n",
    "between different types. \n",
    "In this example, `m.uint(C)` converts the list of bits to a `UInt(len(C))`."
   ]
  },
  {
   "cell_type": "markdown",
   "metadata": {},
   "source": [
    "## DefineAdd Generator\n",
    "\n",
    "One question you may be asking yourself, is how can this code be generalized to produce an n-bit adder. We do this by creating an add *generator*.\n",
    "A generator is a Python function that takes parameters and returns a circuit class.\n",
    "Calling the generator with different parameter values will create different circuits.\n",
    "The power of `Magma` results from being to use all the features of Python\n",
    "to create powerful hardware generators.\n",
    "\n",
    "Here is the code:"
   ]
  },
  {
   "cell_type": "code",
   "execution_count": 7,
   "metadata": {},
   "outputs": [],
   "source": [
    "def DefineAdd(n):\n",
    "    class _Add(m.Circuit):\n",
    "        name = f'Add{n}'\n",
    "        IO = ['I0', m.In(m.UInt[n]), 'I1', m.In(m.UInt[n]), 'CIN', m.In(m.Bit),\n",
    "               'O', m.Out(m.UInt[n]), 'COUT', m.Out(m.Bit) ]\n",
    "        @classmethod\n",
    "        def definition(io):\n",
    "            O = []\n",
    "            COUT = io.CIN\n",
    "            for i in range(n):\n",
    "                fulladder = FullAdder()\n",
    "                Oi, COUT = fulladder(io.I0[i], io.I1[i], COUT)\n",
    "                O.append(Oi)\n",
    "            io.O <= m.uint(O)\n",
    "            io.COUT <= COUT\n",
    "    return _Add\n",
    "\n",
    "def Add(n):\n",
    "    return DefineAdd(n)()\n",
    "\n",
    "def add(i0, i1, cin):\n",
    "    assert len(i0) == len(i1)\n",
    "    return Add(len(i0))(i0, i1, cin)"
   ]
  },
  {
   "cell_type": "markdown",
   "metadata": {},
   "source": [
    "First, notice that a circuit generator by convention begins with the prefix `Define`.\n",
    "In this example,\n",
    "`DefineAdd` has a parameter `n` which is the width of the adder.\n",
    "\n",
    "A circuit generator returns a subclass of `Circuit`. \n",
    "A standard way to write this is to construct a new `Circuit` class\n",
    "within the body of the generator.\n",
    "The code within the body of the generator can refer to the arguments\n",
    "to the generator.\n",
    "\n",
    "Like Verilog modules, Magma circuits must have unique names. \n",
    "Because Python does not provide the facilities \n",
    "to dynamically generate the class name, \n",
    "dynamically constructed Magma circuits are named using the `name` class variable. \n",
    "Python generators need to create unique names for each generated circuit \n",
    "because Magma will cache circuit definitions based on the name.\n",
    "\n",
    "Note how the name of the circuit is set using the format string `f'Add{n}'`.\n",
    "For example, if `n` is 2, the name of the circuit will be `Add2`.\n",
    "`Magma` allows you to use Python string manipulation functions to create mnemonic names.\n",
    "As we will see, the resulting verilog module will have the same name.\n",
    "This is very useful for debugging.\n",
    "\n",
    "We also can create the parameterized types within the generator. \n",
    "In this example, we use the type `UInt(n)` which depends on `n`.\n",
    "The loop within `definition` can also refer to the parameter `n`'\n",
    "\n",
    "Finally, notice we defined three interrelated functions: \n",
    "`DefineAdd(n)`, `Add(n)`, and `add(i0, i1, cin)`.\n",
    "Why are there three functions?\n",
    "Because there are three stages in using `Magma` to create hardware.\n",
    "The first stage is to generate or define circuits.\n",
    "The second stage is to create instances of these circuits.\n",
    "And the third stage is to wire up the circuits.\n",
    "\n",
    "Functions named `DefineX` are generators. Generators are functions that return `Circuit`s.\n",
    "\n",
    "Functions named `X` return circuit instances. This is done by calling `DefineX` and then instancing the circuit. This may seem very inefficient. Fortunately, circuits classes are cached and only defined once.\n",
    "\n",
    "Finally, functions named lowercase `x` do one more thing. They wire the arguments of to `x` to the circuit. They can also construct the appropriate circuit class depending on the types of the arguments. \n",
    "In this example, `add` constructs an n-bit adder, where `n` is the width of the inputs.\n",
    "\n",
    "We strongly recommend that you follow this naming convention."
   ]
  },
  {
   "cell_type": "markdown",
   "metadata": {},
   "source": [
    "## Running on the IceStick\n",
    "\n",
    "In order to test the adder,\n",
    "we setup the IceStick board\n",
    "to have two 2-bit inputs and one 3-bit output.\n",
    "As before, `J1` will be used for inputs and `J3` for outputs."
   ]
  },
  {
   "cell_type": "code",
   "execution_count": 8,
   "metadata": {},
   "outputs": [],
   "source": [
    "N = 2\n",
    "\n",
    "from loam.boards.icestick import IceStick\n",
    "\n",
    "icestick = IceStick()\n",
    "for i in range(N):\n",
    "    icestick.J1[i].input().on()\n",
    "    icestick.J1[i+N].input().on()\n",
    "    \n",
    "for i in range(N+1):\n",
    "    icestick.J3[i].output().on()"
   ]
  },
  {
   "cell_type": "markdown",
   "metadata": {},
   "source": [
    "We define a `main` function that instances our 2-bit adder and wires it up to `J1` and `J3`. Notice the use of Python's slicing syntax using our width variable `N`."
   ]
  },
  {
   "cell_type": "code",
   "execution_count": 9,
   "metadata": {},
   "outputs": [],
   "source": [
    "main = icestick.DefineMain()\n",
    "O, COUT = add( main.J1[0:N], main.J1[N:2*N], 0 )\n",
    "main.J3[0:N] <= O\n",
    "main.J3[N] <= COUT\n",
    "m.EndDefine()"
   ]
  },
  {
   "cell_type": "markdown",
   "metadata": {},
   "source": [
    "As before, we compile."
   ]
  },
  {
   "cell_type": "code",
   "execution_count": 10,
   "metadata": {},
   "outputs": [],
   "source": [
    "m.compile('build/add', main)"
   ]
  },
  {
   "cell_type": "markdown",
   "metadata": {},
   "source": [
    "And use our `yosys`, `arcachne-pnr`, and `icestorm` tool flow."
   ]
  },
  {
   "cell_type": "code",
   "execution_count": 11,
   "metadata": {},
   "outputs": [
    {
     "name": "stdout",
     "output_type": "stream",
     "text": [
      "/Users/hanrahan/git/magmathon/notebooks/tutorial/icestick/build\n"
     ]
    }
   ],
   "source": [
    "%%bash\n",
    "cd build\n",
    "yosys -q -p 'synth_ice40 -top main -blif add.blif' add.v\n",
    "arachne-pnr -q -d 1k -o add.txt -p add.pcf add.blif \n",
    "icepack add.txt add.bin\n",
    "#iceprog add.bin"
   ]
  },
  {
   "cell_type": "markdown",
   "metadata": {},
   "source": [
    "You can test the program by connecting up some switches and LEDs to the headers. You should see the sum of the inputs displayed on the LEDs. First, we need to find out what pins `J1` and `J3` are wired up to. (Note: you can use `%` to execute shell commands inline in Jupyter notebooks)"
   ]
  },
  {
   "cell_type": "code",
   "execution_count": 12,
   "metadata": {},
   "outputs": [
    {
     "name": "stdout",
     "output_type": "stream",
     "text": [
      "set_io J1[0] 112\r\n",
      "set_io J1[1] 113\r\n",
      "set_io J1[2] 114\r\n",
      "set_io J1[3] 115\r\n",
      "set_io J3[2] 60\r\n",
      "set_io J3[1] 61\r\n",
      "set_io J3[0] 62\r\n"
     ]
    }
   ],
   "source": [
    "%cat build/add.pcf"
   ]
  },
  {
   "cell_type": "markdown",
   "metadata": {},
   "source": [
    "In this example, we have J1 wire up to the four switch/LED circuits on the left, and J3 wired up to the three LED (no switch) circuits on the right\n",
    "![](images/adder-seq/IMG_20180610_182758.jpg)\n",
    "![](images/adder-seq/IMG_20180610_182802.jpg)\n",
    "![](images/adder-seq/IMG_20180610_182806.jpg)\n",
    "![](images/adder-seq/IMG_20180610_182811.jpg)\n",
    "![](images/adder-seq/IMG_20180610_182819.jpg)\n",
    "![](images/adder-seq/IMG_20180610_182823.jpg)\n",
    "![](images/adder-seq/IMG_20180610_182827.jpg)"
   ]
  },
  {
   "cell_type": "markdown",
   "metadata": {},
   "source": [
    "Again, it can be useful to examine the compiled Verilog.\n",
    "\n",
    "Notice that it includes a Verilog definition of the `mantle` `FullAdder` implemented using the `SB_LUT4` and `SB_CARRY` primtives. The `Add2` module instances two `FullAdder`s and wires them up. "
   ]
  },
  {
   "cell_type": "code",
   "execution_count": 13,
   "metadata": {},
   "outputs": [
    {
     "name": "stdout",
     "output_type": "stream",
     "text": [
      "module FullAdder (input  I0, input  I1, input  CIN, output  O, output  COUT);\r\n",
      "wire  SB_LUT4_inst0_O;\r\n",
      "wire  SB_CARRY_inst0_CO;\r\n",
      "SB_LUT4 #(.LUT_INIT(16'h9696)) SB_LUT4_inst0 (.I0(I0), .I1(I1), .I2(CIN), .I3(1'b0), .O(SB_LUT4_inst0_O));\r\n",
      "SB_CARRY SB_CARRY_inst0 (.I0(I0), .I1(I1), .CI(CIN), .CO(SB_CARRY_inst0_CO));\r\n",
      "assign O = SB_LUT4_inst0_O;\r\n",
      "assign COUT = SB_CARRY_inst0_CO;\r\n",
      "endmodule\r\n",
      "\r\n",
      "module Add2 (input [1:0] I0, input [1:0] I1, input  CIN, output [1:0] O, output  COUT);\r\n",
      "wire  FullAdder_inst0_O;\r\n",
      "wire  FullAdder_inst0_COUT;\r\n",
      "wire  FullAdder_inst1_O;\r\n",
      "wire  FullAdder_inst1_COUT;\r\n",
      "FullAdder FullAdder_inst0 (.I0(I0[0]), .I1(I1[0]), .CIN(CIN), .O(FullAdder_inst0_O), .COUT(FullAdder_inst0_COUT));\r\n",
      "FullAdder FullAdder_inst1 (.I0(I0[1]), .I1(I1[1]), .CIN(FullAdder_inst0_COUT), .O(FullAdder_inst1_O), .COUT(FullAdder_inst1_COUT));\r\n",
      "assign O = {FullAdder_inst1_O,FullAdder_inst0_O};\r\n",
      "assign COUT = FullAdder_inst1_COUT;\r\n",
      "endmodule\r\n",
      "\r\n",
      "module main (input [3:0] J1, output [2:0] J3);\r\n",
      "wire [1:0] Add2_inst0_O;\r\n",
      "wire  Add2_inst0_COUT;\r\n",
      "Add2 Add2_inst0 (.I0({J1[1],J1[0]}), .I1({J1[3],J1[2]}), .CIN(1'b0), .O(Add2_inst0_O), .COUT(Add2_inst0_COUT));\r\n",
      "assign J3 = {Add2_inst0_COUT,Add2_inst0_O[1],Add2_inst0_O[0]};\r\n",
      "endmodule\r\n",
      "\r\n"
     ]
    }
   ],
   "source": [
    "%cat build/add.v"
   ]
  },
  {
   "cell_type": "markdown",
   "metadata": {},
   "source": [
    "You can also display the circuit using `graphviz`."
   ]
  },
  {
   "cell_type": "code",
   "execution_count": 14,
   "metadata": {},
   "outputs": [],
   "source": [
    "#DefineAdd(4)"
   ]
  }
 ],
 "metadata": {
  "kernelspec": {
   "display_name": "Python 3",
   "language": "python",
   "name": "python3"
  },
  "language_info": {
   "codemirror_mode": {
    "name": "ipython",
    "version": 3
   },
   "file_extension": ".py",
   "mimetype": "text/x-python",
   "name": "python",
   "nbconvert_exporter": "python",
   "pygments_lexer": "ipython3",
   "version": "3.7.2"
  }
 },
 "nbformat": 4,
 "nbformat_minor": 2
}
