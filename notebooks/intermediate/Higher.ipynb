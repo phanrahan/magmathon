{
 "cells": [
  {
   "cell_type": "markdown",
   "metadata": {},
   "source": [
    "## Constructing Circuits from other Circuits \n",
    "\n",
    "A common pattern that is used extensively in `Magma` is to write general\n",
    "functions that construct new circuits from other circuits.\n",
    "This circuit constructors are analogous to the higher-order functions\n",
    "in a functional programming languages.\n",
    "Examples in functional programming languages include `map` and `fold`.\n",
    "The corresponding `Magma` operators are `join`, `fork`, `fold`, and `scan`.\n",
    "`Magma` generalizes these functions with `braid`,\n",
    "that allows one to construct systolic arrays which\n",
    "cannot be described using functions since they wire stateful elements."
   ]
  },
  {
   "cell_type": "code",
   "execution_count": 1,
   "metadata": {},
   "outputs": [],
   "source": [
    "import magma as m\n",
    "m.set_mantle_target(\"ice40\")"
   ]
  },
  {
   "cell_type": "markdown",
   "metadata": {},
   "source": [
    "## Register - `col` and `join`"
   ]
  },
  {
   "cell_type": "markdown",
   "metadata": {},
   "source": [
    "Perhaps the simplest example is the `Mantle` function that constructs a n-bit `Register`.\n",
    "\n",
    "To do this we use the `Magma` `col` and `join` functions. \n",
    "`col` takes a `Circuit` constructor and the number `n` of circuit instances to create.\n",
    "It returns a list of circuit instances.\n",
    "`join` combines `n` circuit instances together into a single circuit.\n",
    "\n",
    "![Join](images/join.jpg)"
   ]
  },
  {
   "cell_type": "code",
   "execution_count": 2,
   "metadata": {
    "scrolled": true
   },
   "outputs": [
    {
     "name": "stdout",
     "output_type": "stream",
     "text": [
      "import lattice ice40\n",
      "import lattice mantle40\n"
     ]
    }
   ],
   "source": [
    "from mantle import DFF\n",
    "\n",
    "def DefineRegister(n):\n",
    "    \"\"\"\n",
    "    Generate an n-bit register\n",
    "\n",
    "    Interface\n",
    "    ---------\n",
    "        I : In(Bits(n)), O : Out(Bits(n))\n",
    "    \"\"\"\n",
    "    T = m.Bits(n)\n",
    "    class _Register(Circuit):\n",
    "        name = f'Register{n}'\n",
    "        IO  = ['I', m.In(T), 'O', m.Out(T)] + m.ClockInterface()\n",
    "        @classmethod\n",
    "        def definition(io):\n",
    "            reg = m.join(m.col(DFF, n))\n",
    "            m.wire(reg(io.I), io.O)\n",
    "    return _Register"
   ]
  },
  {
   "cell_type": "markdown",
   "metadata": {},
   "source": [
    "## fork\n",
    "\n",
    "`fork(list)` creates a single circuit from a list of instances.\n",
    "Just as with join, the outputs of the circuits are concatenated together to form a array.\n",
    "However, the inputs are not concatenated, they are forked.\n",
    "That is, all the inputs are wired together.\n",
    "\n",
    "![Fork](images/fork.jpg)"
   ]
  },
  {
   "cell_type": "markdown",
   "metadata": {
    "collapsed": true
   },
   "source": [
    "from mantle import LUT4\n",
    "\n",
    "def DefineROM4(n, data):\n",
    "    class _ROM(Circuit):\n",
    "        name = f'ROM{n}x4'\n",
    "        IO = ['RADDR', In(m.Bits(n)), 'RDATA', m.Out(m.Bits(4))]\n",
    "        @classmethod\n",
    "        def definition(io):\n",
    "            def f(y):\n",
    "                return m.uncurry(LUT4(data[y]))\n",
    "            rom = m.fork( m.col(f, n) )\n",
    "            m.wire( rom( io.RADDR ), io.RDATA )\n",
    "    return _ROM"
   ]
  },
  {
   "cell_type": "markdown",
   "metadata": {},
   "source": [
    "There is a lot going on in this function. First, note that we use the `Magma`\n",
    "operator `uncurry` to convert the inputs of the LUT to an array of 4 bits.\n",
    "LUT4s have 4 separate inputs by default. \n",
    "\n",
    "Another subtlety in this code is the function `f`. When invoking `col`\n",
    "the position of the created instance is passed to the circuit construction procedure.\n",
    "We use this position to initialize each LUT to a different element of the `data` array.\n",
    "\n",
    "The list of `n` `ROM4` instances are then passed to `fork`.\n",
    "`fork` wires the same address lines to each `ROM4`."
   ]
  },
  {
   "cell_type": "markdown",
   "metadata": {},
   "source": [
    "## fold\n",
    "\n",
    "`fold` is a classic higher-order function.\n",
    "The `Magma` fold takes a list of circuit,\n",
    "and wires the output of one circuit to the input of another circuit.\n",
    "The input of the first circuit instance becomes the input of the final circuit,\n",
    "and the output of the last instance becauses the output.\n",
    "The rest of the inputs and outputs are joined.\n",
    "\n",
    "![image.png](images/fold.jpg)\n",
    "\n",
    "The convention is that the output `O` will be wired to the input `I`.\n",
    "\n",
    "A good example of this in action is to combine `n` DFFs into a serial-in serial-out (SISO)\n",
    "shift register.\n",
    "The output of each DFF is connected to the input of the next DFF."
   ]
  },
  {
   "cell_type": "code",
   "execution_count": 3,
   "metadata": {},
   "outputs": [],
   "source": [
    "# The Mantle function `FFs` returns a list of `n` DFFs.\n",
    "from mantle import FFs\n",
    "\n",
    "def DefineSISO(n):\n",
    "    \"\"\"\n",
    "    Generate Serial-In, Serial-Out shift register.\n",
    "\n",
    "    I : In(Bit), O : Out(Bit)\n",
    "    \"\"\"\n",
    "    class _SISO(m.Circuit):\n",
    "        name = f'SISO{n}'\n",
    "        IO = ['I', m.In(m.Bit), 'O', m.Out(m.Bit)] + m.ClockInterface()\n",
    "        @classmethod\n",
    "        def definition(io):\n",
    "            reg = m.fold(FFs(n))\n",
    "            m.wire(reg(siso.I), siso.O)\n",
    "    return _SISO"
   ]
  },
  {
   "cell_type": "markdown",
   "metadata": {},
   "source": [
    "## scan\n",
    "\n",
    "`fold` is a classic higher-order function.\n",
    "The `Magma` fold takes a list of circuit,\n",
    "and wires the output of one circuit to the input of another circuit.\n",
    "The input of the first circuit instance becomes the input of the final circuit,\n",
    "and the output of the last instance becauses the output.\n",
    "The rest of the inputs and outputs are joined.\n",
    "\n",
    "![image.png](images/scan.jpg)\n",
    "\n",
    "The convention is that the output `O` will be wired to the input `I`.\n",
    "\n",
    "`scan` can be used to combine `n` DFFs into a serial-in parallel-out (SIPO)\n",
    "shift register.\n",
    "The output of each DFF is connected to the input of the next DFF.\n",
    "In addition, all the outputs are joined to form an array of bits."
   ]
  },
  {
   "cell_type": "code",
   "execution_count": 4,
   "metadata": {},
   "outputs": [],
   "source": [
    "def DefineSIPO(n):\n",
    "    \"\"\"\n",
    "    Generate Serial-In, Parallel-Out shift register.\n",
    "\n",
    "    I : In(Bit), O : Out(Bits(n))\n",
    "    \"\"\"\n",
    "    T = m.Bits(n)\n",
    "    class _SIPO(m.Circuit):\n",
    "        name = f'SIPO{n}'\n",
    "        IO = ['I', m.In(m.Bit), 'O', m.Out(m.Bit)] + m.ClockInterface()\n",
    "        @classmethod\n",
    "        def definition(io):\n",
    "            reg = m.scan(FFs(n))\n",
    "            m.wire(reg(siso.I), siso.O)\n",
    "    return _SISO"
   ]
  },
  {
   "cell_type": "markdown",
   "metadata": {},
   "source": [
    "## braid\n",
    "\n",
    "These high-order circuit construction operators \n",
    "can be precisely constrolled using `braid`.\n",
    "`braid` can be used to construct general systolic circuits.\n",
    "\n",
    "Braid takes a list of circuit instances as an input,\n",
    "and simultaenously wires up the various inputs and outputs\n",
    "in the desired way.\n",
    "The advantage of braid is that inputs and outputs can be selected by name,\n",
    "and different methods can be used to wire up inputs and outputs.\n",
    "```\n",
    "def braid(circuits,\n",
    "  joinargs=[],\n",
    "  flatargs=[],\n",
    "  forkargs=['RESET','SET','CE','CLK'],\n",
    "  foldargs={}, rfoldargs={},\n",
    "  scanargs={}, rscanargs={}):\n",
    "```\n",
    "Note that by default, the clock signals are forked.\n",
    "\n",
    "![image.png](images/systolic.png)\n",
    "\n",
    "Figure from Kung and Leiserson.\n",
    "\n",
    "For example,\n",
    "```\n",
    "braid(circuits, foldargs={'I': 'O'})\n",
    "```\n",
    "is equivalent to fork.\n",
    "\n",
    "Similarly, for `scan`\n",
    "```\n",
    "braid(circuits, scanargs={'I': 'O'})\n",
    "```\n",
    "If you want to do a scan in a different direction, use\n",
    "```\n",
    "braid(circuits, rscanargs={'I': 'O'})\n",
    "```\n",
    "`rscanargs`, for right-scan."
   ]
  },
  {
   "cell_type": "code",
   "execution_count": null,
   "metadata": {},
   "outputs": [],
   "source": []
  }
 ],
 "metadata": {
  "kernelspec": {
   "display_name": "Python 3",
   "language": "python",
   "name": "python3"
  },
  "language_info": {
   "codemirror_mode": {
    "name": "ipython",
    "version": 3
   },
   "file_extension": ".py",
   "mimetype": "text/x-python",
   "name": "python",
   "nbconvert_exporter": "python",
   "pygments_lexer": "ipython3",
   "version": "3.6.5"
  }
 },
 "nbformat": 4,
 "nbformat_minor": 2
}
