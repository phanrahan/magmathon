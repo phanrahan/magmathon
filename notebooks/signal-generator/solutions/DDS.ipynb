{
 "cells": [
  {
   "cell_type": "markdown",
   "metadata": {},
   "source": [
    "## Direct Digital Synthesis (DDS)\n",
    "\n",
    "This example shows how to perform direct digital synthesis."
   ]
  },
  {
   "cell_type": "code",
   "execution_count": 1,
   "metadata": {
    "collapsed": true
   },
   "outputs": [],
   "source": [
    "import math\n",
    "import numpy as np\n",
    "\n",
    "def sine(x):\n",
    "    return np.sin(2 * math.pi * x)\n",
    "\n",
    "x = np.linspace(0., 1., num=256, endpoint=False)"
   ]
  },
  {
   "cell_type": "code",
   "execution_count": 2,
   "metadata": {
    "collapsed": true
   },
   "outputs": [],
   "source": [
    "import magma as m\n",
    "m.set_mantle_target('ice40')"
   ]
  },
  {
   "cell_type": "code",
   "execution_count": 3,
   "metadata": {},
   "outputs": [
    {
     "name": "stdout",
     "output_type": "stream",
     "text": [
      "import lattice ice40\n",
      "import lattice mantle40\n"
     ]
    }
   ],
   "source": [
    "import mantle\n",
    "\n",
    "def DefineDDS(n):\n",
    "    class _DDS(m.Circuit):\n",
    "        name = f'DDS{n}'\n",
    "        IO = ['I', m.In(m.UInt(n)), \"O\", m.Out(m.UInt(n))] + m.ClockInterface()\n",
    "        @classmethod\n",
    "        def definition(io):\n",
    "            reg = mantle.Register(n)\n",
    "            m.wire(reg(m.uint(reg.O) + io.I), io.O)\n",
    "    return _DDS\n",
    "\n",
    "def DDS(n):\n",
    "    return DefineDDS(n)()"
   ]
  },
  {
   "cell_type": "code",
   "execution_count": 4,
   "metadata": {
    "collapsed": true
   },
   "outputs": [],
   "source": [
    "from loam.boards.icestick import IceStick\n",
    "\n",
    "icestick = IceStick()\n",
    "icestick.Clock.on()\n",
    "for i in range(8):\n",
    "    icestick.J1[i].input().on()\n",
    "    icestick.J3[i].output().on()"
   ]
  },
  {
   "cell_type": "code",
   "execution_count": 5,
   "metadata": {
    "collapsed": true
   },
   "outputs": [],
   "source": [
    "main = icestick.main()\n",
    "\n",
    "dds = DDS(16)\n",
    "\n",
    "wavetable = 128 + 127 * sine(x)\n",
    "wavetable = [int(x) for x in wavetable]\n",
    "\n",
    "rom = mantle.Memory(height=256, width=16, rom=list(wavetable), readonly=True)\n",
    "\n",
    "phase = m.concat(m.bits(32, 8), m.bits(0,8))\n",
    "addr = dds( phase )\n",
    "O = rom( addr[8:] ) \n",
    "m.wire( 1, rom.RE )\n",
    "m.wire( O[0:8], main.J3 )\n",
    "\n",
    "m.EndCircuit()"
   ]
  },
  {
   "cell_type": "markdown",
   "metadata": {},
   "source": [
    "Compile and build."
   ]
  },
  {
   "cell_type": "code",
   "execution_count": 6,
   "metadata": {},
   "outputs": [],
   "source": [
    "m.compile('build/dds', main)"
   ]
  },
  {
   "cell_type": "code",
   "execution_count": 7,
   "metadata": {},
   "outputs": [
    {
     "name": "stdout",
     "output_type": "stream",
     "text": [
      "set_io J3[7] 44\n",
      "set_io J3[6] 45\n",
      "set_io J3[5] 47\n",
      "set_io J3[4] 48\n",
      "set_io J3[3] 56\n",
      "set_io J3[2] 60\n",
      "set_io J3[1] 61\n",
      "set_io J3[0] 62\n",
      "set_io CLKIN 21\n"
     ]
    },
    {
     "name": "stderr",
     "output_type": "stream",
     "text": [
      "init..\n",
      "cdone: high\n",
      "reset..\n",
      "cdone: low\n",
      "flash ID: 0x20 0xBA 0x16 0x10 0x00 0x00 0x23 0x64 0x34 0x65 0x03 0x00 0x71 0x00 0x26 0x27 0x12 0x16 0xD3 0xE4\n",
      "file size: 32220\n",
      "erase 64kB sector at 0x000000..\n",
      "programming..\n",
      "reading..\n",
      "VERIFY OK\n",
      "cdone: high\n",
      "Bye.\n"
     ]
    }
   ],
   "source": [
    "%%bash\n",
    "cd build\n",
    "cat sin.pcf\n",
    "yosys -q -p 'synth_ice40 -top main -blif dds.blif' dds.v\n",
    "arachne-pnr -q -d 1k -o dds.txt -p dds.pcf dds.blif \n",
    "icepack dds.txt dds.bin\n",
    "iceprog dds.bin"
   ]
  },
  {
   "cell_type": "markdown",
   "metadata": {},
   "source": [
    "We can wire up the GPIO pins to a logic analyzer to verify that our circuit produces the correct sine waveform.\n",
    "\n",
    "![](images/dds.png)\n",
    "\n",
    "We can also use Saleae's [export data](https://support.saleae.com/hc/en-us/articles/115005986806-Saving-Loading-and-Exporting-Data) feature to output a [csv file](data/dds-capture.csv). We'll load this data into Python and plot the results."
   ]
  },
  {
   "cell_type": "code",
   "execution_count": 8,
   "metadata": {
    "collapsed": true
   },
   "outputs": [],
   "source": [
    "import csv\n",
    "import magma as m\n",
    "with open(\"data/dds-capture.csv\") as sine_capture_csv:\n",
    "    csv_reader = csv.reader(sine_capture_csv)\n",
    "    next(csv_reader, None)  # skip the headers\n",
    "    rows = [row for row in csv_reader]\n",
    "timestamps = [float(row[0]) for row in rows]\n",
    "values = [m.bitutils.seq2int(tuple(int(x) for x in row[1:])) for row in rows]"
   ]
  },
  {
   "cell_type": "markdown",
   "metadata": {},
   "source": [
    "**TODO**: Why do we have this little bit of jitter? Logic analyzer is running at 25 MS/s, 3.3+ Volts for 1s"
   ]
  },
  {
   "cell_type": "code",
   "execution_count": 9,
   "metadata": {},
   "outputs": [
    {
     "data": {
      "text/plain": [
       "[<matplotlib.lines.Line2D at 0x117ff6a20>]"
      ]
     },
     "execution_count": 9,
     "metadata": {},
     "output_type": "execute_result"
    },
    {
     "data": {
      "image/png": "[encoded data removed]",
      "text/plain": [
       "<matplotlib.figure.Figure at 0x113d2c9b0>"
      ]
     },
     "metadata": {},
     "output_type": "display_data"
    }
   ],
   "source": [
    "%matplotlib inline\n",
    "import matplotlib.pyplot as plt\n",
    "plt.plot(timestamps[:100], values[:100], \"b.\")"
   ]
  },
  {
   "cell_type": "code",
   "execution_count": null,
   "metadata": {
    "collapsed": true
   },
   "outputs": [],
   "source": []
  }
 ],
 "metadata": {
  "kernelspec": {
   "display_name": "Python 3",
   "language": "python",
   "name": "python3"
  },
  "language_info": {
   "codemirror_mode": {
    "name": "ipython",
    "version": 3
   },
   "file_extension": ".py",
   "mimetype": "text/x-python",
   "name": "python",
   "nbconvert_exporter": "python",
   "pygments_lexer": "ipython3",
   "version": "3.6.5"
  }
 },
 "nbformat": 4,
 "nbformat_minor": 2
}
