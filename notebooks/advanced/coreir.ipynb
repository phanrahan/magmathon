{
 "cells": [
  {
   "cell_type": "markdown",
   "metadata": {},
   "source": [
    "## CoreIR\n",
    "\n",
    "This notebook uses the `\"coreir\"` mantle backend on the icestick.\n",
    "\n",
    "We begin by building a normal `Magma` circuit using `Mantle` \n",
    "and the `Loam` `IceStick` board. "
   ]
  },
  {
   "cell_type": "code",
   "execution_count": 1,
   "metadata": {},
   "outputs": [],
   "source": [
    "import magma as m\n",
    "# default mantle target is coreir, so no need to do this unless you want to be explicit\n",
    "# m.set_mantle_target(\"coreir\")"
   ]
  },
  {
   "cell_type": "code",
   "execution_count": 2,
   "metadata": {},
   "outputs": [
    {
     "name": "stdout",
     "output_type": "stream",
     "text": [
      "import lattice ice40\n"
     ]
    }
   ],
   "source": [
    "from mantle import Counter\n",
    "from loam.boards.icestick import IceStick\n",
    "\n",
    "icestick = IceStick()\n",
    "icestick.Clock.on()\n",
    "icestick.D5.on()\n",
    "\n",
    "N = 22\n",
    "main = icestick.main()\n",
    "\n",
    "counter = Counter(N)\n",
    "m.wire(counter.O[N-1], main.D5)\n",
    "\n",
    "m.EndCircuit()"
   ]
  },
  {
   "cell_type": "markdown",
   "metadata": {},
   "source": [
    "To compile to `coreir`, we simply set the `output` parameter to the `m.compile` command to `\"coreir\"`."
   ]
  },
  {
   "cell_type": "code",
   "execution_count": 3,
   "metadata": {},
   "outputs": [],
   "source": [
    "m.compile(\"build/blink_coreir\", main, output=\"coreir\")"
   ]
  },
  {
   "cell_type": "markdown",
   "metadata": {},
   "source": [
    "We can inspect the generated `.json` file."
   ]
  },
  {
   "cell_type": "code",
   "execution_count": 4,
   "metadata": {},
   "outputs": [
    {
     "name": "stdout",
     "output_type": "stream",
     "text": [
      "{\"top\":\"global.main\",\r\n",
      "\"namespaces\":{\r\n",
      "  \"global\":{\r\n",
      "    \"modules\":{\r\n",
      "      \"Add22_cout\":{\r\n",
      "        \"type\":[\"Record\",[\r\n",
      "          [\"I0\",[\"Array\",22,\"BitIn\"]],\r\n",
      "          [\"I1\",[\"Array\",22,\"BitIn\"]],\r\n",
      "          [\"O\",[\"Array\",22,\"Bit\"]],\r\n",
      "          [\"COUT\",\"Bit\"]\r\n",
      "        ]],\r\n",
      "        \"instances\":{\r\n",
      "          \"bit_const_0_None\":{\r\n",
      "            \"modref\":\"corebit.const\",\r\n",
      "            \"modargs\":{\"value\":[\"Bool\",false]}\r\n",
      "          },\r\n",
      "          \"coreir_add23_inst0\":{\r\n",
      "            \"genref\":\"coreir.add\",\r\n",
      "            \"genargs\":{\"width\":[\"Int\",23]}\r\n",
      "          }\r\n",
      "        },\r\n",
      "        \"connections\":[\r\n",
      "          [\"coreir_add23_inst0.in0.22\",\"bit_const_0_None.out\"],\r\n",
      "          [\"coreir_add23_inst0.in1.22\",\"bit_const_0_None.out\"],\r\n",
      "          [\"self.I0.0\",\"coreir_add23_inst0.in0.0\"],\r\n",
      "          [\"self.I0.10\",\"coreir_add23_inst0.in0.10\"],\r\n",
      "          [\"self.I0.11\",\"coreir_add23_inst0.in0.11\"],\r\n",
      "          [\"self.I0.12\",\"coreir_add23_inst0.in0.12\"],\r\n",
      "          [\"self.I0.13\",\"coreir_add23_inst0.in0.13\"],\r\n",
      "          [\"self.I0.14\",\"coreir_add23_inst0.in0.14\"],\r\n",
      "          [\"self.I0.15\",\"coreir_add23_inst0.in0.15\"],\r\n",
      "          [\"self.I0.16\",\"coreir_add23_inst0.in0.16\"],\r\n",
      "          [\"self.I0.17\",\"coreir_add23_inst0.in0.17\"],\r\n",
      "          [\"self.I0.18\",\"coreir_add23_inst0.in0.18\"],\r\n",
      "          [\"self.I0.19\",\"coreir_add23_inst0.in0.19\"],\r\n",
      "          [\"self.I0.1\",\"coreir_add23_inst0.in0.1\"],\r\n",
      "          [\"self.I0.20\",\"coreir_add23_inst0.in0.20\"],\r\n",
      "          [\"self.I0.21\",\"coreir_add23_inst0.in0.21\"],\r\n",
      "          [\"self.I0.2\",\"coreir_add23_inst0.in0.2\"],\r\n",
      "          [\"self.I0.3\",\"coreir_add23_inst0.in0.3\"],\r\n",
      "          [\"self.I0.4\",\"coreir_add23_inst0.in0.4\"],\r\n",
      "          [\"self.I0.5\",\"coreir_add23_inst0.in0.5\"],\r\n",
      "          [\"self.I0.6\",\"coreir_add23_inst0.in0.6\"],\r\n",
      "          [\"self.I0.7\",\"coreir_add23_inst0.in0.7\"],\r\n",
      "          [\"self.I0.8\",\"coreir_add23_inst0.in0.8\"],\r\n",
      "          [\"self.I0.9\",\"coreir_add23_inst0.in0.9\"],\r\n",
      "          [\"self.I1.0\",\"coreir_add23_inst0.in1.0\"],\r\n",
      "          [\"self.I1.10\",\"coreir_add23_inst0.in1.10\"],\r\n",
      "          [\"self.I1.11\",\"coreir_add23_inst0.in1.11\"],\r\n",
      "          [\"self.I1.12\",\"coreir_add23_inst0.in1.12\"],\r\n",
      "          [\"self.I1.13\",\"coreir_add23_inst0.in1.13\"],\r\n",
      "          [\"self.I1.14\",\"coreir_add23_inst0.in1.14\"],\r\n",
      "          [\"self.I1.15\",\"coreir_add23_inst0.in1.15\"],\r\n",
      "          [\"self.I1.16\",\"coreir_add23_inst0.in1.16\"],\r\n",
      "          [\"self.I1.17\",\"coreir_add23_inst0.in1.17\"],\r\n",
      "          [\"self.I1.18\",\"coreir_add23_inst0.in1.18\"],\r\n",
      "          [\"self.I1.19\",\"coreir_add23_inst0.in1.19\"],\r\n",
      "          [\"self.I1.1\",\"coreir_add23_inst0.in1.1\"],\r\n",
      "          [\"self.I1.20\",\"coreir_add23_inst0.in1.20\"],\r\n",
      "          [\"self.I1.21\",\"coreir_add23_inst0.in1.21\"],\r\n",
      "          [\"self.I1.2\",\"coreir_add23_inst0.in1.2\"],\r\n",
      "          [\"self.I1.3\",\"coreir_add23_inst0.in1.3\"],\r\n",
      "          [\"self.I1.4\",\"coreir_add23_inst0.in1.4\"],\r\n",
      "          [\"self.I1.5\",\"coreir_add23_inst0.in1.5\"],\r\n",
      "          [\"self.I1.6\",\"coreir_add23_inst0.in1.6\"],\r\n",
      "          [\"self.I1.7\",\"coreir_add23_inst0.in1.7\"],\r\n",
      "          [\"self.I1.8\",\"coreir_add23_inst0.in1.8\"],\r\n",
      "          [\"self.I1.9\",\"coreir_add23_inst0.in1.9\"],\r\n",
      "          [\"self.O.0\",\"coreir_add23_inst0.out.0\"],\r\n",
      "          [\"self.O.10\",\"coreir_add23_inst0.out.10\"],\r\n",
      "          [\"self.O.11\",\"coreir_add23_inst0.out.11\"],\r\n",
      "          [\"self.O.12\",\"coreir_add23_inst0.out.12\"],\r\n",
      "          [\"self.O.13\",\"coreir_add23_inst0.out.13\"],\r\n",
      "          [\"self.O.14\",\"coreir_add23_inst0.out.14\"],\r\n",
      "          [\"self.O.15\",\"coreir_add23_inst0.out.15\"],\r\n",
      "          [\"self.O.16\",\"coreir_add23_inst0.out.16\"],\r\n",
      "          [\"self.O.17\",\"coreir_add23_inst0.out.17\"],\r\n",
      "          [\"self.O.18\",\"coreir_add23_inst0.out.18\"],\r\n",
      "          [\"self.O.19\",\"coreir_add23_inst0.out.19\"],\r\n",
      "          [\"self.O.1\",\"coreir_add23_inst0.out.1\"],\r\n",
      "          [\"self.O.20\",\"coreir_add23_inst0.out.20\"],\r\n",
      "          [\"self.O.21\",\"coreir_add23_inst0.out.21\"],\r\n",
      "          [\"self.COUT\",\"coreir_add23_inst0.out.22\"],\r\n",
      "          [\"self.O.2\",\"coreir_add23_inst0.out.2\"],\r\n",
      "          [\"self.O.3\",\"coreir_add23_inst0.out.3\"],\r\n",
      "          [\"self.O.4\",\"coreir_add23_inst0.out.4\"],\r\n",
      "          [\"self.O.5\",\"coreir_add23_inst0.out.5\"],\r\n",
      "          [\"self.O.6\",\"coreir_add23_inst0.out.6\"],\r\n",
      "          [\"self.O.7\",\"coreir_add23_inst0.out.7\"],\r\n",
      "          [\"self.O.8\",\"coreir_add23_inst0.out.8\"],\r\n",
      "          [\"self.O.9\",\"coreir_add23_inst0.out.9\"]\r\n",
      "        ]\r\n",
      "      },\r\n",
      "      \"Counter22_COUT\":{\r\n",
      "        \"type\":[\"Record\",[\r\n",
      "          [\"O\",[\"Array\",22,\"Bit\"]],\r\n",
      "          [\"COUT\",\"Bit\"],\r\n",
      "          [\"CLK\",[\"Named\",\"coreir.clkIn\"]]\r\n",
      "        ]],\r\n",
      "        \"instances\":{\r\n",
      "          \"Add22_cout_inst0\":{\r\n",
      "            \"modref\":\"global.Add22_cout\"\r\n",
      "          },\r\n",
      "          \"const_1_22\":{\r\n",
      "            \"genref\":\"coreir.const\",\r\n",
      "            \"genargs\":{\"width\":[\"Int\",22]},\r\n",
      "            \"modargs\":{\"value\":[[\"BitVector\",22],\"22'h000001\"]}\r\n",
      "          },\r\n",
      "          \"reg_P_inst0\":{\r\n",
      "            \"genref\":\"coreir.reg\",\r\n",
      "            \"genargs\":{\"width\":[\"Int\",22]},\r\n",
      "            \"modargs\":{\"clk_posedge\":[\"Bool\",true], \"init\":[[\"BitVector\",22],\"22'h000000\"]}\r\n",
      "          }\r\n",
      "        },\r\n",
      "        \"connections\":[\r\n",
      "          [\"self.COUT\",\"Add22_cout_inst0.COUT\"],\r\n",
      "          [\"reg_P_inst0.out\",\"Add22_cout_inst0.I0\"],\r\n",
      "          [\"const_1_22.out\",\"Add22_cout_inst0.I1\"],\r\n",
      "          [\"reg_P_inst0.in\",\"Add22_cout_inst0.O\"],\r\n",
      "          [\"self.CLK\",\"reg_P_inst0.clk\"],\r\n",
      "          [\"self.O\",\"reg_P_inst0.out\"]\r\n",
      "        ]\r\n",
      "      },\r\n",
      "      \"main\":{\r\n",
      "        \"type\":[\"Record\",[\r\n",
      "          [\"D5\",\"Bit\"],\r\n",
      "          [\"CLKIN\",[\"Named\",\"coreir.clkIn\"]]\r\n",
      "        ]],\r\n",
      "        \"instances\":{\r\n",
      "          \"Counter22_COUT_inst0\":{\r\n",
      "            \"modref\":\"global.Counter22_COUT\"\r\n",
      "          }\r\n",
      "        },\r\n",
      "        \"connections\":[\r\n",
      "          [\"self.CLKIN\",\"Counter22_COUT_inst0.CLK\"],\r\n",
      "          [\"self.D5\",\"Counter22_COUT_inst0.O.21\"]\r\n",
      "        ]\r\n",
      "      }\r\n",
      "    }\r\n",
      "  }\r\n",
      "}\r\n",
      "}\r\n"
     ]
    }
   ],
   "source": [
    "%cat build/blink_coreir.json"
   ]
  },
  {
   "cell_type": "markdown",
   "metadata": {},
   "source": [
    "We can use the `coreir` command line tool to generate verilog."
   ]
  },
  {
   "cell_type": "code",
   "execution_count": 5,
   "metadata": {},
   "outputs": [
    {
     "name": "stderr",
     "output_type": "stream",
     "text": [
      "/Users/hanrahan/git/coreir/src/binary/coreir.cpp:188 Running Runningvpasses\n",
      "/Users/hanrahan/git/coreir/src/passes/transform/rungenerators.cpp:10 In Run Generators\n",
      "/Users/hanrahan/git/coreir/src/passes/transform/rungenerators.cpp:26 Done running generators\n",
      "/Users/hanrahan/git/coreir/src/binary/coreir.cpp:197 Running vpasses\n",
      "/Users/hanrahan/git/coreir/src/binary/coreir.cpp:238 Modified?: No\n"
     ]
    }
   ],
   "source": [
    "%%bash\n",
    "coreir -i build/blink_coreir.json -o build/blink_coreir.v"
   ]
  },
  {
   "cell_type": "markdown",
   "metadata": {},
   "source": [
    "And now we can inspect the generated verilog from coreir, notice that includes the `verilog` implementations of all the coreir primitives."
   ]
  },
  {
   "cell_type": "code",
   "execution_count": 6,
   "metadata": {},
   "outputs": [
    {
     "name": "stdout",
     "output_type": "stream",
     "text": [
      "module coreir_reg #(parameter width = 1, parameter clk_posedge = 1, parameter init = 1) (input clk, input [width-1:0] in, output [width-1:0] out);\r\n",
      "  reg [width-1:0] outReg=init;\r\n",
      "  wire real_clk;\r\n",
      "  assign real_clk = clk_posedge ? clk : ~clk;\r\n",
      "  always @(posedge real_clk) begin\r\n",
      "    outReg <= in;\r\n",
      "  end\r\n",
      "  assign out = outReg;\r\n",
      "endmodule\r\n",
      "\r\n",
      "module coreir_const #(parameter width = 1, parameter value = 1) (output [width-1:0] out);\r\n",
      "  assign out = value;\r\n",
      "endmodule\r\n",
      "\r\n",
      "module coreir_add #(parameter width = 1) (input [width-1:0] in0, input [width-1:0] in1, output [width-1:0] out);\r\n",
      "  assign out = in0 + in1;\r\n",
      "endmodule\r\n",
      "\r\n",
      "module corebit_const #(parameter value = 1) (output out);\r\n",
      "  assign out = value;\r\n",
      "endmodule\r\n",
      "\r\n",
      "module Add22_cout (output COUT, input [21:0] I0, input [21:0] I1, output [21:0] O);\r\n",
      "wire bit_const_0_None_out;\r\n",
      "wire [22:0] coreir_add23_inst0_out;\r\n",
      "corebit_const #(.value(0)) bit_const_0_None(.out(bit_const_0_None_out));\r\n",
      "coreir_add #(.width(23)) coreir_add23_inst0(.in0({bit_const_0_None_out,I0[21],I0[20],I0[19],I0[18],I0[17],I0[16],I0[15],I0[14],I0[13],I0[12],I0[11],I0[10],I0[9],I0[8],I0[7],I0[6],I0[5],I0[4],I0[3],I0[2],I0[1],I0[0]}), .in1({bit_const_0_None_out,I1[21],I1[20],I1[19],I1[18],I1[17],I1[16],I1[15],I1[14],I1[13],I1[12],I1[11],I1[10],I1[9],I1[8],I1[7],I1[6],I1[5],I1[4],I1[3],I1[2],I1[1],I1[0]}), .out(coreir_add23_inst0_out));\r\n",
      "assign COUT = coreir_add23_inst0_out[22];\r\n",
      "assign O = {coreir_add23_inst0_out[21],coreir_add23_inst0_out[20],coreir_add23_inst0_out[19],coreir_add23_inst0_out[18],coreir_add23_inst0_out[17],coreir_add23_inst0_out[16],coreir_add23_inst0_out[15],coreir_add23_inst0_out[14],coreir_add23_inst0_out[13],coreir_add23_inst0_out[12],coreir_add23_inst0_out[11],coreir_add23_inst0_out[10],coreir_add23_inst0_out[9],coreir_add23_inst0_out[8],coreir_add23_inst0_out[7],coreir_add23_inst0_out[6],coreir_add23_inst0_out[5],coreir_add23_inst0_out[4],coreir_add23_inst0_out[3],coreir_add23_inst0_out[2],coreir_add23_inst0_out[1],coreir_add23_inst0_out[0]};\r\n",
      "endmodule\r\n",
      "\r\n",
      "module Counter22_COUT (input CLK, output COUT, output [21:0] O);\r\n",
      "wire Add22_cout_inst0_COUT;\r\n",
      "wire [21:0] Add22_cout_inst0_O;\r\n",
      "wire [21:0] const_1_22_out;\r\n",
      "wire [21:0] reg_P_inst0_out;\r\n",
      "Add22_cout Add22_cout_inst0(.COUT(Add22_cout_inst0_COUT), .I0(reg_P_inst0_out), .I1(const_1_22_out), .O(Add22_cout_inst0_O));\r\n",
      "coreir_const #(.value(22'h000001), .width(22)) const_1_22(.out(const_1_22_out));\r\n",
      "coreir_reg #(.clk_posedge(1), .init(22'h000000), .width(22)) reg_P_inst0(.clk(CLK), .in(Add22_cout_inst0_O), .out(reg_P_inst0_out));\r\n",
      "assign COUT = Add22_cout_inst0_COUT;\r\n",
      "assign O = reg_P_inst0_out;\r\n",
      "endmodule\r\n",
      "\r\n",
      "module main (input CLKIN, output D5);\r\n",
      "wire Counter22_COUT_inst0_COUT;\r\n",
      "wire [21:0] Counter22_COUT_inst0_O;\r\n",
      "Counter22_COUT Counter22_COUT_inst0(.CLK(CLKIN), .COUT(Counter22_COUT_inst0_COUT), .O(Counter22_COUT_inst0_O));\r\n",
      "assign D5 = Counter22_COUT_inst0_O[21];\r\n",
      "endmodule\r\n",
      "\r\n"
     ]
    }
   ],
   "source": [
    "%cat build/blink_coreir.v"
   ]
  },
  {
   "cell_type": "code",
   "execution_count": 7,
   "metadata": {},
   "outputs": [
    {
     "name": "stdout",
     "output_type": "stream",
     "text": [
      "/Users/hanrahan/git/magmathon/notebooks/advanced/build\n"
     ]
    }
   ],
   "source": [
    "%%bash\n",
    "cd build\n",
    "yosys -q -p 'synth_ice40 -top main -blif blink_coreir.blif' blink_coreir.v\n",
    "arachne-pnr -q -d 1k -o blink_coreir.txt -p blink_coreir.pcf blink_coreir.blif \n",
    "icepack blink_coreir.txt blink_coreir.bin\n",
    "#iceprog blink_coreir.bin"
   ]
  },
  {
   "cell_type": "code",
   "execution_count": null,
   "metadata": {},
   "outputs": [],
   "source": []
  }
 ],
 "metadata": {
  "kernelspec": {
   "display_name": "Python 3",
   "language": "python",
   "name": "python3"
  },
  "language_info": {
   "codemirror_mode": {
    "name": "ipython",
    "version": 3
   },
   "file_extension": ".py",
   "mimetype": "text/x-python",
   "name": "python",
   "nbconvert_exporter": "python",
   "pygments_lexer": "ipython3",
   "version": "3.7.2"
  }
 },
 "nbformat": 4,
 "nbformat_minor": 2
}
