{
 "cells": [
  {
   "cell_type": "markdown",
   "metadata": {},
   "source": [
    "## Delta-Sigma \n",
    "\n",
    "This example shows how to generate a delta-sigma wave."
   ]
  },
  {
   "cell_type": "code",
   "execution_count": 1,
   "metadata": {
    "collapsed": true
   },
   "outputs": [],
   "source": [
    "import magma as m\n",
    "m.set_mantle_target('ice40')"
   ]
  },
  {
   "cell_type": "code",
   "execution_count": 2,
   "metadata": {},
   "outputs": [
    {
     "name": "stdout",
     "output_type": "stream",
     "text": [
      "import lattice ice40\n",
      "import lattice mantle40\n"
     ]
    }
   ],
   "source": [
    "import mantle\n",
    "from loam.boards.icestick import IceStick\n",
    "\n",
    "N = 8\n",
    "DELTA = 0x8000\n",
    "\n",
    "icestick = IceStick()\n",
    "icestick.Clock.on()\n",
    "icestick.J3[0].output().on()\n",
    "\n",
    "main = icestick.main()\n",
    "\n",
    "add = mantle.Add(16, cout=True)\n",
    "reg = mantle.Register(16)\n",
    "\n",
    "O, cout = add(reg, m.uint(DELTA,16)) \n",
    "\n",
    "m.wire( O, reg.I )\n",
    "m.wire( cout, main.J3 )\n",
    "\n",
    "m.EndDefine()"
   ]
  },
  {
   "cell_type": "code",
   "execution_count": 3,
   "metadata": {},
   "outputs": [],
   "source": [
    "m.compile('build/deltasigma', main)"
   ]
  },
  {
   "cell_type": "code",
   "execution_count": 4,
   "metadata": {},
   "outputs": [
    {
     "name": "stdout",
     "output_type": "stream",
     "text": [
      "set_io J1[0] 112\n",
      "set_io J1[1] 113\n",
      "set_io J1[2] 114\n",
      "set_io J1[3] 115\n",
      "set_io J1[4] 116\n",
      "set_io J1[5] 117\n",
      "set_io J1[6] 118\n",
      "set_io J1[7] 119\n",
      "set_io J3 62\n",
      "set_io CLKIN 21\n"
     ]
    },
    {
     "name": "stderr",
     "output_type": "stream",
     "text": [
      "init..\n",
      "cdone: high\n",
      "reset..\n",
      "cdone: low\n",
      "flash ID: 0x20 0xBA 0x16 0x10 0x00 0x00 0x23 0x64 0x34 0x65 0x03 0x00 0x71 0x00 0x26 0x27 0x12 0x16 0xD3 0xE4\n",
      "file size: 32220\n",
      "erase 64kB sector at 0x000000..\n",
      "programming..\n",
      "reading..\n",
      "VERIFY OK\n",
      "cdone: high\n",
      "Bye.\n"
     ]
    }
   ],
   "source": [
    "%%bash\n",
    "cd build\n",
    "cat pwm.pcf\n",
    "yosys -q -p 'synth_ice40 -top main -blif deltasigma.blif' deltasigma.v\n",
    "arachne-pnr -q -d 1k -o deltasigma.txt -p deltasigma.pcf deltasigma.blif \n",
    "icepack deltasigma.txt deltasigma.bin\n",
    "iceprog deltasigma.bin"
   ]
  },
  {
   "cell_type": "markdown",
   "metadata": {},
   "source": [
    "We can wire up the GPIO pins to a logic analyzer to verify that our circuit produces the correct waveform.\n",
    "\n",
    "![](images/deltasigma.png)"
   ]
  },
  {
   "cell_type": "code",
   "execution_count": null,
   "metadata": {
    "collapsed": true
   },
   "outputs": [],
   "source": []
  }
 ],
 "metadata": {
  "kernelspec": {
   "display_name": "Python 3",
   "language": "python",
   "name": "python3"
  },
  "language_info": {
   "codemirror_mode": {
    "name": "ipython",
    "version": 3
   },
   "file_extension": ".py",
   "mimetype": "text/x-python",
   "name": "python",
   "nbconvert_exporter": "python",
   "pygments_lexer": "ipython3",
   "version": "3.6.5"
  }
 },
 "nbformat": 4,
 "nbformat_minor": 2
}
