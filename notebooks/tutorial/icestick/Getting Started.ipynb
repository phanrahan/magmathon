{
 "cells": [
  {
   "cell_type": "markdown",
   "metadata": {},
   "source": [
    "## Getting Started\n",
    "\n",
    "[`Magma`](https://github.com/phanrahan/magma) is a hardware construction language written in `Python 3`. The central abstraction in `Magma` is a `Circuit`, which is analagous to a verilog module. A circuit is a set of functional units that are wired together.\n",
    "\n",
    "`Magma` is designed to work with [`Mantle`](https://github.com/phanrahan/mantle), a library of hardware building blocks including logic and arithmetic units, registers, memories, etc. \n",
    "\n",
    "The [`Loam`](https://github.com/phanrahan/loam) system builds upon the `Magma` `Circuit` abstraction to represent *parts* and *boards*. A board consists of a set of parts that are wired together. `Loam` makes it is easy to setup a board such as the Lattice IceStick."
   ]
  },
  {
   "cell_type": "markdown",
   "metadata": {},
   "source": [
    "### Lattice IceStick\n",
    "\n",
    "In this tutorial, we will be using the Lattice IceStick.\n",
    "This breakout board contains a ICE40HX FPGA with 1K 4-input LUTs. \n",
    "The board has several useful peripherals including an FTDI USB interface \n",
    "with an integrated JTAG interface which is used to program the FPGA\n",
    "and a USART which is used to communicate with the host.\n",
    "The board also contains 5 LEDs, \n",
    "a PMOD interface, \n",
    "and 2 10-pin headers (J1 and J3). \n",
    "The 10-pin headers bring out 8 GPIO pins, \n",
    "as well as power and ground.\n",
    "This board is inexpensive ($25), can be plugged into the USB port on your laptop,\n",
    "and, best of all, can be\n",
    "programmed using an open source software toolchain.\n",
    "\n",
    "![icestick](images/icestick.jpg)\n",
    "\n",
    "Additional information about the IceStick Board can be found in the \n",
    "[IceStick Programmers Guide](http://www.latticesemi.com/~/media/LatticeSemi/Documents/UserManuals/EI/icestickusermanual.pdf)"
   ]
  },
  {
   "cell_type": "markdown",
   "metadata": {},
   "source": [
    "### Blink\n",
    "\n",
    "As a first example,\n",
    "let's write a `Magma` program that blinks an LED on the Icestick Board.\n",
    "\n",
    "First, we import `Magma` as the module `m`.\n",
    "Next, we import `Counter` from `Mantle`.\n",
    "Before doing the import we configure mantle to use the ICE40 as the target device."
   ]
  },
  {
   "cell_type": "code",
   "execution_count": 1,
   "metadata": {},
   "outputs": [],
   "source": [
    "import magma as m\n",
    "m.set_mantle_target(\"ice40\")"
   ]
  },
  {
   "cell_type": "markdown",
   "metadata": {},
   "source": [
    "The next step is to setup the IceStick board. We import the class `IceStick` from `Loam`. \n",
    "We then create an instance of an `IceStick`.\n",
    "This board instance has member variables \n",
    "that store the configuration of all the parts on the board.\n",
    "The blink program will use the Clock and the LED D5. \n",
    "Turning *on* the Clock and the LED D5 sets up the build environment \n",
    "to use the associated ICE40 GPIO pins."
   ]
  },
  {
   "cell_type": "code",
   "execution_count": 2,
   "metadata": {},
   "outputs": [
    {
     "name": "stdout",
     "output_type": "stream",
     "text": [
      "import lattice ice40\n",
      "import lattice mantle40\n"
     ]
    }
   ],
   "source": [
    "from loam.boards.icestick import IceStick\n",
    "\n",
    "# Create an instance of an IceStick board\n",
    "icestick = IceStick()\n",
    "\n",
    "# Turn on the Clock \n",
    "# The clock must turned on because we are using a synchronous counter\n",
    "icestick.Clock.on()\n",
    "\n",
    "# Turn on the LED D5\n",
    "icestick.D5.on();"
   ]
  },
  {
   "cell_type": "markdown",
   "metadata": {},
   "source": [
    "Now that the IceStick setup is done, \n",
    "we create a `main` program that runs on the Lattice ICE40 FPGA. \n",
    "This main program becomes the top level module.\n",
    "\n",
    "We create a simple circuit inside `main`. \n",
    "The circuit has a a 22-bit counter wired to D5. \n",
    "The crystal connected to the ICE40 has a frequency of 12 Mhz. \n",
    "so the counter will increment at that rate.\n",
    "Wiring the most-significant bit of the counter to D5\n",
    "will cause the LED to blink roughly 3 times per second.\n",
    "`D5` is accessible via `main`.\n",
    "In a similar way, the output of the counter is accesible via `counter.O`,\n",
    "and since this an array of bits we can access the MSB using Python's standard list indexing syntax."
   ]
  },
  {
   "cell_type": "code",
   "execution_count": 3,
   "metadata": {},
   "outputs": [],
   "source": [
    "from mantle import Counter\n",
    "\n",
    "N = 22\n",
    "\n",
    "# Define the main Magma Circuit on the FPGA on the IceStick\n",
    "main = icestick.DefineMain()\n",
    "\n",
    "# Instance a 22-bit counter\n",
    "counter = Counter(N)\n",
    "\n",
    "# Wire bit 21 of the counter's output to D5.\n",
    "main.D5 <= counter.O[N-1]\n",
    "\n",
    "# End main\n",
    "m.EndDefine()"
   ]
  },
  {
   "cell_type": "markdown",
   "metadata": {},
   "source": [
    "We then compile the program to verilog. This step also creates a PCF (physical constraints file)."
   ]
  },
  {
   "cell_type": "code",
   "execution_count": 4,
   "metadata": {},
   "outputs": [],
   "source": [
    "m.compile('build/blink', main)"
   ]
  },
  {
   "cell_type": "markdown",
   "metadata": {},
   "source": [
    "Now we run the open source tools for the Lattice ICE40. \n",
    "`yosys` synthesizes the input verilog file (`blink.v`) \n",
    "to produce an output netlist (`blink.blif`).\n",
    "`arachne-pnr` runs the place and router and generates the bitstream as a text file.\n",
    "`icepack` creates a binary bitstream file that can be downloaded to the FPGA. `iceprog` uploads the bitstream to the device. Once the device has been programmed, you should see the center, green LED blinking."
   ]
  },
  {
   "cell_type": "code",
   "execution_count": 5,
   "metadata": {},
   "outputs": [
    {
     "name": "stdout",
     "output_type": "stream",
     "text": [
      "/Users/hanrahan/git/magmathon/notebooks/tutorial/icestick/build\n"
     ]
    }
   ],
   "source": [
    "%%bash\n",
    "cd build\n",
    "yosys -q -p 'synth_ice40 -top main -blif blink.blif' blink.v\n",
    "arachne-pnr -q -d 1k -o blink.txt -p blink.pcf blink.blif \n",
    "icepack blink.txt blink.bin\n",
    "#iceprog blink.bin"
   ]
  },
  {
   "cell_type": "markdown",
   "metadata": {},
   "source": [
    "You can view the verilog file generated by `Magma`."
   ]
  },
  {
   "cell_type": "code",
   "execution_count": 6,
   "metadata": {},
   "outputs": [
    {
     "name": "stdout",
     "output_type": "stream",
     "text": [
      "module FullAdder (input  I0, input  I1, input  CIN, output  O, output  COUT);\r\n",
      "wire  SB_LUT4_inst0_O;\r\n",
      "wire  SB_CARRY_inst0_CO;\r\n",
      "SB_LUT4 #(.LUT_INIT(16'h9696)) SB_LUT4_inst0 (.I0(I0), .I1(I1), .I2(CIN), .I3(1'b0), .O(SB_LUT4_inst0_O));\r\n",
      "SB_CARRY SB_CARRY_inst0 (.I0(I0), .I1(I1), .CI(CIN), .CO(SB_CARRY_inst0_CO));\r\n",
      "assign O = SB_LUT4_inst0_O;\r\n",
      "assign COUT = SB_CARRY_inst0_CO;\r\n",
      "endmodule\r\n",
      "\r\n",
      "module Add22_COUT (input [21:0] I0, input [21:0] I1, output [21:0] O, output  COUT);\r\n",
      "wire  FullAdder_inst0_O;\r\n",
      "wire  FullAdder_inst0_COUT;\r\n",
      "wire  FullAdder_inst1_O;\r\n",
      "wire  FullAdder_inst1_COUT;\r\n",
      "wire  FullAdder_inst2_O;\r\n",
      "wire  FullAdder_inst2_COUT;\r\n",
      "wire  FullAdder_inst3_O;\r\n",
      "wire  FullAdder_inst3_COUT;\r\n",
      "wire  FullAdder_inst4_O;\r\n",
      "wire  FullAdder_inst4_COUT;\r\n",
      "wire  FullAdder_inst5_O;\r\n",
      "wire  FullAdder_inst5_COUT;\r\n",
      "wire  FullAdder_inst6_O;\r\n",
      "wire  FullAdder_inst6_COUT;\r\n",
      "wire  FullAdder_inst7_O;\r\n",
      "wire  FullAdder_inst7_COUT;\r\n",
      "wire  FullAdder_inst8_O;\r\n",
      "wire  FullAdder_inst8_COUT;\r\n",
      "wire  FullAdder_inst9_O;\r\n",
      "wire  FullAdder_inst9_COUT;\r\n",
      "wire  FullAdder_inst10_O;\r\n",
      "wire  FullAdder_inst10_COUT;\r\n",
      "wire  FullAdder_inst11_O;\r\n",
      "wire  FullAdder_inst11_COUT;\r\n",
      "wire  FullAdder_inst12_O;\r\n",
      "wire  FullAdder_inst12_COUT;\r\n",
      "wire  FullAdder_inst13_O;\r\n",
      "wire  FullAdder_inst13_COUT;\r\n",
      "wire  FullAdder_inst14_O;\r\n",
      "wire  FullAdder_inst14_COUT;\r\n",
      "wire  FullAdder_inst15_O;\r\n",
      "wire  FullAdder_inst15_COUT;\r\n",
      "wire  FullAdder_inst16_O;\r\n",
      "wire  FullAdder_inst16_COUT;\r\n",
      "wire  FullAdder_inst17_O;\r\n",
      "wire  FullAdder_inst17_COUT;\r\n",
      "wire  FullAdder_inst18_O;\r\n",
      "wire  FullAdder_inst18_COUT;\r\n",
      "wire  FullAdder_inst19_O;\r\n",
      "wire  FullAdder_inst19_COUT;\r\n",
      "wire  FullAdder_inst20_O;\r\n",
      "wire  FullAdder_inst20_COUT;\r\n",
      "wire  FullAdder_inst21_O;\r\n",
      "wire  FullAdder_inst21_COUT;\r\n",
      "FullAdder FullAdder_inst0 (.I0(I0[0]), .I1(I1[0]), .CIN(1'b0), .O(FullAdder_inst0_O), .COUT(FullAdder_inst0_COUT));\r\n",
      "FullAdder FullAdder_inst1 (.I0(I0[1]), .I1(I1[1]), .CIN(FullAdder_inst0_COUT), .O(FullAdder_inst1_O), .COUT(FullAdder_inst1_COUT));\r\n",
      "FullAdder FullAdder_inst2 (.I0(I0[2]), .I1(I1[2]), .CIN(FullAdder_inst1_COUT), .O(FullAdder_inst2_O), .COUT(FullAdder_inst2_COUT));\r\n",
      "FullAdder FullAdder_inst3 (.I0(I0[3]), .I1(I1[3]), .CIN(FullAdder_inst2_COUT), .O(FullAdder_inst3_O), .COUT(FullAdder_inst3_COUT));\r\n",
      "FullAdder FullAdder_inst4 (.I0(I0[4]), .I1(I1[4]), .CIN(FullAdder_inst3_COUT), .O(FullAdder_inst4_O), .COUT(FullAdder_inst4_COUT));\r\n",
      "FullAdder FullAdder_inst5 (.I0(I0[5]), .I1(I1[5]), .CIN(FullAdder_inst4_COUT), .O(FullAdder_inst5_O), .COUT(FullAdder_inst5_COUT));\r\n",
      "FullAdder FullAdder_inst6 (.I0(I0[6]), .I1(I1[6]), .CIN(FullAdder_inst5_COUT), .O(FullAdder_inst6_O), .COUT(FullAdder_inst6_COUT));\r\n",
      "FullAdder FullAdder_inst7 (.I0(I0[7]), .I1(I1[7]), .CIN(FullAdder_inst6_COUT), .O(FullAdder_inst7_O), .COUT(FullAdder_inst7_COUT));\r\n",
      "FullAdder FullAdder_inst8 (.I0(I0[8]), .I1(I1[8]), .CIN(FullAdder_inst7_COUT), .O(FullAdder_inst8_O), .COUT(FullAdder_inst8_COUT));\r\n",
      "FullAdder FullAdder_inst9 (.I0(I0[9]), .I1(I1[9]), .CIN(FullAdder_inst8_COUT), .O(FullAdder_inst9_O), .COUT(FullAdder_inst9_COUT));\r\n",
      "FullAdder FullAdder_inst10 (.I0(I0[10]), .I1(I1[10]), .CIN(FullAdder_inst9_COUT), .O(FullAdder_inst10_O), .COUT(FullAdder_inst10_COUT));\r\n",
      "FullAdder FullAdder_inst11 (.I0(I0[11]), .I1(I1[11]), .CIN(FullAdder_inst10_COUT), .O(FullAdder_inst11_O), .COUT(FullAdder_inst11_COUT));\r\n",
      "FullAdder FullAdder_inst12 (.I0(I0[12]), .I1(I1[12]), .CIN(FullAdder_inst11_COUT), .O(FullAdder_inst12_O), .COUT(FullAdder_inst12_COUT));\r\n",
      "FullAdder FullAdder_inst13 (.I0(I0[13]), .I1(I1[13]), .CIN(FullAdder_inst12_COUT), .O(FullAdder_inst13_O), .COUT(FullAdder_inst13_COUT));\r\n",
      "FullAdder FullAdder_inst14 (.I0(I0[14]), .I1(I1[14]), .CIN(FullAdder_inst13_COUT), .O(FullAdder_inst14_O), .COUT(FullAdder_inst14_COUT));\r\n",
      "FullAdder FullAdder_inst15 (.I0(I0[15]), .I1(I1[15]), .CIN(FullAdder_inst14_COUT), .O(FullAdder_inst15_O), .COUT(FullAdder_inst15_COUT));\r\n",
      "FullAdder FullAdder_inst16 (.I0(I0[16]), .I1(I1[16]), .CIN(FullAdder_inst15_COUT), .O(FullAdder_inst16_O), .COUT(FullAdder_inst16_COUT));\r\n",
      "FullAdder FullAdder_inst17 (.I0(I0[17]), .I1(I1[17]), .CIN(FullAdder_inst16_COUT), .O(FullAdder_inst17_O), .COUT(FullAdder_inst17_COUT));\r\n",
      "FullAdder FullAdder_inst18 (.I0(I0[18]), .I1(I1[18]), .CIN(FullAdder_inst17_COUT), .O(FullAdder_inst18_O), .COUT(FullAdder_inst18_COUT));\r\n",
      "FullAdder FullAdder_inst19 (.I0(I0[19]), .I1(I1[19]), .CIN(FullAdder_inst18_COUT), .O(FullAdder_inst19_O), .COUT(FullAdder_inst19_COUT));\r\n",
      "FullAdder FullAdder_inst20 (.I0(I0[20]), .I1(I1[20]), .CIN(FullAdder_inst19_COUT), .O(FullAdder_inst20_O), .COUT(FullAdder_inst20_COUT));\r\n",
      "FullAdder FullAdder_inst21 (.I0(I0[21]), .I1(I1[21]), .CIN(FullAdder_inst20_COUT), .O(FullAdder_inst21_O), .COUT(FullAdder_inst21_COUT));\r\n",
      "assign O = {FullAdder_inst21_O,FullAdder_inst20_O,FullAdder_inst19_O,FullAdder_inst18_O,FullAdder_inst17_O,FullAdder_inst16_O,FullAdder_inst15_O,FullAdder_inst14_O,FullAdder_inst13_O,FullAdder_inst12_O,FullAdder_inst11_O,FullAdder_inst10_O,FullAdder_inst9_O,FullAdder_inst8_O,FullAdder_inst7_O,FullAdder_inst6_O,FullAdder_inst5_O,FullAdder_inst4_O,FullAdder_inst3_O,FullAdder_inst2_O,FullAdder_inst1_O,FullAdder_inst0_O};\r\n",
      "assign COUT = FullAdder_inst21_COUT;\r\n",
      "endmodule\r\n",
      "\r\n",
      "module Register22 (input [21:0] I, output [21:0] O, input  CLK);\r\n",
      "wire  SB_DFF_inst0_Q;\r\n",
      "wire  SB_DFF_inst1_Q;\r\n",
      "wire  SB_DFF_inst2_Q;\r\n",
      "wire  SB_DFF_inst3_Q;\r\n",
      "wire  SB_DFF_inst4_Q;\r\n",
      "wire  SB_DFF_inst5_Q;\r\n",
      "wire  SB_DFF_inst6_Q;\r\n",
      "wire  SB_DFF_inst7_Q;\r\n",
      "wire  SB_DFF_inst8_Q;\r\n",
      "wire  SB_DFF_inst9_Q;\r\n",
      "wire  SB_DFF_inst10_Q;\r\n",
      "wire  SB_DFF_inst11_Q;\r\n",
      "wire  SB_DFF_inst12_Q;\r\n",
      "wire  SB_DFF_inst13_Q;\r\n",
      "wire  SB_DFF_inst14_Q;\r\n",
      "wire  SB_DFF_inst15_Q;\r\n",
      "wire  SB_DFF_inst16_Q;\r\n",
      "wire  SB_DFF_inst17_Q;\r\n",
      "wire  SB_DFF_inst18_Q;\r\n",
      "wire  SB_DFF_inst19_Q;\r\n",
      "wire  SB_DFF_inst20_Q;\r\n",
      "wire  SB_DFF_inst21_Q;\r\n",
      "SB_DFF SB_DFF_inst0 (.C(CLK), .D(I[0]), .Q(SB_DFF_inst0_Q));\r\n",
      "SB_DFF SB_DFF_inst1 (.C(CLK), .D(I[1]), .Q(SB_DFF_inst1_Q));\r\n",
      "SB_DFF SB_DFF_inst2 (.C(CLK), .D(I[2]), .Q(SB_DFF_inst2_Q));\r\n",
      "SB_DFF SB_DFF_inst3 (.C(CLK), .D(I[3]), .Q(SB_DFF_inst3_Q));\r\n",
      "SB_DFF SB_DFF_inst4 (.C(CLK), .D(I[4]), .Q(SB_DFF_inst4_Q));\r\n",
      "SB_DFF SB_DFF_inst5 (.C(CLK), .D(I[5]), .Q(SB_DFF_inst5_Q));\r\n",
      "SB_DFF SB_DFF_inst6 (.C(CLK), .D(I[6]), .Q(SB_DFF_inst6_Q));\r\n",
      "SB_DFF SB_DFF_inst7 (.C(CLK), .D(I[7]), .Q(SB_DFF_inst7_Q));\r\n",
      "SB_DFF SB_DFF_inst8 (.C(CLK), .D(I[8]), .Q(SB_DFF_inst8_Q));\r\n",
      "SB_DFF SB_DFF_inst9 (.C(CLK), .D(I[9]), .Q(SB_DFF_inst9_Q));\r\n",
      "SB_DFF SB_DFF_inst10 (.C(CLK), .D(I[10]), .Q(SB_DFF_inst10_Q));\r\n",
      "SB_DFF SB_DFF_inst11 (.C(CLK), .D(I[11]), .Q(SB_DFF_inst11_Q));\r\n",
      "SB_DFF SB_DFF_inst12 (.C(CLK), .D(I[12]), .Q(SB_DFF_inst12_Q));\r\n",
      "SB_DFF SB_DFF_inst13 (.C(CLK), .D(I[13]), .Q(SB_DFF_inst13_Q));\r\n",
      "SB_DFF SB_DFF_inst14 (.C(CLK), .D(I[14]), .Q(SB_DFF_inst14_Q));\r\n",
      "SB_DFF SB_DFF_inst15 (.C(CLK), .D(I[15]), .Q(SB_DFF_inst15_Q));\r\n",
      "SB_DFF SB_DFF_inst16 (.C(CLK), .D(I[16]), .Q(SB_DFF_inst16_Q));\r\n",
      "SB_DFF SB_DFF_inst17 (.C(CLK), .D(I[17]), .Q(SB_DFF_inst17_Q));\r\n",
      "SB_DFF SB_DFF_inst18 (.C(CLK), .D(I[18]), .Q(SB_DFF_inst18_Q));\r\n",
      "SB_DFF SB_DFF_inst19 (.C(CLK), .D(I[19]), .Q(SB_DFF_inst19_Q));\r\n",
      "SB_DFF SB_DFF_inst20 (.C(CLK), .D(I[20]), .Q(SB_DFF_inst20_Q));\r\n",
      "SB_DFF SB_DFF_inst21 (.C(CLK), .D(I[21]), .Q(SB_DFF_inst21_Q));\r\n",
      "assign O = {SB_DFF_inst21_Q,SB_DFF_inst20_Q,SB_DFF_inst19_Q,SB_DFF_inst18_Q,SB_DFF_inst17_Q,SB_DFF_inst16_Q,SB_DFF_inst15_Q,SB_DFF_inst14_Q,SB_DFF_inst13_Q,SB_DFF_inst12_Q,SB_DFF_inst11_Q,SB_DFF_inst10_Q,SB_DFF_inst9_Q,SB_DFF_inst8_Q,SB_DFF_inst7_Q,SB_DFF_inst6_Q,SB_DFF_inst5_Q,SB_DFF_inst4_Q,SB_DFF_inst3_Q,SB_DFF_inst2_Q,SB_DFF_inst1_Q,SB_DFF_inst0_Q};\r\n",
      "endmodule\r\n",
      "\r\n",
      "module Counter22_COUT (output [21:0] O, output  COUT, input  CLK);\r\n",
      "wire [21:0] Add22_COUT_inst0_O;\r\n",
      "wire  Add22_COUT_inst0_COUT;\r\n",
      "wire [21:0] Register22_inst0_O;\r\n",
      "Add22_COUT Add22_COUT_inst0 (.I0(Register22_inst0_O), .I1({1'b0,1'b0,1'b0,1'b0,1'b0,1'b0,1'b0,1'b0,1'b0,1'b0,1'b0,1'b0,1'b0,1'b0,1'b0,1'b0,1'b0,1'b0,1'b0,1'b0,1'b0,1'b1}), .O(Add22_COUT_inst0_O), .COUT(Add22_COUT_inst0_COUT));\r\n",
      "Register22 Register22_inst0 (.I(Add22_COUT_inst0_O), .O(Register22_inst0_O), .CLK(CLK));\r\n",
      "assign O = Register22_inst0_O;\r\n",
      "assign COUT = Add22_COUT_inst0_COUT;\r\n",
      "endmodule\r\n",
      "\r\n",
      "module main (output  D5, input  CLKIN);\r\n",
      "wire [21:0] Counter22_COUT_inst0_O;\r\n",
      "wire  Counter22_COUT_inst0_COUT;\r\n",
      "Counter22_COUT Counter22_COUT_inst0 (.O(Counter22_COUT_inst0_O), .COUT(Counter22_COUT_inst0_COUT), .CLK(CLKIN));\r\n",
      "assign D5 = Counter22_COUT_inst0_O[21];\r\n",
      "endmodule\r\n",
      "\r\n"
     ]
    }
   ],
   "source": [
    "%cat build/blink.v"
   ]
  },
  {
   "cell_type": "markdown",
   "metadata": {},
   "source": [
    "Notice that the top-level module contains two arguments (ports),\n",
    "`D5` and `CLKIN`. \n",
    "`D5` has been configured as an output,\n",
    "and `CLKIN` as an input.\n",
    "\n",
    "The mapping from these named arguments to pins is contained in the\n",
    "PCF (physical constraint file)."
   ]
  },
  {
   "cell_type": "code",
   "execution_count": 7,
   "metadata": {},
   "outputs": [
    {
     "name": "stdout",
     "output_type": "stream",
     "text": [
      "set_io D5 95\r\n",
      "set_io CLKIN 21\r\n"
     ]
    }
   ],
   "source": [
    "%cat build/blink.pcf"
   ]
  },
  {
   "cell_type": "markdown",
   "metadata": {},
   "source": [
    "`D5` is connected to pin 95 and `CLKIN` is connected to pin 21. "
   ]
  }
 ],
 "metadata": {
  "kernelspec": {
   "display_name": "Python 3",
   "language": "python",
   "name": "python3"
  },
  "language_info": {
   "codemirror_mode": {
    "name": "ipython",
    "version": 3
   },
   "file_extension": ".py",
   "mimetype": "text/x-python",
   "name": "python",
   "nbconvert_exporter": "python",
   "pygments_lexer": "ipython3",
   "version": "3.7.2"
  }
 },
 "nbformat": 4,
 "nbformat_minor": 2
}
