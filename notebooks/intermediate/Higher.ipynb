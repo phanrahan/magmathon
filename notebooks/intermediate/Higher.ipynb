{
 "cells": [
  {
   "cell_type": "markdown",
   "metadata": {},
   "source": [
    "## Constructing Circuits from other Circuits \n",
    "\n",
    "A common pattern that is used extensively in `Magma` is to write general\n",
    "functions that construct new circuits from other circuits.\n",
    "This circuit constructors are analogous to the higher-order functions\n",
    "in a functional programming languages.\n",
    "Examples in functional programming languages include `map` and `fold`.\n",
    "The corresponding `Magma` operators are `join`, `fork`, `fold`, and `scan`.\n",
    "`Magma` generalizes these functions with `braid`,\n",
    "that allows one to construct systolic arrays which\n",
    "cannot be described using functions since they wire stateful elements."
   ]
  },
  {
   "cell_type": "code",
   "execution_count": 1,
   "metadata": {},
   "outputs": [],
   "source": [
    "import magma as m"
   ]
  },
  {
   "cell_type": "markdown",
   "metadata": {},
   "source": [
    "## Register - `col` and `join`"
   ]
  },
  {
   "cell_type": "markdown",
   "metadata": {},
   "source": [
    "Perhaps the simplest example is the `Mantle` function that constructs a n-bit `Register`.\n",
    "\n",
    "To do this we use the `Magma` `col` and `join` functions. \n",
    "`col` takes a `Circuit` constructor and the number `n` of circuit instances to create.\n",
    "It returns a list of circuit instances.\n",
    "`join` combines `n` circuit instances together into a single circuit.\n",
    "\n",
    "<img src=\"images/join.jpg\" width=\"500\"/>"
   ]
  },
  {
   "cell_type": "code",
   "execution_count": 2,
   "metadata": {
    "scrolled": true
   },
   "outputs": [
    {
     "name": "stdout",
     "output_type": "stream",
     "text": [
      "Register4 = DefineCircuit(\"Register4\", \"I\", In(Bits[4]), \"O\", Out(Bits[4]), \"CLK\", In(Clock))\n",
      "reg0 = DFF_init0_has_ceFalse_has_resetFalse_has_async_resetFalse(name=\"reg0\")\n",
      "reg1 = DFF_init0_has_ceFalse_has_resetFalse_has_async_resetFalse(name=\"reg1\")\n",
      "reg2 = DFF_init0_has_ceFalse_has_resetFalse_has_async_resetFalse(name=\"reg2\")\n",
      "reg3 = DFF_init0_has_ceFalse_has_resetFalse_has_async_resetFalse(name=\"reg3\")\n",
      "wire(Register4.I[0], reg0.I)\n",
      "wire(Register4.I[1], reg1.I)\n",
      "wire(Register4.I[2], reg2.I)\n",
      "wire(Register4.I[3], reg3.I)\n",
      "wire(reg0.O, Register4.O[0])\n",
      "wire(reg1.O, Register4.O[1])\n",
      "wire(reg2.O, Register4.O[2])\n",
      "wire(reg3.O, Register4.O[3])\n",
      "EndCircuit()\n"
     ]
    }
   ],
   "source": [
    "from mantle import DFF\n",
    "\n",
    "class Register(m.Generator):\n",
    "    \"\"\"\n",
    "    Generate an n-bit register\n",
    "\n",
    "    Interface\n",
    "    ---------\n",
    "        I : In(Bits[width]), O : Out(Bits[width])\n",
    "    \"\"\"\n",
    "    @staticmethod\n",
    "    def generate(width: int):\n",
    "        T = m.Bits[width]\n",
    "        class _Register(m.Circuit):\n",
    "            name = f'Register{width}'\n",
    "            io = m.IO(I=m.In(T), O=m.Out(T)) + m.ClockIO()\n",
    "            reg = m.join(m.col(lambda y: DFF(name=f\"reg{y}\"), width))\n",
    "            m.wire(reg(io.I), io.O)\n",
    "        return _Register\n",
    "\n",
    "print(repr(Register.generate(4)))"
   ]
  },
  {
   "cell_type": "markdown",
   "metadata": {},
   "source": [
    "## fork\n",
    "\n",
    "`fork(list)` creates a single circuit from a list of instances.\n",
    "Just as with join, the outputs of the circuits are concatenated together to form a array.\n",
    "However, the inputs are not concatenated, they are forked.\n",
    "That is, all the inputs are wired together.\n",
    "\n",
    "<img src=\"images/fork.jpg\" width=\"500\"/>"
   ]
  },
  {
   "cell_type": "code",
   "execution_count": 3,
   "metadata": {},
   "outputs": [
    {
     "name": "stdout",
     "output_type": "stream",
     "text": [
      "_Decoder = DefineCircuit(\"_Decoder\", \"I\", In(Bits[2]), \"O\", Out(Bits[4]))\n",
      "Decode2_0_inst0 = Decode2_0()\n",
      "Decode2_1_inst0 = Decode2_1()\n",
      "Decode2_2_inst0 = Decode2_2()\n",
      "Decode2_3_inst0 = Decode2_3()\n",
      "wire(_Decoder.I[0], Decode2_0_inst0.I[0])\n",
      "wire(_Decoder.I[1], Decode2_0_inst0.I[1])\n",
      "wire(_Decoder.I[0], Decode2_1_inst0.I[0])\n",
      "wire(_Decoder.I[1], Decode2_1_inst0.I[1])\n",
      "wire(_Decoder.I[0], Decode2_2_inst0.I[0])\n",
      "wire(_Decoder.I[1], Decode2_2_inst0.I[1])\n",
      "wire(_Decoder.I[0], Decode2_3_inst0.I[0])\n",
      "wire(_Decoder.I[1], Decode2_3_inst0.I[1])\n",
      "wire(Decode2_0_inst0.O, _Decoder.O[0])\n",
      "wire(Decode2_1_inst0.O, _Decoder.O[1])\n",
      "wire(Decode2_2_inst0.O, _Decoder.O[2])\n",
      "wire(Decode2_3_inst0.O, _Decoder.O[3])\n",
      "EndCircuit()\n"
     ]
    }
   ],
   "source": [
    "class Decode(m.Generator):\n",
    "    @staticmethod\n",
    "    def generate(value: int, width: int):\n",
    "        class _Decode(m.Circuit):\n",
    "            name = f\"Decode{width}_{value}\"\n",
    "            io = m.IO(I=m.In(m.Bits[width]), \n",
    "                      O=m.Out(m.Bit))\n",
    "            io.O @= io.I == value\n",
    "        return _Decode\n",
    "\n",
    "\n",
    "class Decoder(m.Generator):\n",
    "    @staticmethod\n",
    "    def generate(width: int):\n",
    "        class _Decoder(m.Circuit):\n",
    "            io = m.IO(I=m.In(m.Bits[width]), \n",
    "                      O=m.Out(m.Bits[1 << width]))\n",
    "\n",
    "            io.O @= m.fork(m.col(lambda y: Decode(y, width), 1 << width))(io.I)\n",
    "        return _Decoder\n",
    "\n",
    "print(repr(Decoder.generate(2)))"
   ]
  },
  {
   "cell_type": "markdown",
   "metadata": {},
   "source": [
    "There is a lot going on in this function.\n",
    "\n",
    "One subtlety in this code is the lambda function used when invoking `col`.\n",
    "The argument `y` refers to the position of the created instance in the *column*, \n",
    "we use this value to feed into the `Decode` circuit, which computes whether the \n",
    "input is equal to the current index position.\n",
    "\n",
    "The `fork` function sends the input value to each `Decode` instance, and joins\n",
    "the output of each `Decode`, which represents a one-hot encoding where the index is\n",
    "high if the input is equal to the index."
   ]
  },
  {
   "cell_type": "markdown",
   "metadata": {},
   "source": [
    "## fold\n",
    "\n",
    "`fold` is a classic higher-order function.\n",
    "The `Magma` fold takes a list of circuit,\n",
    "and wires the output of one circuit to the input of another circuit.\n",
    "The input of the first circuit instance becomes the input of the final circuit,\n",
    "and the output of the last instance becauses the output.\n",
    "The rest of the inputs and outputs are joined.\n",
    "\n",
    "<img src=\"images/fold.jpg\" width=\"500\"/>\n",
    "\n",
    "The convention is that the output `O` will be wired to the input `I`.\n",
    "\n",
    "A good example of this in action is to combine `n` DFFs into a serial-in serial-out (SISO)\n",
    "shift register.\n",
    "The output of each DFF is connected to the input of the next DFF."
   ]
  },
  {
   "cell_type": "code",
   "execution_count": 4,
   "metadata": {},
   "outputs": [
    {
     "name": "stdout",
     "output_type": "stream",
     "text": [
      "SISO4 = DefineCircuit(\"SISO4\", \"I\", In(Bit), \"O\", Out(Bit), \"CLK\", In(Clock))\n",
      "reg0 = DFF_init0_has_ceFalse_has_resetFalse_has_async_resetFalse(name=\"reg0\")\n",
      "reg1 = DFF_init0_has_ceFalse_has_resetFalse_has_async_resetFalse(name=\"reg1\")\n",
      "reg2 = DFF_init0_has_ceFalse_has_resetFalse_has_async_resetFalse(name=\"reg2\")\n",
      "reg3 = DFF_init0_has_ceFalse_has_resetFalse_has_async_resetFalse(name=\"reg3\")\n",
      "wire(SISO4.I, reg0.I)\n",
      "wire(reg0.O, reg1.I)\n",
      "wire(reg1.O, reg2.I)\n",
      "wire(reg2.O, reg3.I)\n",
      "wire(reg3.O, SISO4.O)\n",
      "EndCircuit()\n"
     ]
    }
   ],
   "source": [
    "class SISO(m.Generator):\n",
    "    \"\"\"\n",
    "    Generate Serial-In, Serial-Out shift register with `n` cycles of delay.\n",
    "\n",
    "    I : In(Bit), O : Out(Bit)\n",
    "    \"\"\"\n",
    "    @staticmethod\n",
    "    def generate(n: int):\n",
    "        class _SISO(m.Circuit):\n",
    "            name = f'SISO{n}'\n",
    "            io = m.IO(I=m.In(m.Bit), O=m.Out(m.Bit)) + m.ClockIO()\n",
    "\n",
    "            reg = m.fold(m.col(lambda y: DFF(name=f\"reg{y}\"), n))\n",
    "            m.wire(reg(io.I), io.O)\n",
    "        return _SISO\n",
    "\n",
    "print(repr(SISO.generate(4)))"
   ]
  },
  {
   "cell_type": "markdown",
   "metadata": {},
   "source": [
    "## scan\n",
    "\n",
    "`fold` is a classic higher-order function.\n",
    "The `Magma` fold takes a list of circuit,\n",
    "and wires the output of one circuit to the input of another circuit.\n",
    "The input of the first circuit instance becomes the input of the final circuit,\n",
    "and the output of the last instance becauses the output.\n",
    "The rest of the inputs and outputs are joined.\n",
    "\n",
    "<img src=\"images/scan.jpg\" width=\"500\"/>\n",
    "\n",
    "The convention is that the output `O` will be wired to the input `I`.\n",
    "\n",
    "`scan` can be used to combine `n` DFFs into a serial-in parallel-out (SIPO)\n",
    "shift register.\n",
    "The output of each DFF is connected to the input of the next DFF.\n",
    "In addition, all the outputs are joined to form an array of bits."
   ]
  },
  {
   "cell_type": "code",
   "execution_count": 5,
   "metadata": {},
   "outputs": [
    {
     "name": "stdout",
     "output_type": "stream",
     "text": [
      "SIPO4 = DefineCircuit(\"SIPO4\", \"I\", In(Bit), \"O\", Out(Bits[4]), \"CLK\", In(Clock))\n",
      "reg0 = DFF_init0_has_ceFalse_has_resetFalse_has_async_resetFalse(name=\"reg0\")\n",
      "reg1 = DFF_init0_has_ceFalse_has_resetFalse_has_async_resetFalse(name=\"reg1\")\n",
      "reg2 = DFF_init0_has_ceFalse_has_resetFalse_has_async_resetFalse(name=\"reg2\")\n",
      "reg3 = DFF_init0_has_ceFalse_has_resetFalse_has_async_resetFalse(name=\"reg3\")\n",
      "wire(SIPO4.I, reg0.I)\n",
      "wire(reg0.O, reg1.I)\n",
      "wire(reg1.O, reg2.I)\n",
      "wire(reg2.O, reg3.I)\n",
      "wire(reg0.O, SIPO4.O[0])\n",
      "wire(reg1.O, SIPO4.O[1])\n",
      "wire(reg2.O, SIPO4.O[2])\n",
      "wire(reg3.O, SIPO4.O[3])\n",
      "EndCircuit()\n"
     ]
    }
   ],
   "source": [
    "class SIPO(m.Generator):\n",
    "    \"\"\"\n",
    "    Generate Serial-In, Parallel-Out shift register.\n",
    "\n",
    "    I : In(Bit), O : Out(Bits[n])\n",
    "    \"\"\"\n",
    "    @staticmethod\n",
    "    def generate(n: int):\n",
    "        T = m.Bits[n]\n",
    "        class _SIPO(m.Circuit):\n",
    "            name = f'SIPO{n}'\n",
    "            io = m.IO(I=m.In(m.Bit), O=m.Out(T)) + m.ClockIO()\n",
    "\n",
    "            reg = m.scan(m.col(lambda y: DFF(name=f\"reg{y}\"), n))\n",
    "            m.wire(reg(io.I), io.O)\n",
    "        return _SIPO\n",
    "\n",
    "print(repr(SIPO.generate(4)))"
   ]
  },
  {
   "cell_type": "markdown",
   "metadata": {},
   "source": [
    "## braid\n",
    "\n",
    "These high-order circuit construction operators \n",
    "can be precisely constrolled using `braid`.\n",
    "`braid` can be used to construct general systolic circuits.\n",
    "\n",
    "Braid takes a list of circuit instances as an input,\n",
    "and simultaenously wires up the various inputs and outputs\n",
    "in the desired way.\n",
    "The advantage of braid is that inputs and outputs can be selected by name,\n",
    "and different methods can be used to wire up inputs and outputs.\n",
    "```\n",
    "def braid(circuits,\n",
    "  joinargs=[],\n",
    "  flatargs=[],\n",
    "  forkargs=['RESET','SET','CE','CLK'],\n",
    "  foldargs={}, rfoldargs={},\n",
    "  scanargs={}, rscanargs={}):\n",
    "```\n",
    "Note that by default, the clock signals are forked.\n",
    "\n",
    "<img src=\"images/systolic.png\" width=\"500\"/>\n",
    "\n",
    "Figure from Kung and Leiserson.\n",
    "\n",
    "For example,\n",
    "```\n",
    "braid(circuits, foldargs={'I': 'O'})\n",
    "```\n",
    "is equivalent to fork.\n",
    "\n",
    "Similarly, for `scan`\n",
    "```\n",
    "braid(circuits, scanargs={'I': 'O'})\n",
    "```\n",
    "If you want to do a scan in a different direction, use\n",
    "```\n",
    "braid(circuits, rscanargs={'I': 'O'})\n",
    "```\n",
    "`rscanargs`, for right-scan."
   ]
  },
  {
   "cell_type": "code",
   "execution_count": null,
   "metadata": {},
   "outputs": [],
   "source": []
  }
 ],
 "metadata": {
  "kernelspec": {
   "display_name": "Python 3",
   "language": "python",
   "name": "python3"
  },
  "language_info": {
   "codemirror_mode": {
    "name": "ipython",
    "version": 3
   },
   "file_extension": ".py",
   "mimetype": "text/x-python",
   "name": "python",
   "nbconvert_exporter": "python",
   "pygments_lexer": "ipython3",
   "version": "3.7.2"
  }
 },
 "nbformat": 4,
 "nbformat_minor": 2
}
