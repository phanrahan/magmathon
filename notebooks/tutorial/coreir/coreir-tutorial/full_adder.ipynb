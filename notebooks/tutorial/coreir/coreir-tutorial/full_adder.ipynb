{
 "cells": [
  {
   "cell_type": "markdown",
   "metadata": {},
   "source": [
    "## FullAdder - Combinational Circuits\n",
    "\n",
    "This notebook walks through the implementation of a basic combinational circuit, a full adder. This example introduces many of the features of `Magma` including circuits, wiring, operators, and the type system."
   ]
  },
  {
   "cell_type": "markdown",
   "metadata": {},
   "source": [
    "Start by importing `Magma` and `Mantle`. `Magma` is the core system which implements circuits and the methods to compose them, and `Mantle` is a library of useful circuits. "
   ]
  },
  {
   "cell_type": "code",
   "execution_count": 1,
   "metadata": {},
   "outputs": [],
   "source": [
    "import magma as m\n",
    "import mantle"
   ]
  },
  {
   "cell_type": "markdown",
   "metadata": {},
   "source": [
    "A full adder has three single bit inputs, and returns the sum and the carry. The sum is the *exclusive or* of the 3 bits, the carry is 1 if any two of the inputs bits are 1. Here is a schematic of a full adder circuit (from `logisim`).\n",
    "\n",
    "![Full Adder](images/full_adder_logisim.png)\n",
    "\n",
    "We start by defining a Python function that implements a full adder. \n",
    "The full adder function takes three single bit inputs and returns two outputs as a tuple.\n",
    "The first element of tuple is the sum, the second element is the carry.\n",
    "We compute the sum and carry using standard Python bitwise operators `&`, `|`, and `^`."
   ]
  },
  {
   "cell_type": "code",
   "execution_count": 2,
   "metadata": {},
   "outputs": [],
   "source": [
    "def fulladder(A, B, C):\n",
    "    return A^B^C, A&B|B&C|C&A # sum, carry"
   ]
  },
  {
   "cell_type": "markdown",
   "metadata": {},
   "source": [
    "We can test our Python function to verify that our implementation behaves as expected. We'll use the standard Python assert pattern."
   ]
  },
  {
   "cell_type": "code",
   "execution_count": 3,
   "metadata": {},
   "outputs": [
    {
     "name": "stdout",
     "output_type": "stream",
     "text": [
      "Success!\n"
     ]
    }
   ],
   "source": [
    "assert fulladder(1, 0, 0) == (1, 0), \"Failed\"\n",
    "assert fulladder(0, 1, 0) == (1, 0), \"Failed\"\n",
    "assert fulladder(1, 1, 0) == (0, 1), \"Failed\"\n",
    "assert fulladder(1, 0, 1) == (0, 1), \"Failed\"\n",
    "assert fulladder(1, 1, 1) == (1, 1), \"Failed\"\n",
    "print(\"Success!\")"
   ]
  },
  {
   "cell_type": "markdown",
   "metadata": {},
   "source": [
    "Now that we have an implementation of `fulladder` as a Python function, \n",
    "we'll use it to construct a `Magma` `Circuit`. \n",
    "A `Circuit` in `Magma` corresponds to a `module` in `verilog`."
   ]
  },
  {
   "cell_type": "code",
   "execution_count": 4,
   "metadata": {},
   "outputs": [],
   "source": [
    "class FullAdder(m.Circuit):\n",
    "    name = \"FullAdderExample\"\n",
    "    IO = [\"I0\", m.In(m.Bit), \"I1\", m.In(m.Bit), \"CIN\", m.In(m.Bit), \"O\", m.Out(m.Bit), \"COUT\", m.Out(m.Bit)]\n",
    "    @classmethod\n",
    "    def definition(io):\n",
    "        O, COUT = fulladder(io.I0, io.I1, io.CIN)\n",
    "        io.O <= O\n",
    "        io.COUT <= COUT"
   ]
  },
  {
   "cell_type": "markdown",
   "metadata": {},
   "source": [
    "First, notice that the `FullAdder` is a subclass of `Circuit`. All `Magma` circuits are classes in python.\n",
    "\n",
    "Second, the attribute `IO` defines the interface to the circuit. \n",
    "`IO` is a list of alternating keys and values. \n",
    "The key is the name of the argument, and the value is the type. \n",
    "In this circuit, all the inputs and outputs have `Magma` type `Bit`. \n",
    "We also qualify each type as an input or an output using the functions `In` and `Out`.\n",
    "\n",
    "Third, we provide a function `definition`. `definition` must be a class method and this is indicated with the decorator `@classmethod`. \n",
    "The purpose of the `definition` function is to create the actual full adder circuit. \n",
    "The arguments are passed to `definition` as the object `io`. \n",
    "This object has fields for each argument in the interface. \n",
    "The body of `definition` calls our previously defined python function `fulladder`.\n",
    "\n",
    "Note that when we call the python function `fulladder` inside `definition` \n",
    "it is passed `Magma` values not standard python values.\n",
    "When we tested `fulladder` sbove we called it with ints.\n",
    "When we called it inside `definition` the values passed to the Python `fulladder` function \n",
    "are `Magma` values of type `Bit`.\n",
    "The Python bitwise operators are overloaded to compute logical functions of the `Magma` values (this corresponds to constructing the circuits to compute logical functions `and`, `or`, and `xor`, and wiring inputs to outputs).\n",
    "\n",
    "`fulladder` returns two values.\n",
    "These values are assigned to the python variables `O` and `COUT`. \n",
    "Remember that assigning to a Python variable \n",
    "sets the variable to refer to the object.\n",
    "`Magma` values are Python objects,\n",
    "so assigning an object to a variable creates a reference to that `Magma` value.\n",
    "In order to complete the definition of the circuit, \n",
    "`O` and `COUT` need to be *wired* to the outputs in the interface.\n",
    "\n",
    "The python `<=` operator is overloaded to perform wiring."
   ]
  },
  {
   "cell_type": "markdown",
   "metadata": {},
   "source": [
    "Next we simulate the circuit and compare the results to the python function `fulladder`."
   ]
  },
  {
   "cell_type": "code",
   "execution_count": 5,
   "metadata": {},
   "outputs": [
    {
     "name": "stdout",
     "output_type": "stream",
     "text": [
      "Success!\n"
     ]
    }
   ],
   "source": [
    "from magma.simulator import PythonSimulator\n",
    "\n",
    "fulladder_magma = PythonSimulator(FullAdder)\n",
    "\n",
    "assert fulladder_magma(1, 0, 0) == fulladder(1, 0, 0), \"Failed\"\n",
    "assert fulladder_magma(0, 1, 0) == fulladder(0, 1, 0), \"Failed\"\n",
    "assert fulladder_magma(1, 1, 0) == fulladder(1, 1, 0), \"Failed\"\n",
    "assert fulladder_magma(1, 0, 1) == fulladder(1, 0, 1), \"Failed\"\n",
    "assert fulladder_magma(1, 1, 1) == fulladder(1, 1, 1), \"Failed\"\n",
    "print(\"Success!\")"
   ]
  },
  {
   "cell_type": "markdown",
   "metadata": {},
   "source": [
    "Here is another way to test the circuit. \n",
    "We define a set of test vectors and plot them in python."
   ]
  },
  {
   "cell_type": "code",
   "execution_count": 6,
   "metadata": {},
   "outputs": [
    {
     "data": {
      "image/png": "[encoded data removed]",
      "text/plain": [
       "<Figure size 432x288 with 1 Axes>"
      ]
     },
     "metadata": {
      "needs_background": "light"
     },
     "output_type": "display_data"
    }
   ],
   "source": [
    "from magma.waveform import waveform\n",
    "\n",
    "test_vectors_raw = [\n",
    "    [0, 0, 0, 0, 0],\n",
    "    [0, 0, 1, 1, 0],\n",
    "    [0, 1, 0, 1, 0],\n",
    "    [0, 1, 1, 0, 1],\n",
    "    [1, 0, 0, 1, 0],\n",
    "    [1, 0, 1, 0, 1],\n",
    "    [1, 1, 0, 0, 1],\n",
    "    [1, 1, 1, 1, 1]\n",
    "]\n",
    "\n",
    "waveform(test_vectors_raw, [\"a\", \"b\", \"cin\", \"sum\", \"cout\"])"
   ]
  },
  {
   "cell_type": "markdown",
   "metadata": {},
   "source": [
    "We can use the simulator to also generate a set of test vectors."
   ]
  },
  {
   "cell_type": "code",
   "execution_count": 7,
   "metadata": {},
   "outputs": [],
   "source": [
    "from fault.test_vectors import generate_simulator_test_vectors\n",
    "from bit_vector import BitVector\n",
    "\n",
    "test_vectors = [\n",
    "    [BitVector(x) for x in test_vector]\n",
    "    for test_vector in test_vectors_raw\n",
    "]\n",
    "\n",
    "tests = generate_simulator_test_vectors(FullAdder, flatten=False)\n"
   ]
  },
  {
   "cell_type": "markdown",
   "metadata": {},
   "source": [
    "Finally, compare the simulated test vectors to the expected values."
   ]
  },
  {
   "cell_type": "code",
   "execution_count": 8,
   "metadata": {},
   "outputs": [
    {
     "name": "stdout",
     "output_type": "stream",
     "text": [
      "Success\n"
     ]
    }
   ],
   "source": [
    "print( \"Success\" if tests == test_vectors else \"Failure\" )"
   ]
  },
  {
   "cell_type": "markdown",
   "metadata": {},
   "source": [
    "The last step we will do is generate `coreir` and `verilog` for the full adder circuit."
   ]
  },
  {
   "cell_type": "code",
   "execution_count": 9,
   "metadata": {},
   "outputs": [
    {
     "name": "stdout",
     "output_type": "stream",
     "text": [
      "{\"top\":\"global.FullAdderExample\",\r\n",
      "\"namespaces\":{\r\n",
      "  \"global\":{\r\n",
      "    \"modules\":{\r\n",
      "      \"FullAdderExample\":{\r\n",
      "        \"type\":[\"Record\",[\r\n",
      "          [\"I0\",\"BitIn\"],\r\n",
      "          [\"I1\",\"BitIn\"],\r\n",
      "          [\"CIN\",\"BitIn\"],\r\n",
      "          [\"O\",\"Bit\"],\r\n",
      "          [\"COUT\",\"Bit\"]\r\n",
      "        ]],\r\n",
      "        \"instances\":{\r\n",
      "          \"and_inst0\":{\r\n",
      "            \"modref\":\"corebit.and\"\r\n",
      "          },\r\n",
      "          \"and_inst1\":{\r\n",
      "            \"modref\":\"corebit.and\"\r\n",
      "          },\r\n",
      "          \"and_inst2\":{\r\n",
      "            \"modref\":\"corebit.and\"\r\n",
      "          },\r\n",
      "          \"or_inst0\":{\r\n",
      "            \"modref\":\"corebit.or\"\r\n",
      "          },\r\n",
      "          \"or_inst1\":{\r\n",
      "            \"modref\":\"corebit.or\"\r\n",
      "          },\r\n",
      "          \"xor_inst0\":{\r\n",
      "            \"modref\":\"corebit.xor\"\r\n",
      "          },\r\n",
      "          \"xor_inst1\":{\r\n",
      "            \"modref\":\"corebit.xor\"\r\n",
      "          }\r\n",
      "        },\r\n",
      "        \"connections\":[\r\n",
      "          [\"self.I0\",\"and_inst0.in0\"],\r\n",
      "          [\"self.I1\",\"and_inst0.in1\"],\r\n",
      "          [\"or_inst0.in0\",\"and_inst0.out\"],\r\n",
      "          [\"self.I1\",\"and_inst1.in0\"],\r\n",
      "          [\"self.CIN\",\"and_inst1.in1\"],\r\n",
      "          [\"or_inst0.in1\",\"and_inst1.out\"],\r\n",
      "          [\"self.CIN\",\"and_inst2.in0\"],\r\n",
      "          [\"self.I0\",\"and_inst2.in1\"],\r\n",
      "          [\"or_inst1.in1\",\"and_inst2.out\"],\r\n",
      "          [\"or_inst1.in0\",\"or_inst0.out\"],\r\n",
      "          [\"self.COUT\",\"or_inst1.out\"],\r\n",
      "          [\"xor_inst1.in1\",\"self.CIN\"],\r\n",
      "          [\"xor_inst0.in0\",\"self.I0\"],\r\n",
      "          [\"xor_inst0.in1\",\"self.I1\"],\r\n",
      "          [\"xor_inst1.out\",\"self.O\"],\r\n",
      "          [\"xor_inst1.in0\",\"xor_inst0.out\"]\r\n",
      "        ]\r\n",
      "      }\r\n",
      "    }\r\n",
      "  }\r\n",
      "}\r\n",
      "}\r\n"
     ]
    }
   ],
   "source": [
    "m.compile(\"build/FullAdder\", FullAdder, output=\"coreir\")\n",
    "%cat build/FullAdder.json"
   ]
  },
  {
   "cell_type": "code",
   "execution_count": 10,
   "metadata": {},
   "outputs": [
    {
     "name": "stdout",
     "output_type": "stream",
     "text": [
      "module corebit_xor (input in0, input in1, output out);\r\n",
      "  assign out = in0 ^ in1;\r\n",
      "endmodule\r\n",
      "\r\n",
      "module corebit_or (input in0, input in1, output out);\r\n",
      "  assign out = in0 | in1;\r\n",
      "endmodule\r\n",
      "\r\n",
      "module corebit_and (input in0, input in1, output out);\r\n",
      "  assign out = in0 & in1;\r\n",
      "endmodule\r\n",
      "\r\n",
      "module FullAdderExample (input CIN, output COUT, input I0, input I1, output O);\r\n",
      "wire and_inst0_out;\r\n",
      "wire and_inst1_out;\r\n",
      "wire and_inst2_out;\r\n",
      "wire or_inst0_out;\r\n",
      "wire or_inst1_out;\r\n",
      "wire xor_inst0_out;\r\n",
      "wire xor_inst1_out;\r\n",
      "corebit_and and_inst0(.in0(I0), .in1(I1), .out(and_inst0_out));\r\n",
      "corebit_and and_inst1(.in0(I1), .in1(CIN), .out(and_inst1_out));\r\n",
      "corebit_and and_inst2(.in0(CIN), .in1(I0), .out(and_inst2_out));\r\n",
      "corebit_or or_inst0(.in0(and_inst0_out), .in1(and_inst1_out), .out(or_inst0_out));\r\n",
      "corebit_or or_inst1(.in0(or_inst0_out), .in1(and_inst2_out), .out(or_inst1_out));\r\n",
      "corebit_xor xor_inst0(.in0(I0), .in1(I1), .out(xor_inst0_out));\r\n",
      "corebit_xor xor_inst1(.in0(xor_inst0_out), .in1(CIN), .out(xor_inst1_out));\r\n",
      "assign COUT = or_inst1_out;\r\n",
      "assign O = xor_inst1_out;\r\n",
      "endmodule\r\n",
      "\r\n"
     ]
    }
   ],
   "source": [
    "m.compile(\"build/FullAdder\", FullAdder, output=\"coreir-verilog\")\n",
    "%cat build/FullAdder.v"
   ]
  }
 ],
 "metadata": {
  "kernelspec": {
   "display_name": "Python 3",
   "language": "python",
   "name": "python3"
  },
  "language_info": {
   "codemirror_mode": {
    "name": "ipython",
    "version": 3
   },
   "file_extension": ".py",
   "mimetype": "text/x-python",
   "name": "python",
   "nbconvert_exporter": "python",
   "pygments_lexer": "ipython3",
   "version": "3.7.2"
  }
 },
 "nbformat": 4,
 "nbformat_minor": 2
}
