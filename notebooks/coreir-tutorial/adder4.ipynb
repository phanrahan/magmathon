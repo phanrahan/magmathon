{
 "cells": [
  {
   "cell_type": "code",
   "execution_count": 1,
   "metadata": {
    "collapsed": true
   },
   "outputs": [],
   "source": [
    "import magma as m\n",
    "m.set_mantle_target(\"coreir\")\n",
    "import mantle\n",
    "\n",
    "class FullAdder(m.Circuit):\n",
    "    name = \"FullAdder\"\n",
    "    IO = [\"a\", m.In(m.Bit), \"b\", m.In(m.Bit), \"cin\", m.In(m.Bit),\n",
    "          \"out\", m.Out(m.Bit), \"cout\", m.Out(m.Bit)]\n",
    "    @classmethod\n",
    "    def definition(io):\n",
    "        # Generate the sum\n",
    "        _sum = mantle.XOr(3)(io.a, io.b, io.cin)\n",
    "        m.wire(_sum, io.out)\n",
    "        # Generate the carry\n",
    "        carry = mantle.Or(3)(\n",
    "            mantle.And(2)(io.a, io.b), \n",
    "            mantle.And(2)(io.b, io.cin), \n",
    "            mantle.And(2)(io.a, io.cin)\n",
    "        )\n",
    "        m.wire(carry, io.cout)"
   ]
  },
  {
   "cell_type": "code",
   "execution_count": 2,
   "metadata": {
    "collapsed": true
   },
   "outputs": [],
   "source": [
    "T = m.Bits(4)\n",
    "class Adder4(m.Circuit):\n",
    "    name = \"Adder4\"\n",
    "    IO = [\"a\", m.In(T), \"b\", m.In(T), \"cin\", m.In(m.Bit),\n",
    "          \"out\", m.Out(T), \"cout\", m.Out(m.Bit)]\n",
    "    @classmethod\n",
    "    def definition(io):\n",
    "        adder1 = FullAdder()\n",
    "        m.wire(io.a[0], adder1.a)\n",
    "        m.wire(io.b[0], adder1.b)\n",
    "        m.wire(io.cin, adder1.cin)\n",
    "        adder2 = FullAdder()\n",
    "        m.wire(io.a[1], adder2.a)\n",
    "        m.wire(io.b[1], adder2.b)\n",
    "        m.wire(adder1.cout, adder2.cin)\n",
    "        adder3 = FullAdder()\n",
    "        m.wire(io.a[2], adder3.a)\n",
    "        m.wire(io.b[2], adder3.b)\n",
    "        m.wire(adder2.cout, adder3.cin)\n",
    "        adder4 = FullAdder()\n",
    "        m.wire(io.a[3], adder4.a)\n",
    "        m.wire(io.b[3], adder4.b)\n",
    "        m.wire(adder3.cout, adder4.cin)\n",
    "        \n",
    "        m.wire(adder4.cout, io.cout)\n",
    "        m.wire(m.bits([adder1.out, adder2.out, adder3.out, adder4.out]), io.out)"
   ]
  },
  {
   "cell_type": "code",
   "execution_count": 3,
   "metadata": {},
   "outputs": [
    {
     "name": "stdout",
     "output_type": "stream",
     "text": [
      "Success!\n"
     ]
    }
   ],
   "source": [
    "from magma.simulator import PythonSimulator\n",
    "from magma.bit_vector import BitVector\n",
    "\n",
    "simulator = PythonSimulator(Adder4)\n",
    "simulator.set_value(Adder4.a, BitVector(2, num_bits=4))\n",
    "simulator.set_value(Adder4.b, BitVector(3, num_bits=4))\n",
    "simulator.set_value(Adder4.cin, True)\n",
    "simulator.evaluate()\n",
    "assert simulator.get_value(Adder4.out) == BitVector(6, num_bits=4)\n",
    "assert simulator.get_value(Adder4.cout) == False\n",
    "print(\"Success!\")"
   ]
  }
 ],
 "metadata": {
  "kernelspec": {
   "display_name": "Python 3",
   "language": "python",
   "name": "python3"
  },
  "language_info": {
   "codemirror_mode": {
    "name": "ipython",
    "version": 3
   },
   "file_extension": ".py",
   "mimetype": "text/x-python",
   "name": "python",
   "nbconvert_exporter": "python",
   "pygments_lexer": "ipython3",
   "version": "3.6.5"
  }
 },
 "nbformat": 4,
 "nbformat_minor": 2
}
