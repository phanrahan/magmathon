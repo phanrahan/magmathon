{
 "cells": [
  {
   "cell_type": "code",
   "execution_count": 1,
   "metadata": {
    "collapsed": true
   },
   "outputs": [],
   "source": [
    "import magma as m\n",
    "m.set_mantle_target(\"coreir\")\n",
    "import mantle\n",
    "\n",
    "def DefineShiftRegister(n, init=0, has_ce=False, has_reset=False):\n",
    "    class _ShiftRegister(m.Circuit):\n",
    "        name = 'ShiftRegister_{}_{}_{}_{}'.format(n, init, has_ce, has_reset)\n",
    "        IO = ['I', m.In(m.Bit), 'O', m.Out(m.Bit)] + \\\n",
    "               m.ClockInterface(has_ce, has_reset)\n",
    "        @classmethod\n",
    "        def definition(siso):\n",
    "            ffs = mantle.FFs(n, init=init, has_ce=has_ce, has_reset=has_reset)\n",
    "            reg = m.braid(ffs, foldargs={\"I\":\"O\"})\n",
    "            reg(siso.I)\n",
    "            m.wire(reg.O, siso.O)\n",
    "            m.wireclock(siso, reg)\n",
    "    return _ShiftRegister"
   ]
  },
  {
   "cell_type": "code",
   "execution_count": 2,
   "metadata": {},
   "outputs": [
    {
     "name": "stdout",
     "output_type": "stream",
     "text": [
      "compiling DFF_init0_has_ceTrue_has_resetFalse\n",
      "compiling ShiftRegister_2_0_True_False\n",
      "module DFF_init0_has_ceTrue_has_resetFalse (input  I, output  O, input  CLK, input  CE);\n",
      "wire [0:0] inst0_out;\n",
      "coreir_reg_PE #(.init(0)) inst0 (.in({I}), .clk(CLK), .out(inst0_out), .en(CE));\n",
      "assign O = inst0_out[0];\n",
      "endmodule\n",
      "\n",
      "module ShiftRegister_2_0_True_False (input  I, output  O, input  CLK, input  CE);\n",
      "wire  inst0_O;\n",
      "wire  inst1_O;\n",
      "DFF_init0_has_ceTrue_has_resetFalse inst0 (.I(I), .O(inst0_O), .CLK(CLK), .CE(CE));\n",
      "DFF_init0_has_ceTrue_has_resetFalse inst1 (.I(inst0_O), .O(inst1_O), .CLK(CLK), .CE(CE));\n",
      "assign O = inst1_O;\n",
      "endmodule\n",
      "\n",
      "\n"
     ]
    }
   ],
   "source": [
    "from magma.backend.verilog import compile as compile_verilog\n",
    "print(compile_verilog(DefineShiftRegister(2, has_ce=True)))"
   ]
  },
  {
   "cell_type": "code",
   "execution_count": 3,
   "metadata": {},
   "outputs": [
    {
     "name": "stdout",
     "output_type": "stream",
     "text": [
      "{\"top\":\"global.ShiftRegister_2_0_True_False\",\n",
      "\"namespaces\":{\n",
      "  \"global\":{\n",
      "    \"modules\":{\n",
      "      \"DFF_init0_has_ceTrue_has_resetFalse\":{\n",
      "        \"type\":[\"Record\",[\n",
      "          [\"I\",\"BitIn\"],\n",
      "          [\"O\",\"Bit\"],\n",
      "          [\"CLK\",[\"Named\",\"coreir.clkIn\"]],\n",
      "          [\"CE\",\"BitIn\"]\n",
      "        ]],\n",
      "        \"instances\":{\n",
      "          \"inst0\":{\n",
      "            \"genref\":\"mantle.reg\",\n",
      "            \"genargs\":{\"has_clr\":[\"Bool\",false], \"has_en\":[\"Bool\",true], \"has_rst\":[\"Bool\",false], \"width\":[\"Int\",1]},\n",
      "            \"modargs\":{\"init\":[[\"BitVector\",1],\"1'h0\"]}\n",
      "          }\n",
      "        },\n",
      "        \"connections\":[\n",
      "          [\"self.CLK\",\"inst0.clk\"],\n",
      "          [\"self.CE\",\"inst0.en\"],\n",
      "          [\"self.I\",\"inst0.in.0\"],\n",
      "          [\"self.O\",\"inst0.out.0\"]\n",
      "        ]\n",
      "      },\n",
      "      \"ShiftRegister_2_0_True_False\":{\n",
      "        \"type\":[\"Record\",[\n",
      "          [\"I\",\"BitIn\"],\n",
      "          [\"O\",\"Bit\"],\n",
      "          [\"CLK\",[\"Named\",\"coreir.clkIn\"]],\n",
      "          [\"CE\",\"BitIn\"]\n",
      "        ]],\n",
      "        \"instances\":{\n",
      "          \"inst0\":{\n",
      "            \"modref\":\"global.DFF_init0_has_ceTrue_has_resetFalse\"\n",
      "          },\n",
      "          \"inst1\":{\n",
      "            \"modref\":\"global.DFF_init0_has_ceTrue_has_resetFalse\"\n",
      "          }\n",
      "        },\n",
      "        \"connections\":[\n",
      "          [\"self.CE\",\"inst0.CE\"],\n",
      "          [\"self.CLK\",\"inst0.CLK\"],\n",
      "          [\"self.I\",\"inst0.I\"],\n",
      "          [\"inst1.I\",\"inst0.O\"],\n",
      "          [\"self.CE\",\"inst1.CE\"],\n",
      "          [\"self.CLK\",\"inst1.CLK\"],\n",
      "          [\"self.O\",\"inst1.O\"]\n",
      "        ]\n",
      "      }\n",
      "    }\n",
      "  }\n",
      "}\n",
      "}\n"
     ]
    }
   ],
   "source": [
    "from magma.backend.coreir_ import compile as compile_coreir\n",
    "\n",
    "compile_coreir(DefineShiftRegister(2, has_ce=True), \"build/DefineShiftRegister.json\")\n",
    "with open(\"build/DefineShiftRegister.json\", \"r\") as f:\n",
    "    print(f.read())"
   ]
  },
  {
   "cell_type": "code",
   "execution_count": 4,
   "metadata": {
    "collapsed": true
   },
   "outputs": [],
   "source": [
    "from magma.simulator import PythonSimulator\n",
    "from magma.bit_vector import BitVector\n",
    "\n",
    "N = 3\n",
    "ShiftRegisterNCE = DefineShiftRegister(N, has_ce=True)\n",
    "simulator = PythonSimulator(ShiftRegisterNCE, clock=ShiftRegisterNCE.CLK)\n",
    "outputs = []\n",
    "for j in range(2):\n",
    "    simulator.advance()\n",
    "for I, enable in [(1, 1), (0, 1), (1, 1), (0, 1), (1, 0), (0, 0), (1, 1), (1, 1), (1, 1), (1, 1)]:\n",
    "    simulator.set_value(ShiftRegisterNCE.I, bool(I))\n",
    "    simulator.set_value(ShiftRegisterNCE.CE, bool(enable))\n",
    "    for j in range(2):\n",
    "        simulator.advance()\n",
    "        O = simulator.get_value(ShiftRegisterNCE.O)\n",
    "        CLK = simulator.get_value(ShiftRegisterNCE.CLK)\n",
    "        outputs.append([O, I, enable, CLK])"
   ]
  },
  {
   "cell_type": "code",
   "execution_count": 5,
   "metadata": {},
   "outputs": [
    {
     "data": {
      "image/png": "[encoded data removed]",
      "text/plain": [
       "<matplotlib.figure.Figure at 0x10f8469e8>"
      ]
     },
     "metadata": {},
     "output_type": "display_data"
    }
   ],
   "source": [
    "from magma.waveform import waveform\n",
    "\n",
    "waveform(outputs, [\"O\", \"I\", \"CE\", \"CLK\"])"
   ]
  }
 ],
 "metadata": {
  "kernelspec": {
   "display_name": "Python 3",
   "language": "python",
   "name": "python3"
  },
  "language_info": {
   "codemirror_mode": {
    "name": "ipython",
    "version": 3
   },
   "file_extension": ".py",
   "mimetype": "text/x-python",
   "name": "python",
   "nbconvert_exporter": "python",
   "pygments_lexer": "ipython3",
   "version": "3.6.5"
  }
 },
 "nbformat": 4,
 "nbformat_minor": 2
}
