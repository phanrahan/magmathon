{
 "cells": [
  {
   "cell_type": "markdown",
   "metadata": {},
   "source": [
    "This notebook shows the various features for inspecting circuits using `str` and `repr`."
   ]
  },
  {
   "cell_type": "code",
   "execution_count": 1,
   "metadata": {},
   "outputs": [],
   "source": [
    "import magma as m\n",
    "m.set_mantle_target(\"ice40\")"
   ]
  },
  {
   "cell_type": "code",
   "execution_count": 2,
   "metadata": {},
   "outputs": [
    {
     "name": "stdout",
     "output_type": "stream",
     "text": [
      "import lattice ice40\n",
      "import lattice mantle40\n"
     ]
    }
   ],
   "source": [
    "import mantle\n",
    "\n",
    "Logic2 = m.DefineCircuit('Logic2', 'I0', m.In(m.Bit), 'I1', m.In(m.Bit), 'O', m.Out(m.Bit))\n",
    "m.wire((Logic2.I0 & Logic2.I1) ^ 1, Logic2.O)\n",
    "m.EndCircuit()"
   ]
  },
  {
   "cell_type": "markdown",
   "metadata": {},
   "source": [
    "Calling print on a circuit definition, call `str`.\n",
    "`str` returns the type signature of the circuit."
   ]
  },
  {
   "cell_type": "code",
   "execution_count": 3,
   "metadata": {},
   "outputs": [
    {
     "name": "stdout",
     "output_type": "stream",
     "text": [
      "Logic2(I0: In(Bit), I1: In(Bit), O: Out(Bit))\n"
     ]
    }
   ],
   "source": [
    "print(Logic2)"
   ]
  },
  {
   "cell_type": "markdown",
   "metadata": {},
   "source": [
    "Calling `repr` on the circuit returns a python code snippet that could\n",
    "be executed to recreate the circuit."
   ]
  },
  {
   "cell_type": "code",
   "execution_count": 4,
   "metadata": {},
   "outputs": [
    {
     "name": "stdout",
     "output_type": "stream",
     "text": [
      "Logic2 = DefineCircuit(\"Logic2\", \"I0\", In(Bit), \"I1\", In(Bit), \"O\", Out(Bit))\n",
      "inst0 = And2()\n",
      "inst1 = XOr2()\n",
      "wire(Logic2.I0, inst0.I[0])\n",
      "wire(Logic2.I1, inst0.I[1])\n",
      "wire(inst0.O, inst1.I[0])\n",
      "wire(1, inst1.I[1])\n",
      "wire(inst1.O, Logic2.O)\n",
      "EndCircuit()\n"
     ]
    }
   ],
   "source": [
    "print(repr(Logic2))"
   ]
  },
  {
   "cell_type": "code",
   "execution_count": 7,
   "metadata": {
    "scrolled": true
   },
   "outputs": [
    {
     "name": "stdout",
     "output_type": "stream",
     "text": [
      "Instance=inst0<And2(I: In(Bits(2)), O: Out(Bit))>\n",
      "    ports=\n",
      "        I: In(Bits(2))\n",
      "        O: Out(Bit)\n",
      "Instance=inst1<XOr2(I: In(Bits(2)), O: Out(Bit))>\n",
      "    ports=\n",
      "        I: In(Bits(2))\n",
      "        O: Out(Bit)\n"
     ]
    }
   ],
   "source": [
    "for inst in Logic2.instances:\n",
    "    print(f\"Instance={inst}\")\n",
    "    print(\"    ports=\")\n",
    "    for name, value in inst.interface.ports.items():\n",
    "        type_ = type(value)\n",
    "        print(f\"        {name}: {type_}\")"
   ]
  },
  {
   "cell_type": "code",
   "execution_count": null,
   "metadata": {},
   "outputs": [],
   "source": []
  }
 ],
 "metadata": {
  "kernelspec": {
   "display_name": "Python 3",
   "language": "python",
   "name": "python3"
  },
  "language_info": {
   "codemirror_mode": {
    "name": "ipython",
    "version": 3
   },
   "file_extension": ".py",
   "mimetype": "text/x-python",
   "name": "python",
   "nbconvert_exporter": "python",
   "pygments_lexer": "ipython3",
   "version": "3.7.0"
  }
 },
 "nbformat": 4,
 "nbformat_minor": 2
}
